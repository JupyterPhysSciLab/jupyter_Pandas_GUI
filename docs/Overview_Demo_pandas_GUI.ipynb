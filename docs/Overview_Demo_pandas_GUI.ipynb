{
 "cells": [
  {
   "cell_type": "markdown",
   "id": "5700c42b",
   "metadata": {},
   "source": [
    "## Overview of the capabilities of `pandas_GUI`\n",
    "You can try this notebook live by lauching it in Binder.This can take a while to launch, be patient.\n",
    "[![Binder](https://mybinder.org/badge_logo.svg)](https://mybinder.org/v2/gh/JupyterPhysSciLab/jupyter_Pandas_GUI.git/HEAD?urlpath=/tree/docs/Overview_Demo_pandas_GUI.ipynb).\n",
    "\n",
    "First get some data into a pandas dataframe. I'm using an IR spectrum of ethane because it was easy to get."
   ]
  },
  {
   "cell_type": "code",
   "execution_count": null,
   "id": "ea74879e",
   "metadata": {},
   "outputs": [],
   "source": [
    "import pandas as pd\n",
    "ethaneIR = pd.read_csv('DataSets/ethaneIR.csv',index_col=0)\n",
    "ethaneIR"
   ]
  },
  {
   "cell_type": "markdown",
   "id": "7afcbe67",
   "metadata": {},
   "source": [
    "Let's use the `plot_pandas_GUI()` to make a plot of this. The simplest version of such a plot using defaults will look like this:\n",
    "\n",
    "<a href =  \"DataSets/Initial_ethaneIR_plot.png\">\n",
    "<img src = \"DataSets/Initial_ethaneIR_plot.png\" style =\"width:300px;\" title=\"click for zoomed view\"/></a>\n",
    "\n",
    "The cell used to create the GUI is deleted when it is done being used; thus the GUI will not show up in the final notebook. The commands necessary to create the GUI are:\n",
    "```\n",
    "from pandas_GUI import *\n",
    "plot_pandas_GUI()\n",
    "```\n",
    "A static picture of the initial view of the GUI is:\n",
    "\n",
    "<a href = \"DataSets/plot_GUI.png\">\n",
    "<img src = \"DataSets/plot_GUI.png\" style = \"width:400px;\" title=\"click for zoomed view\"/></a>\n",
    "\n",
    "Expand the instructions on each tab to help you understand how to use the GUI."
   ]
  },
  {
   "cell_type": "code",
   "execution_count": null,
   "id": "77ae9e28",
   "metadata": {},
   "outputs": [],
   "source": [
    "# The import in its own cell so it does not disappear\n",
    "from pandas_GUI import *"
   ]
  },
  {
   "cell_type": "code",
   "execution_count": null,
   "id": "401bc52e",
   "metadata": {},
   "outputs": [],
   "source": [
    "plot_pandas_GUI()"
   ]
  },
  {
   "cell_type": "markdown",
   "id": "5ba56f0c",
   "metadata": {},
   "source": [
    "Many spectra are displayed as absorbance for the y-axis rather than transmittance, because absorbance is linearly proportional to the concentration of the absorbing species. The relation between absorbance and transmittance is:\n",
    "$$A = -log_{10}(T),$$\n",
    "where A = the absorbance and T = the transmittance.\n",
    "\n",
    "Putting the command `new_pandas_column_GUI()` in the cell below and running the cell will provide the GUI that can be used to add an absorbance column to the dataframe.\n",
    "\n",
    "Just like the plotting GUI it deletes itself when done. A static image of the initial view of the new column GUI is shown immediately below:\n",
    "\n",
    "<a href = \"DataSets/new_col_GUI.png\">\n",
    "    <img src=\"DataSets/new_col_GUI.png\" style=\"width:400px;\" title = \"click for zoomed view\"/></a>"
   ]
  },
  {
   "cell_type": "code",
   "execution_count": null,
   "id": "b480d663",
   "metadata": {},
   "outputs": [],
   "source": [
    "new_pandas_column_GUI()"
   ]
  },
  {
   "cell_type": "markdown",
   "id": "c2d2d675",
   "metadata": {},
   "source": [
    "The `plot_pandas_GUI()` can be run in the next cell to plot the absorbance or both absorbance and transmittance versus the '1/cm'. You might make a figure that looks like this:\n",
    "\n",
    "<a href=\"DataSets/Abs_vs_trans_ethane_IR.png\">\n",
    "    <img src = \"DataSets/Abs_vs_trans_ethane_IR.png\" style=\"width:300px\" title=\"click for zoomed view\"/></a>"
   ]
  },
  {
   "cell_type": "code",
   "execution_count": null,
   "id": "e38e8e0a",
   "metadata": {},
   "outputs": [],
   "source": [
    "plot_pandas_GUI()"
   ]
  },
  {
   "cell_type": "markdown",
   "id": "a8908f39",
   "metadata": {},
   "source": [
    "There is also a GUI (the `fit_pandas_GUI()` command) that can be used to fit some common functional forms to a data set or portion of it. A static image of the initial view of the fit pandas GUI is shown immediately below:\n",
    "\n",
    "<a href = \"DataSets/GUI_fitexp_1.png\">\n",
    "    <img src=\"DataSets/GUI_fitexp_1.png\" style=\"width:400px;\" title = \"click for zoomed view\"/></a>\n",
    "    \n",
    "There are expandable instructions on each tab to help you use the GUI. You can try fitting the biggest peak in the absorbance version to a Gaussian by selecting a range to fit that only includes that peak. **You need good initial guesses for the peak X-position at a minimum. Pick a value close to the middle of the peak.** If you do that you will get a fit that looks like the one below.\n",
    "\n",
    "<a href = \"DataSets/Gaussian_fit.png\">\n",
    "    <img src = \"DataSets/Gaussian_fit.png\" style=\"width:400px\" title=\"click for zoomed view\"/></a>"
   ]
  },
  {
   "cell_type": "code",
   "execution_count": null,
   "id": "d2b922b3",
   "metadata": {},
   "outputs": [],
   "source": [
    "fit_pandas_GUI()"
   ]
  },
  {
   "cell_type": "markdown",
   "id": "4dd30c90",
   "metadata": {},
   "source": [
    "## Learn More\n",
    "In addition to trying this in a live notebook, you can look at the other examples listed in the [Pandas GUI website](https://jupyterphysscilab.github.io/jupyter_Pandas_GUI/)."
   ]
  },
  {
   "cell_type": "code",
   "execution_count": null,
   "id": "5c23f9b9",
   "metadata": {},
   "outputs": [],
   "source": []
  }
 ],
 "metadata": {
  "kernelspec": {
   "display_name": "Python 3",
   "language": "python",
   "name": "python3"
  },
  "language_info": {
   "codemirror_mode": {
    "name": "ipython",
    "version": 3
   },
   "file_extension": ".py",
   "mimetype": "text/x-python",
   "name": "python",
   "nbconvert_exporter": "python",
   "pygments_lexer": "ipython3",
   "version": "3.8.10"
  },
  "widgets": {
   "application/vnd.jupyter.widget-state+json": {
    "state": {
     "0264dd3f15a7403b8f8a726ff8fb5fc7": {
      "model_module": "@jupyter-widgets/base",
      "model_module_version": "1.2.0",
      "model_name": "LayoutModel",
      "state": {}
     },
     "0298706f707a4575adfdb9d2ef90e8b9": {
      "model_module": "@jupyter-widgets/base",
      "model_module_version": "1.2.0",
      "model_name": "LayoutModel",
      "state": {}
     },
     "0381c75e997a406482cc128932801a7a": {
      "model_module": "@jupyter-widgets/base",
      "model_module_version": "1.2.0",
      "model_name": "LayoutModel",
      "state": {}
     },
     "0491463df71440ecbf13fbed0d985870": {
      "model_module": "@jupyter-widgets/controls",
      "model_module_version": "1.5.0",
      "model_name": "ButtonStyleModel",
      "state": {
       "button_color": "white"
      }
     },
     "04ada0ea36c347fc88fbbd88747e37c6": {
      "model_module": "@jupyter-widgets/controls",
      "model_module_version": "1.5.0",
      "model_name": "HBoxModel",
      "state": {
       "children": [
        "IPY_MODEL_ae4d0b6e31b24adcac47a86116811d0e",
        "IPY_MODEL_1d37491e7ecd444d86193724dc590546"
       ],
       "layout": "IPY_MODEL_e404e4ea0b8d4c4a9c02fcc0723e349c"
      }
     },
     "04f7ef7390f24f25996a3dccf243e972": {
      "model_module": "@jupyter-widgets/controls",
      "model_module_version": "1.5.0",
      "model_name": "DropdownModel",
      "state": {
       "_options_labels": [
        "solid",
        "dot",
        "dash",
        "dashdot"
       ],
       "description": "Line style: ",
       "index": 0,
       "layout": "IPY_MODEL_784f83ea11e54dbba8304f991fad78ef",
       "style": "IPY_MODEL_72eddb6441fe4f69958e5f341cda3c64"
      }
     },
     "055062eeb27d4e84b82a06c54e6aa4d3": {
      "model_module": "@jupyter-widgets/base",
      "model_module_version": "1.2.0",
      "model_name": "LayoutModel",
      "state": {}
     },
     "0570adc4dfd549288113898382a17623": {
      "model_module": "@jupyter-widgets/base",
      "model_module_version": "1.2.0",
      "model_name": "LayoutModel",
      "state": {}
     },
     "061b4abf6ffc4e1e913f8b6a9d1f62e3": {
      "model_module": "@jupyter-widgets/controls",
      "model_module_version": "1.5.0",
      "model_name": "TextModel",
      "state": {
       "layout": "IPY_MODEL_317712fa8e97431ebd239e1b921bc108",
       "placeholder": "Type name for new column.",
       "style": "IPY_MODEL_aeb005d4ebd74eb494554881bd790abc",
       "value": "absorbance"
      }
     },
     "06d78bcc9ca541fbbe8647a0c821e844": {
      "model_module": "@jupyter-widgets/controls",
      "model_module_version": "1.5.0",
      "model_name": "CheckboxModel",
      "state": {
       "description": "Display updated dataset.",
       "disabled": false,
       "layout": "IPY_MODEL_08e044be872143af999ebf0b9b915517",
       "style": "IPY_MODEL_b47d6e59f35b4dc28d49fb62fd020b14",
       "value": true
      }
     },
     "06e2bc4eedc24821b402732f2b45d653": {
      "model_module": "@jupyter-widgets/controls",
      "model_module_version": "1.5.0",
      "model_name": "VBoxModel",
      "state": {
       "children": [
        "IPY_MODEL_2d36534ae7da47448fa95562046d0916",
        "IPY_MODEL_586bcfdfa5674d61abaeaebcfe42c522"
       ],
       "layout": "IPY_MODEL_79b0f80b1868476cafe574be859dbc3c"
      }
     },
     "08e044be872143af999ebf0b9b915517": {
      "model_module": "@jupyter-widgets/base",
      "model_module_version": "1.2.0",
      "model_name": "LayoutModel",
      "state": {}
     },
     "092e73f5b36b4ff390e53813f1799b77": {
      "model_module": "@jupyter-widgets/controls",
      "model_module_version": "1.5.0",
      "model_name": "DescriptionStyleModel",
      "state": {
       "description_width": ""
      }
     },
     "09a9b32aa2d84f6baba2fba717a8a64e": {
      "model_module": "@jupyter-widgets/base",
      "model_module_version": "1.2.0",
      "model_name": "LayoutModel",
      "state": {}
     },
     "0a1995307c4f4ba8a19f1a8a61484e78": {
      "model_module": "@jupyter-widgets/controls",
      "model_module_version": "1.5.0",
      "model_name": "DescriptionStyleModel",
      "state": {
       "description_width": "initial"
      }
     },
     "0ac7c7afd917499288fdcb62970c5a9f": {
      "model_module": "@jupyter-widgets/controls",
      "model_module_version": "1.5.0",
      "model_name": "ButtonStyleModel",
      "state": {
       "button_color": "darkgray"
      }
     },
     "0b49e2a545d341eea6b154bfc8b73cb7": {
      "model_module": "@jupyter-widgets/controls",
      "model_module_version": "1.5.0",
      "model_name": "DescriptionStyleModel",
      "state": {
       "description_width": ""
      }
     },
     "0b736ddc01194c98a8440fcaa2727d27": {
      "model_module": "@jupyter-widgets/controls",
      "model_module_version": "1.5.0",
      "model_name": "DropdownModel",
      "state": {
       "_options_labels": [
        "Choose error column."
       ],
       "description": "Error values: ",
       "disabled": true,
       "index": 0,
       "layout": "IPY_MODEL_0298706f707a4575adfdb9d2ef90e8b9",
       "style": "IPY_MODEL_3e600eb1aba64641b0030ea2dbab1baa"
      }
     },
     "0b8ecb2b2dcc43089a9dd3c9fc1ad3de": {
      "model_module": "@jupyter-widgets/controls",
      "model_module_version": "1.5.0",
      "model_name": "LabelModel",
      "state": {
       "layout": "IPY_MODEL_0264dd3f15a7403b8f8a726ff8fb5fc7",
       "style": "IPY_MODEL_c86d38278ad14bac8ddfddaf768ee29d",
       "value": " * Check that all function calls are prefaced by an 'np.'."
      }
     },
     "0b9d3cc1daf94763a35e7d94b0fe4f31": {
      "model_module": "@jupyter-widgets/controls",
      "model_module_version": "1.5.0",
      "model_name": "TextModel",
      "state": {
       "description": "X-axis label: ",
       "layout": "IPY_MODEL_d7341c1a67bc452eb85a303384a01358",
       "placeholder": "Provide an X-axis label (usually has units)",
       "style": "IPY_MODEL_7eead83669944033a08558fe8f856e87",
       "value": "1/cm"
      }
     },
     "0c84ee374fa240b2b3cd146411117083": {
      "model_module": "@jupyter-widgets/controls",
      "model_module_version": "1.5.0",
      "model_name": "DescriptionStyleModel",
      "state": {
       "description_width": ""
      }
     },
     "0d1bc663aac24288b5fef7ad73ba2a21": {
      "model_module": "@jupyter-widgets/base",
      "model_module_version": "1.2.0",
      "model_name": "LayoutModel",
      "state": {}
     },
     "0da43589777f4d06997e2bc2286a406f": {
      "model_module": "@jupyter-widgets/controls",
      "model_module_version": "1.5.0",
      "model_name": "DescriptionStyleModel",
      "state": {
       "description_width": ""
      }
     },
     "0db755a130f244b6bd8b787dd7e511d4": {
      "model_module": "@jupyter-widgets/base",
      "model_module_version": "1.2.0",
      "model_name": "LayoutModel",
      "state": {}
     },
     "0e4caba7282a4800a83eef961a025b84": {
      "model_module": "@jupyter-widgets/controls",
      "model_module_version": "1.5.0",
      "model_name": "ButtonModel",
      "state": {
       "icon": "caret-up",
       "layout": "IPY_MODEL_9eea4611883e4c92aa2c79ce0bfb148f",
       "style": "IPY_MODEL_4b31f678c4f74f768ad835c9da26af85"
      }
     },
     "0e6be1491e18480383022dbaae7c621d": {
      "model_module": "@jupyter-widgets/base",
      "model_module_version": "1.2.0",
      "model_name": "LayoutModel",
      "state": {}
     },
     "0f724647825641bebd887d4bc928d33d": {
      "model_module": "@jupyter-widgets/base",
      "model_module_version": "1.2.0",
      "model_name": "LayoutModel",
      "state": {}
     },
     "0fdb7391401d469e94207c7cc4d98c56": {
      "model_module": "@jupyter-widgets/base",
      "model_module_version": "1.2.0",
      "model_name": "LayoutModel",
      "state": {}
     },
     "10a9eff0abf8497e87009650f1be52c0": {
      "model_module": "@jupyter-widgets/controls",
      "model_module_version": "1.5.0",
      "model_name": "DropdownModel",
      "state": {
       "_options_labels": [
        "Choose column for coordinate.",
        "1/CM",
        "TRANSMITTANCE"
       ],
       "description": "X: ",
       "index": 1,
       "layout": "IPY_MODEL_c62b2dd6fbc4484a923b6d22e4d1d98a",
       "style": "IPY_MODEL_cbd5f8b6e612417090b65b806073615a"
      }
     },
     "122829d5c3fe42eea5c09ac2a88e5422": {
      "model_module": "@jupyter-widgets/controls",
      "model_module_version": "1.5.0",
      "model_name": "DescriptionStyleModel",
      "state": {
       "description_width": "initial"
      }
     },
     "134a32133409467f9518a7387da54784": {
      "model_module": "@jupyter-widgets/base",
      "model_module_version": "1.2.0",
      "model_name": "LayoutModel",
      "state": {}
     },
     "13a9e3d8e1ff40aab5831de067df8758": {
      "model_module": "@jupyter-widgets/controls",
      "model_module_version": "1.5.0",
      "model_name": "ButtonModel",
      "state": {
       "button_style": "success",
       "description": "Add Trace",
       "layout": "IPY_MODEL_f03f777ad74d47c6ac0a9d480cf124fa",
       "style": "IPY_MODEL_fe1a9dca92ad4e66901e38ba456476cc"
      }
     },
     "14301b1ffddd4d49b80d34c27bdae170": {
      "model_module": "@jupyter-widgets/base",
      "model_module_version": "1.2.0",
      "model_name": "LayoutModel",
      "state": {}
     },
     "14c3871b83c14a598d2ad04df3872885": {
      "model_module": "@jupyter-widgets/controls",
      "model_module_version": "1.5.0",
      "model_name": "HTMLModel",
      "state": {
       "layout": "IPY_MODEL_3377cf6c32134638b229cdfdaa3dc340",
       "style": "IPY_MODEL_c570e364367f46b2b406935bda5903c5",
       "value": "<h4 style=\"text-align:center;\">Notices: </h4><ul></ul>"
      }
     },
     "152621c84a0640f789089cc9234a2500": {
      "model_module": "@jupyter-widgets/base",
      "model_module_version": "1.2.0",
      "model_name": "LayoutModel",
      "state": {}
     },
     "166fb4d94f4e44bd8b4a5a47caeca39b": {
      "model_module": "@jupyter-widgets/base",
      "model_module_version": "1.2.0",
      "model_name": "LayoutModel",
      "state": {}
     },
     "177418a968614f24810d1ee5c7858f6b": {
      "model_module": "@jupyter-widgets/base",
      "model_module_version": "1.2.0",
      "model_name": "LayoutModel",
      "state": {}
     },
     "1785b27dafcb40a58a583dfb96b75085": {
      "buffers": [
       {
        "data": "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",
        "encoding": "base64",
        "path": [
         "_data",
         0,
         "x",
         "value"
        ]
       },
       {
        "data": "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",
        "encoding": "base64",
        "path": [
         "_data",
         0,
         "y",
         "value"
        ]
       }
      ],
      "model_module": "jupyterlab-plotly",
      "model_module_version": "^5.0.0",
      "model_name": "FigureModel",
      "state": {
       "_config": {
        "plotlyServerURL": "https://plot.ly"
       },
       "_data": [
        {
         "mode": "lines",
         "name": "TRANSMITTANCE",
         "type": "scatter",
         "uid": "a33dfea1-e1fd-49d5-b53b-0715f4941db6",
         "x": {
          "dtype": "float64",
          "shape": [
           3571
          ],
          "value": {}
         },
         "y": {
          "dtype": "float64",
          "shape": [
           3571
          ],
          "value": {}
         }
        }
       ],
       "_js2py_restyle": {},
       "_js2py_update": {},
       "_last_layout_edit_id": 6,
       "_last_trace_edit_id": 4,
       "_layout": {
        "template": {
         "data": {
          "bar": [
           {
            "error_x": {
             "color": "rgb(36,36,36)"
            },
            "error_y": {
             "color": "rgb(36,36,36)"
            },
            "marker": {
             "line": {
              "color": "white",
              "width": 0.5
             },
             "pattern": {
              "fillmode": "overlay",
              "size": 10,
              "solidity": 0.2
             }
            },
            "type": "bar"
           }
          ],
          "barpolar": [
           {
            "marker": {
             "line": {
              "color": "white",
              "width": 0.5
             },
             "pattern": {
              "fillmode": "overlay",
              "size": 10,
              "solidity": 0.2
             }
            },
            "type": "barpolar"
           }
          ],
          "carpet": [
           {
            "aaxis": {
             "endlinecolor": "rgb(36,36,36)",
             "gridcolor": "white",
             "linecolor": "white",
             "minorgridcolor": "white",
             "startlinecolor": "rgb(36,36,36)"
            },
            "baxis": {
             "endlinecolor": "rgb(36,36,36)",
             "gridcolor": "white",
             "linecolor": "white",
             "minorgridcolor": "white",
             "startlinecolor": "rgb(36,36,36)"
            },
            "type": "carpet"
           }
          ],
          "choropleth": [
           {
            "colorbar": {
             "outlinewidth": 1,
             "tickcolor": "rgb(36,36,36)",
             "ticks": "outside"
            },
            "type": "choropleth"
           }
          ],
          "contour": [
           {
            "colorbar": {
             "outlinewidth": 1,
             "tickcolor": "rgb(36,36,36)",
             "ticks": "outside"
            },
            "colorscale": [
             [
              0,
              "#440154"
             ],
             [
              0.1111111111111111,
              "#482878"
             ],
             [
              0.2222222222222222,
              "#3e4989"
             ],
             [
              0.3333333333333333,
              "#31688e"
             ],
             [
              0.4444444444444444,
              "#26828e"
             ],
             [
              0.5555555555555556,
              "#1f9e89"
             ],
             [
              0.6666666666666666,
              "#35b779"
             ],
             [
              0.7777777777777778,
              "#6ece58"
             ],
             [
              0.8888888888888888,
              "#b5de2b"
             ],
             [
              1,
              "#fde725"
             ]
            ],
            "type": "contour"
           }
          ],
          "contourcarpet": [
           {
            "colorbar": {
             "outlinewidth": 1,
             "tickcolor": "rgb(36,36,36)",
             "ticks": "outside"
            },
            "type": "contourcarpet"
           }
          ],
          "heatmap": [
           {
            "colorbar": {
             "outlinewidth": 1,
             "tickcolor": "rgb(36,36,36)",
             "ticks": "outside"
            },
            "colorscale": [
             [
              0,
              "#440154"
             ],
             [
              0.1111111111111111,
              "#482878"
             ],
             [
              0.2222222222222222,
              "#3e4989"
             ],
             [
              0.3333333333333333,
              "#31688e"
             ],
             [
              0.4444444444444444,
              "#26828e"
             ],
             [
              0.5555555555555556,
              "#1f9e89"
             ],
             [
              0.6666666666666666,
              "#35b779"
             ],
             [
              0.7777777777777778,
              "#6ece58"
             ],
             [
              0.8888888888888888,
              "#b5de2b"
             ],
             [
              1,
              "#fde725"
             ]
            ],
            "type": "heatmap"
           }
          ],
          "heatmapgl": [
           {
            "colorbar": {
             "outlinewidth": 1,
             "tickcolor": "rgb(36,36,36)",
             "ticks": "outside"
            },
            "colorscale": [
             [
              0,
              "#440154"
             ],
             [
              0.1111111111111111,
              "#482878"
             ],
             [
              0.2222222222222222,
              "#3e4989"
             ],
             [
              0.3333333333333333,
              "#31688e"
             ],
             [
              0.4444444444444444,
              "#26828e"
             ],
             [
              0.5555555555555556,
              "#1f9e89"
             ],
             [
              0.6666666666666666,
              "#35b779"
             ],
             [
              0.7777777777777778,
              "#6ece58"
             ],
             [
              0.8888888888888888,
              "#b5de2b"
             ],
             [
              1,
              "#fde725"
             ]
            ],
            "type": "heatmapgl"
           }
          ],
          "histogram": [
           {
            "marker": {
             "line": {
              "color": "white",
              "width": 0.6
             }
            },
            "type": "histogram"
           }
          ],
          "histogram2d": [
           {
            "colorbar": {
             "outlinewidth": 1,
             "tickcolor": "rgb(36,36,36)",
             "ticks": "outside"
            },
            "colorscale": [
             [
              0,
              "#440154"
             ],
             [
              0.1111111111111111,
              "#482878"
             ],
             [
              0.2222222222222222,
              "#3e4989"
             ],
             [
              0.3333333333333333,
              "#31688e"
             ],
             [
              0.4444444444444444,
              "#26828e"
             ],
             [
              0.5555555555555556,
              "#1f9e89"
             ],
             [
              0.6666666666666666,
              "#35b779"
             ],
             [
              0.7777777777777778,
              "#6ece58"
             ],
             [
              0.8888888888888888,
              "#b5de2b"
             ],
             [
              1,
              "#fde725"
             ]
            ],
            "type": "histogram2d"
           }
          ],
          "histogram2dcontour": [
           {
            "colorbar": {
             "outlinewidth": 1,
             "tickcolor": "rgb(36,36,36)",
             "ticks": "outside"
            },
            "colorscale": [
             [
              0,
              "#440154"
             ],
             [
              0.1111111111111111,
              "#482878"
             ],
             [
              0.2222222222222222,
              "#3e4989"
             ],
             [
              0.3333333333333333,
              "#31688e"
             ],
             [
              0.4444444444444444,
              "#26828e"
             ],
             [
              0.5555555555555556,
              "#1f9e89"
             ],
             [
              0.6666666666666666,
              "#35b779"
             ],
             [
              0.7777777777777778,
              "#6ece58"
             ],
             [
              0.8888888888888888,
              "#b5de2b"
             ],
             [
              1,
              "#fde725"
             ]
            ],
            "type": "histogram2dcontour"
           }
          ],
          "mesh3d": [
           {
            "colorbar": {
             "outlinewidth": 1,
             "tickcolor": "rgb(36,36,36)",
             "ticks": "outside"
            },
            "type": "mesh3d"
           }
          ],
          "parcoords": [
           {
            "line": {
             "colorbar": {
              "outlinewidth": 1,
              "tickcolor": "rgb(36,36,36)",
              "ticks": "outside"
             }
            },
            "type": "parcoords"
           }
          ],
          "pie": [
           {
            "automargin": true,
            "type": "pie"
           }
          ],
          "scatter": [
           {
            "marker": {
             "colorbar": {
              "outlinewidth": 1,
              "tickcolor": "rgb(36,36,36)",
              "ticks": "outside"
             }
            },
            "type": "scatter"
           }
          ],
          "scatter3d": [
           {
            "line": {
             "colorbar": {
              "outlinewidth": 1,
              "tickcolor": "rgb(36,36,36)",
              "ticks": "outside"
             }
            },
            "marker": {
             "colorbar": {
              "outlinewidth": 1,
              "tickcolor": "rgb(36,36,36)",
              "ticks": "outside"
             }
            },
            "type": "scatter3d"
           }
          ],
          "scattercarpet": [
           {
            "marker": {
             "colorbar": {
              "outlinewidth": 1,
              "tickcolor": "rgb(36,36,36)",
              "ticks": "outside"
             }
            },
            "type": "scattercarpet"
           }
          ],
          "scattergeo": [
           {
            "marker": {
             "colorbar": {
              "outlinewidth": 1,
              "tickcolor": "rgb(36,36,36)",
              "ticks": "outside"
             }
            },
            "type": "scattergeo"
           }
          ],
          "scattergl": [
           {
            "marker": {
             "colorbar": {
              "outlinewidth": 1,
              "tickcolor": "rgb(36,36,36)",
              "ticks": "outside"
             }
            },
            "type": "scattergl"
           }
          ],
          "scattermapbox": [
           {
            "marker": {
             "colorbar": {
              "outlinewidth": 1,
              "tickcolor": "rgb(36,36,36)",
              "ticks": "outside"
             }
            },
            "type": "scattermapbox"
           }
          ],
          "scatterpolar": [
           {
            "marker": {
             "colorbar": {
              "outlinewidth": 1,
              "tickcolor": "rgb(36,36,36)",
              "ticks": "outside"
             }
            },
            "type": "scatterpolar"
           }
          ],
          "scatterpolargl": [
           {
            "marker": {
             "colorbar": {
              "outlinewidth": 1,
              "tickcolor": "rgb(36,36,36)",
              "ticks": "outside"
             }
            },
            "type": "scatterpolargl"
           }
          ],
          "scatterternary": [
           {
            "marker": {
             "colorbar": {
              "outlinewidth": 1,
              "tickcolor": "rgb(36,36,36)",
              "ticks": "outside"
             }
            },
            "type": "scatterternary"
           }
          ],
          "surface": [
           {
            "colorbar": {
             "outlinewidth": 1,
             "tickcolor": "rgb(36,36,36)",
             "ticks": "outside"
            },
            "colorscale": [
             [
              0,
              "#440154"
             ],
             [
              0.1111111111111111,
              "#482878"
             ],
             [
              0.2222222222222222,
              "#3e4989"
             ],
             [
              0.3333333333333333,
              "#31688e"
             ],
             [
              0.4444444444444444,
              "#26828e"
             ],
             [
              0.5555555555555556,
              "#1f9e89"
             ],
             [
              0.6666666666666666,
              "#35b779"
             ],
             [
              0.7777777777777778,
              "#6ece58"
             ],
             [
              0.8888888888888888,
              "#b5de2b"
             ],
             [
              1,
              "#fde725"
             ]
            ],
            "type": "surface"
           }
          ],
          "table": [
           {
            "cells": {
             "fill": {
              "color": "rgb(237,237,237)"
             },
             "line": {
              "color": "white"
             }
            },
            "header": {
             "fill": {
              "color": "rgb(217,217,217)"
             },
             "line": {
              "color": "white"
             }
            },
            "type": "table"
           }
          ]
         },
         "layout": {
          "annotationdefaults": {
           "arrowhead": 0,
           "arrowwidth": 1
          },
          "autotypenumbers": "strict",
          "coloraxis": {
           "colorbar": {
            "outlinewidth": 1,
            "tickcolor": "rgb(36,36,36)",
            "ticks": "outside"
           }
          },
          "colorscale": {
           "diverging": [
            [
             0,
             "rgb(103,0,31)"
            ],
            [
             0.1,
             "rgb(178,24,43)"
            ],
            [
             0.2,
             "rgb(214,96,77)"
            ],
            [
             0.3,
             "rgb(244,165,130)"
            ],
            [
             0.4,
             "rgb(253,219,199)"
            ],
            [
             0.5,
             "rgb(247,247,247)"
            ],
            [
             0.6,
             "rgb(209,229,240)"
            ],
            [
             0.7,
             "rgb(146,197,222)"
            ],
            [
             0.8,
             "rgb(67,147,195)"
            ],
            [
             0.9,
             "rgb(33,102,172)"
            ],
            [
             1,
             "rgb(5,48,97)"
            ]
           ],
           "sequential": [
            [
             0,
             "#440154"
            ],
            [
             0.1111111111111111,
             "#482878"
            ],
            [
             0.2222222222222222,
             "#3e4989"
            ],
            [
             0.3333333333333333,
             "#31688e"
            ],
            [
             0.4444444444444444,
             "#26828e"
            ],
            [
             0.5555555555555556,
             "#1f9e89"
            ],
            [
             0.6666666666666666,
             "#35b779"
            ],
            [
             0.7777777777777778,
             "#6ece58"
            ],
            [
             0.8888888888888888,
             "#b5de2b"
            ],
            [
             1,
             "#fde725"
            ]
           ],
           "sequentialminus": [
            [
             0,
             "#440154"
            ],
            [
             0.1111111111111111,
             "#482878"
            ],
            [
             0.2222222222222222,
             "#3e4989"
            ],
            [
             0.3333333333333333,
             "#31688e"
            ],
            [
             0.4444444444444444,
             "#26828e"
            ],
            [
             0.5555555555555556,
             "#1f9e89"
            ],
            [
             0.6666666666666666,
             "#35b779"
            ],
            [
             0.7777777777777778,
             "#6ece58"
            ],
            [
             0.8888888888888888,
             "#b5de2b"
            ],
            [
             1,
             "#fde725"
            ]
           ]
          },
          "colorway": [
           "#1F77B4",
           "#FF7F0E",
           "#2CA02C",
           "#D62728",
           "#9467BD",
           "#8C564B",
           "#E377C2",
           "#7F7F7F",
           "#BCBD22",
           "#17BECF"
          ],
          "font": {
           "color": "rgb(36,36,36)"
          },
          "geo": {
           "bgcolor": "white",
           "lakecolor": "white",
           "landcolor": "white",
           "showlakes": true,
           "showland": true,
           "subunitcolor": "white"
          },
          "hoverlabel": {
           "align": "left"
          },
          "hovermode": "closest",
          "mapbox": {
           "style": "light"
          },
          "paper_bgcolor": "white",
          "plot_bgcolor": "white",
          "polar": {
           "angularaxis": {
            "gridcolor": "rgb(232,232,232)",
            "linecolor": "rgb(36,36,36)",
            "showgrid": false,
            "showline": true,
            "ticks": "outside"
           },
           "bgcolor": "white",
           "radialaxis": {
            "gridcolor": "rgb(232,232,232)",
            "linecolor": "rgb(36,36,36)",
            "showgrid": false,
            "showline": true,
            "ticks": "outside"
           }
          },
          "scene": {
           "xaxis": {
            "backgroundcolor": "white",
            "gridcolor": "rgb(232,232,232)",
            "gridwidth": 2,
            "linecolor": "rgb(36,36,36)",
            "showbackground": true,
            "showgrid": false,
            "showline": true,
            "ticks": "outside",
            "zeroline": false,
            "zerolinecolor": "rgb(36,36,36)"
           },
           "yaxis": {
            "backgroundcolor": "white",
            "gridcolor": "rgb(232,232,232)",
            "gridwidth": 2,
            "linecolor": "rgb(36,36,36)",
            "showbackground": true,
            "showgrid": false,
            "showline": true,
            "ticks": "outside",
            "zeroline": false,
            "zerolinecolor": "rgb(36,36,36)"
           },
           "zaxis": {
            "backgroundcolor": "white",
            "gridcolor": "rgb(232,232,232)",
            "gridwidth": 2,
            "linecolor": "rgb(36,36,36)",
            "showbackground": true,
            "showgrid": false,
            "showline": true,
            "ticks": "outside",
            "zeroline": false,
            "zerolinecolor": "rgb(36,36,36)"
           }
          },
          "shapedefaults": {
           "fillcolor": "black",
           "line": {
            "width": 0
           },
           "opacity": 0.3
          },
          "ternary": {
           "aaxis": {
            "gridcolor": "rgb(232,232,232)",
            "linecolor": "rgb(36,36,36)",
            "showgrid": false,
            "showline": true,
            "ticks": "outside"
           },
           "baxis": {
            "gridcolor": "rgb(232,232,232)",
            "linecolor": "rgb(36,36,36)",
            "showgrid": false,
            "showline": true,
            "ticks": "outside"
           },
           "bgcolor": "white",
           "caxis": {
            "gridcolor": "rgb(232,232,232)",
            "linecolor": "rgb(36,36,36)",
            "showgrid": false,
            "showline": true,
            "ticks": "outside"
           }
          },
          "title": {
           "x": 0.05
          },
          "xaxis": {
           "automargin": true,
           "gridcolor": "rgb(232,232,232)",
           "linecolor": "rgb(36,36,36)",
           "showgrid": false,
           "showline": true,
           "ticks": "outside",
           "title": {
            "standoff": 15
           },
           "zeroline": false,
           "zerolinecolor": "rgb(36,36,36)"
          },
          "yaxis": {
           "automargin": true,
           "gridcolor": "rgb(232,232,232)",
           "linecolor": "rgb(36,36,36)",
           "showgrid": false,
           "showline": true,
           "ticks": "outside",
           "title": {
            "standoff": 15
           },
           "zeroline": false,
           "zerolinecolor": "rgb(36,36,36)"
          }
         }
        },
        "title": {
         "text": "Figure_1"
        },
        "xaxis": {
         "autorange": true,
         "title": {
          "text": "1/cm"
         }
        },
        "yaxis": {
         "autorange": true,
         "title": {
          "text": "transmittance"
         }
        }
       },
       "_py2js_animate": {},
       "_py2js_deleteTraces": {},
       "_py2js_moveTraces": {},
       "_py2js_removeTraceProps": {},
       "_py2js_restyle": {},
       "_view_count": 1
      }
     },
     "17861245eb1c4405a4d9b08514b9c1e9": {
      "model_module": "@jupyter-widgets/controls",
      "model_module_version": "1.5.0",
      "model_name": "VBoxModel",
      "state": {
       "children": [
        "IPY_MODEL_e9a036b6770a4103b24b411bc5cc20fe",
        "IPY_MODEL_f4d60d5edb474067987b9691ac741dcd"
       ],
       "layout": "IPY_MODEL_8b085b1c0791406aa3bfea02fbfbdc61"
      }
     },
     "17cd915c48bd48ceb76720f2792b365f": {
      "model_module": "@jupyter-widgets/controls",
      "model_module_version": "1.5.0",
      "model_name": "DescriptionStyleModel",
      "state": {
       "description_width": ""
      }
     },
     "1860ac4fe6e243588a3ff6052d3a072f": {
      "model_module": "@jupyter-widgets/controls",
      "model_module_version": "1.5.0",
      "model_name": "DescriptionStyleModel",
      "state": {
       "description_width": ""
      }
     },
     "18b0560ee21c429480c5bc233b1da54a": {
      "model_module": "@jupyter-widgets/controls",
      "model_module_version": "1.5.0",
      "model_name": "VBoxModel",
      "state": {
       "children": [
        "IPY_MODEL_fa8cb3875ebf42b69237c6805043bfbd",
        "IPY_MODEL_62fd6acea2ea4ec188899f5fb72b72d6"
       ],
       "layout": "IPY_MODEL_0f724647825641bebd887d4bc928d33d"
      }
     },
     "19a5d80ff50742108d5ff1ac97dd086d": {
      "model_module": "@jupyter-widgets/controls",
      "model_module_version": "1.5.0",
      "model_name": "HBoxModel",
      "state": {
       "children": [
        "IPY_MODEL_c2d1298780e949629faa38eff3aefe6e",
        "IPY_MODEL_b9661afc83244e0a8a7fb4a8b6617c32",
        "IPY_MODEL_9e64bc14fbde49e8895bc88ea76d6337",
        "IPY_MODEL_5db0e44b021f485a8b5776f7625a989c",
        "IPY_MODEL_f009f9b4b5ff44e9a4a366043c5e7e0f",
        "IPY_MODEL_8715fc0b4b1d4aa3b130e607f3229c90",
        "IPY_MODEL_f4e5e0e98b104f21bc325616edeb576a",
        "IPY_MODEL_ccc9603b46bb4bcea16427f745071d1a",
        "IPY_MODEL_3698382e349f47fc9443d6eaab22bc46"
       ],
       "layout": "IPY_MODEL_8c2d1a9b03364683bced95d6753eb5f0"
      }
     },
     "1a640cfd99594c9cbb5759b0561e0666": {
      "model_module": "@jupyter-widgets/controls",
      "model_module_version": "1.5.0",
      "model_name": "VBoxModel",
      "state": {
       "children": [
        "IPY_MODEL_1c69ff2e70b147f0a4a4a03e8612394d",
        "IPY_MODEL_95baac469d874b7fa7698f4e4231544e",
        "IPY_MODEL_5ac0403aa08d4a688095808cc466d79a"
       ],
       "layout": "IPY_MODEL_85baaa045f654b1d9231dd224d036b3b"
      }
     },
     "1ad29e36c9bb410e8bce4c66bb9093f4": {
      "model_module": "@jupyter-widgets/controls",
      "model_module_version": "1.5.0",
      "model_name": "ButtonStyleModel",
      "state": {
       "button_color": "white"
      }
     },
     "1b5f979db8e1466aa41ecb225be1524a": {
      "model_module": "@jupyter-widgets/controls",
      "model_module_version": "1.5.0",
      "model_name": "HBoxModel",
      "state": {
       "children": [
        "IPY_MODEL_24230126c0f54728be886fc6c5a15258",
        "IPY_MODEL_6995cbf64e5a4e7e8e1a6923d902c8a8"
       ],
       "layout": "IPY_MODEL_f68c7a31f7b742ce939eced0082a560a"
      }
     },
     "1b765f91be28449ebeca5f117559ff40": {
      "model_module": "@jupyter-widgets/controls",
      "model_module_version": "1.5.0",
      "model_name": "DescriptionStyleModel",
      "state": {
       "description_width": ""
      }
     },
     "1c69ff2e70b147f0a4a4a03e8612394d": {
      "model_module": "@jupyter-widgets/controls",
      "model_module_version": "1.5.0",
      "model_name": "HBoxModel",
      "state": {
       "children": [
        "IPY_MODEL_d4f122695aa54e09b273eb09ce82681d",
        "IPY_MODEL_fdfc43a6694b45f28e82f0b95ec44573"
       ],
       "layout": "IPY_MODEL_5d3a35d8582e462f8c8ae6cbb10dfd3f"
      }
     },
     "1c7b11ec7e16467db8eca90290923db2": {
      "model_module": "@jupyter-widgets/base",
      "model_module_version": "1.2.0",
      "model_name": "LayoutModel",
      "state": {}
     },
     "1d37491e7ecd444d86193724dc590546": {
      "model_module": "@jupyter-widgets/controls",
      "model_module_version": "1.5.0",
      "model_name": "BoundedIntTextModel",
      "state": {
       "description": "Linewidth (px): ",
       "layout": "IPY_MODEL_4a4fb6806f0a4af392f2215861d74fed",
       "max": 25,
       "min": 1,
       "style": "IPY_MODEL_efb0263e8a78455ba89ba1cc02974963",
       "value": 2
      }
     },
     "1e02acf2ce734b96abec046462b3760f": {
      "model_module": "@jupyter-widgets/controls",
      "model_module_version": "1.5.0",
      "model_name": "DropdownModel",
      "state": {
       "_options_labels": [
        "Choose error column."
       ],
       "description": "Error values: ",
       "disabled": true,
       "index": 0,
       "layout": "IPY_MODEL_d58a9699f4ae498dbab433e8b5c6a0d0",
       "style": "IPY_MODEL_45f31f68788d4e77abb61b0693f0afbe"
      }
     },
     "1e5544f59eb244b18f7e978241d2a2d8": {
      "model_module": "@jupyter-widgets/base",
      "model_module_version": "1.2.0",
      "model_name": "LayoutModel",
      "state": {}
     },
     "1f17d75d625e42ddb129cb426c4aa8bc": {
      "model_module": "@jupyter-widgets/base",
      "model_module_version": "1.2.0",
      "model_name": "LayoutModel",
      "state": {}
     },
     "1f3365d1cd194f6299da0290a96170d4": {
      "model_module": "@jupyter-widgets/controls",
      "model_module_version": "1.5.0",
      "model_name": "ButtonModel",
      "state": {
       "icon": "caret-down",
       "layout": "IPY_MODEL_9eea4611883e4c92aa2c79ce0bfb148f",
       "style": "IPY_MODEL_d50ddd9fc65746248b8f3fe9d63aaa13"
      }
     },
     "1f4a7203825e4bcfba7655ae12a8dc66": {
      "model_module": "@jupyter-widgets/base",
      "model_module_version": "1.2.0",
      "model_name": "LayoutModel",
      "state": {}
     },
     "1fa8ec3e40044d618249196e654d23a6": {
      "model_module": "@jupyter-widgets/controls",
      "model_module_version": "1.5.0",
      "model_name": "ButtonStyleModel",
      "state": {
       "button_color": "darkgray"
      }
     },
     "20b5952ecd864651b76d509777133031": {
      "model_module": "@jupyter-widgets/controls",
      "model_module_version": "1.5.0",
      "model_name": "FloatTextModel",
      "state": {
       "description": "% or constant: ",
       "disabled": true,
       "layout": "IPY_MODEL_a8d250c03cb84cd0b5c76a639fc24fef",
       "step": null,
       "style": "IPY_MODEL_d9d4ecda99374b4cb03a7e7cd8cf9fa9"
      }
     },
     "219bbf38d71f452f90eb5eb89611dcd5": {
      "model_module": "@jupyter-widgets/controls",
      "model_module_version": "1.5.0",
      "model_name": "DropdownModel",
      "state": {
       "_options_labels": [
        "Choose an operation to insert.",
        "+",
        "-",
        "*",
        "/",
        "**",
        "exp()",
        "log()",
        "ln()",
        "sqrt()",
        "sin()",
        "cos()",
        "tan()",
        "cot()",
        "asin()",
        "acos()",
        "atan()",
        "acot()"
       ],
       "description": "Operation: ",
       "index": 0,
       "layout": "IPY_MODEL_dcc41711dc4c42ad80692da109e41eee",
       "style": "IPY_MODEL_fc39148a4e104678a7b4719a856a4c3a"
      }
     },
     "22cb71440823497f9bcd4bc3ec7b0df3": {
      "model_module": "@jupyter-widgets/controls",
      "model_module_version": "1.5.0",
      "model_name": "HBoxModel",
      "state": {
       "children": [
        "IPY_MODEL_da5593e4a2ba493580c700a75142b422",
        "IPY_MODEL_6866377ad4c3474787b985122f8a0354"
       ],
       "layout": "IPY_MODEL_14301b1ffddd4d49b80d34c27bdae170"
      }
     },
     "234f5f5ddc7f4e2a837b18b9110e414f": {
      "model_module": "@jupyter-widgets/base",
      "model_module_version": "1.2.0",
      "model_name": "LayoutModel",
      "state": {}
     },
     "235f7845dba84321b66fd6b330a2df06": {
      "model_module": "@jupyter-widgets/controls",
      "model_module_version": "1.5.0",
      "model_name": "ButtonStyleModel",
      "state": {
       "button_color": "white"
      }
     },
     "2361ef4ece2041e3bdb95e315fcaa5b3": {
      "model_module": "@jupyter-widgets/base",
      "model_module_version": "1.2.0",
      "model_name": "LayoutModel",
      "state": {}
     },
     "24230126c0f54728be886fc6c5a15258": {
      "model_module": "@jupyter-widgets/controls",
      "model_module_version": "1.5.0",
      "model_name": "VBoxModel",
      "state": {
       "children": [
        "IPY_MODEL_676d07efdf784e03beb3e46dbde68c44",
        "IPY_MODEL_10a9eff0abf8497e87009650f1be52c0",
        "IPY_MODEL_b0449f119ed749ca9287a40de90cdf88",
        "IPY_MODEL_f76677a557a74688b19ae95dbd2ac00b"
       ],
       "layout": "IPY_MODEL_f9f019c3fc7c4a959e7aa8077814aacc"
      }
     },
     "2602c9decf5f4831993278620687575e": {
      "model_module": "@jupyter-widgets/controls",
      "model_module_version": "1.5.0",
      "model_name": "DropdownModel",
      "state": {
       "_options_labels": [
        "Choose data set.",
        "ethaneIR"
       ],
       "description": "DataFrame: ",
       "index": 1,
       "layout": "IPY_MODEL_48f37af33b734a8994c40c307b4419f3",
       "style": "IPY_MODEL_fa4ac512ea9241f7b6148b3f5cc6ae5f"
      }
     },
     "2679dba112674c3c9144b7be80b6f57f": {
      "model_module": "@jupyter-widgets/controls",
      "model_module_version": "1.5.0",
      "model_name": "DescriptionStyleModel",
      "state": {
       "description_width": "initial"
      }
     },
     "2684a5c1fe6f47e6ac7a2f55b4c35a61": {
      "model_module": "@jupyter-widgets/controls",
      "model_module_version": "1.5.0",
      "model_name": "CheckboxModel",
      "state": {
       "description": "Display Mirror Axes",
       "disabled": false,
       "layout": "IPY_MODEL_c82e499d01c642a2813e881d9c4c0627",
       "style": "IPY_MODEL_96bc57dcd9634f68a5f5b3b98f695330",
       "value": true
      }
     },
     "2a3f6c134e8b4ad99bca38716bb5f60a": {
      "model_module": "@jupyter-widgets/controls",
      "model_module_version": "1.5.0",
      "model_name": "AccordionModel",
      "state": {
       "_titles": {
        "0": "Instructions"
       },
       "children": [
        "IPY_MODEL_a321236e1a2e45eea9dee02bc2e7b244"
       ],
       "layout": "IPY_MODEL_a359747f2d6b4563812baf9dc7d46428",
       "selected_index": null
      }
     },
     "2ae6645bc00a4b93b8a82f4486f8f377": {
      "model_module": "@jupyter-widgets/controls",
      "model_module_version": "1.5.0",
      "model_name": "AccordionModel",
      "state": {
       "_titles": {
        "0": "Optional (Trace formatting, error bars...)"
       },
       "children": [
        "IPY_MODEL_715de8de3e594e9fb9c594dfa84d5010"
       ],
       "layout": "IPY_MODEL_a73223e82c0d48c9aaca822ae5ec6703",
       "selected_index": null
      }
     },
     "2c63af40ffdc48608d1e03d3cec94bc1": {
      "model_module": "@jupyter-widgets/base",
      "model_module_version": "1.2.0",
      "model_name": "LayoutModel",
      "state": {}
     },
     "2ce891ef2c21494e9ab082ef6dac7fb8": {
      "model_module": "@jupyter-widgets/controls",
      "model_module_version": "1.5.0",
      "model_name": "HTMLModel",
      "state": {
       "layout": "IPY_MODEL_5593840e57a84bb2b1c9534e4432ed1f",
       "style": "IPY_MODEL_c21101e9f818429fb953ded2b48b6576",
       "value": "Things to check before clicking \"Make Plot\": <ul><li>Fix any problems listed in \"Notices\".</li><li>Look at the code below to make sure you have included all the traces you intended to (look for \"name\").</li><li>Check for any unpaired parentheses, brackets or braces (usually highlighted in red).</li><li>Check that all single and double quotes are paired.</li><li>If you did any manual editing double-check for typos.</li>"
      }
     },
     "2d36534ae7da47448fa95562046d0916": {
      "model_module": "@jupyter-widgets/controls",
      "model_module_version": "1.5.0",
      "model_name": "AccordionModel",
      "state": {
       "_titles": {
        "0": "Instructions"
       },
       "children": [
        "IPY_MODEL_910de4c1c37d4ce5a8c3521846fb126f"
       ],
       "layout": "IPY_MODEL_3a8714a7e72b42d789398204d257d43c",
       "selected_index": null
      }
     },
     "3097d17b4008432b9ed6920b21678820": {
      "model_module": "@jupyter-widgets/base",
      "model_module_version": "1.2.0",
      "model_name": "LayoutModel",
      "state": {}
     },
     "30f90ad18c3248c8ade85de3dc5b6070": {
      "model_module": "@jupyter-widgets/controls",
      "model_module_version": "1.5.0",
      "model_name": "VBoxModel",
      "state": {
       "children": [
        "IPY_MODEL_13a9e3d8e1ff40aab5831de067df8758",
        "IPY_MODEL_71a8c33d2eb44d2e97dd7cd6f9835121"
       ],
       "layout": "IPY_MODEL_3097d17b4008432b9ed6920b21678820"
      }
     },
     "3135d523da764fb8bfaf14349f599a45": {
      "model_module": "@jupyter-widgets/base",
      "model_module_version": "1.2.0",
      "model_name": "LayoutModel",
      "state": {}
     },
     "317712fa8e97431ebd239e1b921bc108": {
      "model_module": "@jupyter-widgets/base",
      "model_module_version": "1.2.0",
      "model_name": "LayoutModel",
      "state": {}
     },
     "3200327e7cda4db0b279cc86e91031e4": {
      "model_module": "@jupyter-widgets/controls",
      "model_module_version": "1.5.0",
      "model_name": "TabModel",
      "state": {
       "_titles": {
        "0": "1. Pick Trace(s)*",
        "1": "2. Label Axes*",
        "2": "3. Title, Format ...",
        "3": "4. Final Check*"
       },
       "children": [
        "IPY_MODEL_f846fb7e4c5e470d919c6e49f3d38ce6",
        "IPY_MODEL_87725f5d20da42bb95a9cddf7678dd94",
        "IPY_MODEL_838a549c5cc445459f1515cc9ed85627",
        "IPY_MODEL_c3c8fa9d52b34b099a875d7c4f206f81"
       ],
       "layout": "IPY_MODEL_c94e3222003b4a219d38fe3aa50709ed",
       "selected_index": 3
      }
     },
     "3203f760b6a04a709d534eff68a06801": {
      "model_module": "@jupyter-widgets/controls",
      "model_module_version": "1.5.0",
      "model_name": "DropdownModel",
      "state": {
       "_options_labels": [
        "Choose error column."
       ],
       "description": "Error values: ",
       "disabled": true,
       "index": 0,
       "layout": "IPY_MODEL_09a9b32aa2d84f6baba2fba717a8a64e",
       "style": "IPY_MODEL_8bd41267727a4fab91f46c64a07c7fbf"
      }
     },
     "329ce0d109d64c60b46265f31c325f08": {
      "buffers": [
       {
        "data": "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",
        "encoding": "base64",
        "path": [
         "_data",
         0,
         "x",
         "value"
        ]
       },
       {
        "data": "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",
        "encoding": "base64",
        "path": [
         "_data",
         0,
         "y",
         "value"
        ]
       },
       {
        "data": "L90kBoEjfECdY+U8iDJ8QArqpXOPQXxAd3BmqpZQfEDl9ibhnV98QFJ95xelbnxAwAOoTqx9fEAtimiFs4x8QJsQKby6m3xACJfp8sGqfEB1Haopybl8QOOjamDQyHxAUCorl9fXfEC+sOvN3uZ8QCs3rATm9XxAmL1sO+0EfUAGRC1y9BN9QHPK7aj7In1A4VCu3wIyfUBO124WCkF9QLxdL00RUH1AKeTvgxhffUCWarC6H259QATxcPEmfX1AcXcxKC6MfUDf/fFeNZt9QEyEspU8qn1AugpzzEO5fUAnkTMDS8h9QJQX9DlS131AAp60cFnmfUBvJHWnYPV9QN2qNd5nBH5ASjH2FG8TfkC4t7ZLdiJ+QCU+d4J9MX5AksQ3uYRAfkAAS/jvi09+QG3RuCaTXn5A21d5XZptfkBI3jmUoXx+QJsUMMuoi35A7UomArCafkBAgRw5t6l+QJO3EnC+uH5A5e0Ip8XHfkBTdMndzNZ+QMD6iRTU5X5ALoFKS9v0fkCbBwuC4gN/QAiOy7jpEn9AdhSM7/Ahf0Djmkwm+DB/QFEhDV3/P39AvqfNkwZPf0AsLo7KDV5/QJm0TgEVbX9ABjsPOBx8f0B0wc9uI4t/QOFHkKUqmn9AT85Q3DGpf0C8VBETObh/QCrb0UlAx39Al2GSgEfWf0AE6FK3TuV/QHJuE+5V9H9AcPppkq4BgECmPcotMgmAQN2AKsm1EIBAE8SKZDkYgEBKB+v/vB+AQIFKS5tAJ4BAuI2rNsQugEDu0AvSRzaAQCUUbG3LPYBAXFfMCE9FgECTmiyk0kyAQMrdjD9WVIBAACHt2tlbgEA3ZE12XWOAQG6nrRHhaoBApeoNrWRygEDbLW5I6HmAQBJxzuNrgYBASLQuf++IgEB/944ac5CAQLY677X2l4BA7X1PUXqfgEAjwa/s/aaAQFoEEIiBroBAkUdwIwW2gEDIitC+iL2AQP7NMFoMxYBANRGR9Y/MgEBrVPGQE9SAQKKXUSyX24BA2dqxxxrjgEAQHhJjnuqAQEZhcv4h8oBAfaTSmaX5gEC05zI1KQGBQOsqk9CsCIFAIW7zazAQgUBYsVMHtBeBQI70s6I3H4FAxTcUPrsmgUD8enTZPi6BQDO+1HTCNYFAaQE1EEY9gUCgRJWryUSBQNeH9UZNTIFADstV4tBTgUBFDrZ9VFuBQHtRFhnYYoFAspR2tFtqgUDp19ZP33GBQCAbN+tieYFAVl6XhuaAgUCNofchaoiBQMPkV73tj4FA+ie4WHGXgUAjQzP09J6BQE1ero94poFAdnkpK/ytgUCglKTGf7WBQMmvH2IDvYFAAPN//YbEgUA2NuCYCsyBQG15QDSO04FAo7ygzxHbgUDa/wBrleKBQBFDYQYZ6oFASIbBoZzxgUB+ySE9IPmBQLUMgtijAIJA7E/icycIgkAjk0IPqw+CQFnWoqouF4JAkBkDRrIegkDGXGPhNSaCQP2fw3y5LYJANOMjGD01gkBrJoSzwDyCQKFp5E5ERIJA2KxE6sdLgkAP8KSFS1OCQEYzBSHPWoJAfXZlvFJigkCzucVX1mmCQOr8JfNZcYJAIUCGjt14gkBYg+YpYYCCQI7GRsXkh4JAxQmnYGiPgkD7TAf865aCQDKQZ5dvnoJAadPHMvOlgkCgFijOdq2CQNZZiGn6tIJADZ3oBH68gkBE4EigAcSCQHsjqTuFy4JAsWYJ1wjTgkDoqWlyjNqCQB7tyQ0Q4oJAVTAqqZPpgkCMc4pEF/GCQMO26t+a+IJA+flKex4Ag0AwPasWogeDQGeAC7IlD4NAnsNrTakWg0DUBszoLB6DQAtKLISwJYNAQY2MHzQtg0B40Oy6tzSDQK8TTVY7PINA5lat8b5Dg0Acmg2NQkuDQFPdbSjGUoNAiiDOw0lag0DBYy5fzWGDQPemjvpQaYNALuruldRwg0BkLU8xWHiDQJtwr8zbf4NA0rMPaF+Hg0AJ928D446DQD860J5mloNAdn0wOuqdg0CtwJDVbaWDQOQD8XDxrINAG0dRDHW0g0BRirGn+LuDQIjNEUN8w4NAvxBy3v/Kg0D2U9J5g9KDQCyXMhUH2oNAY9qSsIrhg0CZHfNLDumDQNBgU+eR8INAB6SzghX4g0A+5xMemf+DQHQqdLkcB4RAq23UVKAOhEDisDTwIxaEQAvMr4unHYRANOcqJyslhEBeAqbCriyEQIcdIV4yNIRAsDic+bU7hEDne/yUOUOEQB6/XDC9SoRAVAK9y0BShECLRR1nxFmEQMKIfQJIYYRA+cvdnctohEAvDz45T3CEQGZSntTSd4RAnJX+b1Z/hEDT2F4L2oaEQAocv6ZdjoRAQV8fQuGVhEB3on/dZJ2EQK7l33jopIRA5ShAFGyshEAcbKCv77OEQFOvAEtzu4RAifJg5vbChEDANcGBesqEQPd4IR3+0YRALryBuIHZhEBk/+FTBeGEQJtCQu+I6IRA0YWiigzwhEAIyQImkPeEQD8MY8ET/4RAdk/DXJcGhUCskiP4Gg6FQOPVg5OeFYVAGhnkLiIdhUBRXETKpSSFQIefpGUpLIVAvuIEAa0zhUD0JWWcMDuFQCtpxTe0QoVAYqwl0zdKhUCZ74Vuu1GFQM8y5gk/WYVABnZGpcJghUA9uaZARmiFQHT8BtzJb4VAqj9nd013hUDhgscS0X6FQBfGJ65UhoVATgmISdiNhUCFTOjkW5WFQLyPSIDfnIVA8tKoG2OkhUApFgm35quFQGBZaVJqs4VAl5zJ7e26hUDN3ymJccKFQAQjiiT1yYVAOmbqv3jRhUBxqUpb/NiFQKjsqvZ/4IVA3y8LkgPohUAVc2sth++FQEy2y8gK94VAg/krZI7+hUC6PIz/EQaGQPF/7JqVDYZAJ8NMNhkVhkBeBq3RnByGQJVJDW0gJIZAzIxtCKQrhkAC0M2jJzOGQDkTLj+rOoZAb1aO2i5ChkCmme51skmGQN3cThE2UYZAFCCvrLlYhkBKYw9IPWCGQIGmb+PAZ4ZAuOnPfkRvhkDhBEsayHaGQAogxrVLfoZANDtBUc+FhkBdVrzsUo2GQIZxN4jWlIZAvbSXI1qchkD09/e+3aOGQCo7WFphq4ZAYX649eSyhkCYwRiRaLqGQM8EeSzswYZABUjZx2/JhkA8izlj89CGQHLOmf522IZAqRH6mfrfhkDgVFo1fueGQBeYutAB74ZATdsabIX2hkCEHnsHCf6GQLth26KMBYdA8qQ7PhANh0Ap6JvZkxSHQF8r/HQXHIdAlm5cEJsjh0DNsbyrHiuHQAT1HEeiModAOjh94iU6h0Bxe919qUGHQKe+PRktSYdA3gGetLBQh0AVRf5PNFiHQEyIXuu3X4dAgsu+hjtnh0C5Dh8iv26HQPBRf71CdodAJ5XfWMZ9h0Bd2D/0SYWHQJQboI/NjIdAyl4AK1GUh0ABomDG1JuHQDjlwGFYo4dAbygh/duqh0Cla4GYX7KHQNyu4TPjuYdAE/JBz2bBh0BKNaJq6siHQIB4AgZu0IdAt7tiofHXh0Dt/sI8dd+HQCRCI9j45odAW4WDc3zuh0CSyOMOAPaHQMgLRKqD/YdA/06kRQcFiEA2kgThigyIQG3VZHwOFIhApBjFF5IbiEDaWyWzFSOIQBGfhU6ZKohASOLl6RwyiEB/JUaFoDmIQLVopiAkQYhA7KsGvKdIiEAi72ZXK1CIQFkyx/KuV4hAkHUnjjJfiEDHuIcptmaIQP3758Q5bohAND9IYL11iEBrgqj7QH2IQKLFCJfEhIhA2AhpMkiMiEAPTMnNy5OIQEWPKWlPm4hAfNKJBNOiiECzFeqfVqqIQOpYSjvasYhAIJyq1l25iEBX3wpy4cCIQI4iaw1lyIhAxWXLqOjPiED7qCtEbNeIQDLsi9/v3ohAaC/senPmiECfckwW9+2IQMiNx7F69YhA8qhCTf78iEAbxL3ogQSJQEXfOIQFDIlAbvqzH4kTiUClPRS7DBuJQNyAdFaQIolAEsTU8RMqiUBJBzWNlzGJQIBKlSgbOYlAt431w55AiUDt0FVfIkiJQCQUtvqlT4lAWlcWlilXiUCRmnYxrV6JQMjd1swwZolA/yA3aLRtiUA1ZJcDOHWJQGyn9567fIlAo+pXOj+EiUDaLbjVwouJQBBxGHFGk4lAR7R4DMqaiUB999inTaKJQLQ6OUPRqYlA632Z3lSxiUAiwfl52LiJQFgEWhVcwIlAj0e6sN/HiUDGihpMY8+JQP3Neufm1olAMxHbgmreiUBqVDse7uWJQKCXm7lx7YlA19r7VPX0iUAOHlzwePyJQEVhvIv8A4pAe6QcJ4ALikCy53zCAxOKQOkq3V2HGopAIG49+QoiikBWsZ2UjimKQI30/S8SMYpAwzdey5U4ikD6er5mGUCKQDG+HgKdR4pAaAF/nSBPikCeRN84pFaKQNWHP9QnXopADMufb6tlikBDDgALL22KQHpRYKaydIpAsJTAQTZ8ikDn1yDduYOKQB4bgXg9i4pAVV7hE8GSikCLoUGvRJqKQMLkoUrIoYpA+CcC5kupikAva2KBz7CKQGauwhxTuIpAnfEiuNa/ikDTNINTWseKQAp44+7dzopAQbtDimHWikB4/qMl5d2KQK5BBMFo5YpA5YRkXOzsikAbyMT3b/SKQFILJZPz+4pAiU6FLncDi0DAkeXJ+gqLQPbURWV+EotALRimAAIai0BkWwachSGLQJueZjcJKYtA0eHG0owwi0AIJSduEDiLQD5ohwmUP4tAdavnpBdHi0CexmJAm06LQMjh3dseVotA8fxYd6Jdi0AbGNQSJmWLQEQzT66pbItAe3avSS10i0CyuQ/lsHuLQOj8b4A0g4tAH0DQG7iKi0BWgzC3O5KLQI3GkFK/mYtAwwnx7UKhi0D6TFGJxqiLQDCQsSRKsItAZ9MRwM23i0CeFnJbUb+LQNVZ0vbUxotAC50ykljOi0BC4JIt3NWLQHkj88hf3YtAsGZTZOPki0DmqbP/ZuyLQB3tE5vq84tAUzB0Nm77i0CKc9TR8QKMQMG2NG11CoxA+PmUCPkRjEAuPfWjfBmMQGWAVT8AIYxAnMO12oMojEDTBhZ2BzCMQAlKdhGLN4xAQI3WrA4/jEB30DZIkkaMQK0Tl+MVToxA5Fb3fplVjEAbmlcaHV2MQFHdt7WgZIxAiCAYUSRsjEC/Y3jsp3OMQPam2Icre4xALOo4I6+CjEBjLZm+MoqMQJpw+Vm2kYxA0LNZ9TmZjEAH97mQvaCMQD46GixBqIxAdX16x8SvjECrwNpiSLeMQOIDO/7LvoxAGUebmU/GjEBPivs0082MQIbNW9BW1YxAvRC8a9rcjED0UxwHXuSMQCqXfKLh64xAYdrcPWXzjECYHT3Z6PqMQM5gnXRsAo1ABaT9D/AJjUA8512rcxGNQHMqvkb3GI1AqW0e4nogjUDgsH59/ieNQBf03hiCL41ATTc/tAU3jUCEep9PiT6NQLu9/+oMRo1A8gBghpBNjUAoRMAhFFWNQF+HIL2XXI1AlsqAWBtkjUDMDeHznmuNQANRQY8ic41AOpShKqZ6jUBx1wHGKYKNQKcaYmGtiY1A3l3C/DCRjUAVoSKYtJiNQEvkgjM4oI1AgifjzrunjUC5akNqP6+NQPCtowXDto1AJvEDoUa+jUBdNGQ8ysWNQIZP39dNzY1AsGpac9HUjUDZhdUOVdyNQAKhUKrY441ALLzLRVzrjUBi/yvh3/KNQJlCjHxj+o1A0IXsF+cBjkAGyUyzagmOQD0MrU7uEI5AdE8N6nEYjkCrkm2F9R+OQOHVzSB5J45AGBkuvPwujkBPXI5XgDaOQIWf7vIDPo5AvOJOjodFjkDzJa8pC02OQCppD8WOVI5AYKxvYBJcjkCX78/7lWOOQM4yMJcZa45ABHaQMp1yjkA7ufDNIHqOQHL8UGmkgY5AqT+xBCiJjkDfghGgq5COQBbGcTsvmI5ATQnS1rKfjkCDTDJyNqeOQLqPkg26ro5A8dLyqD22jkAoFlNEwb2OQF5Zs99ExY5AlZwTe8jMjkDM33MWTNSOQAIj1LHP245AOWY0TVPjjkBwqZTo1uqOQKfs9INa8o5A3S9VH975jkAUc7W6YQGPQEu2FVblCI9Agfl18WgQj0C4PNaM7BePQO9/NihwH49AJsOWw/Mmj0BcBvdedy6PQJNJV/r6NY9Ayoy3lX49j0AA0BcxAkWPQDcTeMyFTI9AblbYZwlUj0ClmTgDjVuPQNvcmJ4QY49AEiD5OZRqj0BJY1nVF3KPQH+muXCbeY9AtukZDB+Bj0DtLHqnooiPQCNw2kImkI9AWrM63qmXj0CR9pp5LZ+PQMg5+xSxpo9A/nxbsDSuj0A1wLtLuLWPQGwDHOc7vY9AokZ8gr/Ej0DZidwdQ8yPQBDNPLnG049ARxCdVErbj0B9U/3vzeKPQLSWXYtR6o9A69m9JtXxj0AhHR7CWPmPQCwwvy5uAJBAx1Fv/C8EkEBjcx/K8QeQQP6Uz5ezC5BAmrZ/ZXUPkEAvRD0zNxOQQMPR+gD5FpBAV1+4zroakEDs7HWcfB6QQIF6M2o+IpBAHJzjNwAmkEC4vZMFwimQQFPfQ9ODLZBA7wD0oEUxkECKIqRuBzWQQCVEVDzJOJBAwGUECos8kEBch7TXTECQQPeoZKUORJBAksoUc9BHkEAt7MRAkkuQQMkNdQ5UT5BAZC8l3BVTkEAAUdWp11aQQJtyhXeZWpBAN5Q1RVtekEDSteUSHWKQQG3XleDeZZBACflFrqBpkECkGvZ7Ym2QQD88pkkkcZBA211WF+Z0kEB2fwblp3iQQBGhtrJpfJBArcJmgCuAkEBI5BZO7YOQQOMFxxuvh5BAfyd36XCLkEAbSSe3Mo+QQLZq14T0kpBAUYyHUraWkEDsrTcgeJqQQIjP5+05npBAI/GXu/uhkEC+EkiJvaWQQFo0+FZ/qZBA9VWoJEGtkECQd1jyArGQQCyZCMDEtJBAx7q4jYa4kEBi3GhbSLyQQP79GCkKwJBAmR/J9svDkEA0QXnEjceQQNBiKZJPy5BAa4TZXxHPkEAHpokt09KQQKLHOfuU1pBAPunpyFbakEDZCpqWGN6QQHQsSmTa4ZBAD076MZzlkECrb6r/XemQQEaRWs0f7ZBA4bIKm+HwkEB81Lpoo/SQQBj2ajZl+JBAsxcbBCf8kEBPOcvR6P+QQOpae5+qA5FAhnwrbWwHkUAhnts6LguRQLy/iwjwDpFAWOE71rESkUDzAuyjcxaRQI4knHE1GpFAKkZMP/cdkUDFZ/wMuSGRQGCJrNp6JZFA/KpcqDwpkUCXzAx2/iyRQDLuvEPAMJFAzg9tEYI0kUBqMR3fQziRQAVTzawFPJFAoHR9esc/kUA7li1IiUORQNe33RVLR5FActmN4wxLkUAN+z2xzk6RQKKI+36QUpFANxa5TFJWkUDLo3YaFFqRQGAxNOjVXZFA9b7xtZdhkUCQ4KGDWWWRQCsCUlEbaZFAxyMCH91skUBiRbLsnnCRQP1mYrpgdJFAmIgSiCJ4kUA0qsJV5HuRQM/LciOmf5FAa+0i8WeDkUAGD9O+KYeRQKIwg4zripFAPVIzWq2OkUDYc+Mnb5KRQHSVk/UwlpFAD7dDw/KZkUCq2POQtJ2RQEb6o152oZFA4RtULDilkUB8PQT6+aiRQBhftMe7rJFAs4BklX2wkUBOohRjP7SRQOrDxDABuJFAhuV0/sK7kUAhByXMhL+RQLwo1ZlGw5FAV0qFZwjHkUDzazU1ysqRQI6N5QKMzpFAKa+V0E3SkUDE0EWeD9aRQGDy9WvR2ZFA+xOmOZPdkUCXNVYHVeGRQDJXBtUW5ZFAzXi2otjokUBpmmZwmuyRQAS8Fj5c8JFAoN3GCx70kUA7/3bZ3/eRQNYgJ6eh+5FAckLXdGP/kUANZIdCJQOSQKmFNxDnBpJARKfn3agKkkDfyJerag6SQHrqR3ksEpJAFgz4Ru4VkkCxLagUsBmSQExPWOJxHZJA53AIsDMhkkCDkrh99SSSQB+0aEu3KJJAutUYGXkskkBV98jmOjCSQPEYebT8M5JAjDopgr43kkAnXNlPgDuSQMN9iR1CP5JAXp856wNDkkD5wOm4xUaSQJXimYaHSpJAMARKVElOkkDLJfohC1KSQGdHqu/MVZJAAmlavY5ZkkCdigqLUF2SQDmsulgSYZJA1c1qJtRkkkBw7xr0lWiSQAsRy8FXbJJApjJ7jxlwkkBCVCtd23OSQN112yqdd5JAeJeL+F57kkANJUnGIH+SQKKyBpTigpJANkDEYaSGkkDLzYEvZoqSQGBbP/0njpJA+3zvyumRkkCWnp+Yq5WSQDLAT2ZtmZJAzeH/My+dkkBoA7AB8aCSQAMlYM+ypJJAn0YQnXSokkA6aMBqNqySQNaJcDj4r5JAcasgBrqzkkANzdDTe7eSQKjugKE9u5JAQxAxb/++kkDfMeE8wcKSQHpTkQqDxpJAFXVB2ETKkkCxlvGlBs6SQEy4oXPI0ZJA59lRQYrVkkCD+wEPTNmSQB4dstwN3ZJAuT5iqs/gkkBVYBJ4keSSQPGBwkVT6JJAjKNyExXskkAnxSLh1u+SQMLm0q6Y85JAXgiDfFr3kkD5KTNKHPuSQJRL4xfe/pJAL22T5Z8Ck0DLjkOzYQaTQGaw84AjCpNAAtKjTuUNk0Cd81McpxGTQDgVBOpoFZNA1Da0tyoZk0BvWGSF7ByTQAt6FFOuIJNAppvEIHAkk0BBvXTuMSiTQN3eJLzzK5NAeADVibUvk0AUIoVXdzOTQK9DNSU5N5NASmXl8vo6k0DlhpXAvD6TQIGoRY5+QpNAHMr1W0BGk0C366UpAkqTQFINVvfDTZNA7i4GxYVRk0CKULaSR1WTQCVyZmAJWZNAwJMWLstck0Bctcb7jGCTQPfWdslOZJNAkvgmlxBok0AuGtdk0muTQMk7hzKUb5NAZF03AFZzk0AAf+fNF3eTQJugl5vZepNANsJHaZt+k0DS4/c2XYKTQG0FqAQfhpNACSdY0uCJk0CkSAigoo2TQEBquG1kkZNA24toOyaVk0B2rRgJ6JiTQBHPyNapnJNArfB4pGugk0BIEilyLaSTQOMz2T/vp5NAflWJDbGrk0Aadznbcq+TQLWY6ag0s5NAUbqZdva2k0Ds20lEuLqTQIFpBxJ6vpNAFffE3zvCk0CqhIKt/cWTQD4SQHu/yZNA05/9SIHNk0Buwa0WQ9GTQArjXeQE1ZNApgQOssbYk0BBJr5/iNyTQNxHbk1K4JNAeGkeGwzkk0ATi87ozeeTQK6sfraP65NASs4uhFHvk0Dl795RE/OTQIARjx/V9pNAHDM/7Zb6k0C3VO+6WP6TQFJ2n4gaApRA7pdPVtwFlECJuf8jngmUQCTbr/FfDZRAwPxfvyERlEBcHhCN4xSUQPc/wFqlGJRAkmFwKGcclEAtgyD2KCCUQMmk0MPqI5RAZMaAkawnlED/5zBfbiuUQJoJ4SwwL5RANiuR+vEylEDRTEHIszaUQG1u8ZV1OpRACJChYzc+lECjsVEx+UGUQD/TAf+6RZRA2vSxzHxJlEB2FmKaPk2UQBE4EmgAUZRArFnCNcJUlEBIe3IDhFiUQOOcItFFXJRAf77SngdglEAa4IJsyWOUQLUBMzqLZ5RAUCPjB01rlEDsRJPVDm+UQIdmQ6PQcpRAIojzcJJ2lEC9qaM+VHqUQFnLUwwWfpRA9ewD2teBlECQDrSnmYWUQCswZHVbiZRAx1EUQx2NlEBic8QQ35CUQP2UdN6glJRAmbYkrGKYlEA02NR5JJyUQM/5hEfmn5RAaxs1FaijlEAGPeXiaaeUQKFelbArq5RAPYBFfu2ulEDYofVLr7KUQHTDpRlxtpRAD+VV5zK6lECrBga19L2UQEYotoK2wZRA4UlmUHjFlEB8axYeOsmUQBiNxuv7zJRAs652ub3QlEBO0CaHf9SUQOnx1lRB2JRAhROHIgPclEAgNTfwxN+UQLxW572G45RAV3iXi0jnlEDsBVVZCuuUQICTEifM7pRAFSHQ9I3ylECpro3CT/aUQD48S5AR+pRA2V37XdP9lEB1f6srlQGVQBGhW/lWBZVArMILxxgJlUBH5LuU2gyVQOMFbGKcEJVAficcMF4UlUAZScz9HxiVQLVqfMvhG5VAUIwsmaMflUDrrdxmZSOVQIfPjDQnJ5VAIvE8AukqlUC9Eu3Pqi6VQFk0nZ1sMpVA9FVNay42lUCQd/048DmVQCuZrQayPZVAx7pd1HNBlUBi3A2iNUWVQP39vW/3SJVAmB9uPblMlUA0QR4Le1CVQM9iztg8VJVAaoR+pv5XlUAFpi50wFuVQKHH3kGCX5VAPOmOD0RjlUDYCj/dBWeVQHMs76rHapVAD06feIlulUCqb09GS3KVQEWR/xMNdpVA4bKv4c55lUB81F+vkH2VQBf2D31SgZVAsxfAShSFlUBOOXAY1oiVQOlaIOaXjJVAhXzQs1mQlUAgnoCBG5SVQLu/ME/dl5VAV+HgHJ+blUDyApHqYJ+VQI0kQbgio5VAKEbxheSmlUDEZ6FTpqqVQGCJUSForpVA+6oB7ymylUCWzLG867WVQDLuYYqtuZVAzQ8SWG+9lUBoMcIlMcGVQARTcvPyxJVAn3QiwbTIlUA6ltKOdsyVQNa3glw40JVAcdkyKvrTlUAM++L3u9eVQKgck8V925VAQz5Dkz/flUDfX/NgAeOVQHqBoy7D5pVAFqNT/ITqlUCxxAPKRu6VQEzms5cI8pVA5wdkZcr1lUCDKRQzjPmVQB5LxABO/ZVAuWx0zg8BlkBUjiSc0QSWQPCv1GmTCJZAi9GEN1UMlkAn8zQFFxCWQMIU5dLYE5ZAXjaVoJoXlkD5V0VuXBuWQJR59TseH5ZAMJulCeAilkDLvFXXoSaWQGBKE6VjKpZA9NfQciUulkCJZY5A5zGWQB7zSw6pNZZAsoAJ3Go5lkBOormpLD2WQOnDaXfuQJZAhOUZRbBElkAgB8oSckiWQLsoeuAzTJZAVkoqrvVPlkDya9p7t1OWQI2Nikl5V5ZAKK86FztblkDE0Ork/F6WQF/ymrK+YpZA+xNLgIBmlkCWNftNQmqWQDJXqxsEbpZAzXhb6cVxlkBomgu3h3WWQAO8u4RJeZZAn91rUgt9lkA6/xsgzYCWQNUgzO2OhJZAcEJ8u1CIlkAMZCyJEoyWQKeF3FbUj5ZAQ6eMJJaTlkDeyDzyV5eWQHrq7L8Zm5ZAFQydjduelkCwLU1bnaKWQExP/ShfppZA53Ct9iCqlkCCkl3E4q2WQB60DZKksZZAudW9X2a1lkBU920tKLmWQPAYHvvpvJZAizrOyKvAlkAmXH6WbcSWQMJ9LmQvyJZAXp/eMfHLlkD5wI7/ss+WQJTiPs1005ZALwTvmjbXlkDLJZ9o+NqWQGZHTza63pZAAWn/A3zilkCdiq/RPeaWQDisX5//6ZZA080PbcHtlkBv7786g/GWQAoRcAhF9ZZApTIg1gb5lkBBVNCjyPyWQNx1gHGKAJdAeJcwP0wEl0ATueAMDgiXQK7akNrPC5dASvxAqJEPl0DlHfF1UxOXQIE/oUMVF5dAHGFREdcal0C3ggHfmB6XQFKksaxaIpdA7sVhehwml0CJ5xFI3imXQCQJwhWgLZdAvypy42Exl0BbTCKxIzWXQPZt0n7lOJdAko+CTKc8l0AtsTIaaUCXQMnS4ucqRJdAZPSStexHl0D/FUODrkuXQJs381BwT5dANlmjHjJTl0DL5mDs81aXQF90Hrq1WpdA9AHch3del0CJj5lVOWKXQB0dVyP7ZZdAuT4H8bxpl0BUYLe+fm2XQO+BZ4xAcZdAi6MXWgJ1l0AmxccnxHiXQMHmd/WFfJdAXQgow0eAl0D4KdiQCYSXQJNLiF7Lh5dAL204LI2Ll0DKjuj5To+XQGawmMcQk5dAAdJIldKWl0Cd8/hilJqXQDgVqTBWnpdA0zZZ/heil0BuWAnM2aWXQAp6uZmbqZdApZtpZ12tl0BAvRk1H7GXQNveyQLhtJdAdwB60KK4l0ASIiqeZLyXQK5D2msmwJdASWWKOejDl0DlhjoHqseXQICo6tRry5dAG8qaoi3Pl0C360pw79KXQFIN+z2x1pdA7S6rC3Pal0CJUFvZNN6XQCRyC6f24ZdAv5O7dLjll0BbtWtCeumXQPbWGxA87ZdAkfjL3f3wl0AtGnyrv/SXQMk7LHmB+JdAZF3cRkP8l0D/fowUBQCYQJqgPOLGA5hANsLsr4gHmEDR45x9SguYQGwFTUsMD5hAByf9GM4SmECjSK3mjxaYQD5qXbRRGphA2osNghMemEB1rb1P1SGYQBDPbR2XJZhArPAd61gpmEBHEs64Gi2YQOMzfobcMJhAflUuVJ40mEAZd94hYDiYQLWYju8hPJhAULo+veM/mEDs2+6KpUOYQIf9nlhnR5hAIh9PJilLmEC9QP/z6k6YQFlir8GsUphA9INfj25WmECPpQ9dMFqYQCrHvyryXZhAxuhv+LNhmEBiCiDGdWWYQP0r0JM3aZhAmE2AYflsmEA0bzAvu3CYQM+Q4Px8dJhAarKQyj54mEAG1ECYAHyYQKH18GXCf5hAPBehM4SDmEDYOFEBRoeYQHNaAc8Hi5hADnyxnMmOmECqnWFqi5KYQD4rHzhNlphA07jcBQ+amEBoRprT0J2YQPzTV6GSoZhAkWEVb1SlmEAsg8U8FqmYQMikdQrYrJhAY8Yl2JmwmED/59WlW7SYQJoJhnMduJhANSs2Qd+7mEDRTOYOob+YQGxultxiw5hACJBGqiTHmECjsfZ35sqYQD7TpkWozphA2fRWE2rSmEB1FgfhK9aYQBA4t67t2ZhAq1lnfK/dmEBGexdKceGYQOKcxxcz5ZhAfb535fTomEAZ4CeztuyYQLQB2IB48JhAUCOITjr0mEDrRDgc/PeYQIZm6Om9+5hAIoiYt3//mEC9qUiFQQOZQFjL+FIDB5lA9OyoIMUKmUCPDlnuhg6ZQCowCbxIEplAxlG5iQoWmUBhc2lXzBmZQPyUGSWOHZlAmLbJ8k8hmUA02HnAESWZQM/5KY7TKJlAahvaW5UsmUAFPYopVzCZQKFeOvcYNJlAPIDqxNo3mUDXoZqSnDuZQHLDSmBeP5lADuX6LSBDmUCpBqv74UaZQEUoW8mjSplA4EkLl2VOmUB7a7tkJ1KZQBeNazLpVZlAsq4bAKtZmUBO0MvNbF2ZQOnxe5suYZlAhBMsafBkmUAgNdw2smiZQLtWjAR0bJlAV3g80jVwmUDymeyf93OZQI27nG25d5lAKN1MO3t7mUDE/vwIPX+ZQF8grdb+gplA+kFdpMCGmUCVYw1ygoqZQDGFvT9EjplAzaZtDQaSmUBoyB3bx5WZQAPqzaiJmZlAnwt+dkudmUA6LS5EDaGZQNVO3hHPpJlAcXCO35ComUAMkj6tUqyZQKez7noUsJlAQ9WeSNazmUDe9k4WmLeZQHkY/+NZu5lAFTqvsRu/mUCpx2x/3cKZQD5VKk2fxplA0+LnGmHKmUBncKXoIs6ZQPz9Yrbk0ZlAlx8ThKbVmUAzQcNRaNmZQM5icx8q3ZlAaoQj7evgmUAFptO6reSZQKDHg4hv6JlAPOkzVjHsmUDXCuQj8++ZQHMslPG085lADk5Ev3b3mUCpb/SMOPuZQESRpFr6/plA4LJUKLwCmkB71AT2fQaaQBb2tMM/CppAsRdlkQEOmkBNORVfwxGaQOlaxSyFFZpAhHx1+kYZmkAfniXICB2aQLu/1ZXKIJpAVuGFY4wkmkDxAjYxTiiaQI0k5v4PLJpAKEaWzNEvmkDDZ0aakzOaQF+J9mdVN5pA+qqmNRc7mkCVzFYD2T6aQDHuBtGaQppAzA+3nlxGmkBoMWdsHkqaQANTFzrgTZpAn3THB6JRmkA6lnfVY1WaQNW3J6MlWZpAcNnXcOdcmkAM+4c+qWCaQKccOAxrZJpAQj7o2SxomkDdX5in7muaQHmBSHWwb5pAFKP4QnJzmkCwxKgQNHeaQEvmWN71eppA5gcJrLd+mkCCKbl5eYKaQB1LaUc7hppAuWwZFf2JmkBUjsnivo2aQO+vebCAkZpAi9EpfkKVmkAm89lLBJmaQMEUihnGnJpAXTY654egmkD4V+q0SaSaQJN5moILqJpAL5tKUM2rmkDKvPodj6+aQGXequtQs5pAAABbuRK3mkCcIQuH1LqaQDhDu1SWvppA02RrIljCmkBuhhvwGcaaQAqoy73byZpApcl7i53NmkBA6ytZX9GaQNwM3CYh1ZpAdy6M9OLYmkASUDzCpNyaQK5x7I9m4JpASZOcXSjkmkDktEwr6ueaQIDW/Pir65pAG/isxm3vmkC3GV2UL/OaQFI7DWLx9ppA7ly9L7P6mkCJfm39dP6aQB4MK8s2AptAspnomPgFm0BHJ6ZmugmbQNu0YzR8DZtAcEIhAj4Rm0ALZNHP/xSbQKeFgZ3BGJtAQqcxa4Mcm0DeyOE4RSCbQHnqkQYHJJtAFAxC1Mgnm0CvLfKhiiubQEtPom9ML5tA5nBSPQ4zm0CBkgIL0DabQBy0stiROptAuNViplM+m0BU9xJ0FUKbQO8Yw0HXRZtAijpzD5lJm0AmXCPdWk2bQMF906ocUZtAXJ+DeN5Um0D4wDNGoFibQJPi4xNiXJtALgSU4SNgm0DKJUSv5WObQGVH9HynZ5tAAGmkSmlrm0CcilQYK2+bQDesBObscptA0820s652m0Bu72SBcHqbQAoRFU8yfptApTLFHPSBm0BAVHXqtYWbQNt1Jbh3iZtAd5fVhTmNm0ASuYVT+5CbQK3aNSG9lJtASPzl7n6Ym0DkHZa8QJybQH8/RooCoJtAG2H2V8Sjm0C2gqYlhqebQFKkVvNHq5tA7cUGwQmvm0CI57aOy7KbQCQJZ1yNtptAvyoXKk+6m0BaTMf3EL6bQPZtd8XSwZtAkY8nk5TFm0AssddgVsmbQMjShy4YzZtAY/Q3/NnQm0D+FejJm9SbQJo3mJdd2JtANllIZR/cm0DRevgy4d+bQGycqACj45tAB75YzmTnm0Cj3wicJuubQD4BuWno7ptA2SJpN6rym0B1RBkFbPabQBBmydIt+ptAq4d5oO/9m0BHqSlusQGcQOLK2TtzBZxAfeyJCTUJnEAZDjrX9gycQLQv6qS4EJxAT1GacnoUnEDrckpAPBicQIaU+g3+G5xAIraq278fnEC911qpgSOcQFj5CndDJ5xA9Bq7RAUrnECIqHgSxy6cQB02NuCIMpxAssPzrUo2nEBGUbF7DDqcQNvebknOPZxAdgAfF5BBnEASIs/kUUWcQK1Df7ITSZxASGUvgNVMnEDkht9Nl1CcQH+ojxtZVJxAGso/6RpYnEC26++23FucQFENoISeX5xA7C5QUmBjnECIUAAgImecQCNysO3japxAv5Ngu6VunEBatRCJZ3KcQPXWwFYpdpxAkfhwJOt5nEAsGiHyrH2cQMc70b9ugZxAY12BjTCFnED+fjFb8oicQJmg4Si0jJxANcKR9nWQnEDQ40HEN5ScQGsF8pH5l5xAByeiX7ubnECiSFItfZ+cQD5qAvs+o5xA2YuyyACnnEB0rWKWwqqcQBDPEmSErpxAq/DCMUaynEBGEnP/B7acQOIzI83JuZxAfVXTmou9nEAYd4NoTcGcQLSYMzYPxZxAT7rjA9HInEDq25PRksycQIb9Q59U0JxAIR/0bBbUnEC9QKQ62NecQFhiVAia25xA84ME1lvfnECPpbSjHeOcQCrHZHHf5pxAxegUP6HqnEBhCsUMY+6cQPwrddok8pxAl00lqOb1nEAzb9V1qPmcQM6QhUNq/ZxAabI1ESwBnUAF1OXe7QSdQKD1layvCJ1APBdGenEMnUDXOPZHMxCdQHJaphX1E51ADnxW47YXnUCpnQaxeBudQES/tn46H51A4OBmTPwinUB7AhcaviadQBYkx+d/Kp1AskV3tUEunUBNZyeDAzKdQOiI11DFNZ1AhKqHHoc5nUAfzDfsSD2dQLvt57kKQZ1AVg+Yh8xEnUDxMEhVjkidQI1S+CJQTJ1AKHSo8BFQnUDDlVi+01OdQF+3CIyVV51A+ti4WVdbnUCV+mgnGV+dQDEcGfXaYp1AzD3JwpxmnUBnX3mQXmqdQPzsNl4gbp1AkXr0K+JxnUAlCLL5o3WdQLqVb8dleZ1ATyMtlSd9nUDqRN1i6YCdQIVmjTCrhJ1AIYg9/myInUC8qe3LLoydQFjLnZnwj51A8+xNZ7KTnUCODv40dJedQCowrgI2m51AxVFe0PeenUBgcw6euaKdQPyUvmt7pp1Al7ZuOT2qnUAy2B4H/62dQM75ztTAsZ1AaRt/ooK1nUAEPS9wRLmdQKBe3z0GvZ1AO4CPC8jAnUDWoT/ZicSdQHLD76ZLyJ1ADeWfdA3MnUCpBlBCz8+dQEQoABCR051A30mw3VLXnUB7a2CrFNudQBaNEHnW3p1Asa7ARpjinUBN0HAUWuadQOjxIOIb6p1AgxPRr93tnUAfNYF9n/GdQLpWMUth9Z1AVXjhGCP5nUDxmZHm5PydQIy7QbSmAJ5AKN3xgWgEnkDD/qFPKgieQF4gUh3sC55A+kEC660PnkCVY7K4bxOeQDCFYoYxF55AzKYSVPMankBnyMIhtR6eQALqcu92Ip5AngsjvTgmnkA5LdOK+imeQNROg1i8LZ5AcHAzJn4xnkALkuPzPzWeQKezk8EBOZ5AQtVDj8M8nkDd9vNchUCeQHkYpCpHRJ5AFDpU+AhInkCvWwTGykueQEt9tJOMT55A5p5kYU5TnkCBwBQvEFeeQB3ixPzRWp5AuAN1ypNenkBTJSWYVWKeQO9G1WUXZp5AimiFM9lpnkAmijUBm22eQMGr5c5ccZ5AXM2VnB51nkD47kVq4HieQJMQ9jeifJ5ALjKmBWSAnkDKU1bTJYSeQGV1BqHnh55AAJe2bqmLnkCcuGY8a4+eQDfaFgotk55A0vvG1+6WnkBniYSlsJqeQPwWQnNynp5AkKT/QDSinkAlMr0O9qWeQLq/ety3qZ5AVeEqqnmtnkDwAtt3O7GeQIwki0X9tJ5AJ0Y7E7+4nkDDZ+vggLyeQF6Jm65CwJ5A+apLfATEnkCVzPtJxseeQDDuqxeIy55Ayw9c5UnPnkBnMQyzC9OeQAJTvIDN1p5AnXRsTo/ankA5lhwcUd6eQNS3zOkS4p5Ab9l8t9TlnkAL+yyFlumeQKYc3VJY7Z5AQj6NIBrxnkDdXz3u2/SeQHiB7bud+J5AFKOdiV/8nkCvxE1XIQCfQErm/STjA59A5geu8qQHn0CBKV7AZgufQBxLDo4oD59AuGy+W+oSn0BTjm4prBafQO6vHvdtGp9AitHOxC8en0Al836S8SGfQMEUL2CzJZ9AXDbfLXUpn0D3V4/7Ni2fQJN5P8n4MJ9ALpvvlro0n0DJvJ9kfDifQGXeTzI+PJ9AAAAAAABAn0CbIbDNwUOfQDdDYJuDR59A0mQQaUVLn0BthsA2B0+fQAmocATJUp9ApMkg0opWn0A/69CfTFqfQNsMgW0OXp9Adi4xO9Bhn0ASUOEIkmWfQK1xkdZTaZ9ASJNBpBVtn0DktPFx13CfQH/WoT+ZdJ9AGvhRDVt4n0C2GQLbHHyfQFE7sqjef59A7FxidqCDn0CIfhJEYoefQCOgwhEki59AvsFy3+WOn0Ba4yKtp5KfQPUE03pplp9AkSaDSCuan0AsSDMW7Z2fQMdp4+OuoZ9AY4uTsXCln0D+rEN/MqmfQJnO80z0rJ9ANfCjGrawn0DQEVTod7SfQGszBLY5uJ9AB1W0g/u7n0CidmRRvb+fQD2YFB9/w59A2bnE7EDHn0B023S6AsufQBD9JIjEzp9Aqx7VVYbSn0BGQIUjSNafQNvNQvEJ2p9AcFsAv8vdn0AE6b2MjeGfQJl2e1pP5Z9ALgQ5KBHpn0DJJen10uyfQGRHmcOU8J9AAGlJkVb0n0CbivleGPifQDasqSza+59A0s1Z+pv/n0C39wTkrgGgQIQI3cqPA6BAUhm1sXAFoEAgKo2YUQegQO46ZX8yCaBAu0s9ZhMLoECJXBVN9AygQFZt7TPVDqBAJH7FGrYQoEDyjp0BlxKgQL+fdeh3FKBAjbBNz1gWoEBbwSW2ORigQCjS/ZwaGqBA9uLVg/sboEDE861q3B2gQJEEhlG9H6BAXxVeOJ4hoEAtJjYffyOgQPs2DgZgJaBAyEfm7EAnoECWWL7TISmgQGNplroCK6BAMXpuoeMsoED/ikaIxC6gQMybHm+lMKBAmqz2VYYyoEBovc48ZzSgQDbOpiNINqBABN9+Cik4oEDR71bxCTqgQJ8AL9jqO6BAbBEHv8s9oEA6It+lrD+gQAgzt4yNQaBA1UOPc25DoECjVGdaT0WgQHFlP0EwR6BAPnYXKBFJoEAMh+8O8kqgQNqXx/XSTKBAp6if3LNOoEB1uXfDlFCgQEPKT6p1UqBAEdsnkVZUoEDe6/93N1agQKz8114YWKBAeQ2wRflZoEBHHogs2lugQBUvYBO7XaBA4j84+ptfoECwUBDhfGGgQH5h6MddY6BAS3LArj5loEAZg5iVH2egQOeTcHwAaaBAtKRIY+FqoECCtSBKwmygQFDG+DCjbqBAHtfQF4RwoEDr56j+ZHKgQLn4gOVFdKBAhwlZzCZ2oEBUGjGzB3igQCIrCZroeaBA8DvhgMl7oEC9TLlnqn2gQItdkU6Lf6BAWW5pNWyBoEAjNUgcTYOgQO37JgMuhaBAuMIF6g6HoECCieTQ74igQExQw7fQiqBAGmGbnrGMoEDocXOFko6gQLWCS2xzkKBAg5MjU1SSoEBRpPs5NZSgQB+10yAWlqBA7MWrB/eXoEC61oPu15mgQIfnW9W4m6BAVfgzvJmdoEAjCQyjep+gQPAZ5IlboaBAviq8cDyjoECMO5RXHaWgQFlMbD7+pqBAJ11EJd+ooED1bRwMwKqgQMJ+9PKgrKBAkI/M2YGuoEBeoKTAYrCgQCyxfKdDsqBA+cFUjiS0oEDH0ix1BbagQJXjBFzmt6BAYvTcQse5oEAwBbUpqLugQP4VjRCJvaBAyyZl92m/oECZNz3eSsGgQGdIFcUrw6BANVntqwzFoEACasWS7cagQNB6nXnOyKBAnYt1YK/KoEBrnE1HkMygQDmtJS5xzqBABr79FFLQoEDUztX7MtKgQKLfreIT1KBAb/CFyfTVoEA9AV6w1degQAsSNpe22aBA2CIOfpfboECmM+ZkeN2gQHREvktZ36BAQVWWMjrhoEAPZm4ZG+OgQN12RgD85KBAq4ce59zmoEB4mPbNveigQEapzrSe6qBAFLqmm3/soEDhyn6CYO6gQK/bVmlB8KBAfewuUCLyoEBL/QY3A/SgQBgO3x3k9aBA5h63BMX3oECzL4/rpfmgQIFAZ9KG+6BAT1E/uWf9oEAcYhegSP+gQOpy74YpAaFAuIPHbQoDoUCFlJ9U6wShQFOldzvMBqFAIbZPIq0IoUDuxicJjgqhQLzX/+9uDKFAiujX1k8OoUBY+a+9MBChQCUKiKQREqFA8xpgi/IToUDAKzhy0xWhQI48EFm0F6FAXE3oP5UZoUAqXsAmdhuhQPdumA1XHaFAxX9w9DcfoUCTkEjbGCGhQF1XJ8L5IqFAJx4GqdokoUDy5OSPuyahQLyrw3acKKFAhnKiXX0qoUBUg3pEXiyhQCKUUis/LqFA76QqEiAwoUC9tQL5ADKhQIvG2t/hM6FAWdeyxsI1oUAm6IqtozehQPT4YpSEOaFAwQk7e2U7oUCPGhNiRj2hQF0r60gnP6FAKjzDLwhBoUD4TJsW6UKhQMZdc/3JRKFAk25L5KpGoUBhfyPLi0ihQC+Q+7FsSqFA/KDTmE1MoUDKsat/Lk6hQJjCg2YPUKFAZtNbTfBRoUAz5DM00VOhQAH1CxuyVaFAzgXkAZNXoUCcFrzoc1mhQGonlM9UW6FANzhstjVdoUAFSUSdFl+hQNNZHIT3YKFAoWr0athioUBve8xRuWShQDyMpDiaZqFACp18H3tooUDXrVQGXGqhQKW+LO08bKFAc88E1B1uoUBA4Ny6/m+hQA7xtKHfcaFA3AGNiMBzoUCpEmVvoXWhQHcjPVaCd6FARTQVPWN5oUASRe0jRHuhQOBVxQolfaFArmad8QV/oUB8d3XY5oChQEmITb/HgqFAF5klpqiEoUDkqf2MiYahQLK61XNqiKFAgMutWkuKoUBN3IVBLIyhQBvtXSgNjqFA6f01D+6PoUC2Dg72zpGhQIQf5tyvk6FAUjC+w5CVoUAgQZaqcZehQO1RbpFSmaFAu2JGeDOboUCJcx5fFJ2hQFaE9kX1nqFAJJXOLNagoUDypaYTt6KhQL+2fvqXpKFAjcdW4XimoUBb2C7IWaihQCjpBq86qqFA9vnelRusoUDECrd8/K2hQJIbj2Pdr6FAXyxnSr6xoUAtPT8xn7OhQPpNFxiAtaFAyF7v/mC3oUCSJc7lQbmhQF3srMwiu6FAJ7OLswO9oUDyeWqa5L6hQLxASYHFwKFAilEhaKbCoUBXYvlOh8ShQCVz0TVoxqFA8oOpHEnIoUDAlIEDKsqhQI6lWeoKzKFAW7Yx0evNoUApxwm4zM+hQPfX4Z6t0aFAxOi5hY7ToUCS+ZFsb9WhQGAKalNQ16FALhtCOjHZoUD7KxohEtuhQMk88gfz3KFAl03K7tPeoUBkXqLVtOChQDJveryV4qFAAIBSo3bkoUDNkCqKV+ahQJuhAnE46KFAabLaVxnqoUA2w7I++uuhQATUiiXb7aFA0uRiDLzvoUCg9TrznPGhQG0GE9p986FAOxfrwF71oUAIKMOnP/ehQNY4m44g+aFApElzdQH7oUBxWktc4vyhQD9rI0PD/qFADXz7KaQAokDajNMQhQKiQKidq/dlBKJAdq6D3kYGokBDv1vFJwiiQBHQM6wICqJA3+ALk+kLokCt8eN5yg2iQHoCvGCrD6JASBOUR4wRokAWJGwubROiQOM0RBVOFaJAsUUc/C4XokB/VvTiDxmiQExnzMnwGqJAGniksNEcokDoiHyXsh6iQLaZVH6TIKJAg6osZXQiokBRuwRMVSSiQB7M3DI2JqJA7Ny0GRcookC67YwA+CmiQIf+ZOfYK6JAVQ89zrktokAjIBW1mi+iQPAw7Zt7MaJAvkHFglwzokCMUp1pPTWiQFljdVAeN6JAJ3RNN/84okD1hCUe4DqiQMKV/QTBPKJAkKbV66E+okBet63SgkCiQCvIhbljQqJA+dhdoEREokDH6TWHJUaiQJX6DW4GSKJAYgvmVOdJokAwHL47yEuiQP4sliKpTaJAzD1uCYpPokCZTkbwalGiQGdfHtdLU6JANHD2vSxVokACgc6kDVeiQMxHrYvuWKJAlw6Mcs9aokBh1WpZsFyiQCycSUCRXqJA9mIoJ3JgokDEcwAOU2KiQJGE2PQzZKJAX5Ww2xRmokAspojC9WeiQPq2YKnWaaJAyMc4kLdrokCV2BB3mG2iQGPp6F15b6JAMfrARFpxokD+CpkrO3OiQMwbcRIcdaJAmixJ+fx2okBnPSHg3XiiQDVO+ca+eqJAA1/RrZ98okDRb6mUgH6iQJ6AgXthgKJAbJFZYkKCokA5ojFJI4SiQAezCTAEhqJA1cPhFuWHokCj1Ln9xYmiQHDlkeSmi6JAPvZpy4eNokAMB0KyaI+iQNoXGplJkaJApyjyfyqTokB1OcpmC5WiQEJKok3slqJAEFt6NM2YokDea1IbrpqiQKt8KgKPnKJAeY0C6W+eokBHntrPUKCiQBSvsrYxoqJA4r+KnRKkokCw0GKE86WiQH3hOmvUp6JAS/ISUrWpokAZA+s4lquiQOcTwx93raJAtCSbBlivokCCNXPtOLGiQE9GS9QZs6JAHVcju/q0okDrZ/uh27aiQLh404i8uKJAhomrb526okBUmoNWfryiQCKrWz1fvqJA8LszJEDAokC9zAsLIcKiQIvd4/EBxKJAWO672OLFokAm/5O/w8eiQPQPbKakyaJAwSBEjYXLokCPMRx0Zs2iQF1C9FpHz6JAKlPMQSjRokD4Y6QoCdOiQMZ0fA/q1KJAk4VU9srWokBhlizdq9iiQC+nBMSM2qJA/bfcqm3cokDKyLSRTt6iQJjZjHgv4KJAZepkXxDiokAz+zxG8eOiQAEMFS3S5aJAzhztE7PnokCcLcX6k+miQGo+neF066JAN091yFXtokACFlSvNu+iQMzcMpYX8aJAlqMRffjyokBhavBj2fSiQCsxz0q69qJA+UGnMZv4okDGUn8YfPqiQJRjV/9c/KJAYnQv5j3+okAvhQfNHgCjQP2V37P/AaNAy6a3muADo0CZt4+BwQWjQGbIZ2iiB6NANNk/T4MJo0AC6hc2ZAujQM/67xxFDaNAnQvIAyYPo0BrHKDqBhGjQDgteNHnEqNABj5QuMgUo0DUTiifqRajQKFfAIaKGKNAb3DYbGsao0A9gbBTTByjQAuSiDotHqNA2KJgIQ4go0CmszgI7yGjQHPEEO/PI6NAQdXo1bAlo0AP5sC8kSejQNz2mKNyKaNAqgdxilMro0B4GElxNC2jQEUpIVgVL6NAEzr5PvYwo0DhStEl1zKjQK5bqQy4NKNAfGyB85g2o0BKfVnaeTijQBiOMcFaOqNA5Z4JqDs8o0Czr+GOHD6jQIHAuXX9P6NATtGRXN5Bo0Ac4mlDv0OjQOryQSqgRaNAtwMaEYFHo0CFFPL3YUmjQFMlyt5CS6NAITaixSNNo0DuRnqsBE+jQLxXUpPlUKNAiWgqesZSo0BXeQJhp1SjQCWK2keIVqNA8pqyLmlYo0DAq4oVSlqjQI68YvwqXKNAW8064wteo0Ap3hLK7F+jQPfu6rDNYaNAxP/Cl65jo0CSEJt+j2WjQGAhc2VwZ6NALTJLTFFpo0D7QiMzMmujQMlT+xkTbaNAl2TTAPRuo0Bkdavn1HCjQDKGg861cqNAAJdbtZZ0o0DNpzOcd3ajQJu4C4NYeKNAacnjaTl6o0A32rtQGnyjQATrkzf7faNA0vtrHtx/o0CfDEQFvYGjQG0dHOydg6NAOy700n6Fo0AIP8y5X4ejQNZPpKBAiaNApGB8hyGLo0BxcVRuAo2jQDw4M1XjjqNABv8RPMSQo0DQxfAipZKjQJuMzwmGlKNAZVOu8GaWo0AzZIbXR5ijQAB1Xr4omqNAzoU2pQmco0Cclg6M6p2jQGmn5nLLn6NAN7i+Wayho0AFyZZAjaOjQNLZbidupaNAoOpGDk+no0Bu+x71L6mjQDsM99sQq6NACR3PwvGso0DXLaep0q6jQKU+f5CzsKNAck9Xd5Syo0BAYC9edbSjQA5xB0VWtqNA24HfKze4o0CpkrcSGLqjQHejj/n4u6NARbRn4Nm9o0ASxT/Hur+jQODVF66bwaNArebvlHzDo0B798d7XcWjQEkIoGI+x6NAFhl4SR/Jo0DkKVAwAMujQLI6KBfhzKNAf0sA/sHOo0BNXNjkotCjQBttsMuD0qNA6H2IsmTUo0C2jmCZRdajQISfOIAm2KNAUrAQZwfao0AfwehN6NujQO3RwDTJ3aNAuuKYG6rfo0CI83ACi+GjQFYESelr46NAIxUh0Ezlo0DxJfm2LeejQL820Z0O6aNAjUephO/qo0BbWIFr0OyjQChpWVKx7qNA9nkxOZLwo0DDigkgc/KjQJGb4QZU9KNAX6y57TT2o0AsvZHUFfijQPrNabv2+aNAyN5Botf7o0CV7xmJuP2jQGMA8m+Z/6NAMRHKVnoBpED+IaI9WwOkQMwyeiQ8BaRAmkNSCx0HpEBoVCry/QikQDVlAtneCqRAA3bav78MpEDQhrKmoA6kQJ6Xio2BEKRAbKhidGISpEA5uTpbQxSkQAfKEkIkFqRA1drqKAUYpECi68IP5hmkQHD8mvbGG6RAPg1z3acdpEAMHkvEiB+kQNkuI6tpIaRApz/7kUojpEBxBtp4KyWkQDzNuF8MJ6RABpSXRu0opEDRWnYtziqkQJshVRSvLKRAaTIt+48upEA2QwXicDCkQARU3chRMqRA0WS1rzI0pECfdY2WEzakQG2GZX30N6RAOpc9ZNU5pEAIqBVLtjukQNa47TGXPaRAo8nFGHg/pEBx2p3/WEGkQD/rdeY5Q6RADPxNzRpFpEDaDCa0+0akQKgd/prcSKRAdi7Wgb1KpEBDP65onkykQBFQhk9/TqRA3mBeNmBQpECscTYdQVKkQHqCDgQiVKRAR5Pm6gJWpEAVpL7R41ekQOO0lrjEWaRAsMVun6VbpEB+1kaGhl2kQEznHm1nX6RAGvj2U0hhpEDnCM86KWOkQLUZpyEKZaRAgyp/COtmpEBQO1fvy2ikQB5ML9asaqRA7FwHvY1spEC5bd+jbm6kQId+t4pPcKRAVY+PcTBypEAioGdYEXSkQPCwPz/ydaRAvsEXJtN3pECM0u8MtHmkQFnjx/OUe6RAJ/Sf2nV9pED0BHjBVn+kQMIVUKg3gaRAkCYojxiDpEBdNwB2+YSkQCtI2FzahqRA+ViwQ7uIpEDGaYgqnIqkQJR6YBF9jKRAYos4+F2OpEAvnBDfPpCkQP2s6MUfkqRAy73ArACUpECYzpiT4ZWkQGbfcHrCl6RANPBIYaOZpEACASFIhJukQM8R+S5lnaRAnSLRFUafpEBrM6n8JqGkQDhEgeMHo6RABlVZyuikpEDUZTGxyaakQKJ2CZiqqKRAb4fhfouqpEA9mLllbKykQAqpkUxNrqRA2LlpMy6wpECmykEaD7KkQHPbGQHws6RAQezx59C1pEAP/cnOsbekQNwNorWSuaRAqh56nHO7pEB4L1KDVL2kQEVAKmo1v6RAE1ECURbBpEDhYdo398KkQKsouR7YxKRAde+XBbnGpEBAtnbsmcikQAp9VdN6yqRA1EM0ulvMpECiVAyhPM6kQHBl5Icd0KRAPXa8bv7RpEALh5RV39OkQNmXbDzA1aRApqhEI6HXpEB0uRwKgtmkQELK9PBi26RAENvM10PdpEDd66S+JN+kQKv8fKUF4aRAeQ1VjObipEBGHi1zx+SkQBQvBVqo5qRA4j/dQInopECwULUnauqkQH1hjQ5L7KRAS3Jl9SvupEAYgz3cDPCkQOaTFcPt8aRAtKTtqc7zpECBtcWQr/WkQE/GnXeQ96RAHdd1XnH5pEDq501FUvukQLj4JSwz/aRAhgn+EhT/pEBTGtb59AClQCErruDVAqVA7zuGx7YEpUC9TF6ulwalQIpdNpV4CKVAWG4OfFkKpUAlf+ZiOgylQPOPvkkbDqVAwaCWMPwPpUCPsW4X3RGlQFzCRv69E6VAKtMe5Z4VpUD44/bLfxelQMb0zrJgGaVAkwWnmUEbpUBhFn+AIh2lQC4nV2cDH6VA/DcvTuQgpUDKSAc1xSKlQJdZ3xumJKVAZWq3AocmpUAze4/pZyilQACMZ9BIKqVAzpw/tykspUCcrReeCi6lQGm+74TrL6VAN8/Ha8wxpUAF4J9SrTOlQNPwdzmONaVAoAFQIG83pUBuEigHUDmlQDsjAO4wO6VACTTY1BE9pUDXRLC78j6lQKRViKLTQKVAcmZgibRCpUBAdzhwlUSlQA6IEFd2RqVA3JjoPVdIpUCpqcAkOEqlQHe6mAsZTKVARMtw8vlNpUAS3EjZ2k+lQODsIMC7UaVArf34ppxTpUB7DtGNfVWlQEkfqXReV6VAFjCBWz9ZpUDh9l9CIFulQKu9PikBXaVAdYQdEOJepUBAS/z2wmClQAoS292jYqVA2CKzxIRkpUClM4urZWalQHNEY5JGaKVAQVU7eSdqpUAOZhNgCGylQNx260bpbaVAqofDLcpvpUB3mJsUq3GlQEWpc/uLc6VAE7pL4mx1pUDhyiPJTXelQK7b+68ueaVAfOzTlg97pUBJ/at98HylQBcOhGTRfqVA5R5cS7KApUCyLzQyk4KlQIBADBl0hKVATlHk/1SGpUAbYrzmNYilQOlylM0WiqVAt4NstPeLpUCFlESb2I2lQFKlHIK5j6VAILb0aJqRpUDuxsxPe5OlQLvXpDZclaVAieh8HT2XpUBX+VQEHpmlQCQKLev+mqVA8hoF0t+cpUDAK924wJ6lQI08tZ+hoKVAW02NhoKipUApXmVtY6SlQPduPVREpqVAxH8VOyWopUCSkO0hBqqlQF+hxQjnq6VALbKd78etpUD7wnXWqK+lQMjTTb2JsaVAluQlpGqzpUBk9f2KS7WlQDEG1nEst6VA/xauWA25pUDNJ4Y/7rqlQJo4XibPvKVAaEk2DbC+pUA2Wg70kMClQARr5tpxwqVA0Xu+wVLEpUCfjJaoM8alQG2dbo8UyKVAOq5GdvXJpUAIvx5d1sulQNbP9kO3zaVAo+DOKpjPpUBx8aYRedGlQD8Cf/hZ06VADRNX3zrVpUDaIy/GG9elQKg0B6382KVAdUXfk93apUBDVrd6vtylQBFnj2Gf3qVA3ndnSIDgpUCsiD8vYeKlQHqZFxZC5KVAR6rv/CLmpUAVu8fjA+ilQOPLn8rk6aVAsNx3scXrpUB+7U+Ypu2lQEz+J3+H76VAGQ8AZmjxpUDnH9hMSfOlQLUwsDMq9aVAg0GIGgv3pUBQUmAB7PilQBsZP+jM+qVA5d8dz638pUCvpvy1jv6lQHpt25xvAKZARDS6g1ACpkASRZJqMQSmQN9ValESBqZArWZCOPMHpkB7dxof1AmmQEiI8gW1C6ZAFpnK7JUNpkDkqaLTdg+mQLG6erpXEaZAf8tSoTgTpkBN3CqIGRWmQBvtAm/6FqZA6P3aVdsYpkC2DrM8vBqmQIMfiyOdHKZAUTBjCn4epkAfQTvxXiCmQOxRE9g/IqZAumLrviAkpkCIc8OlASamQFWEm4ziJ6ZAI5Vzc8MppkDxpUtapCumQL62I0GFLaZAjMf7J2YvpkBa2NMORzGmQCfpq/UnM6ZA9fmD3Ag1pkDDClzD6TamQJAbNKrKOKZAXiwMkas6pkAsPeR3jDymQPpNvF5tPqZAx16URU5ApkCVb2wsL0KmQGOARBMQRKZAMZEc+vBFpkD+ofTg0UemQMyyzMeySaZAmcOkrpNLpkBn1HyVdE2mQDXlVHxVT6ZAAvYsYzZRpkDQBgVKF1OmQJ4X3TD4VKZAayi1F9lWpkA5OY3+uVimQAdKZeWaWqZA1Fo9zHtcpkCiaxWzXF6mQHB87Zk9YKZAPo3FgB5ipkALnp1n/2OmQNmudU7gZaZApr9NNcFnpkB00CUcommmQELh/QKDa6ZAD/LV6WNtpkDdAq7QRG+mQKsThrclcaZAeSRengZzpkBHNTaF53SmQBRGDmzIdqZA4lbmUql4pkCvZ745inqmQH14liBrfKZAS4luB0x+pkAYmkbuLICmQOaqHtUNgqZAtLv2u+6DpkCBzM6iz4WmQE/dpomwh6ZAHe5+cJGJpkDq/lZXcoumQLgPLz5TjaZAhiAHJTSPpkBQ5+ULFZGmQBquxPL1kqZA5XSj2daUpkCvO4LAt5amQHkCYaeYmKZARxM5jnmapkAVJBF1WpymQOI06Vs7nqZAsEXBQhygpkB+Vpkp/aGmQExncRDeo6ZAGXhJ976lpkDniCHen6emQLSZ+cSAqaZAgqrRq2GrpkBQu6mSQq2mQB3MgXkjr6ZA69xZYASxpkC57TFH5bKmQIf+CS7GtKZAVQ/iFKe2pkAiILr7h7imQPAwkuJouqZAvUFqyUm8pkCLUkKwKr6mQFljGpcLwKZAJnTyfezBpkD0hMpkzcOmQMKVokuuxaZAj6Z6Mo/HpkBdt1IZcMmmQCvIKgBRy6ZA+NgC5zHNpkDG6drNEs+mQJT6srTz0KZAYguLm9TSpkAvHGOCtdSmQP0sO2mW1qZAyj0TUHfYpkCYTus2WNqmQGZfwx053KZAM3CbBBrepkABgXPr+t+mQM+RS9Lb4aZAnKIjubzjpkBqs/ufneWmQDjE04Z+56ZABtWrbV/ppkDT5YNUQOumQKH2Wzsh7aZAbwc0IgLvpkA8GAwJ4/CmQAop5O/D8qZA2Dm81qT0pkClSpS9hfamQHNbbKRm+KZAQWxEi0f6pkAOfRxyKPymQNyN9FgJ/qZAqp7MP+r/pkB4r6QmywGnQEXAfA2sA6dAE9FU9IwFp0Dg4SzbbQenQK7yBMJOCadAfAPdqC8Lp0BJFLWPEA2nQBcljXbxDqdA5TVlXdIQp0CyRj1EsxKnQIBXFSuUFKdATmjtEXUWp0AbecX4VRinQOmJnd82GqdAt5p1xhccp0CEq02t+B2nQFK8JZTZH6dAIM39erohp0Du3dVhmyOnQLvurUh8JadAif+FL10np0BXEF4WPimnQCQhNv0eK6dA8jEO5P8sp0DAQubK4C6nQIoJxbHBMKdAVNCjmKIyp0Afl4J/gzSnQOldYWZkNqdAsyRATUU4p0CBNRg0JjqnQE9G8BoHPKdAHFfIAeg9p0DqZ6DoyD+nQLh4eM+pQadAholQtopDp0BTmiida0WnQCGrAIRMR6dA7rvYai1Jp0C8zLBRDkunQIrdiDjvTKdAV+5gH9BOp0Al/zgGsVCnQPMPEe2RUqdAwCDp03JUp0COMcG6U1anQFxCmaE0WKdAKVNxiBVap0D3Y0lv9lunQMV0IVbXXadAkoX5PLhfp0BgltEjmWGnQC6nqQp6Y6dA/LeB8Vplp0DJyFnYO2enQJfZMb8caadAZeoJpv1qp0Ay++GM3mynQAAMunO/bqdAzhySWqBwp0CcLWpBgXKnQGk+QihidKdAN08aD0N2p0AEYPL1I3inQNJwytwEeqdAoIGiw+V7p0Btknqqxn2nQDujUpGnf6dACbQqeIiBp0DWxAJfaYOnQKTV2kVKhadAcuayLCuHp0A/94oTDImnQA0IY/rsiqdA2xg74c2Mp0CpKRPIro6nQHY6666PkKdAREvDlXCSp0ARXJt8UZSnQN9sc2MylqdArX1LShOYp0B7jiMx9JmnQEif+xfVm6dAFrDT/rWdp0DkwKvllp+nQLLRg8x3oadAf+Jbs1ijp0BN8zOaOaWnQBoEDIEap6dA6BTkZ/uop0C2JbxO3KqnQIM2lDW9rKdAUUdsHJ6up0AfWEQDf7CnQOxoHOpfsqdAunn00EC0p0CIisy3IbanQFWbpJ4CuKdAI6x8heO5p0DxvFRsxLunQL/NLFOlvadAjN4EOoa/p0Ba79wgZ8GnQCcAtQdIw6dA9RCN7ijFp0C/12vVCcenQIqeSrzqyKdAVGUpo8vKp0AfLAiKrMynQOny5nCNzqdAtwO/V27Qp0CEFJc+T9KnQFIlbyUw1KdAHzZHDBHWp0DtRh/z8denQLtX99nS2adAiGjPwLPbp0BWeaenlN2nQCSKf45136dA8ppXdVbhp0DAqy9cN+OnQI28B0MY5adAW83fKfnmp0Ao3rcQ2uinQPbuj/e66qdAxP9n3pvsp0CREEDFfO6nQF8hGKxd8KdALTLwkj7yp0D6Qsh5H/SnQMhToGAA9qdAlmR4R+H3p0BjdVAuwvmnQDGGKBWj+6dA/5YA/IP9p0DNp9jiZP+nQJq4sMlFAahAaMmIsCYDqEA12mCXBwWoQAPrOH7oBqhA0fsQZckIqECeDOlLqgqoQGwdwTKLDKhAOi6ZGWwOqEAHP3EATRCoQNVPSectEqhAo2Ahzg4UqEBxcfm07xWoQD6C0ZvQF6hADJOpgrEZqEDao4FpkhuoQKe0WVBzHahAdcUxN1QfqEBD1gkeNSGoQBDn4QQWI6hA3ve56/YkqECsCJLS1yaoQHkZarm4KKhARypCoJkqqEAVOxqHeiyoQONL8m1bLqhAsFzKVDwwqEB+baI7HTKoQEt+eiL+M6hAGY9SCd81qEDnnyrwvzeoQLSwAtegOahAgsHavYE7qEBQ0rKkYj2oQB3jiotDP6hA6/NiciRBqEC5BDtZBUOoQIYVE0DmRKhAVCbrJsdGqEAiN8MNqEioQPBHm/SISqhAvVhz22lMqECLaUvCSk6oQFl6I6krUKhAJov7jwxSqED0m9N27VOoQMKsq13OVahAj72DRK9XqEBdzlsrkFmoQCvfMxJxW6hA+e8L+VFdqEDGAOTfMl+oQJQRvMYTYahAYSKUrfRiqEAvM2yU1WSoQPn5Snu2ZqhAxMApYpdoqECOhwhJeGqoQFlO5y9ZbKhAIxXGFjpuqEDxJZ79GnCoQL42duT7cahAjEdOy9xzqEBZWCayvXWoQCdp/pied6hA9XnWf395qEDCiq5mYHuoQJCbhk1BfahAXqxeNCJ/qEArvTYbA4GoQPnNDgLkgqhAx97m6MSEqECU777PpYaoQGIAl7aGiKhAMBFvnWeKqED+IUeESIyoQMsyH2spjqhAmUP3UQqQqEBnVM8465GoQDRlpx/Mk6hAAnZ/Bq2VqEDQhlftjZeoQJ2XL9RumahAa6gHu0+bqEA5ud+hMJ2oQAfKt4gRn6hA1NqPb/KgqECi62dW06KoQG/8Pz20pKhAPQ0YJJWmqEALHvAKdqioQNguyPFWqqhApj+g2DesqEB0UHi/GK6oQEFhUKb5r6hAD3IojdqxqEDdggB0u7OoQKqT2FqctahAeKSwQX23qEBGtYgoXrmoQBPGYA8/u6hA4dY49h+9qECv5xDdAL+oQHz46MPhwKhASgnBqsLCqEAYGpmRo8SoQOYqcXiExqhAsztJX2XIqECBTCFGRsqoQE9d+SwnzKhAHW7REwjOqEDqfqn66M+oQLiPgeHJ0ahAhaBZyKrTqEBTsTGvi9WoQCHCCZZs16hA7tLhfE3ZqEC847ljLtuoQIr0kUoP3ahAVwVqMfDeqEAlFkIY0eCoQPMmGv+x4qhAwDfy5ZLkqECOSMrMc+aoQFxZorNU6KhAKmp6mjXqqED3elKBFuyoQMWLKmj37ahAkpwCT9jvqEBgrdo1ufGoQC6+shya86hA+86KA3v1qEDJ32LqW/eoQJfwOtE8+ahAZQETuB37qEAvyPGe/vyoQPmO0IXf/qhAxFWvbMAAqUCOHI5ToQKpQFjjbDqCBKlAJvREIWMGqUD0BB0IRAipQMEV9e4kCqlAjybN1QUMqUBdN6W85g2pQCtIfaPHD6lA+FhViqgRqUDGaS1xiROpQJN6BVhqFalAYYvdPksXqUAvnLUlLBmpQPysjQwNG6lAyr1l8+0cqUCYzj3azh6pQGXfFcGvIKlAM/Dtp5AiqUABAcaOcSSpQM4RnnVSJqlAnCJ2XDMoqUBqM05DFCqpQDhEJir1K6lABVX+ENYtqUDTZdb3ti+pQKB2rt6XMalAboeGxXgzqUA8mF6sWTWpQAmpNpM6N6lA17kOehs5qUClyuZg/DqpQHPbvkfdPKlAQeyWLr4+qUAO/W4Vn0CpQNwNR/x/QqlAqR4f42BEqUB3L/fJQUapQEVAz7AiSKlAElGnlwNKqUDgYX9+5EupQK5yV2XFTalAe4MvTKZPqUBJlAczh1GpQBel3xloU6lA5LW3AElVqUCyxo/nKVepQIDXZ84KWalATug/tetaqUAb+ReczFypQOkJ8IKtXqlAthrIaY5gqUCEK6BQb2KpQFI8eDdQZKlAH01QHjFmqUDtXSgFEmipQLtuAOzyaalAiH/Y0tNrqUBWkLC5tG2pQCShiKCVb6lA8bFgh3ZxqUC/wjhuV3OpQI3TEFU4dalAW+ToOxl3qUAo9cAi+nipQPYFmQnbeqlAxBZx8Lt8qUCRJ0nXnH6pQF84Ib59gKlALUn5pF6CqUD6WdGLP4SpQMhqqXIghqlAlnuBWQGIqUBkjFlA4ompQDGdMSfDi6lA/60JDqSNqUDMvuH0hI+pQJrPudtlkalAaOCRwkaTqUA18WmpJ5WpQAMCQpAIl6lA0RIad+mYqUCeI/JdypqpQGnq0ESrnKlAM7GvK4yeqUD9d44SbaCpQMg+bflNoqlAkgVM4C6kqUBgFiTHD6apQC0n/K3wp6lA+zfUlNGpqUDJSKx7squpQJZZhGKTralAZGpcSXSvqUAyezQwVbGpQP+LDBc2s6lAzZzk/Ra1qUCbrbzk97apQGm+lMvYuKlANs9ssrm6qUAE4ESZmrypQNLwHIB7vqlAnwH1ZlzAqUBtEs1NPcKpQDsjpTQexKlACDR9G//FqUDWRFUC4MepQKRVLenAyalAcmYF0KHLqUA/d922gs2pQA2ItZ1jz6lA2piNhETRqUCoqWVrJdOpQHa6PVIG1alAQ8sVOefWqUAR3O0fyNipQN/sxQap2qlArP2d7YncqUB6DnbUat6pQEgfTrtL4KlAFTAmoiziqUDjQP6IDeSpQLFR1m/u5alAfmKuVs/nqUBMc4Y9sOmpQBqEXiSR66lA6JQ2C3LtqUC1pQ7yUu+pQIO25tgz8alAUce+vxTzqUAe2Jam9fSpQOzobo3W9qlAuvlGdLf4qUCICh9bmPqpQFUb90F5/KlAIyzPKFr+qUDwPKcPOwCqQL5Nf/YbAqpAjF5X3fwDqkBZby/E3QWqQCeAB6u+B6pA9ZDfkZ8JqkDCobd4gAuqQJCyj19hDapAXsNnRkIPqkAr1D8tIxGqQPnkFxQEE6pAx/Xv+uQUqkCVBsjhxRaqQGIXoMimGKpAMCh4r4caqkD9OFCWaByqQMtJKH1JHqpAmVoAZCogqkBna9hKCyKqQDR8sDHsI6pAAo2IGM0lqkDQnWD/rSeqQJ6uOOaOKapAa78QzW8rqkA50OizUC2qQAbhwJoxL6pA1PGYgRIxqkCeuHdo8zKqQGl/Vk/UNKpAM0Y1NrU2qkD+DBQdljiqQMjT8gN3OqpAluTK6lc8qkBj9aLROD6qQDEGe7gZQKpA/hZTn/pBqkDMJyuG20OqQJo4A228RapAZ0nbU51HqkA1WrM6fkmqQANriyFfS6pA0HtjCEBNqkCejDvvIE+qQGydE9YBUapAOa7rvOJSqkAHv8Ojw1SqQNXPm4qkVqpAo+BzcYVYqkBw8UtYZlqqQD4CJD9HXKpACxP8JSheqkDZI9QMCWCqQKc0rPPpYapAdEWE2spjqkBCVlzBq2WqQBBnNKiMZ6pA3ncMj21pqkCsiOR1TmuqQHmZvFwvbapAR6qUQxBvqkAUu2wq8XCqQOLLRBHScqpAsNwc+LJ0qkB97fTek3aqQEv+zMV0eKpAGQ+lrFV6qkDmH32TNnyqQLQwVXoXfqpAgkEtYfh/qkBPUgVI2YGqQB1j3S66g6pA63O1FZuFqkC5hI38e4eqQIaVZeNciapAVKY9yj2LqkAhtxWxHo2qQO/H7Zf/jqpAvdjFfuCQqkCK6Z1lwZKqQFj6dUyilKpAJgtOM4OWqkDzGyYaZJiqQMEs/gBFmqpAjz3W5yWcqkBdTq7OBp6qQCpfhrXnn6pA+G9enMihqkDGgDaDqaOqQJORDmqKpapAYaLmUGunqkAvs743TKmqQPzDlh4tq6pAytRuBQ6tqkCY5Ubs7q6qQGX2HtPPsKpAMwf3ubCyqkABGM+gkbSqQM8op4dytqpAnDl/blO4qkBqSldVNLqqQDdbLzwVvKpABWwHI/a9qkDTfN8J17+qQKCNt/C3wapAbp6P15jDqkA8r2e+ecWqQAnAP6Vax6pA19AXjDvJqkCl4e9yHMuqQHLyx1n9zKpAQAOgQN7OqkAOFHgnv9CqQNjaVg6g0qpAoqE19YDUqkBtaBTcYdaqQDcv88JC2KpAAfbRqSPaqkDPBqqQBNyqQJ0Xgnfl3apAayhaXsbfqkA4OTJFp+GqQAZKCiyI46pA1FriEmnlqkCha7r5SeeqQG98kuAq6apAPY1qxwvrqkAKnkKu7OyqQNiuGpXN7qpApr/ye67wqkBz0Mpij/KqQEHhoklw9KpAD/J6MFH2qkDdAlMXMviqQKoTK/4S+qpAeCQD5fP7qkBFNdvL1P2qQBNGs7K1/6pA4VaLmZYBq0CuZ2OAdwOrQHx4O2dYBatASokTTjkHq0AXmus0GgmrQOWqwxv7CqtAs7ubAtwMq0CAzHPpvA6rQE7dS9CdEKtAHO4jt34Sq0Dp/vudXxSrQLcP1IRAFqtAhSCsayEYq0BTMYRSAhqrQCBCXDnjG6tA7lI0IMQdq0C8YwwHpR+rQIl05O2FIatAV4W81GYjq0AllpS7RyWrQPOmbKIoJ6tAwLdEiQkpq0COyBxw6iqrQFvZ9FbLLKtAKerMPawuq0D3+qQkjTCrQMQLfQtuMqtAkhxV8k40q0BgLS3ZLzarQC0+BcAQOKtA+07dpvE5q0DJX7WN0jurQJZwjXSzPatAZIFlW5Q/q0Aykj1CdUGrQP+iFSlWQ6tAzbPtDzdFq0CbxMX2F0erQGjVnd34SKtANuZ1xNlKq0AE902rukyrQNIHJpKbTqtAnxj+eHxQq0BtKdZfXVKrQDs6rkY+VKtACUuGLR9Wq0DWW14UAFirQKRsNvvgWatAcX0O4sFbq0A/jubIol2rQA2fvq+DX6tA2q+WlmRhq0CowG59RWOrQHbRRmQmZatAQ+IeSwdnq0AOqf0x6GirQNhv3BjJaqtAoja7/6lsq0Bt/Znmim6rQDfEeM1rcKtABdVQtExyq0DS5SibLXSrQKD2AIIOdqtAbgfZaO93q0A7GLFP0HmrQAkpiTaxe6tA1zlhHZJ9q0CkSjkEc3+rQHJbEetTgatAQGzp0TSDq0AOfcG4FYWrQNuNmZ/2hqtAqZ5xhteIq0B2r0ltuIqrQETAIVSZjKtAEtH5OnqOq0Dg4dEhW5CrQK3yqQg8kqtAewOC7xyUq0BJFFrW/ZWrQBclMr3el6tA5DUKpL+Zq0CyRuKKoJurQH9XunGBnatATWiSWGKfq0AbeWo/Q6GrQOiJQiYko6tAtpoaDQWlq0CEq/Lz5aarQFG8ytrGqKtAH82iwaeqq0Dt3XqoiKyrQLruUo9prqtAiP8qdkqwq0BWEANdK7KrQCQh20MMtKtA8TGzKu21q0C/QosRzrerQIxTY/iuuatAWmQ734+7q0AodRPGcL2rQPWF66xRv6tAw5bDkzLBq0CRp5t6E8OrQF+4c2H0xKtALclLSNXGq0D62SMvtsirQMjq+xWXyqtAlfvT/HfMq0BjDKzjWM6rQDEdhMo50KtA/i1csRrSq0DMPjSY+9OrQJpPDH/c1atAZ2DkZb3Xq0A1cbxMntmrQAOClDN/26tA0JJsGmDdq0Ceo0QBQd+rQGy0HOgh4atAOsX0zgLjq0AH1sy14+SrQNXmpJzE5qtAovd8g6Xoq0BwCFVqhuqrQD4ZLVFn7KtACyoFOEjuq0DZOt0eKfCrQKdLtQUK8qtAdFyN7Orzq0BCbWXTy/WrQBB+Pbqs96tA3Y4VoY35q0Crn+2HbvurQHmwxW5P/atAR8GdVTD/q0AU0nU8EQGsQOLiTSPyAqxAsPMlCtMErEB9BP7wswasQEjL3NeUCKxAEpK7vnUKrEDcWJqlVgysQKcfeYw3DqxAceZXcxgQrEA/9y9a+RGsQAwICEHaE6xA2hjgJ7sVrECoKbgOnBesQHU6kPV8GaxAQ0to3F0brEARXEDDPh2sQN5sGKofH6xArH3wkAAhrEB6jsh34SKsQEifoF7CJKxAFbB4RaMmrEDjwFAshCisQLDRKBNlKqxAfuIA+kUsrEBM89jgJi6sQBkEsccHMKxA5xSJrugxrEC1JWGVyTOsQII2OXyqNaxAUEcRY4s3rEAeWOlJbDmsQOtowTBNO6xAuXmZFy49rECHinH+Dj+sQFWbSeXvQKxAIqwhzNBCrEDwvPmysUSsQL7N0ZmSRqxAi96pgHNIrEBZ74FnVEqsQCcAWk41TKxA9BAyNRZOrEDCIQoc90+sQJAy4gLYUaxAXUO66bhTrEArVJLQmVWsQPlkard6V6xAxnVCnltZrECUhhqFPFusQGKX8msdXaxAL6jKUv5erED9uKI532CsQMvJeiDAYqxAmNpSB6FkrEBm6yrugWasQDT8AtViaKxAAQ3bu0NqrEDPHbOiJGysQJ0ui4kFbqxAaj9jcOZvrEA4UDtXx3GsQAZhEz6oc6xA1HHrJIl1rEChgsMLanesQG+Tm/JKeaxAPaRz2St7rEAKtUvADH2sQNjFI6ftfqxAptb7jc6ArEBz59N0r4KsQEH4q1uQhKxADwmEQnGGrEDcGVwpUoisQKoqNBAziqxAeDsM9xOMrEBFTOTd9I2sQBNdvMTVj6xA4W2Uq7aRrECufmySl5OsQHyPRHl4laxASqAcYFmXrEAXsfRGOpmsQOXBzC0bm6xAs9KkFPycrEB9mYP73J6sQEdgYuK9oKxAEidByZ6irEDc7R+wf6SsQKa0/pZgpqxAdMXWfUGorEBC1q5kIqqsQA/nhksDrKxA3fdeMuStrECrCDcZxa+sQHgZDwCmsaxARirn5oazrEAUO7/NZ7WsQOFLl7RIt6xAr1xvmym5rEB9bUeCCrusQEt+H2nrvKxAGI/3T8y+rEDmn882rcCsQLSwpx2OwqxAgcF/BG/ErEBP0lfrT8asQB3jL9IwyKxA6vMHuRHKrEC4BOCf8susQIYVuIbTzaxAUyaQbbTPrEAhN2hUldGsQO9HQDt206xAvFgYIlfVrECKafAIONesQFh6yO8Y2axAJYug1vnarEDzm3i92tysQMGsUKS73qxAjr0oi5zgrEBczgByfeKsQCrf2Fhe5KxA9++wPz/mrEDFAIkmIOisQJMRYQ0B6qxAYCI59OHrrEAuMxHbwu2sQPxD6cGj76xAylTBqITxrECXZZmPZfOsQGV2cXZG9axAM4dJXSf3rEAAmCFECPmsQM6o+Srp+qxAnLnREcr8rEBpyqn4qv6sQDfbgd+LAK1ABexZxmwCrUDS/DGtTQStQKANCpQuBq1Abh7ieg8IrUA7L7ph8AmtQAlAkkjRC61A11BqL7INrUCkYUIWkw+tQHJyGv1zEa1AQIPy41QTrUANlMrKNRWtQNukorEWF61AqbV6mPcYrUB2xlJ/2BqtQETXKma5HK1AEugCTZoerUDf+NozeyCtQK0JsxpcIq1AexqLAT0krUBJK2PoHSatQBY8O8/+J61A5EwTtt8prUCyXeucwCutQH9uw4OhLa1ATX+baoIvrUAbkHNRYzGtQOigSzhEM61AtrEjHyU1rUCEwvsFBjetQFHT0+zmOK1AH+Sr08c6rUDt9IO6qDytQLe7YqGJPq1AgYJBiGpArUBMSSBvS0KtQBYQ/1UsRK1A4NbdPA1GrUCu57Uj7ketQHz4jQrPSa1ASQlm8a9LrUAXGj7YkE2tQOUqFr9xT61AsjvupVJRrUCATMaMM1OtQE5dnnMUVa1AG252WvVWrUDpfk5B1litQLePJii3Wq1AhKD+DphcrUBSsdb1eF6tQCDCrtxZYK1A7dKGwzpirUC7416qG2StQIn0NpH8Za1AVwUPeN1nrUAkFudevmmtQPImv0Wfa61AwDeXLIBtrUCNSG8TYW+tQFtZR/pBca1AKWof4SJzrUD2evfHA3WtQMSLz67kdq1AkpynlcV4rUBfrX98pnqtQC2+V2OHfK1A+84vSmh+rUDI3wcxSYCtQJbw3xcqgq1AZAG4/gqErUAxEpDl64WtQP8iaMzMh61AzTNAs62JrUCaRBiajoutQGhV8IBvja1ANmbIZ1CPrUADd6BOMZGtQNGHeDUSk61An5hQHPOUrUBsqSgD1JatQDq6AOq0mK1ACMvY0JWarUDV27C3dpytQKPsiJ5Xnq1Acf1ghTigrUA/DjlsGaKtQAwfEVP6o61A2i/pOdulrUCoQMEgvKetQHVRmQedqa1AQ2Jx7n2rrUARc0nVXq2tQN6DIbw/r61ArJT5oiCxrUB6pdGJAbOtQEe2qXDitK1A9ihcj8K2rUA=",
        "encoding": "base64",
        "path": [
         "_data",
         1,
         "x",
         "value"
        ]
       },
       {
        "data": "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",
        "encoding": "base64",
        "path": [
         "_data",
         1,
         "y",
         "value"
        ]
       }
      ],
      "model_module": "jupyterlab-plotly",
      "model_module_version": "^5.0.0",
      "model_name": "FigureModel",
      "state": {
       "_config": {
        "plotlyServerURL": "https://plot.ly"
       },
       "_data": [
        {
         "mode": "lines",
         "name": "TRANSMITTANCE",
         "type": "scatter",
         "uid": "d78e4efb-48cc-4b7f-801a-1cdf101aaa2b",
         "x": {
          "dtype": "float64",
          "shape": [
           3571
          ],
          "value": {}
         },
         "y": {
          "dtype": "float64",
          "shape": [
           3571
          ],
          "value": {}
         }
        },
        {
         "mode": "lines",
         "name": "absorbance",
         "type": "scatter",
         "uid": "709a77fb-d27d-4f51-a303-17a0e1822036",
         "x": {
          "dtype": "float64",
          "shape": [
           3571
          ],
          "value": {}
         },
         "y": {
          "dtype": "float64",
          "shape": [
           3571
          ],
          "value": {}
         }
        }
       ],
       "_js2py_pointsCallback": {},
       "_js2py_relayout": {},
       "_js2py_restyle": {},
       "_js2py_update": {},
       "_last_layout_edit_id": 5,
       "_last_trace_edit_id": 5,
       "_layout": {
        "template": {
         "data": {
          "bar": [
           {
            "error_x": {
             "color": "rgb(36,36,36)"
            },
            "error_y": {
             "color": "rgb(36,36,36)"
            },
            "marker": {
             "line": {
              "color": "white",
              "width": 0.5
             },
             "pattern": {
              "fillmode": "overlay",
              "size": 10,
              "solidity": 0.2
             }
            },
            "type": "bar"
           }
          ],
          "barpolar": [
           {
            "marker": {
             "line": {
              "color": "white",
              "width": 0.5
             },
             "pattern": {
              "fillmode": "overlay",
              "size": 10,
              "solidity": 0.2
             }
            },
            "type": "barpolar"
           }
          ],
          "carpet": [
           {
            "aaxis": {
             "endlinecolor": "rgb(36,36,36)",
             "gridcolor": "white",
             "linecolor": "white",
             "minorgridcolor": "white",
             "startlinecolor": "rgb(36,36,36)"
            },
            "baxis": {
             "endlinecolor": "rgb(36,36,36)",
             "gridcolor": "white",
             "linecolor": "white",
             "minorgridcolor": "white",
             "startlinecolor": "rgb(36,36,36)"
            },
            "type": "carpet"
           }
          ],
          "choropleth": [
           {
            "colorbar": {
             "outlinewidth": 1,
             "tickcolor": "rgb(36,36,36)",
             "ticks": "outside"
            },
            "type": "choropleth"
           }
          ],
          "contour": [
           {
            "colorbar": {
             "outlinewidth": 1,
             "tickcolor": "rgb(36,36,36)",
             "ticks": "outside"
            },
            "colorscale": [
             [
              0,
              "#440154"
             ],
             [
              0.1111111111111111,
              "#482878"
             ],
             [
              0.2222222222222222,
              "#3e4989"
             ],
             [
              0.3333333333333333,
              "#31688e"
             ],
             [
              0.4444444444444444,
              "#26828e"
             ],
             [
              0.5555555555555556,
              "#1f9e89"
             ],
             [
              0.6666666666666666,
              "#35b779"
             ],
             [
              0.7777777777777778,
              "#6ece58"
             ],
             [
              0.8888888888888888,
              "#b5de2b"
             ],
             [
              1,
              "#fde725"
             ]
            ],
            "type": "contour"
           }
          ],
          "contourcarpet": [
           {
            "colorbar": {
             "outlinewidth": 1,
             "tickcolor": "rgb(36,36,36)",
             "ticks": "outside"
            },
            "type": "contourcarpet"
           }
          ],
          "heatmap": [
           {
            "colorbar": {
             "outlinewidth": 1,
             "tickcolor": "rgb(36,36,36)",
             "ticks": "outside"
            },
            "colorscale": [
             [
              0,
              "#440154"
             ],
             [
              0.1111111111111111,
              "#482878"
             ],
             [
              0.2222222222222222,
              "#3e4989"
             ],
             [
              0.3333333333333333,
              "#31688e"
             ],
             [
              0.4444444444444444,
              "#26828e"
             ],
             [
              0.5555555555555556,
              "#1f9e89"
             ],
             [
              0.6666666666666666,
              "#35b779"
             ],
             [
              0.7777777777777778,
              "#6ece58"
             ],
             [
              0.8888888888888888,
              "#b5de2b"
             ],
             [
              1,
              "#fde725"
             ]
            ],
            "type": "heatmap"
           }
          ],
          "heatmapgl": [
           {
            "colorbar": {
             "outlinewidth": 1,
             "tickcolor": "rgb(36,36,36)",
             "ticks": "outside"
            },
            "colorscale": [
             [
              0,
              "#440154"
             ],
             [
              0.1111111111111111,
              "#482878"
             ],
             [
              0.2222222222222222,
              "#3e4989"
             ],
             [
              0.3333333333333333,
              "#31688e"
             ],
             [
              0.4444444444444444,
              "#26828e"
             ],
             [
              0.5555555555555556,
              "#1f9e89"
             ],
             [
              0.6666666666666666,
              "#35b779"
             ],
             [
              0.7777777777777778,
              "#6ece58"
             ],
             [
              0.8888888888888888,
              "#b5de2b"
             ],
             [
              1,
              "#fde725"
             ]
            ],
            "type": "heatmapgl"
           }
          ],
          "histogram": [
           {
            "marker": {
             "line": {
              "color": "white",
              "width": 0.6
             }
            },
            "type": "histogram"
           }
          ],
          "histogram2d": [
           {
            "colorbar": {
             "outlinewidth": 1,
             "tickcolor": "rgb(36,36,36)",
             "ticks": "outside"
            },
            "colorscale": [
             [
              0,
              "#440154"
             ],
             [
              0.1111111111111111,
              "#482878"
             ],
             [
              0.2222222222222222,
              "#3e4989"
             ],
             [
              0.3333333333333333,
              "#31688e"
             ],
             [
              0.4444444444444444,
              "#26828e"
             ],
             [
              0.5555555555555556,
              "#1f9e89"
             ],
             [
              0.6666666666666666,
              "#35b779"
             ],
             [
              0.7777777777777778,
              "#6ece58"
             ],
             [
              0.8888888888888888,
              "#b5de2b"
             ],
             [
              1,
              "#fde725"
             ]
            ],
            "type": "histogram2d"
           }
          ],
          "histogram2dcontour": [
           {
            "colorbar": {
             "outlinewidth": 1,
             "tickcolor": "rgb(36,36,36)",
             "ticks": "outside"
            },
            "colorscale": [
             [
              0,
              "#440154"
             ],
             [
              0.1111111111111111,
              "#482878"
             ],
             [
              0.2222222222222222,
              "#3e4989"
             ],
             [
              0.3333333333333333,
              "#31688e"
             ],
             [
              0.4444444444444444,
              "#26828e"
             ],
             [
              0.5555555555555556,
              "#1f9e89"
             ],
             [
              0.6666666666666666,
              "#35b779"
             ],
             [
              0.7777777777777778,
              "#6ece58"
             ],
             [
              0.8888888888888888,
              "#b5de2b"
             ],
             [
              1,
              "#fde725"
             ]
            ],
            "type": "histogram2dcontour"
           }
          ],
          "mesh3d": [
           {
            "colorbar": {
             "outlinewidth": 1,
             "tickcolor": "rgb(36,36,36)",
             "ticks": "outside"
            },
            "type": "mesh3d"
           }
          ],
          "parcoords": [
           {
            "line": {
             "colorbar": {
              "outlinewidth": 1,
              "tickcolor": "rgb(36,36,36)",
              "ticks": "outside"
             }
            },
            "type": "parcoords"
           }
          ],
          "pie": [
           {
            "automargin": true,
            "type": "pie"
           }
          ],
          "scatter": [
           {
            "marker": {
             "colorbar": {
              "outlinewidth": 1,
              "tickcolor": "rgb(36,36,36)",
              "ticks": "outside"
             }
            },
            "type": "scatter"
           }
          ],
          "scatter3d": [
           {
            "line": {
             "colorbar": {
              "outlinewidth": 1,
              "tickcolor": "rgb(36,36,36)",
              "ticks": "outside"
             }
            },
            "marker": {
             "colorbar": {
              "outlinewidth": 1,
              "tickcolor": "rgb(36,36,36)",
              "ticks": "outside"
             }
            },
            "type": "scatter3d"
           }
          ],
          "scattercarpet": [
           {
            "marker": {
             "colorbar": {
              "outlinewidth": 1,
              "tickcolor": "rgb(36,36,36)",
              "ticks": "outside"
             }
            },
            "type": "scattercarpet"
           }
          ],
          "scattergeo": [
           {
            "marker": {
             "colorbar": {
              "outlinewidth": 1,
              "tickcolor": "rgb(36,36,36)",
              "ticks": "outside"
             }
            },
            "type": "scattergeo"
           }
          ],
          "scattergl": [
           {
            "marker": {
             "colorbar": {
              "outlinewidth": 1,
              "tickcolor": "rgb(36,36,36)",
              "ticks": "outside"
             }
            },
            "type": "scattergl"
           }
          ],
          "scattermapbox": [
           {
            "marker": {
             "colorbar": {
              "outlinewidth": 1,
              "tickcolor": "rgb(36,36,36)",
              "ticks": "outside"
             }
            },
            "type": "scattermapbox"
           }
          ],
          "scatterpolar": [
           {
            "marker": {
             "colorbar": {
              "outlinewidth": 1,
              "tickcolor": "rgb(36,36,36)",
              "ticks": "outside"
             }
            },
            "type": "scatterpolar"
           }
          ],
          "scatterpolargl": [
           {
            "marker": {
             "colorbar": {
              "outlinewidth": 1,
              "tickcolor": "rgb(36,36,36)",
              "ticks": "outside"
             }
            },
            "type": "scatterpolargl"
           }
          ],
          "scatterternary": [
           {
            "marker": {
             "colorbar": {
              "outlinewidth": 1,
              "tickcolor": "rgb(36,36,36)",
              "ticks": "outside"
             }
            },
            "type": "scatterternary"
           }
          ],
          "surface": [
           {
            "colorbar": {
             "outlinewidth": 1,
             "tickcolor": "rgb(36,36,36)",
             "ticks": "outside"
            },
            "colorscale": [
             [
              0,
              "#440154"
             ],
             [
              0.1111111111111111,
              "#482878"
             ],
             [
              0.2222222222222222,
              "#3e4989"
             ],
             [
              0.3333333333333333,
              "#31688e"
             ],
             [
              0.4444444444444444,
              "#26828e"
             ],
             [
              0.5555555555555556,
              "#1f9e89"
             ],
             [
              0.6666666666666666,
              "#35b779"
             ],
             [
              0.7777777777777778,
              "#6ece58"
             ],
             [
              0.8888888888888888,
              "#b5de2b"
             ],
             [
              1,
              "#fde725"
             ]
            ],
            "type": "surface"
           }
          ],
          "table": [
           {
            "cells": {
             "fill": {
              "color": "rgb(237,237,237)"
             },
             "line": {
              "color": "white"
             }
            },
            "header": {
             "fill": {
              "color": "rgb(217,217,217)"
             },
             "line": {
              "color": "white"
             }
            },
            "type": "table"
           }
          ]
         },
         "layout": {
          "annotationdefaults": {
           "arrowhead": 0,
           "arrowwidth": 1
          },
          "autotypenumbers": "strict",
          "coloraxis": {
           "colorbar": {
            "outlinewidth": 1,
            "tickcolor": "rgb(36,36,36)",
            "ticks": "outside"
           }
          },
          "colorscale": {
           "diverging": [
            [
             0,
             "rgb(103,0,31)"
            ],
            [
             0.1,
             "rgb(178,24,43)"
            ],
            [
             0.2,
             "rgb(214,96,77)"
            ],
            [
             0.3,
             "rgb(244,165,130)"
            ],
            [
             0.4,
             "rgb(253,219,199)"
            ],
            [
             0.5,
             "rgb(247,247,247)"
            ],
            [
             0.6,
             "rgb(209,229,240)"
            ],
            [
             0.7,
             "rgb(146,197,222)"
            ],
            [
             0.8,
             "rgb(67,147,195)"
            ],
            [
             0.9,
             "rgb(33,102,172)"
            ],
            [
             1,
             "rgb(5,48,97)"
            ]
           ],
           "sequential": [
            [
             0,
             "#440154"
            ],
            [
             0.1111111111111111,
             "#482878"
            ],
            [
             0.2222222222222222,
             "#3e4989"
            ],
            [
             0.3333333333333333,
             "#31688e"
            ],
            [
             0.4444444444444444,
             "#26828e"
            ],
            [
             0.5555555555555556,
             "#1f9e89"
            ],
            [
             0.6666666666666666,
             "#35b779"
            ],
            [
             0.7777777777777778,
             "#6ece58"
            ],
            [
             0.8888888888888888,
             "#b5de2b"
            ],
            [
             1,
             "#fde725"
            ]
           ],
           "sequentialminus": [
            [
             0,
             "#440154"
            ],
            [
             0.1111111111111111,
             "#482878"
            ],
            [
             0.2222222222222222,
             "#3e4989"
            ],
            [
             0.3333333333333333,
             "#31688e"
            ],
            [
             0.4444444444444444,
             "#26828e"
            ],
            [
             0.5555555555555556,
             "#1f9e89"
            ],
            [
             0.6666666666666666,
             "#35b779"
            ],
            [
             0.7777777777777778,
             "#6ece58"
            ],
            [
             0.8888888888888888,
             "#b5de2b"
            ],
            [
             1,
             "#fde725"
            ]
           ]
          },
          "colorway": [
           "#1F77B4",
           "#FF7F0E",
           "#2CA02C",
           "#D62728",
           "#9467BD",
           "#8C564B",
           "#E377C2",
           "#7F7F7F",
           "#BCBD22",
           "#17BECF"
          ],
          "font": {
           "color": "rgb(36,36,36)"
          },
          "geo": {
           "bgcolor": "white",
           "lakecolor": "white",
           "landcolor": "white",
           "showlakes": true,
           "showland": true,
           "subunitcolor": "white"
          },
          "hoverlabel": {
           "align": "left"
          },
          "hovermode": "closest",
          "mapbox": {
           "style": "light"
          },
          "paper_bgcolor": "white",
          "plot_bgcolor": "white",
          "polar": {
           "angularaxis": {
            "gridcolor": "rgb(232,232,232)",
            "linecolor": "rgb(36,36,36)",
            "showgrid": false,
            "showline": true,
            "ticks": "outside"
           },
           "bgcolor": "white",
           "radialaxis": {
            "gridcolor": "rgb(232,232,232)",
            "linecolor": "rgb(36,36,36)",
            "showgrid": false,
            "showline": true,
            "ticks": "outside"
           }
          },
          "scene": {
           "xaxis": {
            "backgroundcolor": "white",
            "gridcolor": "rgb(232,232,232)",
            "gridwidth": 2,
            "linecolor": "rgb(36,36,36)",
            "showbackground": true,
            "showgrid": false,
            "showline": true,
            "ticks": "outside",
            "zeroline": false,
            "zerolinecolor": "rgb(36,36,36)"
           },
           "yaxis": {
            "backgroundcolor": "white",
            "gridcolor": "rgb(232,232,232)",
            "gridwidth": 2,
            "linecolor": "rgb(36,36,36)",
            "showbackground": true,
            "showgrid": false,
            "showline": true,
            "ticks": "outside",
            "zeroline": false,
            "zerolinecolor": "rgb(36,36,36)"
           },
           "zaxis": {
            "backgroundcolor": "white",
            "gridcolor": "rgb(232,232,232)",
            "gridwidth": 2,
            "linecolor": "rgb(36,36,36)",
            "showbackground": true,
            "showgrid": false,
            "showline": true,
            "ticks": "outside",
            "zeroline": false,
            "zerolinecolor": "rgb(36,36,36)"
           }
          },
          "shapedefaults": {
           "fillcolor": "black",
           "line": {
            "width": 0
           },
           "opacity": 0.3
          },
          "ternary": {
           "aaxis": {
            "gridcolor": "rgb(232,232,232)",
            "linecolor": "rgb(36,36,36)",
            "showgrid": false,
            "showline": true,
            "ticks": "outside"
           },
           "baxis": {
            "gridcolor": "rgb(232,232,232)",
            "linecolor": "rgb(36,36,36)",
            "showgrid": false,
            "showline": true,
            "ticks": "outside"
           },
           "bgcolor": "white",
           "caxis": {
            "gridcolor": "rgb(232,232,232)",
            "linecolor": "rgb(36,36,36)",
            "showgrid": false,
            "showline": true,
            "ticks": "outside"
           }
          },
          "title": {
           "x": 0.05
          },
          "xaxis": {
           "automargin": true,
           "gridcolor": "rgb(232,232,232)",
           "linecolor": "rgb(36,36,36)",
           "showgrid": false,
           "showline": true,
           "ticks": "outside",
           "title": {
            "standoff": 15
           },
           "zeroline": false,
           "zerolinecolor": "rgb(36,36,36)"
          },
          "yaxis": {
           "automargin": true,
           "gridcolor": "rgb(232,232,232)",
           "linecolor": "rgb(36,36,36)",
           "showgrid": false,
           "showline": true,
           "ticks": "outside",
           "title": {
            "standoff": 15
           },
           "zeroline": false,
           "zerolinecolor": "rgb(36,36,36)"
          }
         }
        },
        "title": {
         "text": "Comparison of Absorbance and Transmittance"
        },
        "xaxis": {
         "mirror": true,
         "title": {
          "text": "1/cm"
         }
        },
        "yaxis": {
         "mirror": true,
         "title": {
          "text": "Signal"
         }
        }
       },
       "_py2js_animate": {},
       "_py2js_deleteTraces": {},
       "_py2js_moveTraces": {},
       "_py2js_removeLayoutProps": {},
       "_py2js_removeTraceProps": {},
       "_py2js_restyle": {},
       "_view_count": 1
      }
     },
     "330315e2a090472aa24706b6bad4c32a": {
      "model_module": "@jupyter-widgets/controls",
      "model_module_version": "1.5.0",
      "model_name": "ButtonModel",
      "state": {
       "icon": "times",
       "layout": "IPY_MODEL_9eea4611883e4c92aa2c79ce0bfb148f",
       "style": "IPY_MODEL_d8e62a247bad4689b6245f6d2257bcce"
      }
     },
     "3358f20a5d7444c2989a2a61b38c2f52": {
      "model_module": "@jupyter-widgets/base",
      "model_module_version": "1.2.0",
      "model_name": "LayoutModel",
      "state": {
       "width": "45%"
      }
     },
     "3377cf6c32134638b229cdfdaa3dc340": {
      "model_module": "@jupyter-widgets/base",
      "model_module_version": "1.2.0",
      "model_name": "LayoutModel",
      "state": {}
     },
     "3401da312caf425eb554d10cb6ac37ac": {
      "model_module": "@jupyter-widgets/controls",
      "model_module_version": "1.5.0",
      "model_name": "VBoxModel",
      "state": {
       "children": [
        "IPY_MODEL_a802cf13734c4c08a3dd7d786eba4607",
        "IPY_MODEL_8b9dd8103f86418687b0ce21196f84c9"
       ],
       "layout": "IPY_MODEL_f6f0de14ff3f4ad2bc41b3a8c6603b72"
      }
     },
     "344397c9a0c344b785ba7af71bd3e177": {
      "model_module": "@jupyter-widgets/controls",
      "model_module_version": "1.5.0",
      "model_name": "HBoxModel",
      "state": {
       "children": [
        "IPY_MODEL_0b9d3cc1daf94763a35e7d94b0fe4f31",
        "IPY_MODEL_f6cd62fd322847df9e00bb64a721d640"
       ],
       "layout": "IPY_MODEL_6c30700e0c104e29a2a2afe059c64657"
      }
     },
     "350a4a886e1f4e219c092a7363c8a393": {
      "model_module": "@jupyter-widgets/base",
      "model_module_version": "1.2.0",
      "model_name": "LayoutModel",
      "state": {}
     },
     "352ab419f2fa4998ace17db0ab5c9f85": {
      "model_module": "@jupyter-widgets/controls",
      "model_module_version": "1.5.0",
      "model_name": "DescriptionStyleModel",
      "state": {
       "description_width": ""
      }
     },
     "3698382e349f47fc9443d6eaab22bc46": {
      "model_module": "@jupyter-widgets/controls",
      "model_module_version": "1.5.0",
      "model_name": "ButtonModel",
      "state": {
       "icon": "caret-right",
       "layout": "IPY_MODEL_8746d9883ec24d0caee81fec9fdbe3d9",
       "style": "IPY_MODEL_9c5c1bd0c04f4bf49e326f7ae882fb6d"
      }
     },
     "37838d75a7924c7fbe35a1ac29ba5495": {
      "model_module": "@jupyter-widgets/controls",
      "model_module_version": "1.5.0",
      "model_name": "LabelModel",
      "state": {
       "layout": "IPY_MODEL_cd513007ff614487ada8189485e524a0",
       "style": "IPY_MODEL_880088580ba94745a020690c5fd4fd33",
       "value": "Select the DataFrame to work with."
      }
     },
     "37b3ec49e6df4785ba7e640e914ee50c": {
      "model_module": "@jupyter-widgets/controls",
      "model_module_version": "1.5.0",
      "model_name": "ButtonStyleModel",
      "state": {}
     },
     "38d79688d4064e069ab49478d6a240ea": {
      "model_module": "@jupyter-widgets/base",
      "model_module_version": "1.2.0",
      "model_name": "LayoutModel",
      "state": {}
     },
     "39315cd73a554c0298c6165ec8c85bec": {
      "model_module": "@jupyter-widgets/controls",
      "model_module_version": "1.5.0",
      "model_name": "ButtonModel",
      "state": {
       "button_style": "success",
       "description": "Add Trace",
       "layout": "IPY_MODEL_620834c60cbd4ee98bba6b3b56676506",
       "style": "IPY_MODEL_647961192ff24eee9898fc53ad7afc88"
      }
     },
     "394236762fcc46adb8da41b91a51c602": {
      "model_module": "@jupyter-widgets/controls",
      "model_module_version": "1.5.0",
      "model_name": "ButtonModel",
      "state": {
       "button_style": "success",
       "description": "Make Plot",
       "layout": "IPY_MODEL_dba98a45411a4acfbb6f02cf2e7ca06e",
       "style": "IPY_MODEL_46d4e54b155647d6b0e6eccb71458048"
      }
     },
     "399e8a9b2b244b2e8481a216cfa1314f": {
      "model_module": "@jupyter-widgets/base",
      "model_module_version": "1.2.0",
      "model_name": "LayoutModel",
      "state": {}
     },
     "3a8714a7e72b42d789398204d257d43c": {
      "model_module": "@jupyter-widgets/base",
      "model_module_version": "1.2.0",
      "model_name": "LayoutModel",
      "state": {}
     },
     "3dd63b3c2c03477a890f81a89513b882": {
      "model_module": "@jupyter-widgets/controls",
      "model_module_version": "1.5.0",
      "model_name": "DescriptionStyleModel",
      "state": {
       "description_width": ""
      }
     },
     "3e600eb1aba64641b0030ea2dbab1baa": {
      "model_module": "@jupyter-widgets/controls",
      "model_module_version": "1.5.0",
      "model_name": "DescriptionStyleModel",
      "state": {
       "description_width": ""
      }
     },
     "3e95ab5442644df29efbbf3617a00c27": {
      "model_module": "@jupyter-widgets/controls",
      "model_module_version": "1.5.0",
      "model_name": "CheckboxModel",
      "state": {
       "description": "Mirror Tick Marks",
       "disabled": true,
       "layout": "IPY_MODEL_fd67441921fb4d40bd9767ee85a3670d",
       "style": "IPY_MODEL_700459be97ab4bbaa7f2fcb55ab55fb0",
       "value": false
      }
     },
     "3ed9feb2162c4906a53dddaa68f82b8d": {
      "model_module": "@jupyter-widgets/controls",
      "model_module_version": "1.5.0",
      "model_name": "DescriptionStyleModel",
      "state": {
       "description_width": ""
      }
     },
     "3f3769600fa34ba39d37fa832e4b845c": {
      "model_module": "@jupyter-widgets/controls",
      "model_module_version": "1.5.0",
      "model_name": "DescriptionStyleModel",
      "state": {
       "description_width": ""
      }
     },
     "40f983f159e640aca2c69e06f49313d9": {
      "model_module": "@jupyter-widgets/base",
      "model_module_version": "1.2.0",
      "model_name": "LayoutModel",
      "state": {}
     },
     "41ab3e3c26ca42c08cc39159277c82aa": {
      "model_module": "@jupyter-widgets/controls",
      "model_module_version": "1.5.0",
      "model_name": "DescriptionStyleModel",
      "state": {
       "description_width": ""
      }
     },
     "42144f1284de4015a0f55d2e04223c12": {
      "model_module": "@jupyter-widgets/controls",
      "model_module_version": "1.5.0",
      "model_name": "ButtonStyleModel",
      "state": {
       "button_color": "white"
      }
     },
     "453b9be3e4a142fca349983ecb60cee2": {
      "model_module": "@jupyter-widgets/controls",
      "model_module_version": "1.5.0",
      "model_name": "HBoxModel",
      "state": {
       "children": [
        "IPY_MODEL_b698d8e4018240f3b13bea4338a07e36",
        "IPY_MODEL_20b5952ecd864651b76d509777133031"
       ],
       "layout": "IPY_MODEL_da81b1f42041445d9509e709c41c0ce3"
      }
     },
     "45f31f68788d4e77abb61b0693f0afbe": {
      "model_module": "@jupyter-widgets/controls",
      "model_module_version": "1.5.0",
      "model_name": "DescriptionStyleModel",
      "state": {
       "description_width": ""
      }
     },
     "46d4e54b155647d6b0e6eccb71458048": {
      "model_module": "@jupyter-widgets/controls",
      "model_module_version": "1.5.0",
      "model_name": "ButtonStyleModel",
      "state": {}
     },
     "47773a8e4e2343878a385070b5aff181": {
      "model_module": "@jupyter-widgets/controls",
      "model_module_version": "1.5.0",
      "model_name": "HBoxModel",
      "state": {
       "children": [
        "IPY_MODEL_2684a5c1fe6f47e6ac7a2f55b4c35a61",
        "IPY_MODEL_f194f663d5f446ae942bd2453422ba4d",
        "IPY_MODEL_8de1205aaeed46b48e5fa277124267e5"
       ],
       "layout": "IPY_MODEL_055062eeb27d4e84b82a06c54e6aa4d3"
      }
     },
     "48f37af33b734a8994c40c307b4419f3": {
      "model_module": "@jupyter-widgets/base",
      "model_module_version": "1.2.0",
      "model_name": "LayoutModel",
      "state": {}
     },
     "4a4fb6806f0a4af392f2215861d74fed": {
      "model_module": "@jupyter-widgets/base",
      "model_module_version": "1.2.0",
      "model_name": "LayoutModel",
      "state": {}
     },
     "4b31f678c4f74f768ad835c9da26af85": {
      "model_module": "@jupyter-widgets/controls",
      "model_module_version": "1.5.0",
      "model_name": "ButtonStyleModel",
      "state": {
       "button_color": "white"
      }
     },
     "4bde1eb634354f938a3c2ddfce0b91c6": {
      "model_module": "@jupyter-widgets/controls",
      "model_module_version": "1.5.0",
      "model_name": "TextModel",
      "state": {
       "description": "Trace name: ",
       "layout": "IPY_MODEL_aef886f7afbf43f1af811442f5454500",
       "placeholder": "Trace name for legend",
       "style": "IPY_MODEL_3f3769600fa34ba39d37fa832e4b845c",
       "value": "absorbance"
      }
     },
     "4c47583c10c04835b27143bb9f0033db": {
      "model_module": "@jupyter-widgets/base",
      "model_module_version": "1.2.0",
      "model_name": "LayoutModel",
      "state": {}
     },
     "4c75cb41f44e41d289a7a8a209cb8afe": {
      "model_module": "@jupyter-widgets/controls",
      "model_module_version": "1.5.0",
      "model_name": "TabModel",
      "state": {
       "_titles": {
        "0": "Step 1",
        "1": "Step 2",
        "2": "Step 3",
        "3": "Step 4"
       },
       "children": [
        "IPY_MODEL_9213e709561643f4a8a76162162ce876",
        "IPY_MODEL_17861245eb1c4405a4d9b08514b9c1e9",
        "IPY_MODEL_52772ea2e6634ba7bd8892586af6a483",
        "IPY_MODEL_7e733d84138840ee877b3260ff706dd7"
       ],
       "layout": "IPY_MODEL_e2f5b3054d4741089eccacdcd3fde87a",
       "selected_index": 3
      }
     },
     "4c9c95ff472c4fb5b259bb6db7e7f000": {
      "model_module": "@jupyter-widgets/base",
      "model_module_version": "1.2.0",
      "model_name": "LayoutModel",
      "state": {}
     },
     "4cc7fca5ffbd407d966a815800d086f3": {
      "model_module": "@jupyter-widgets/base",
      "model_module_version": "1.2.0",
      "model_name": "LayoutModel",
      "state": {}
     },
     "4e5dc2d4f6ef4e6bbb63f3d0029bceba": {
      "model_module": "@jupyter-widgets/controls",
      "model_module_version": "1.5.0",
      "model_name": "FloatTextModel",
      "state": {
       "description": "% or constant: ",
       "disabled": true,
       "layout": "IPY_MODEL_c0664704803d4d5b80fafed0d56946f8",
       "step": null,
       "style": "IPY_MODEL_f2293d62a1144ec495e814df627dc235"
      }
     },
     "4f4aaece115b49ca9289f8e95a1f2228": {
      "model_module": "@jupyter-widgets/controls",
      "model_module_version": "1.5.0",
      "model_name": "DescriptionStyleModel",
      "state": {
       "description_width": ""
      }
     },
     "5025e7942b87488d8e1b540cae45cb25": {
      "model_module": "@jupyter-widgets/controls",
      "model_module_version": "1.5.0",
      "model_name": "DescriptionStyleModel",
      "state": {
       "description_width": "initial"
      }
     },
     "52772ea2e6634ba7bd8892586af6a483": {
      "model_module": "@jupyter-widgets/controls",
      "model_module_version": "1.5.0",
      "model_name": "VBoxModel",
      "state": {
       "children": [
        "IPY_MODEL_b4f9526fb64d41fb8b60b779979cba6e",
        "IPY_MODEL_e895074001594f1a992ee03ac45e8d3e"
       ],
       "layout": "IPY_MODEL_8d269c106efc4e65901324ed995cd300"
      }
     },
     "546fec4b10be448eab8ea2d9365c8a93": {
      "model_module": "@jupyter-widgets/controls",
      "model_module_version": "1.5.0",
      "model_name": "DescriptionStyleModel",
      "state": {
       "description_width": ""
      }
     },
     "54cb308abf754cbe9623f4db48c431c7": {
      "model_module": "@jupyter-widgets/controls",
      "model_module_version": "1.5.0",
      "model_name": "DescriptionStyleModel",
      "state": {
       "description_width": ""
      }
     },
     "5511eca16ca94125b498a7604e814a14": {
      "model_module": "@jupyter-widgets/controls",
      "model_module_version": "1.5.0",
      "model_name": "HTMLModel",
      "state": {
       "layout": "IPY_MODEL_78c96a933c0d48d8a5d7670831a960cb",
       "style": "IPY_MODEL_740cf0c8d86d4ff6820b9ae75ba88c72",
       "value": "Things to check before clicking \"Make Plot\": <ul><li>Fix any problems listed in \"Notices\".</li><li>Look at the code below to make sure you have included all the traces you intended to (look for \"name\").</li><li>Check for any unpaired parentheses, brackets or braces (usually highlighted in red).</li><li>Check that all single and double quotes are paired.</li><li>If you did any manual editing double-check for typos.</li>"
      }
     },
     "5593840e57a84bb2b1c9534e4432ed1f": {
      "model_module": "@jupyter-widgets/base",
      "model_module_version": "1.2.0",
      "model_name": "LayoutModel",
      "state": {}
     },
     "56ad0b02bce3401bb7d4b47f52947dc4": {
      "model_module": "@jupyter-widgets/controls",
      "model_module_version": "1.5.0",
      "model_name": "ButtonModel",
      "state": {
       "icon": "star",
       "layout": "IPY_MODEL_9eea4611883e4c92aa2c79ce0bfb148f",
       "style": "IPY_MODEL_235f7845dba84321b66fd6b330a2df06"
      }
     },
     "571184e62ac24be7911e407320d26d83": {
      "model_module": "@jupyter-widgets/controls",
      "model_module_version": "1.5.0",
      "model_name": "DescriptionStyleModel",
      "state": {
       "description_width": ""
      }
     },
     "5753fe2eeb2344b8a1e89f4a84afcfd2": {
      "model_module": "@jupyter-widgets/base",
      "model_module_version": "1.2.0",
      "model_name": "LayoutModel",
      "state": {}
     },
     "585b8e87b0824251ba7510daee6dce03": {
      "model_module": "@jupyter-widgets/base",
      "model_module_version": "1.2.0",
      "model_name": "LayoutModel",
      "state": {}
     },
     "586bcfdfa5674d61abaeaebcfe42c522": {
      "model_module": "@jupyter-widgets/controls",
      "model_module_version": "1.5.0",
      "model_name": "HBoxModel",
      "state": {
       "children": [
        "IPY_MODEL_b8519db878494efbb4604dfe9e421fe4",
        "IPY_MODEL_bb2ced6b4b8c46699c356d2a056bd1d5"
       ],
       "layout": "IPY_MODEL_e72f0487ac6a40309f4906a2e4b2bfe3"
      }
     },
     "5a8a8eaf1640428092b3ab03dcf16c12": {
      "model_module": "@jupyter-widgets/controls",
      "model_module_version": "1.5.0",
      "model_name": "VBoxModel",
      "state": {
       "children": [
        "IPY_MODEL_22cb71440823497f9bcd4bc3ec7b0df3",
        "IPY_MODEL_3203f760b6a04a709d534eff68a06801"
       ],
       "layout": "IPY_MODEL_a543aec59a0f4b10a6b396e638154a0f"
      }
     },
     "5ac0403aa08d4a688095808cc466d79a": {
      "model_module": "@jupyter-widgets/controls",
      "model_module_version": "1.5.0",
      "model_name": "VBoxModel",
      "state": {
       "children": [
        "IPY_MODEL_ccb8c47726a44b6ca6d43bfb21b92458",
        "IPY_MODEL_19a5d80ff50742108d5ff1ac97dd086d"
       ],
       "layout": "IPY_MODEL_f5d00ca65ac043d78bc2a5d5495856a9"
      }
     },
     "5ad82c9426334af69b1d39588328518b": {
      "model_module": "@jupyter-widgets/base",
      "model_module_version": "1.2.0",
      "model_name": "LayoutModel",
      "state": {}
     },
     "5d3a35d8582e462f8c8ae6cbb10dfd3f": {
      "model_module": "@jupyter-widgets/base",
      "model_module_version": "1.2.0",
      "model_name": "LayoutModel",
      "state": {}
     },
     "5db0e44b021f485a8b5776f7625a989c": {
      "model_module": "@jupyter-widgets/controls",
      "model_module_version": "1.5.0",
      "model_name": "ButtonModel",
      "state": {
       "icon": "star",
       "layout": "IPY_MODEL_8746d9883ec24d0caee81fec9fdbe3d9",
       "style": "IPY_MODEL_f2e23b5e40f84654a303b20da8c5269b"
      }
     },
     "5f39e46aa441483599136810ddf85fab": {
      "model_module": "@jupyter-widgets/base",
      "model_module_version": "1.2.0",
      "model_name": "LayoutModel",
      "state": {
       "width": "45%"
      }
     },
     "603d13cf5ea748eb8fde42e531b9d096": {
      "model_module": "@jupyter-widgets/controls",
      "model_module_version": "1.5.0",
      "model_name": "DescriptionStyleModel",
      "state": {
       "description_width": ""
      }
     },
     "620834c60cbd4ee98bba6b3b56676506": {
      "model_module": "@jupyter-widgets/base",
      "model_module_version": "1.2.0",
      "model_name": "LayoutModel",
      "state": {}
     },
     "62fc38bc43ef4d5da31e65bed367f798": {
      "model_module": "@jupyter-widgets/base",
      "model_module_version": "1.2.0",
      "model_name": "LayoutModel",
      "state": {
       "width": "80%"
      }
     },
     "62fd6acea2ea4ec188899f5fb72b72d6": {
      "model_module": "@jupyter-widgets/controls",
      "model_module_version": "1.5.0",
      "model_name": "HBoxModel",
      "state": {
       "children": [
        "IPY_MODEL_70c476c98ea14a42b507aa2c8e233865",
        "IPY_MODEL_de9e6253538643a5b040dfaaf2971c15",
        "IPY_MODEL_0e4caba7282a4800a83eef961a025b84",
        "IPY_MODEL_56ad0b02bce3401bb7d4b47f52947dc4",
        "IPY_MODEL_f10828b15c98466a9a620f5d74264b9c",
        "IPY_MODEL_330315e2a090472aa24706b6bad4c32a",
        "IPY_MODEL_1f3365d1cd194f6299da0290a96170d4",
        "IPY_MODEL_e197b3eb6fbf4893b002cff9b058fb5b",
        "IPY_MODEL_e7b1a740115f429993eb3a74fce20f18"
       ],
       "layout": "IPY_MODEL_d8adccd0372d44108472e9db54b17f29"
      }
     },
     "640de466878f41778520575888074c32": {
      "model_module": "@jupyter-widgets/base",
      "model_module_version": "1.2.0",
      "model_name": "LayoutModel",
      "state": {}
     },
     "647961192ff24eee9898fc53ad7afc88": {
      "model_module": "@jupyter-widgets/controls",
      "model_module_version": "1.5.0",
      "model_name": "ButtonStyleModel",
      "state": {}
     },
     "64e79305bee64549a65648c15ea41739": {
      "model_module": "@jupyter-widgets/base",
      "model_module_version": "1.2.0",
      "model_name": "LayoutModel",
      "state": {}
     },
     "6529f6679d5c4d58b43a86c4b9a07297": {
      "model_module": "@jupyter-widgets/controls",
      "model_module_version": "1.5.0",
      "model_name": "DescriptionStyleModel",
      "state": {
       "description_width": ""
      }
     },
     "65d630198bd64d06bb83e85d12dd80f4": {
      "model_module": "@jupyter-widgets/base",
      "model_module_version": "1.2.0",
      "model_name": "LayoutModel",
      "state": {}
     },
     "65f8dd6e362041c69a04c90fe503853c": {
      "model_module": "@jupyter-widgets/controls",
      "model_module_version": "1.5.0",
      "model_name": "VBoxModel",
      "state": {
       "children": [
        "IPY_MODEL_06d78bcc9ca541fbbe8647a0c821e844",
        "IPY_MODEL_f69568b407f44c31bb4fbf83eca640ab"
       ],
       "layout": "IPY_MODEL_0db755a130f244b6bd8b787dd7e511d4"
      }
     },
     "665582a6ea6d4ae395cf240f30838daf": {
      "model_module": "@jupyter-widgets/controls",
      "model_module_version": "1.5.0",
      "model_name": "HTMLModel",
      "state": {
       "layout": "IPY_MODEL_8044b4c69e1e481589111beb9e7bdd40",
       "style": "IPY_MODEL_679079a58149429bb67f07d2822ee944",
       "value": "For each trace you wish to include: <ol><li>Select a DataFrame (Data set);</li><li>Select the column containing the X values;</li><li>Select the column containing the Y values;</li><li>Provide a name for the trace if you do not like the default. This text will be used for the legend;</li><li> OPTIONAL - set additional formatting and error display by expanding the sections at the bottom of this tab;</li><li>Once everything is set use the <b>\"Add Trace\"</b> button to include it in your plot.</li></ol>"
      }
     },
     "676d07efdf784e03beb3e46dbde68c44": {
      "model_module": "@jupyter-widgets/controls",
      "model_module_version": "1.5.0",
      "model_name": "DropdownModel",
      "state": {
       "_options_labels": [
        "Choose data set.",
        "ethaneIR"
       ],
       "description": "DataFrame: ",
       "index": 1,
       "layout": "IPY_MODEL_fc54d41133a84baabce880a217aa12ed",
       "style": "IPY_MODEL_17cd915c48bd48ceb76720f2792b365f"
      }
     },
     "679079a58149429bb67f07d2822ee944": {
      "model_module": "@jupyter-widgets/controls",
      "model_module_version": "1.5.0",
      "model_name": "DescriptionStyleModel",
      "state": {
       "description_width": ""
      }
     },
     "67cefe37b9f241eba135d6018287a303": {
      "model_module": "@jupyter-widgets/controls",
      "model_module_version": "1.5.0",
      "model_name": "TabModel",
      "state": {
       "_titles": {
        "0": "1. Pick Trace(s)*",
        "1": "2. Label Axes*",
        "2": "3. Title, Format ...",
        "3": "4. Final Check*"
       },
       "children": [
        "IPY_MODEL_8d7f966dba734f2b919cb2558961f1ae",
        "IPY_MODEL_06e2bc4eedc24821b402732f2b45d653",
        "IPY_MODEL_c3c25855ea054858b127dc086fdccc17",
        "IPY_MODEL_945213d7723c479bb247ff974520026d"
       ],
       "layout": "IPY_MODEL_6b571399906a4809bc8f1dcc301fc37e",
       "selected_index": 3
      }
     },
     "67ebe2df78f14626a809efacf03e28c5": {
      "model_module": "@jupyter-widgets/controls",
      "model_module_version": "1.5.0",
      "model_name": "VBoxModel",
      "state": {
       "children": [
        "IPY_MODEL_f6f4672ccf834c3bae881f9afd4afb27",
        "IPY_MODEL_0b736ddc01194c98a8440fcaa2727d27"
       ],
       "layout": "IPY_MODEL_8788549f02f24bc4b8d9a8ea1c867a7d"
      }
     },
     "68279ff3d30a402ea36f67bea459e42c": {
      "model_module": "@jupyter-widgets/base",
      "model_module_version": "1.2.0",
      "model_name": "LayoutModel",
      "state": {}
     },
     "6866377ad4c3474787b985122f8a0354": {
      "model_module": "@jupyter-widgets/controls",
      "model_module_version": "1.5.0",
      "model_name": "FloatTextModel",
      "state": {
       "description": "% or constant: ",
       "disabled": true,
       "layout": "IPY_MODEL_5ad82c9426334af69b1d39588328518b",
       "step": null,
       "style": "IPY_MODEL_0a1995307c4f4ba8a19f1a8a61484e78"
      }
     },
     "69228856dd3443d8864e3f1b8ad0eb30": {
      "model_module": "@jupyter-widgets/base",
      "model_module_version": "1.2.0",
      "model_name": "LayoutModel",
      "state": {}
     },
     "6933d7c504ab49f2985a300710e20a70": {
      "model_module": "@jupyter-widgets/controls",
      "model_module_version": "1.5.0",
      "model_name": "AccordionModel",
      "state": {
       "_titles": {
        "0": "Instructions"
       },
       "children": [
        "IPY_MODEL_f1ba59a3e31b4dd09f64ca51da035589"
       ],
       "layout": "IPY_MODEL_e56941aa6d884c09ac7a9ed04fc52ddb",
       "selected_index": null
      }
     },
     "6995cbf64e5a4e7e8e1a6923d902c8a8": {
      "model_module": "@jupyter-widgets/controls",
      "model_module_version": "1.5.0",
      "model_name": "VBoxModel",
      "state": {
       "children": [
        "IPY_MODEL_39315cd73a554c0298c6165ec8c85bec",
        "IPY_MODEL_719f740b813d41f69f467da189ab1c70"
       ],
       "layout": "IPY_MODEL_f48e7d0b320c47768d6924e34f24e037"
      }
     },
     "6b571399906a4809bc8f1dcc301fc37e": {
      "model_module": "@jupyter-widgets/base",
      "model_module_version": "1.2.0",
      "model_name": "LayoutModel",
      "state": {}
     },
     "6c30700e0c104e29a2a2afe059c64657": {
      "model_module": "@jupyter-widgets/base",
      "model_module_version": "1.2.0",
      "model_name": "LayoutModel",
      "state": {}
     },
     "6e7a41179e4c404d9fc4329a88d2f49f": {
      "model_module": "@jupyter-widgets/controls",
      "model_module_version": "1.5.0",
      "model_name": "AccordionModel",
      "state": {
       "_titles": {
        "0": "Optional (Trace formatting, error bars...)"
       },
       "children": [
        "IPY_MODEL_3401da312caf425eb554d10cb6ac37ac"
       ],
       "layout": "IPY_MODEL_399e8a9b2b244b2e8481a216cfa1314f",
       "selected_index": null
      }
     },
     "6e91ad56c8bd48b2a277f7af6fa33197": {
      "model_module": "@jupyter-widgets/base",
      "model_module_version": "1.2.0",
      "model_name": "LayoutModel",
      "state": {}
     },
     "700459be97ab4bbaa7f2fcb55ab55fb0": {
      "model_module": "@jupyter-widgets/controls",
      "model_module_version": "1.5.0",
      "model_name": "DescriptionStyleModel",
      "state": {
       "description_width": ""
      }
     },
     "7059d5b974824174baa0dea917b089e7": {
      "model_module": "@jupyter-widgets/base",
      "model_module_version": "1.2.0",
      "model_name": "LayoutModel",
      "state": {}
     },
     "7085274710cc4ce5b7567e0802012402": {
      "model_module": "@jupyter-widgets/controls",
      "model_module_version": "1.5.0",
      "model_name": "VBoxModel",
      "state": {
       "children": [
        "IPY_MODEL_f95bbafdb0be45b6acd93a43be456938",
        "IPY_MODEL_fd9ee5e14bb94516adbcd12eb23fbe69",
        "IPY_MODEL_b10c203f964b4349b22a5a5a6dbf2bd8",
        "IPY_MODEL_0b8ecb2b2dcc43089a9dd3c9fc1ad3de"
       ],
       "layout": "IPY_MODEL_ad07c1a49c054311bf0032125173564d"
      }
     },
     "709d014f719d4e34aca12210f692a581": {
      "model_module": "@jupyter-widgets/base",
      "model_module_version": "1.2.0",
      "model_name": "LayoutModel",
      "state": {}
     },
     "70c476c98ea14a42b507aa2c8e233865": {
      "model_module": "@jupyter-widgets/controls",
      "model_module_version": "1.5.0",
      "model_name": "ButtonModel",
      "state": {
       "icon": "circle",
       "layout": "IPY_MODEL_9eea4611883e4c92aa2c79ce0bfb148f",
       "style": "IPY_MODEL_1fa8ec3e40044d618249196e654d23a6"
      }
     },
     "715de8de3e594e9fb9c594dfa84d5010": {
      "model_module": "@jupyter-widgets/controls",
      "model_module_version": "1.5.0",
      "model_name": "VBoxModel",
      "state": {
       "children": [
        "IPY_MODEL_f8a80a9605614606b63039225b9fb269",
        "IPY_MODEL_ef4348622d364303bb6b973a68c887b7"
       ],
       "layout": "IPY_MODEL_bc6fc181f89847f5ae475005cc4d6d4c"
      }
     },
     "716125de54b64b3185989b947a6f04cb": {
      "model_module": "@jupyter-widgets/base",
      "model_module_version": "1.2.0",
      "model_name": "LayoutModel",
      "state": {}
     },
     "719f740b813d41f69f467da189ab1c70": {
      "model_module": "@jupyter-widgets/controls",
      "model_module_version": "1.5.0",
      "model_name": "HTMLModel",
      "state": {
       "layout": "IPY_MODEL_de8bbda1f0674e34b6f9e01c6a6828f4",
       "style": "IPY_MODEL_9d92e26b60614c0380af46696f404e86",
       "value": "<h4 style=\"text-align:center;\">Notices: </h4><ul></ul>"
      }
     },
     "71a8c33d2eb44d2e97dd7cd6f9835121": {
      "model_module": "@jupyter-widgets/controls",
      "model_module_version": "1.5.0",
      "model_name": "HTMLModel",
      "state": {
       "layout": "IPY_MODEL_e59c597dca474786b9eef9540bde24cc",
       "style": "IPY_MODEL_352ab419f2fa4998ace17db0ab5c9f85",
       "value": "<h4 style=\"text-align:center;\">Notices: </h4><ul></ul>"
      }
     },
     "721f54632aeb4a64ab64667aff619644": {
      "model_module": "@jupyter-widgets/controls",
      "model_module_version": "1.5.0",
      "model_name": "DescriptionStyleModel",
      "state": {
       "description_width": ""
      }
     },
     "72eddb6441fe4f69958e5f341cda3c64": {
      "model_module": "@jupyter-widgets/controls",
      "model_module_version": "1.5.0",
      "model_name": "DescriptionStyleModel",
      "state": {
       "description_width": ""
      }
     },
     "740cf0c8d86d4ff6820b9ae75ba88c72": {
      "model_module": "@jupyter-widgets/controls",
      "model_module_version": "1.5.0",
      "model_name": "DescriptionStyleModel",
      "state": {
       "description_width": ""
      }
     },
     "7476d4933e3d458591bccd2bd2e4a902": {
      "model_module": "@jupyter-widgets/controls",
      "model_module_version": "1.5.0",
      "model_name": "LabelModel",
      "state": {
       "layout": "IPY_MODEL_0570adc4dfd549288113898382a17623",
       "style": "IPY_MODEL_792f8b33534b4ac99fa0f8456ba115b6",
       "value": "Marker Choices: "
      }
     },
     "753fdf03260843529851c891720a230b": {
      "model_module": "@jupyter-widgets/controls",
      "model_module_version": "1.5.0",
      "model_name": "DescriptionStyleModel",
      "state": {
       "description_width": "initial"
      }
     },
     "774d72accc414d5087f08ccdeaa45a0e": {
      "model_module": "@jupyter-widgets/controls",
      "model_module_version": "1.5.0",
      "model_name": "HTMLModel",
      "state": {
       "layout": "IPY_MODEL_aa26ae122f494756a8ac94e6a93b2dd2",
       "style": "IPY_MODEL_9e12b8974e3d4c409dd220b2fb61300e",
       "value": "<h4 style=\"text-align:center;\">Notices: </h4><ul></ul>"
      }
     },
     "77f55971d63e4ea38e3960ce400c3ddc": {
      "model_module": "@jupyter-widgets/controls",
      "model_module_version": "1.5.0",
      "model_name": "DropdownModel",
      "state": {
       "_options_labels": [
        "Choose column for coordinate.",
        "1/CM",
        "TRANSMITTANCE",
        "absorbance"
       ],
       "description": "Y: ",
       "index": 3,
       "layout": "IPY_MODEL_3135d523da764fb8bfaf14349f599a45",
       "style": "IPY_MODEL_721f54632aeb4a64ab64667aff619644"
      }
     },
     "784f83ea11e54dbba8304f991fad78ef": {
      "model_module": "@jupyter-widgets/base",
      "model_module_version": "1.2.0",
      "model_name": "LayoutModel",
      "state": {}
     },
     "78c96a933c0d48d8a5d7670831a960cb": {
      "model_module": "@jupyter-widgets/base",
      "model_module_version": "1.2.0",
      "model_name": "LayoutModel",
      "state": {}
     },
     "78ff8ea7e0c3440caa2d6ca1f4c0623a": {
      "model_module": "@jupyter-widgets/base",
      "model_module_version": "1.2.0",
      "model_name": "LayoutModel",
      "state": {}
     },
     "792f8b33534b4ac99fa0f8456ba115b6": {
      "model_module": "@jupyter-widgets/controls",
      "model_module_version": "1.5.0",
      "model_name": "DescriptionStyleModel",
      "state": {
       "description_width": ""
      }
     },
     "79b0f80b1868476cafe574be859dbc3c": {
      "model_module": "@jupyter-widgets/base",
      "model_module_version": "1.2.0",
      "model_name": "LayoutModel",
      "state": {}
     },
     "7a34fcb06a194c28b1a05f153b51e709": {
      "model_module": "@jupyter-widgets/base",
      "model_module_version": "1.2.0",
      "model_name": "LayoutModel",
      "state": {}
     },
     "7a710759479d41b89a19b1a1e1b8d89d": {
      "model_module": "@jupyter-widgets/controls",
      "model_module_version": "1.5.0",
      "model_name": "CheckboxModel",
      "state": {
       "description": "Filled (uncheck for open)",
       "disabled": false,
       "layout": "IPY_MODEL_a7e8c130ee244065b599011f8147eaa0",
       "style": "IPY_MODEL_bb517859886d4e3e9067f20b35d849f2",
       "value": true
      }
     },
     "7b776b0b8b654e3980b4c6017bacdf94": {
      "model_module": "@jupyter-widgets/base",
      "model_module_version": "1.2.0",
      "model_name": "LayoutModel",
      "state": {}
     },
     "7b9c5ff4dd9b4ac2bffb62584334c03c": {
      "model_module": "@jupyter-widgets/controls",
      "model_module_version": "1.5.0",
      "model_name": "TextModel",
      "state": {
       "description": "Plot title: ",
       "layout": "IPY_MODEL_62fc38bc43ef4d5da31e65bed367f798",
       "style": "IPY_MODEL_b53d143019df4bf7bffca73cd899ebc9",
       "value": "Figure_1"
      }
     },
     "7dc7a38d46154452bb2de8106eeeb39a": {
      "model_module": "@jupyter-widgets/controls",
      "model_module_version": "1.5.0",
      "model_name": "ButtonStyleModel",
      "state": {
       "button_color": "white"
      }
     },
     "7e733d84138840ee877b3260ff706dd7": {
      "model_module": "@jupyter-widgets/controls",
      "model_module_version": "1.5.0",
      "model_name": "HBoxModel",
      "state": {
       "children": [
        "IPY_MODEL_7085274710cc4ce5b7567e0802012402",
        "IPY_MODEL_65f8dd6e362041c69a04c90fe503853c"
       ],
       "layout": "IPY_MODEL_ee2acc02d27d4929aefa37fd3088fa0c"
      }
     },
     "7eead83669944033a08558fe8f856e87": {
      "model_module": "@jupyter-widgets/controls",
      "model_module_version": "1.5.0",
      "model_name": "DescriptionStyleModel",
      "state": {
       "description_width": "initial"
      }
     },
     "8044b4c69e1e481589111beb9e7bdd40": {
      "model_module": "@jupyter-widgets/base",
      "model_module_version": "1.2.0",
      "model_name": "LayoutModel",
      "state": {}
     },
     "806ad1f4203f42aa9b8ea2921597b81a": {
      "model_module": "@jupyter-widgets/controls",
      "model_module_version": "1.5.0",
      "model_name": "HBoxModel",
      "state": {
       "children": [
        "IPY_MODEL_bc33e893202749e791db64351216d6db",
        "IPY_MODEL_3e95ab5442644df29efbbf3617a00c27",
        "IPY_MODEL_bc131f0ee14c4a8cb4ecd0e3291906c1"
       ],
       "layout": "IPY_MODEL_b5786d77ea6a4db4828c2e26162ff7f6"
      }
     },
     "816a023f66fc434a914ab69ea048e10a": {
      "model_module": "@jupyter-widgets/base",
      "model_module_version": "1.2.0",
      "model_name": "LayoutModel",
      "state": {}
     },
     "8214fdcbb57546dd9ff1f0de81685092": {
      "model_module": "@jupyter-widgets/controls",
      "model_module_version": "1.5.0",
      "model_name": "DropdownModel",
      "state": {
       "_options_labels": [
        "none",
        "percent",
        "constant",
        "data"
       ],
       "description": "Error Type: ",
       "index": 0,
       "layout": "IPY_MODEL_40f983f159e640aca2c69e06f49313d9",
       "style": "IPY_MODEL_a8594fa58f6744dfaa919926bd4a164c"
      }
     },
     "838a549c5cc445459f1515cc9ed85627": {
      "model_module": "@jupyter-widgets/controls",
      "model_module_version": "1.5.0",
      "model_name": "VBoxModel",
      "state": {
       "children": [
        "IPY_MODEL_7b9c5ff4dd9b4ac2bffb62584334c03c",
        "IPY_MODEL_806ad1f4203f42aa9b8ea2921597b81a"
       ],
       "layout": "IPY_MODEL_64e79305bee64549a65648c15ea41739"
      }
     },
     "83b2396870684ad9b86e507d8574f528": {
      "model_module": "@jupyter-widgets/controls",
      "model_module_version": "1.5.0",
      "model_name": "DescriptionStyleModel",
      "state": {
       "description_width": "initial"
      }
     },
     "8411f31472374d8f95a1871ca91388fa": {
      "model_module": "@jupyter-widgets/controls",
      "model_module_version": "1.5.0",
      "model_name": "DescriptionStyleModel",
      "state": {
       "description_width": ""
      }
     },
     "857e6c773c304d3aad2201bd8b547543": {
      "model_module": "@jupyter-widgets/controls",
      "model_module_version": "1.5.0",
      "model_name": "DropdownModel",
      "state": {
       "_options_labels": [
        "Choose column for coordinate.",
        "1/CM",
        "TRANSMITTANCE",
        "absorbance"
       ],
       "description": "X: ",
       "index": 1,
       "layout": "IPY_MODEL_709d014f719d4e34aca12210f692a581",
       "style": "IPY_MODEL_9e89981d9e374b92909b5e328c2ec890"
      }
     },
     "8594429a31c3436eb7e5f0148e4e2d55": {
      "model_module": "@jupyter-widgets/base",
      "model_module_version": "1.2.0",
      "model_name": "LayoutModel",
      "state": {}
     },
     "85baaa045f654b1d9231dd224d036b3b": {
      "model_module": "@jupyter-widgets/base",
      "model_module_version": "1.2.0",
      "model_name": "LayoutModel",
      "state": {}
     },
     "8715fc0b4b1d4aa3b130e607f3229c90": {
      "model_module": "@jupyter-widgets/controls",
      "model_module_version": "1.5.0",
      "model_name": "ButtonModel",
      "state": {
       "icon": "times",
       "layout": "IPY_MODEL_8746d9883ec24d0caee81fec9fdbe3d9",
       "style": "IPY_MODEL_e5ccd4f924a749c38681b78cd4684bc9"
      }
     },
     "8742a55ce1934220b8eef416347824e7": {
      "model_module": "@jupyter-widgets/base",
      "model_module_version": "1.2.0",
      "model_name": "LayoutModel",
      "state": {
       "width": "80%"
      }
     },
     "8746d9883ec24d0caee81fec9fdbe3d9": {
      "model_module": "@jupyter-widgets/base",
      "model_module_version": "1.2.0",
      "model_name": "LayoutModel",
      "state": {
       "width": "30px"
      }
     },
     "87725f5d20da42bb95a9cddf7678dd94": {
      "model_module": "@jupyter-widgets/controls",
      "model_module_version": "1.5.0",
      "model_name": "VBoxModel",
      "state": {
       "children": [
        "IPY_MODEL_2a3f6c134e8b4ad99bca38716bb5f60a",
        "IPY_MODEL_344397c9a0c344b785ba7af71bd3e177"
       ],
       "layout": "IPY_MODEL_585b8e87b0824251ba7510daee6dce03"
      }
     },
     "8788549f02f24bc4b8d9a8ea1c867a7d": {
      "model_module": "@jupyter-widgets/base",
      "model_module_version": "1.2.0",
      "model_name": "LayoutModel",
      "state": {}
     },
     "880088580ba94745a020690c5fd4fd33": {
      "model_module": "@jupyter-widgets/controls",
      "model_module_version": "1.5.0",
      "model_name": "DescriptionStyleModel",
      "state": {
       "description_width": ""
      }
     },
     "898daf66468c4c5a9beb1a336dd133d4": {
      "model_module": "@jupyter-widgets/base",
      "model_module_version": "1.2.0",
      "model_name": "LayoutModel",
      "state": {}
     },
     "8b085b1c0791406aa3bfea02fbfbdc61": {
      "model_module": "@jupyter-widgets/base",
      "model_module_version": "1.2.0",
      "model_name": "LayoutModel",
      "state": {}
     },
     "8b9dd8103f86418687b0ce21196f84c9": {
      "model_module": "@jupyter-widgets/controls",
      "model_module_version": "1.5.0",
      "model_name": "AccordionModel",
      "state": {
       "_titles": {
        "0": "Y error bars",
        "1": "X error bars"
       },
       "children": [
        "IPY_MODEL_67ebe2df78f14626a809efacf03e28c5",
        "IPY_MODEL_ebb2f92a67e247b6b6e35c9e07e134eb"
       ],
       "layout": "IPY_MODEL_e3d1c8486f1c44398e7156a25b4c71c8",
       "selected_index": null
      }
     },
     "8bd41267727a4fab91f46c64a07c7fbf": {
      "model_module": "@jupyter-widgets/controls",
      "model_module_version": "1.5.0",
      "model_name": "DescriptionStyleModel",
      "state": {
       "description_width": ""
      }
     },
     "8c2d1a9b03364683bced95d6753eb5f0": {
      "model_module": "@jupyter-widgets/base",
      "model_module_version": "1.2.0",
      "model_name": "LayoutModel",
      "state": {}
     },
     "8d269c106efc4e65901324ed995cd300": {
      "model_module": "@jupyter-widgets/base",
      "model_module_version": "1.2.0",
      "model_name": "LayoutModel",
      "state": {}
     },
     "8d7f966dba734f2b919cb2558961f1ae": {
      "model_module": "@jupyter-widgets/controls",
      "model_module_version": "1.5.0",
      "model_name": "VBoxModel",
      "state": {
       "children": [
        "IPY_MODEL_b1c2c88e1bba44d2a5a5242c03f23ad5",
        "IPY_MODEL_f4ca9570d1514ad18c7cc541cf25790d",
        "IPY_MODEL_2ae6645bc00a4b93b8a82f4486f8f377"
       ],
       "layout": "IPY_MODEL_9d229b3ec9c54c2181b373f4a2808e37"
      }
     },
     "8db6d633e20d4d2aa6970b1bce936f78": {
      "model_module": "@jupyter-widgets/base",
      "model_module_version": "1.2.0",
      "model_name": "LayoutModel",
      "state": {}
     },
     "8de1205aaeed46b48e5fa277124267e5": {
      "model_module": "@jupyter-widgets/controls",
      "model_module_version": "1.5.0",
      "model_name": "DropdownModel",
      "state": {
       "_options_labels": [
        "none",
        "simple_white",
        "ggplot2",
        "seaborn",
        "plotly",
        "plotly_white",
        "plotly_dark",
        "presentation",
        "xgridoffygridoff",
        "gridon"
       ],
       "description": "Plot Styling: ",
       "index": 1,
       "layout": "IPY_MODEL_1f17d75d625e42ddb129cb426c4aa8bc",
       "style": "IPY_MODEL_c6f1668327a64e7ca339ed7c3571fd17"
      }
     },
     "8f496095fade4e46bdbd69157c676179": {
      "model_module": "@jupyter-widgets/controls",
      "model_module_version": "1.5.0",
      "model_name": "LabelModel",
      "state": {
       "layout": "IPY_MODEL_4c9c95ff472c4fb5b259bb6db7e7f000",
       "style": "IPY_MODEL_de1c0e769fa24e3cba0dc6738a142737",
       "value": "Marker Choices: "
      }
     },
     "910de4c1c37d4ce5a8c3521846fb126f": {
      "model_module": "@jupyter-widgets/controls",
      "model_module_version": "1.5.0",
      "model_name": "HTMLModel",
      "state": {
       "layout": "IPY_MODEL_c1916d1dc4a74ff3a0a158581b7e5c5f",
       "style": "IPY_MODEL_0c84ee374fa240b2b3cd146411117083",
       "value": "You must set the axes labels to something appropriate. For example if the X - values represent time in seconds \"Time (s)\" is a good choice. If the Y - values for the traces all have the same units using the units as the label is a good choice. If the Y - values have different unit quantites the best option is probably \"values\" and making sure that the trace names used for the legend contain the units for each trace."
      }
     },
     "915a34490bf54f27881a6d9f8146a9d3": {
      "model_module": "@jupyter-widgets/controls",
      "model_module_version": "1.5.0",
      "model_name": "ButtonStyleModel",
      "state": {}
     },
     "920e7427cd7a420dbe78c1d932ce0242": {
      "model_module": "@jupyter-widgets/controls",
      "model_module_version": "1.5.0",
      "model_name": "ButtonStyleModel",
      "state": {
       "button_color": "white"
      }
     },
     "9213e709561643f4a8a76162162ce876": {
      "model_module": "@jupyter-widgets/controls",
      "model_module_version": "1.5.0",
      "model_name": "VBoxModel",
      "state": {
       "children": [
        "IPY_MODEL_37838d75a7924c7fbe35a1ac29ba5495",
        "IPY_MODEL_fd18c575854c48fc88a4e34fa05246fa"
       ],
       "layout": "IPY_MODEL_1c7b11ec7e16467db8eca90290923db2"
      }
     },
     "9417247344c84d2b89086ffbe4b16eba": {
      "model_module": "@jupyter-widgets/controls",
      "model_module_version": "1.5.0",
      "model_name": "ButtonStyleModel",
      "state": {
       "button_color": "white"
      }
     },
     "945213d7723c479bb247ff974520026d": {
      "model_module": "@jupyter-widgets/controls",
      "model_module_version": "1.5.0",
      "model_name": "HBoxModel",
      "state": {
       "children": [
        "IPY_MODEL_5511eca16ca94125b498a7604e814a14",
        "IPY_MODEL_efd05cc392204a1e8e2efe9ea7715a53"
       ],
       "layout": "IPY_MODEL_6e91ad56c8bd48b2a277f7af6fa33197"
      }
     },
     "957bd5be0fff4a1dbfce497d54078207": {
      "model_module": "@jupyter-widgets/controls",
      "model_module_version": "1.5.0",
      "model_name": "VBoxModel",
      "state": {
       "children": [
        "IPY_MODEL_2602c9decf5f4831993278620687575e",
        "IPY_MODEL_857e6c773c304d3aad2201bd8b547543",
        "IPY_MODEL_77f55971d63e4ea38e3960ce400c3ddc",
        "IPY_MODEL_4bde1eb634354f938a3c2ddfce0b91c6"
       ],
       "layout": "IPY_MODEL_2361ef4ece2041e3bdb95e315fcaa5b3"
      }
     },
     "95977d564fb94fb2a3a6179ae230d47e": {
      "model_module": "@jupyter-widgets/controls",
      "model_module_version": "1.5.0",
      "model_name": "VBoxModel",
      "state": {
       "children": [
        "IPY_MODEL_453b9be3e4a142fca349983ecb60cee2",
        "IPY_MODEL_1e02acf2ce734b96abec046462b3760f"
       ],
       "layout": "IPY_MODEL_a34d69a7e3934f94b4229e1252729605"
      }
     },
     "95baac469d874b7fa7698f4e4231544e": {
      "model_module": "@jupyter-widgets/controls",
      "model_module_version": "1.5.0",
      "model_name": "HBoxModel",
      "state": {
       "children": [
        "IPY_MODEL_04f7ef7390f24f25996a3dccf243e972",
        "IPY_MODEL_e023e58c040c40a693ad6adf2bbe04f8"
       ],
       "layout": "IPY_MODEL_0d1bc663aac24288b5fef7ad73ba2a21"
      }
     },
     "96bc57dcd9634f68a5f5b3b98f695330": {
      "model_module": "@jupyter-widgets/controls",
      "model_module_version": "1.5.0",
      "model_name": "DescriptionStyleModel",
      "state": {
       "description_width": "initial"
      }
     },
     "978e28ad691a43489c22e0730e4c7633": {
      "model_module": "@jupyter-widgets/controls",
      "model_module_version": "1.5.0",
      "model_name": "DescriptionStyleModel",
      "state": {
       "description_width": "initial"
      }
     },
     "9bf4771239ef4c5ba073d5fd670c11c4": {
      "model_module": "@jupyter-widgets/controls",
      "model_module_version": "1.5.0",
      "model_name": "VBoxModel",
      "state": {
       "children": [
        "IPY_MODEL_a2da0f8c85b3459699dc30df9d9e3dff",
        "IPY_MODEL_04ada0ea36c347fc88fbbd88747e37c6",
        "IPY_MODEL_18b0560ee21c429480c5bc233b1da54a"
       ],
       "layout": "IPY_MODEL_f3d8c422830f4e7abae3da84d1c76fee"
      }
     },
     "9c5c1bd0c04f4bf49e326f7ae882fb6d": {
      "model_module": "@jupyter-widgets/controls",
      "model_module_version": "1.5.0",
      "model_name": "ButtonStyleModel",
      "state": {
       "button_color": "white"
      }
     },
     "9d02fd94b06b4f118b879ea1fc0c3cb8": {
      "model_module": "@jupyter-widgets/controls",
      "model_module_version": "1.5.0",
      "model_name": "BoundedIntTextModel",
      "state": {
       "description": "Marker Size (px): ",
       "layout": "IPY_MODEL_e1c6ac7cd1c244b98e87ff1344bf6281",
       "max": 25,
       "min": 2,
       "style": "IPY_MODEL_122829d5c3fe42eea5c09ac2a88e5422",
       "value": 6
      }
     },
     "9d229b3ec9c54c2181b373f4a2808e37": {
      "model_module": "@jupyter-widgets/base",
      "model_module_version": "1.2.0",
      "model_name": "LayoutModel",
      "state": {}
     },
     "9d92e26b60614c0380af46696f404e86": {
      "model_module": "@jupyter-widgets/controls",
      "model_module_version": "1.5.0",
      "model_name": "DescriptionStyleModel",
      "state": {
       "description_width": ""
      }
     },
     "9e12b8974e3d4c409dd220b2fb61300e": {
      "model_module": "@jupyter-widgets/controls",
      "model_module_version": "1.5.0",
      "model_name": "DescriptionStyleModel",
      "state": {
       "description_width": ""
      }
     },
     "9e64bc14fbde49e8895bc88ea76d6337": {
      "model_module": "@jupyter-widgets/controls",
      "model_module_version": "1.5.0",
      "model_name": "ButtonModel",
      "state": {
       "icon": "caret-up",
       "layout": "IPY_MODEL_8746d9883ec24d0caee81fec9fdbe3d9",
       "style": "IPY_MODEL_920e7427cd7a420dbe78c1d932ce0242"
      }
     },
     "9e89981d9e374b92909b5e328c2ec890": {
      "model_module": "@jupyter-widgets/controls",
      "model_module_version": "1.5.0",
      "model_name": "DescriptionStyleModel",
      "state": {
       "description_width": ""
      }
     },
     "9eea4611883e4c92aa2c79ce0bfb148f": {
      "model_module": "@jupyter-widgets/base",
      "model_module_version": "1.2.0",
      "model_name": "LayoutModel",
      "state": {
       "width": "30px"
      }
     },
     "a12c5aa4b1d74ffaaaf362c7d5682585": {
      "model_module": "@jupyter-widgets/base",
      "model_module_version": "1.2.0",
      "model_name": "LayoutModel",
      "state": {}
     },
     "a17f1b1827d2413cb37f142ebe19668d": {
      "model_module": "@jupyter-widgets/controls",
      "model_module_version": "1.5.0",
      "model_name": "DropdownModel",
      "state": {
       "_options_labels": [
        "lines",
        "markers",
        "lines+markers"
       ],
       "description": "Trace Style: ",
       "index": 0,
       "layout": "IPY_MODEL_177418a968614f24810d1ee5c7858f6b",
       "style": "IPY_MODEL_4f4aaece115b49ca9289f8e95a1f2228"
      }
     },
     "a23f92dad5674538baf77e0a9c666296": {
      "model_module": "@jupyter-widgets/controls",
      "model_module_version": "1.5.0",
      "model_name": "DescriptionStyleModel",
      "state": {
       "description_width": ""
      }
     },
     "a2da0f8c85b3459699dc30df9d9e3dff": {
      "model_module": "@jupyter-widgets/controls",
      "model_module_version": "1.5.0",
      "model_name": "HBoxModel",
      "state": {
       "children": [
        "IPY_MODEL_a17f1b1827d2413cb37f142ebe19668d",
        "IPY_MODEL_ac3b5e076b1b414194b1e00ca07727be"
       ],
       "layout": "IPY_MODEL_350a4a886e1f4e219c092a7363c8a393"
      }
     },
     "a321236e1a2e45eea9dee02bc2e7b244": {
      "model_module": "@jupyter-widgets/controls",
      "model_module_version": "1.5.0",
      "model_name": "HTMLModel",
      "state": {
       "layout": "IPY_MODEL_716125de54b64b3185989b947a6f04cb",
       "style": "IPY_MODEL_df5b36e82c784064b3422b7f7196b900",
       "value": "You must set the axes labels to something appropriate. For example if the X - values represent time in seconds \"Time (s)\" is a good choice. If the Y - values for the traces all have the same units using the units as the label is a good choice. If the Y - values have different unit quantites the best option is probably \"values\" and making sure that the trace names used for the legend contain the units for each trace."
      }
     },
     "a34d69a7e3934f94b4229e1252729605": {
      "model_module": "@jupyter-widgets/base",
      "model_module_version": "1.2.0",
      "model_name": "LayoutModel",
      "state": {}
     },
     "a359747f2d6b4563812baf9dc7d46428": {
      "model_module": "@jupyter-widgets/base",
      "model_module_version": "1.2.0",
      "model_name": "LayoutModel",
      "state": {}
     },
     "a543aec59a0f4b10a6b396e638154a0f": {
      "model_module": "@jupyter-widgets/base",
      "model_module_version": "1.2.0",
      "model_name": "LayoutModel",
      "state": {}
     },
     "a6ad0644683942ccb040b977ac7d1478": {
      "model_module": "@jupyter-widgets/base",
      "model_module_version": "1.2.0",
      "model_name": "LayoutModel",
      "state": {}
     },
     "a709c11b04fb4d04bedbd58b8fc1d4c8": {
      "model_module": "@jupyter-widgets/controls",
      "model_module_version": "1.5.0",
      "model_name": "ButtonStyleModel",
      "state": {
       "button_color": "white"
      }
     },
     "a73223e82c0d48c9aaca822ae5ec6703": {
      "model_module": "@jupyter-widgets/base",
      "model_module_version": "1.2.0",
      "model_name": "LayoutModel",
      "state": {}
     },
     "a7e8c130ee244065b599011f8147eaa0": {
      "model_module": "@jupyter-widgets/base",
      "model_module_version": "1.2.0",
      "model_name": "LayoutModel",
      "state": {}
     },
     "a802cf13734c4c08a3dd7d786eba4607": {
      "model_module": "@jupyter-widgets/controls",
      "model_module_version": "1.5.0",
      "model_name": "AccordionModel",
      "state": {
       "_titles": {
        "0": "Trace Formatting"
       },
       "children": [
        "IPY_MODEL_9bf4771239ef4c5ba073d5fd670c11c4"
       ],
       "layout": "IPY_MODEL_c33448d2c69e471ca4d946ddf9eb9f01"
      }
     },
     "a8594fa58f6744dfaa919926bd4a164c": {
      "model_module": "@jupyter-widgets/controls",
      "model_module_version": "1.5.0",
      "model_name": "DescriptionStyleModel",
      "state": {
       "description_width": ""
      }
     },
     "a8d250c03cb84cd0b5c76a639fc24fef": {
      "model_module": "@jupyter-widgets/base",
      "model_module_version": "1.2.0",
      "model_name": "LayoutModel",
      "state": {}
     },
     "a92bc94592f84b5084590077bd402fb9": {
      "model_module": "@jupyter-widgets/controls",
      "model_module_version": "1.5.0",
      "model_name": "DescriptionStyleModel",
      "state": {
       "description_width": ""
      }
     },
     "a951648ae2c040fc91895e918925302e": {
      "model_module": "@jupyter-widgets/controls",
      "model_module_version": "1.5.0",
      "model_name": "ButtonModel",
      "state": {
       "description": "Insert",
       "layout": "IPY_MODEL_234f5f5ddc7f4e2a837b18b9110e414f",
       "style": "IPY_MODEL_915a34490bf54f27881a6d9f8146a9d3"
      }
     },
     "a9b36d09a9224873b279881a22292b0d": {
      "model_module": "@jupyter-widgets/base",
      "model_module_version": "1.2.0",
      "model_name": "LayoutModel",
      "state": {}
     },
     "aa26ae122f494756a8ac94e6a93b2dd2": {
      "model_module": "@jupyter-widgets/base",
      "model_module_version": "1.2.0",
      "model_name": "LayoutModel",
      "state": {}
     },
     "ac3b5e076b1b414194b1e00ca07727be": {
      "model_module": "@jupyter-widgets/controls",
      "model_module_version": "1.5.0",
      "model_name": "DropdownModel",
      "state": {
       "_options_labels": [
        "default",
        "blue",
        "orange",
        "green",
        "purple",
        "red",
        "gold",
        "brown",
        "black"
       ],
       "description": "Color: ",
       "index": 0,
       "layout": "IPY_MODEL_0381c75e997a406482cc128932801a7a",
       "style": "IPY_MODEL_54cb308abf754cbe9623f4db48c431c7"
      }
     },
     "ad07c1a49c054311bf0032125173564d": {
      "model_module": "@jupyter-widgets/base",
      "model_module_version": "1.2.0",
      "model_name": "LayoutModel",
      "state": {}
     },
     "ad7a8a391f1c492ea9a415eab2b340a9": {
      "model_module": "@jupyter-widgets/base",
      "model_module_version": "1.2.0",
      "model_name": "LayoutModel",
      "state": {
       "width": "45%"
      }
     },
     "ae4d0b6e31b24adcac47a86116811d0e": {
      "model_module": "@jupyter-widgets/controls",
      "model_module_version": "1.5.0",
      "model_name": "DropdownModel",
      "state": {
       "_options_labels": [
        "solid",
        "dot",
        "dash",
        "dashdot"
       ],
       "description": "Line style: ",
       "index": 0,
       "layout": "IPY_MODEL_4c47583c10c04835b27143bb9f0033db",
       "style": "IPY_MODEL_603d13cf5ea748eb8fde42e531b9d096"
      }
     },
     "aeb005d4ebd74eb494554881bd790abc": {
      "model_module": "@jupyter-widgets/controls",
      "model_module_version": "1.5.0",
      "model_name": "DescriptionStyleModel",
      "state": {
       "description_width": ""
      }
     },
     "aef886f7afbf43f1af811442f5454500": {
      "model_module": "@jupyter-widgets/base",
      "model_module_version": "1.2.0",
      "model_name": "LayoutModel",
      "state": {}
     },
     "b0449f119ed749ca9287a40de90cdf88": {
      "model_module": "@jupyter-widgets/controls",
      "model_module_version": "1.5.0",
      "model_name": "DropdownModel",
      "state": {
       "_options_labels": [
        "Choose column for coordinate.",
        "1/CM",
        "TRANSMITTANCE"
       ],
       "description": "Y: ",
       "index": 2,
       "layout": "IPY_MODEL_4cc7fca5ffbd407d966a815800d086f3",
       "style": "IPY_MODEL_546fec4b10be448eab8ea2d9365c8a93"
      }
     },
     "b075886d090a49369de8be304ba3aa3c": {
      "model_module": "@jupyter-widgets/base",
      "model_module_version": "1.2.0",
      "model_name": "LayoutModel",
      "state": {}
     },
     "b10c203f964b4349b22a5a5a6dbf2bd8": {
      "model_module": "@jupyter-widgets/controls",
      "model_module_version": "1.5.0",
      "model_name": "LabelModel",
      "state": {
       "layout": "IPY_MODEL_cf7d3664a6c440268d062a9e3525090c",
       "style": "IPY_MODEL_0da43589777f4d06997e2bc2286a406f",
       "value": " * Check that all double and single quotes are also properly paired."
      }
     },
     "b171a79f00fa4179a01081aee4cf7e1a": {
      "model_module": "@jupyter-widgets/controls",
      "model_module_version": "1.5.0",
      "model_name": "BoundedIntTextModel",
      "state": {
       "description": "Marker Size (px): ",
       "layout": "IPY_MODEL_78ff8ea7e0c3440caa2d6ca1f4c0623a",
       "max": 25,
       "min": 2,
       "style": "IPY_MODEL_bc7d6457ce604d96b0d1552907d879ce",
       "value": 6
      }
     },
     "b1c2c88e1bba44d2a5a5242c03f23ad5": {
      "model_module": "@jupyter-widgets/controls",
      "model_module_version": "1.5.0",
      "model_name": "AccordionModel",
      "state": {
       "_titles": {
        "0": "Instructions"
       },
       "children": [
        "IPY_MODEL_665582a6ea6d4ae395cf240f30838daf"
       ],
       "layout": "IPY_MODEL_65d630198bd64d06bb83e85d12dd80f4",
       "selected_index": null
      }
     },
     "b47d6e59f35b4dc28d49fb62fd020b14": {
      "model_module": "@jupyter-widgets/controls",
      "model_module_version": "1.5.0",
      "model_name": "DescriptionStyleModel",
      "state": {
       "description_width": ""
      }
     },
     "b4af003da9854dcf8f1fbcc676d999af": {
      "model_module": "@jupyter-widgets/controls",
      "model_module_version": "1.5.0",
      "model_name": "DropdownModel",
      "state": {
       "_options_labels": [
        "Choose column to insert.",
        "1/CM",
        "TRANSMITTANCE"
       ],
       "description": "Column: ",
       "index": 0,
       "layout": "IPY_MODEL_b4f6e14215684a0bb0c1755301adf985",
       "style": "IPY_MODEL_092e73f5b36b4ff390e53813f1799b77"
      }
     },
     "b4ed117e6ef14baa9339ecee36239e86": {
      "model_module": "@jupyter-widgets/base",
      "model_module_version": "1.2.0",
      "model_name": "LayoutModel",
      "state": {}
     },
     "b4f6e14215684a0bb0c1755301adf985": {
      "model_module": "@jupyter-widgets/base",
      "model_module_version": "1.2.0",
      "model_name": "LayoutModel",
      "state": {}
     },
     "b4f9526fb64d41fb8b60b779979cba6e": {
      "model_module": "@jupyter-widgets/controls",
      "model_module_version": "1.5.0",
      "model_name": "HTMLModel",
      "state": {
       "layout": "IPY_MODEL_a12c5aa4b1d74ffaaaf362c7d5682585",
       "style": "IPY_MODEL_b5f53321d0b9420aa34366312e350f1d",
       "value": "Add the calculation to the right hand side using the menus to insert columns, math operations or functions. Your choices will replace selected text or insert at the current cursor position."
      }
     },
     "b53d143019df4bf7bffca73cd899ebc9": {
      "model_module": "@jupyter-widgets/controls",
      "model_module_version": "1.5.0",
      "model_name": "DescriptionStyleModel",
      "state": {
       "description_width": ""
      }
     },
     "b5786d77ea6a4db4828c2e26162ff7f6": {
      "model_module": "@jupyter-widgets/base",
      "model_module_version": "1.2.0",
      "model_name": "LayoutModel",
      "state": {}
     },
     "b5f53321d0b9420aa34366312e350f1d": {
      "model_module": "@jupyter-widgets/controls",
      "model_module_version": "1.5.0",
      "model_name": "DescriptionStyleModel",
      "state": {
       "description_width": ""
      }
     },
     "b698d8e4018240f3b13bea4338a07e36": {
      "model_module": "@jupyter-widgets/controls",
      "model_module_version": "1.5.0",
      "model_name": "DropdownModel",
      "state": {
       "_options_labels": [
        "none",
        "percent",
        "constant",
        "data"
       ],
       "description": "Error Type: ",
       "index": 0,
       "layout": "IPY_MODEL_134a32133409467f9518a7387da54784",
       "style": "IPY_MODEL_c7e00f9523f74467992814592fefd661"
      }
     },
     "b8519db878494efbb4604dfe9e421fe4": {
      "model_module": "@jupyter-widgets/controls",
      "model_module_version": "1.5.0",
      "model_name": "TextModel",
      "state": {
       "description": "X-axis label: ",
       "layout": "IPY_MODEL_5f39e46aa441483599136810ddf85fab",
       "placeholder": "Provide an X-axis label (usually has units)",
       "style": "IPY_MODEL_e32b4aa0a23c4faaa330b52d8ae2edb7",
       "value": "1/cm"
      }
     },
     "b91337bc45254a818b0c620be1063ce6": {
      "model_module": "@jupyter-widgets/base",
      "model_module_version": "1.2.0",
      "model_name": "LayoutModel",
      "state": {}
     },
     "b95922112aed4ce2bfe158fed8031612": {
      "model_module": "@jupyter-widgets/controls",
      "model_module_version": "1.5.0",
      "model_name": "TextModel",
      "state": {
       "description": "Plot title: ",
       "layout": "IPY_MODEL_8742a55ce1934220b8eef416347824e7",
       "style": "IPY_MODEL_3ed9feb2162c4906a53dddaa68f82b8d",
       "value": "Comparison of Absorbance and Transmittance"
      }
     },
     "b9661afc83244e0a8a7fb4a8b6617c32": {
      "model_module": "@jupyter-widgets/controls",
      "model_module_version": "1.5.0",
      "model_name": "ButtonModel",
      "state": {
       "icon": "square",
       "layout": "IPY_MODEL_8746d9883ec24d0caee81fec9fdbe3d9",
       "style": "IPY_MODEL_7dc7a38d46154452bb2de8106eeeb39a"
      }
     },
     "b97d114a4a9941ae999874269266dacf": {
      "model_module": "@jupyter-widgets/base",
      "model_module_version": "1.2.0",
      "model_name": "LayoutModel",
      "state": {}
     },
     "bb2ced6b4b8c46699c356d2a056bd1d5": {
      "model_module": "@jupyter-widgets/controls",
      "model_module_version": "1.5.0",
      "model_name": "TextModel",
      "state": {
       "description": "Y-axis label: ",
       "layout": "IPY_MODEL_3358f20a5d7444c2989a2a61b38c2f52",
       "placeholder": "Provide a Y-axis label (usually has units)",
       "style": "IPY_MODEL_cb3dbcdec7284ed6bb915b6209956ddf",
       "value": "Signal"
      }
     },
     "bb517859886d4e3e9067f20b35d849f2": {
      "model_module": "@jupyter-widgets/controls",
      "model_module_version": "1.5.0",
      "model_name": "DescriptionStyleModel",
      "state": {
       "description_width": "initial"
      }
     },
     "bb6b66a201c64bbdb34940f7db63053d": {
      "model_module": "@jupyter-widgets/base",
      "model_module_version": "1.2.0",
      "model_name": "LayoutModel",
      "state": {}
     },
     "bc131f0ee14c4a8cb4ecd0e3291906c1": {
      "model_module": "@jupyter-widgets/controls",
      "model_module_version": "1.5.0",
      "model_name": "DropdownModel",
      "state": {
       "_options_labels": [
        "none",
        "simple_white",
        "ggplot2",
        "seaborn",
        "plotly",
        "plotly_white",
        "plotly_dark",
        "presentation",
        "xgridoffygridoff",
        "gridon"
       ],
       "description": "Plot Styling: ",
       "index": 1,
       "layout": "IPY_MODEL_152621c84a0640f789089cc9234a2500",
       "style": "IPY_MODEL_753fdf03260843529851c891720a230b"
      }
     },
     "bc33e893202749e791db64351216d6db": {
      "model_module": "@jupyter-widgets/controls",
      "model_module_version": "1.5.0",
      "model_name": "CheckboxModel",
      "state": {
       "description": "Display Mirror Axes",
       "disabled": false,
       "layout": "IPY_MODEL_e2ca7004399442ac8e6be1a2dc4046f4",
       "style": "IPY_MODEL_2679dba112674c3c9144b7be80b6f57f",
       "value": false
      }
     },
     "bc6fc181f89847f5ae475005cc4d6d4c": {
      "model_module": "@jupyter-widgets/base",
      "model_module_version": "1.2.0",
      "model_name": "LayoutModel",
      "state": {}
     },
     "bc7d6457ce604d96b0d1552907d879ce": {
      "model_module": "@jupyter-widgets/controls",
      "model_module_version": "1.5.0",
      "model_name": "DescriptionStyleModel",
      "state": {
       "description_width": "initial"
      }
     },
     "c0664704803d4d5b80fafed0d56946f8": {
      "model_module": "@jupyter-widgets/base",
      "model_module_version": "1.2.0",
      "model_name": "LayoutModel",
      "state": {}
     },
     "c1916d1dc4a74ff3a0a158581b7e5c5f": {
      "model_module": "@jupyter-widgets/base",
      "model_module_version": "1.2.0",
      "model_name": "LayoutModel",
      "state": {}
     },
     "c21101e9f818429fb953ded2b48b6576": {
      "model_module": "@jupyter-widgets/controls",
      "model_module_version": "1.5.0",
      "model_name": "DescriptionStyleModel",
      "state": {
       "description_width": ""
      }
     },
     "c2acc2a31aaa4bfbbca2908fa08debd0": {
      "model_module": "@jupyter-widgets/controls",
      "model_module_version": "1.5.0",
      "model_name": "HBoxModel",
      "state": {
       "children": [
        "IPY_MODEL_8214fdcbb57546dd9ff1f0de81685092",
        "IPY_MODEL_eeeab56229574ff9b45b7e9613fd47c5"
       ],
       "layout": "IPY_MODEL_e4dd60e493724feabcf9d332ed73bab8"
      }
     },
     "c2d1298780e949629faa38eff3aefe6e": {
      "model_module": "@jupyter-widgets/controls",
      "model_module_version": "1.5.0",
      "model_name": "ButtonModel",
      "state": {
       "icon": "circle",
       "layout": "IPY_MODEL_8746d9883ec24d0caee81fec9fdbe3d9",
       "style": "IPY_MODEL_0ac7c7afd917499288fdcb62970c5a9f"
      }
     },
     "c33448d2c69e471ca4d946ddf9eb9f01": {
      "model_module": "@jupyter-widgets/base",
      "model_module_version": "1.2.0",
      "model_name": "LayoutModel",
      "state": {}
     },
     "c3c25855ea054858b127dc086fdccc17": {
      "model_module": "@jupyter-widgets/controls",
      "model_module_version": "1.5.0",
      "model_name": "VBoxModel",
      "state": {
       "children": [
        "IPY_MODEL_b95922112aed4ce2bfe158fed8031612",
        "IPY_MODEL_47773a8e4e2343878a385070b5aff181"
       ],
       "layout": "IPY_MODEL_b4ed117e6ef14baa9339ecee36239e86"
      }
     },
     "c3c8fa9d52b34b099a875d7c4f206f81": {
      "model_module": "@jupyter-widgets/controls",
      "model_module_version": "1.5.0",
      "model_name": "HBoxModel",
      "state": {
       "children": [
        "IPY_MODEL_2ce891ef2c21494e9ab082ef6dac7fb8",
        "IPY_MODEL_eb848dbf2a6f4d46a03a318453d5338e"
       ],
       "layout": "IPY_MODEL_a6ad0644683942ccb040b977ac7d1478"
      }
     },
     "c570e364367f46b2b406935bda5903c5": {
      "model_module": "@jupyter-widgets/controls",
      "model_module_version": "1.5.0",
      "model_name": "DescriptionStyleModel",
      "state": {
       "description_width": ""
      }
     },
     "c62b2dd6fbc4484a923b6d22e4d1d98a": {
      "model_module": "@jupyter-widgets/base",
      "model_module_version": "1.2.0",
      "model_name": "LayoutModel",
      "state": {}
     },
     "c6f1668327a64e7ca339ed7c3571fd17": {
      "model_module": "@jupyter-widgets/controls",
      "model_module_version": "1.5.0",
      "model_name": "DescriptionStyleModel",
      "state": {
       "description_width": "initial"
      }
     },
     "c775d2e63157402a8060ddd316093feb": {
      "model_module": "@jupyter-widgets/controls",
      "model_module_version": "1.5.0",
      "model_name": "DropdownModel",
      "state": {
       "_options_labels": [
        "Choose error column."
       ],
       "description": "Error values: ",
       "disabled": true,
       "index": 0,
       "layout": "IPY_MODEL_68279ff3d30a402ea36f67bea459e42c",
       "style": "IPY_MODEL_571184e62ac24be7911e407320d26d83"
      }
     },
     "c77d199532d5416f82c039374e3b86bd": {
      "model_module": "@jupyter-widgets/controls",
      "model_module_version": "1.5.0",
      "model_name": "DescriptionStyleModel",
      "state": {
       "description_width": ""
      }
     },
     "c7e00f9523f74467992814592fefd661": {
      "model_module": "@jupyter-widgets/controls",
      "model_module_version": "1.5.0",
      "model_name": "DescriptionStyleModel",
      "state": {
       "description_width": ""
      }
     },
     "c82e499d01c642a2813e881d9c4c0627": {
      "model_module": "@jupyter-widgets/base",
      "model_module_version": "1.2.0",
      "model_name": "LayoutModel",
      "state": {}
     },
     "c86d38278ad14bac8ddfddaf768ee29d": {
      "model_module": "@jupyter-widgets/controls",
      "model_module_version": "1.5.0",
      "model_name": "DescriptionStyleModel",
      "state": {
       "description_width": ""
      }
     },
     "c94e3222003b4a219d38fe3aa50709ed": {
      "model_module": "@jupyter-widgets/base",
      "model_module_version": "1.2.0",
      "model_name": "LayoutModel",
      "state": {}
     },
     "cb3dbcdec7284ed6bb915b6209956ddf": {
      "model_module": "@jupyter-widgets/controls",
      "model_module_version": "1.5.0",
      "model_name": "DescriptionStyleModel",
      "state": {
       "description_width": "initial"
      }
     },
     "cbd5f8b6e612417090b65b806073615a": {
      "model_module": "@jupyter-widgets/controls",
      "model_module_version": "1.5.0",
      "model_name": "DescriptionStyleModel",
      "state": {
       "description_width": ""
      }
     },
     "ccb8c47726a44b6ca6d43bfb21b92458": {
      "model_module": "@jupyter-widgets/controls",
      "model_module_version": "1.5.0",
      "model_name": "HBoxModel",
      "state": {
       "children": [
        "IPY_MODEL_8f496095fade4e46bdbd69157c676179",
        "IPY_MODEL_f05314076f0449269f090a957a88feb0",
        "IPY_MODEL_9d02fd94b06b4f118b879ea1fc0c3cb8"
       ],
       "layout": "IPY_MODEL_8594429a31c3436eb7e5f0148e4e2d55"
      }
     },
     "ccc9603b46bb4bcea16427f745071d1a": {
      "model_module": "@jupyter-widgets/controls",
      "model_module_version": "1.5.0",
      "model_name": "ButtonModel",
      "state": {
       "icon": "caret-left",
       "layout": "IPY_MODEL_8746d9883ec24d0caee81fec9fdbe3d9",
       "style": "IPY_MODEL_d4c82f2d0e84436ca0295c04550af9db"
      }
     },
     "cd513007ff614487ada8189485e524a0": {
      "model_module": "@jupyter-widgets/base",
      "model_module_version": "1.2.0",
      "model_name": "LayoutModel",
      "state": {}
     },
     "cdd51b1cf98846e1b2d6d70a4517242b": {
      "model_module": "@jupyter-widgets/controls",
      "model_module_version": "1.5.0",
      "model_name": "ButtonModel",
      "state": {
       "button_style": "success",
       "description": "Make Plot",
       "layout": "IPY_MODEL_f5d0daedda6f4e838b3d60ac511c8d48",
       "style": "IPY_MODEL_e2327a7fc2314eb1aa3891028c8df6d8"
      }
     },
     "cf7d3664a6c440268d062a9e3525090c": {
      "model_module": "@jupyter-widgets/base",
      "model_module_version": "1.2.0",
      "model_name": "LayoutModel",
      "state": {}
     },
     "d4c82f2d0e84436ca0295c04550af9db": {
      "model_module": "@jupyter-widgets/controls",
      "model_module_version": "1.5.0",
      "model_name": "ButtonStyleModel",
      "state": {
       "button_color": "white"
      }
     },
     "d4f122695aa54e09b273eb09ce82681d": {
      "model_module": "@jupyter-widgets/controls",
      "model_module_version": "1.5.0",
      "model_name": "DropdownModel",
      "state": {
       "_options_labels": [
        "lines",
        "markers",
        "lines+markers"
       ],
       "description": "Trace Style: ",
       "index": 0,
       "layout": "IPY_MODEL_dfe6fb25eb4b49b3bc5aef5145e51ba1",
       "style": "IPY_MODEL_6529f6679d5c4d58b43a86c4b9a07297"
      }
     },
     "d50ddd9fc65746248b8f3fe9d63aaa13": {
      "model_module": "@jupyter-widgets/controls",
      "model_module_version": "1.5.0",
      "model_name": "ButtonStyleModel",
      "state": {
       "button_color": "white"
      }
     },
     "d58a9699f4ae498dbab433e8b5c6a0d0": {
      "model_module": "@jupyter-widgets/base",
      "model_module_version": "1.2.0",
      "model_name": "LayoutModel",
      "state": {}
     },
     "d7341c1a67bc452eb85a303384a01358": {
      "model_module": "@jupyter-widgets/base",
      "model_module_version": "1.2.0",
      "model_name": "LayoutModel",
      "state": {
       "width": "45%"
      }
     },
     "d8adccd0372d44108472e9db54b17f29": {
      "model_module": "@jupyter-widgets/base",
      "model_module_version": "1.2.0",
      "model_name": "LayoutModel",
      "state": {}
     },
     "d8e62a247bad4689b6245f6d2257bcce": {
      "model_module": "@jupyter-widgets/controls",
      "model_module_version": "1.5.0",
      "model_name": "ButtonStyleModel",
      "state": {
       "button_color": "white"
      }
     },
     "d9d4ecda99374b4cb03a7e7cd8cf9fa9": {
      "model_module": "@jupyter-widgets/controls",
      "model_module_version": "1.5.0",
      "model_name": "DescriptionStyleModel",
      "state": {
       "description_width": "initial"
      }
     },
     "da5593e4a2ba493580c700a75142b422": {
      "model_module": "@jupyter-widgets/controls",
      "model_module_version": "1.5.0",
      "model_name": "DropdownModel",
      "state": {
       "_options_labels": [
        "none",
        "percent",
        "constant",
        "data"
       ],
       "description": "Error Type: ",
       "index": 0,
       "layout": "IPY_MODEL_69228856dd3443d8864e3f1b8ad0eb30",
       "style": "IPY_MODEL_c77d199532d5416f82c039374e3b86bd"
      }
     },
     "da81b1f42041445d9509e709c41c0ce3": {
      "model_module": "@jupyter-widgets/base",
      "model_module_version": "1.2.0",
      "model_name": "LayoutModel",
      "state": {}
     },
     "daf2d66ecc0b4c9f8f98e08e0e7bb964": {
      "model_module": "@jupyter-widgets/base",
      "model_module_version": "1.2.0",
      "model_name": "LayoutModel",
      "state": {}
     },
     "dba98a45411a4acfbb6f02cf2e7ca06e": {
      "model_module": "@jupyter-widgets/base",
      "model_module_version": "1.2.0",
      "model_name": "LayoutModel",
      "state": {}
     },
     "dcc41711dc4c42ad80692da109e41eee": {
      "model_module": "@jupyter-widgets/base",
      "model_module_version": "1.2.0",
      "model_name": "LayoutModel",
      "state": {}
     },
     "de1c0e769fa24e3cba0dc6738a142737": {
      "model_module": "@jupyter-widgets/controls",
      "model_module_version": "1.5.0",
      "model_name": "DescriptionStyleModel",
      "state": {
       "description_width": ""
      }
     },
     "de8bbda1f0674e34b6f9e01c6a6828f4": {
      "model_module": "@jupyter-widgets/base",
      "model_module_version": "1.2.0",
      "model_name": "LayoutModel",
      "state": {}
     },
     "de9e6253538643a5b040dfaaf2971c15": {
      "model_module": "@jupyter-widgets/controls",
      "model_module_version": "1.5.0",
      "model_name": "ButtonModel",
      "state": {
       "icon": "square",
       "layout": "IPY_MODEL_9eea4611883e4c92aa2c79ce0bfb148f",
       "style": "IPY_MODEL_0491463df71440ecbf13fbed0d985870"
      }
     },
     "df5b36e82c784064b3422b7f7196b900": {
      "model_module": "@jupyter-widgets/controls",
      "model_module_version": "1.5.0",
      "model_name": "DescriptionStyleModel",
      "state": {
       "description_width": ""
      }
     },
     "dfe6fb25eb4b49b3bc5aef5145e51ba1": {
      "model_module": "@jupyter-widgets/base",
      "model_module_version": "1.2.0",
      "model_name": "LayoutModel",
      "state": {}
     },
     "e023e58c040c40a693ad6adf2bbe04f8": {
      "model_module": "@jupyter-widgets/controls",
      "model_module_version": "1.5.0",
      "model_name": "BoundedIntTextModel",
      "state": {
       "description": "Linewidth (px): ",
       "layout": "IPY_MODEL_1f4a7203825e4bcfba7655ae12a8dc66",
       "max": 25,
       "min": 1,
       "style": "IPY_MODEL_e881a0c2dd27465f8a3b264e2d4b19b6",
       "value": 2
      }
     },
     "e197b3eb6fbf4893b002cff9b058fb5b": {
      "model_module": "@jupyter-widgets/controls",
      "model_module_version": "1.5.0",
      "model_name": "ButtonModel",
      "state": {
       "icon": "caret-left",
       "layout": "IPY_MODEL_9eea4611883e4c92aa2c79ce0bfb148f",
       "style": "IPY_MODEL_a709c11b04fb4d04bedbd58b8fc1d4c8"
      }
     },
     "e1c6ac7cd1c244b98e87ff1344bf6281": {
      "model_module": "@jupyter-widgets/base",
      "model_module_version": "1.2.0",
      "model_name": "LayoutModel",
      "state": {}
     },
     "e2327a7fc2314eb1aa3891028c8df6d8": {
      "model_module": "@jupyter-widgets/controls",
      "model_module_version": "1.5.0",
      "model_name": "ButtonStyleModel",
      "state": {}
     },
     "e2ca7004399442ac8e6be1a2dc4046f4": {
      "model_module": "@jupyter-widgets/base",
      "model_module_version": "1.2.0",
      "model_name": "LayoutModel",
      "state": {}
     },
     "e2f5b3054d4741089eccacdcd3fde87a": {
      "model_module": "@jupyter-widgets/base",
      "model_module_version": "1.2.0",
      "model_name": "LayoutModel",
      "state": {}
     },
     "e32b4aa0a23c4faaa330b52d8ae2edb7": {
      "model_module": "@jupyter-widgets/controls",
      "model_module_version": "1.5.0",
      "model_name": "DescriptionStyleModel",
      "state": {
       "description_width": "initial"
      }
     },
     "e39650e9f4f8409a8f2b656806b23133": {
      "model_module": "@jupyter-widgets/controls",
      "model_module_version": "1.5.0",
      "model_name": "DescriptionStyleModel",
      "state": {
       "description_width": ""
      }
     },
     "e3d1c8486f1c44398e7156a25b4c71c8": {
      "model_module": "@jupyter-widgets/base",
      "model_module_version": "1.2.0",
      "model_name": "LayoutModel",
      "state": {}
     },
     "e404e4ea0b8d4c4a9c02fcc0723e349c": {
      "model_module": "@jupyter-widgets/base",
      "model_module_version": "1.2.0",
      "model_name": "LayoutModel",
      "state": {}
     },
     "e4dd60e493724feabcf9d332ed73bab8": {
      "model_module": "@jupyter-widgets/base",
      "model_module_version": "1.2.0",
      "model_name": "LayoutModel",
      "state": {}
     },
     "e56941aa6d884c09ac7a9ed04fc52ddb": {
      "model_module": "@jupyter-widgets/base",
      "model_module_version": "1.2.0",
      "model_name": "LayoutModel",
      "state": {}
     },
     "e59c597dca474786b9eef9540bde24cc": {
      "model_module": "@jupyter-widgets/base",
      "model_module_version": "1.2.0",
      "model_name": "LayoutModel",
      "state": {}
     },
     "e5ccd4f924a749c38681b78cd4684bc9": {
      "model_module": "@jupyter-widgets/controls",
      "model_module_version": "1.5.0",
      "model_name": "ButtonStyleModel",
      "state": {
       "button_color": "white"
      }
     },
     "e72f0487ac6a40309f4906a2e4b2bfe3": {
      "model_module": "@jupyter-widgets/base",
      "model_module_version": "1.2.0",
      "model_name": "LayoutModel",
      "state": {}
     },
     "e7b1a740115f429993eb3a74fce20f18": {
      "model_module": "@jupyter-widgets/controls",
      "model_module_version": "1.5.0",
      "model_name": "ButtonModel",
      "state": {
       "icon": "caret-right",
       "layout": "IPY_MODEL_9eea4611883e4c92aa2c79ce0bfb148f",
       "style": "IPY_MODEL_1ad29e36c9bb410e8bce4c66bb9093f4"
      }
     },
     "e881a0c2dd27465f8a3b264e2d4b19b6": {
      "model_module": "@jupyter-widgets/controls",
      "model_module_version": "1.5.0",
      "model_name": "DescriptionStyleModel",
      "state": {
       "description_width": "initial"
      }
     },
     "e895074001594f1a992ee03ac45e8d3e": {
      "model_module": "@jupyter-widgets/controls",
      "model_module_version": "1.5.0",
      "model_name": "HBoxModel",
      "state": {
       "children": [
        "IPY_MODEL_b4af003da9854dcf8f1fbcc676d999af",
        "IPY_MODEL_219bbf38d71f452f90eb5eb89611dcd5"
       ],
       "layout": "IPY_MODEL_a9b36d09a9224873b279881a22292b0d"
      }
     },
     "e9a036b6770a4103b24b411bc5cc20fe": {
      "model_module": "@jupyter-widgets/controls",
      "model_module_version": "1.5.0",
      "model_name": "HTMLModel",
      "state": {
       "layout": "IPY_MODEL_1e5544f59eb244b18f7e978241d2a2d8",
       "style": "IPY_MODEL_a92bc94592f84b5084590077bd402fb9",
       "value": "Pick a name for the new column. The expression will be built in the cell below. Click the \"Insert\" button when you are satisfied with the name."
      }
     },
     "eb848dbf2a6f4d46a03a318453d5338e": {
      "model_module": "@jupyter-widgets/controls",
      "model_module_version": "1.5.0",
      "model_name": "VBoxModel",
      "state": {
       "children": [
        "IPY_MODEL_394236762fcc46adb8da41b91a51c602",
        "IPY_MODEL_14c3871b83c14a598d2ad04df3872885"
       ],
       "layout": "IPY_MODEL_166fb4d94f4e44bd8b4a5a47caeca39b"
      }
     },
     "ebb2f92a67e247b6b6e35c9e07e134eb": {
      "model_module": "@jupyter-widgets/controls",
      "model_module_version": "1.5.0",
      "model_name": "VBoxModel",
      "state": {
       "children": [
        "IPY_MODEL_c2acc2a31aaa4bfbbca2908fa08debd0",
        "IPY_MODEL_c775d2e63157402a8060ddd316093feb"
       ],
       "layout": "IPY_MODEL_816a023f66fc434a914ab69ea048e10a"
      }
     },
     "ecdc13868370483aab66a0b53fc9d971": {
      "model_module": "@jupyter-widgets/controls",
      "model_module_version": "1.5.0",
      "model_name": "DropdownModel",
      "state": {
       "_options_labels": [
        "none",
        "percent",
        "constant",
        "data"
       ],
       "description": "Error Type: ",
       "index": 0,
       "layout": "IPY_MODEL_7b776b0b8b654e3980b4c6017bacdf94",
       "style": "IPY_MODEL_1860ac4fe6e243588a3ff6052d3a072f"
      }
     },
     "ee2acc02d27d4929aefa37fd3088fa0c": {
      "model_module": "@jupyter-widgets/base",
      "model_module_version": "1.2.0",
      "model_name": "LayoutModel",
      "state": {}
     },
     "eeeab56229574ff9b45b7e9613fd47c5": {
      "model_module": "@jupyter-widgets/controls",
      "model_module_version": "1.5.0",
      "model_name": "FloatTextModel",
      "state": {
       "description": "% or constant: ",
       "disabled": true,
       "layout": "IPY_MODEL_2c63af40ffdc48608d1e03d3cec94bc1",
       "step": null,
       "style": "IPY_MODEL_83b2396870684ad9b86e507d8574f528"
      }
     },
     "ef4348622d364303bb6b973a68c887b7": {
      "model_module": "@jupyter-widgets/controls",
      "model_module_version": "1.5.0",
      "model_name": "AccordionModel",
      "state": {
       "_titles": {
        "0": "Y error bars",
        "1": "X error bars"
       },
       "children": [
        "IPY_MODEL_5a8a8eaf1640428092b3ab03dcf16c12",
        "IPY_MODEL_95977d564fb94fb2a3a6179ae230d47e"
       ],
       "layout": "IPY_MODEL_7a34fcb06a194c28b1a05f153b51e709",
       "selected_index": null
      }
     },
     "efb0263e8a78455ba89ba1cc02974963": {
      "model_module": "@jupyter-widgets/controls",
      "model_module_version": "1.5.0",
      "model_name": "DescriptionStyleModel",
      "state": {
       "description_width": "initial"
      }
     },
     "efd05cc392204a1e8e2efe9ea7715a53": {
      "model_module": "@jupyter-widgets/controls",
      "model_module_version": "1.5.0",
      "model_name": "VBoxModel",
      "state": {
       "children": [
        "IPY_MODEL_cdd51b1cf98846e1b2d6d70a4517242b",
        "IPY_MODEL_774d72accc414d5087f08ccdeaa45a0e"
       ],
       "layout": "IPY_MODEL_8db6d633e20d4d2aa6970b1bce936f78"
      }
     },
     "f009f9b4b5ff44e9a4a366043c5e7e0f": {
      "model_module": "@jupyter-widgets/controls",
      "model_module_version": "1.5.0",
      "model_name": "ButtonModel",
      "state": {
       "icon": "plus",
       "layout": "IPY_MODEL_8746d9883ec24d0caee81fec9fdbe3d9",
       "style": "IPY_MODEL_42144f1284de4015a0f55d2e04223c12"
      }
     },
     "f03f777ad74d47c6ac0a9d480cf124fa": {
      "model_module": "@jupyter-widgets/base",
      "model_module_version": "1.2.0",
      "model_name": "LayoutModel",
      "state": {}
     },
     "f05314076f0449269f090a957a88feb0": {
      "model_module": "@jupyter-widgets/controls",
      "model_module_version": "1.5.0",
      "model_name": "CheckboxModel",
      "state": {
       "description": "Filled (uncheck for open)",
       "disabled": false,
       "layout": "IPY_MODEL_0e6be1491e18480383022dbaae7c621d",
       "style": "IPY_MODEL_5025e7942b87488d8e1b540cae45cb25",
       "value": true
      }
     },
     "f0d70b9ab12e4179a8d987e250ce587d": {
      "model_module": "@jupyter-widgets/base",
      "model_module_version": "1.2.0",
      "model_name": "LayoutModel",
      "state": {}
     },
     "f10828b15c98466a9a620f5d74264b9c": {
      "model_module": "@jupyter-widgets/controls",
      "model_module_version": "1.5.0",
      "model_name": "ButtonModel",
      "state": {
       "icon": "plus",
       "layout": "IPY_MODEL_9eea4611883e4c92aa2c79ce0bfb148f",
       "style": "IPY_MODEL_9417247344c84d2b89086ffbe4b16eba"
      }
     },
     "f144dce5fe7544b18ed8b058f28ace30": {
      "model_module": "@jupyter-widgets/controls",
      "model_module_version": "1.5.0",
      "model_name": "ButtonStyleModel",
      "state": {
       "button_color": "white"
      }
     },
     "f194f663d5f446ae942bd2453422ba4d": {
      "model_module": "@jupyter-widgets/controls",
      "model_module_version": "1.5.0",
      "model_name": "CheckboxModel",
      "state": {
       "description": "Mirror Tick Marks",
       "disabled": false,
       "layout": "IPY_MODEL_7059d5b974824174baa0dea917b089e7",
       "style": "IPY_MODEL_a23f92dad5674538baf77e0a9c666296",
       "value": false
      }
     },
     "f1ba59a3e31b4dd09f64ca51da035589": {
      "model_module": "@jupyter-widgets/controls",
      "model_module_version": "1.5.0",
      "model_name": "HTMLModel",
      "state": {
       "layout": "IPY_MODEL_640de466878f41778520575888074c32",
       "style": "IPY_MODEL_0b49e2a545d341eea6b154bfc8b73cb7",
       "value": "For each trace you wish to include: <ol><li>Select a DataFrame (Data set);</li><li>Select the column containing the X values;</li><li>Select the column containing the Y values;</li><li>Provide a name for the trace if you do not like the default. This text will be used for the legend;</li><li> OPTIONAL - set additional formatting and error display by expanding the sections at the bottom of this tab;</li><li>Once everything is set use the <b>\"Add Trace\"</b> button to include it in your plot.</li></ol>"
      }
     },
     "f2293d62a1144ec495e814df627dc235": {
      "model_module": "@jupyter-widgets/controls",
      "model_module_version": "1.5.0",
      "model_name": "DescriptionStyleModel",
      "state": {
       "description_width": "initial"
      }
     },
     "f2e23b5e40f84654a303b20da8c5269b": {
      "model_module": "@jupyter-widgets/controls",
      "model_module_version": "1.5.0",
      "model_name": "ButtonStyleModel",
      "state": {
       "button_color": "white"
      }
     },
     "f3d8c422830f4e7abae3da84d1c76fee": {
      "model_module": "@jupyter-widgets/base",
      "model_module_version": "1.2.0",
      "model_name": "LayoutModel",
      "state": {}
     },
     "f48e7d0b320c47768d6924e34f24e037": {
      "model_module": "@jupyter-widgets/base",
      "model_module_version": "1.2.0",
      "model_name": "LayoutModel",
      "state": {}
     },
     "f4ca9570d1514ad18c7cc541cf25790d": {
      "model_module": "@jupyter-widgets/controls",
      "model_module_version": "1.5.0",
      "model_name": "HBoxModel",
      "state": {
       "children": [
        "IPY_MODEL_957bd5be0fff4a1dbfce497d54078207",
        "IPY_MODEL_30f90ad18c3248c8ade85de3dc5b6070"
       ],
       "layout": "IPY_MODEL_b075886d090a49369de8be304ba3aa3c"
      }
     },
     "f4d60d5edb474067987b9691ac741dcd": {
      "model_module": "@jupyter-widgets/controls",
      "model_module_version": "1.5.0",
      "model_name": "HBoxModel",
      "state": {
       "children": [
        "IPY_MODEL_061b4abf6ffc4e1e913f8b6a9d1f62e3",
        "IPY_MODEL_a951648ae2c040fc91895e918925302e"
       ],
       "layout": "IPY_MODEL_bb6b66a201c64bbdb34940f7db63053d"
      }
     },
     "f4e5e0e98b104f21bc325616edeb576a": {
      "model_module": "@jupyter-widgets/controls",
      "model_module_version": "1.5.0",
      "model_name": "ButtonModel",
      "state": {
       "icon": "caret-down",
       "layout": "IPY_MODEL_8746d9883ec24d0caee81fec9fdbe3d9",
       "style": "IPY_MODEL_f144dce5fe7544b18ed8b058f28ace30"
      }
     },
     "f5d00ca65ac043d78bc2a5d5495856a9": {
      "model_module": "@jupyter-widgets/base",
      "model_module_version": "1.2.0",
      "model_name": "LayoutModel",
      "state": {}
     },
     "f5d0daedda6f4e838b3d60ac511c8d48": {
      "model_module": "@jupyter-widgets/base",
      "model_module_version": "1.2.0",
      "model_name": "LayoutModel",
      "state": {}
     },
     "f68c7a31f7b742ce939eced0082a560a": {
      "model_module": "@jupyter-widgets/base",
      "model_module_version": "1.2.0",
      "model_name": "LayoutModel",
      "state": {}
     },
     "f69568b407f44c31bb4fbf83eca640ab": {
      "model_module": "@jupyter-widgets/controls",
      "model_module_version": "1.5.0",
      "model_name": "ButtonModel",
      "state": {
       "description": "Do it!",
       "layout": "IPY_MODEL_daf2d66ecc0b4c9f8f98e08e0e7bb964",
       "style": "IPY_MODEL_37b3ec49e6df4785ba7e640e914ee50c"
      }
     },
     "f6cd62fd322847df9e00bb64a721d640": {
      "model_module": "@jupyter-widgets/controls",
      "model_module_version": "1.5.0",
      "model_name": "TextModel",
      "state": {
       "description": "Y-axis label: ",
       "layout": "IPY_MODEL_ad7a8a391f1c492ea9a415eab2b340a9",
       "placeholder": "Provide a Y-axis label (usually has units)",
       "style": "IPY_MODEL_978e28ad691a43489c22e0730e4c7633",
       "value": "transmittance"
      }
     },
     "f6f0de14ff3f4ad2bc41b3a8c6603b72": {
      "model_module": "@jupyter-widgets/base",
      "model_module_version": "1.2.0",
      "model_name": "LayoutModel",
      "state": {}
     },
     "f6f4672ccf834c3bae881f9afd4afb27": {
      "model_module": "@jupyter-widgets/controls",
      "model_module_version": "1.5.0",
      "model_name": "HBoxModel",
      "state": {
       "children": [
        "IPY_MODEL_ecdc13868370483aab66a0b53fc9d971",
        "IPY_MODEL_4e5dc2d4f6ef4e6bbb63f3d0029bceba"
       ],
       "layout": "IPY_MODEL_0fdb7391401d469e94207c7cc4d98c56"
      }
     },
     "f76677a557a74688b19ae95dbd2ac00b": {
      "model_module": "@jupyter-widgets/controls",
      "model_module_version": "1.5.0",
      "model_name": "TextModel",
      "state": {
       "description": "Trace name: ",
       "layout": "IPY_MODEL_38d79688d4064e069ab49478d6a240ea",
       "placeholder": "Trace name for legend",
       "style": "IPY_MODEL_3dd63b3c2c03477a890f81a89513b882",
       "value": "TRANSMITTANCE"
      }
     },
     "f846fb7e4c5e470d919c6e49f3d38ce6": {
      "model_module": "@jupyter-widgets/controls",
      "model_module_version": "1.5.0",
      "model_name": "VBoxModel",
      "state": {
       "children": [
        "IPY_MODEL_6933d7c504ab49f2985a300710e20a70",
        "IPY_MODEL_1b5f979db8e1466aa41ecb225be1524a",
        "IPY_MODEL_6e7a41179e4c404d9fc4329a88d2f49f"
       ],
       "layout": "IPY_MODEL_5753fe2eeb2344b8a1e89f4a84afcfd2"
      }
     },
     "f8a80a9605614606b63039225b9fb269": {
      "model_module": "@jupyter-widgets/controls",
      "model_module_version": "1.5.0",
      "model_name": "AccordionModel",
      "state": {
       "_titles": {
        "0": "Trace Formatting"
       },
       "children": [
        "IPY_MODEL_1a640cfd99594c9cbb5759b0561e0666"
       ],
       "layout": "IPY_MODEL_b91337bc45254a818b0c620be1063ce6"
      }
     },
     "f95bbafdb0be45b6acd93a43be456938": {
      "model_module": "@jupyter-widgets/controls",
      "model_module_version": "1.5.0",
      "model_name": "LabelModel",
      "state": {
       "layout": "IPY_MODEL_fc7f5011388b46aea0c5d191e54fb5b7",
       "style": "IPY_MODEL_1b765f91be28449ebeca5f117559ff40",
       "value": "Carefully check the expression for typos before selecting \"Do it!\"."
      }
     },
     "f9f019c3fc7c4a959e7aa8077814aacc": {
      "model_module": "@jupyter-widgets/base",
      "model_module_version": "1.2.0",
      "model_name": "LayoutModel",
      "state": {}
     },
     "fa4ac512ea9241f7b6148b3f5cc6ae5f": {
      "model_module": "@jupyter-widgets/controls",
      "model_module_version": "1.5.0",
      "model_name": "DescriptionStyleModel",
      "state": {
       "description_width": ""
      }
     },
     "fa8cb3875ebf42b69237c6805043bfbd": {
      "model_module": "@jupyter-widgets/controls",
      "model_module_version": "1.5.0",
      "model_name": "HBoxModel",
      "state": {
       "children": [
        "IPY_MODEL_7476d4933e3d458591bccd2bd2e4a902",
        "IPY_MODEL_7a710759479d41b89a19b1a1e1b8d89d",
        "IPY_MODEL_b171a79f00fa4179a01081aee4cf7e1a"
       ],
       "layout": "IPY_MODEL_f0d70b9ab12e4179a8d987e250ce587d"
      }
     },
     "fc39148a4e104678a7b4719a856a4c3a": {
      "model_module": "@jupyter-widgets/controls",
      "model_module_version": "1.5.0",
      "model_name": "DescriptionStyleModel",
      "state": {
       "description_width": ""
      }
     },
     "fc54d41133a84baabce880a217aa12ed": {
      "model_module": "@jupyter-widgets/base",
      "model_module_version": "1.2.0",
      "model_name": "LayoutModel",
      "state": {}
     },
     "fc7f5011388b46aea0c5d191e54fb5b7": {
      "model_module": "@jupyter-widgets/base",
      "model_module_version": "1.2.0",
      "model_name": "LayoutModel",
      "state": {}
     },
     "fd18c575854c48fc88a4e34fa05246fa": {
      "model_module": "@jupyter-widgets/controls",
      "model_module_version": "1.5.0",
      "model_name": "DropdownModel",
      "state": {
       "_options_labels": [
        "Choose",
        "ethaneIR"
       ],
       "description": "DataFrame: ",
       "index": 1,
       "layout": "IPY_MODEL_898daf66468c4c5a9beb1a336dd133d4",
       "style": "IPY_MODEL_41ab3e3c26ca42c08cc39159277c82aa"
      }
     },
     "fd67441921fb4d40bd9767ee85a3670d": {
      "model_module": "@jupyter-widgets/base",
      "model_module_version": "1.2.0",
      "model_name": "LayoutModel",
      "state": {}
     },
     "fd9ee5e14bb94516adbcd12eb23fbe69": {
      "model_module": "@jupyter-widgets/controls",
      "model_module_version": "1.5.0",
      "model_name": "LabelModel",
      "state": {
       "layout": "IPY_MODEL_b97d114a4a9941ae999874269266dacf",
       "style": "IPY_MODEL_e39650e9f4f8409a8f2b656806b23133",
       "value": " * Parentheses, brackets or braces highlighted in red are missing their partner."
      }
     },
     "fdfc43a6694b45f28e82f0b95ec44573": {
      "model_module": "@jupyter-widgets/controls",
      "model_module_version": "1.5.0",
      "model_name": "DropdownModel",
      "state": {
       "_options_labels": [
        "default",
        "blue",
        "orange",
        "green",
        "purple",
        "red",
        "gold",
        "brown",
        "black"
       ],
       "description": "Color: ",
       "index": 0,
       "layout": "IPY_MODEL_ffe55bbf780d492893a8ad2606537c3e",
       "style": "IPY_MODEL_8411f31472374d8f95a1871ca91388fa"
      }
     },
     "fe1a9dca92ad4e66901e38ba456476cc": {
      "model_module": "@jupyter-widgets/controls",
      "model_module_version": "1.5.0",
      "model_name": "ButtonStyleModel",
      "state": {}
     },
     "ffe55bbf780d492893a8ad2606537c3e": {
      "model_module": "@jupyter-widgets/base",
      "model_module_version": "1.2.0",
      "model_name": "LayoutModel",
      "state": {}
     }
    },
    "version_major": 2,
    "version_minor": 0
   }
  }
 },
 "nbformat": 4,
 "nbformat_minor": 5
}
