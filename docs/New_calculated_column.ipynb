{
 "cells": [
  {
   "cell_type": "markdown",
   "id": "3f498025",
   "metadata": {},
   "source": [
    "## Creating a new calculated column using the `new_pandas_column_GUI()`\n",
    "You can try this notebook live by lauching it in Binder.This can take a while to launch, be patient.\n",
    "[![Binder](https://mybinder.org/badge_logo.svg)](https://mybinder.org/v2/gh/JupyterPhysSciLab/jupyter_Pandas_GUI.git/HEAD?urlpath=/tree/docs/New_calculated_column.ipynb).\n",
    "\n",
    "First we import `pandas` and `pandas_GUI`, and make a dataframe. In this case we will make an `X` column with numbers between -12.8 and +12.8."
   ]
  },
  {
   "cell_type": "code",
   "execution_count": 1,
   "id": "cd24e9a1",
   "metadata": {},
   "outputs": [
    {
     "data": {
      "text/html": [
       "<script type=\"text/javascript\">// Jupyter Notebook Utilities\n",
       "JPSLUtils = new Object();\n",
       "/*\n",
       "Initialization\n",
       "*/\n",
       "JPSLUtils.init = function(){\n",
       "    // Run all input table cells to make sure the tables are showing and\n",
       "    // active. Also hide the table creation code.\n",
       "    JPSLUtils.hide_input_table_code();\n",
       "    var celllist = Jupyter.notebook.get_cells();\n",
       "    for (var i = 0;i<celllist.length;i++){\n",
       "        if (celllist[i].metadata.JPSL && celllist[i].cell_type=='code'){\n",
       "            if (celllist[i].metadata.JPSL.input_table_cell==true){\n",
       "                celllist[i].execute();\n",
       "            }\n",
       "        }\n",
       "    }\n",
       "    // Hide the code for cells marked with metadata.JPSL.hide_code = true.\n",
       "    JPSLUtils.hide_hide_code_code();\n",
       "};\n",
       "\n",
       "/*\n",
       "Cell Utilities\n",
       "*/\n",
       "\n",
       "JPSLUtils.select_containing_cell = function(elem){\n",
       "    //Create a synthetic click in the cell to force selection of the cell\n",
       "    // containing the element (elem).\n",
       "    var event = new MouseEvent('click', {\n",
       "    view: window,\n",
       "    bubbles: true,\n",
       "    cancelable: true\n",
       "    });\n",
       "    var cancelled = !elem.dispatchEvent(event);\n",
       "    if (cancelled) {\n",
       "    // A handler called preventDefault.\n",
       "    alert(\"Something is wrong. Try rerunning the cell.\");\n",
       "    }\n",
       "};\n",
       "\n",
       "JPSLUtils.select_cell_immediately_below = function(){\n",
       "    Jupyter.notebook.select_next(true);\n",
       "};\n",
       "\n",
       "JPSLUtils.replace_text_of_current_cell = function(text){\n",
       "    Jupyter.notebook.get_selected_cell().set_text(text);\n",
       "};\n",
       "\n",
       "JPSLUtils.insert_newline_at_end_of_current_cell = function(text){\n",
       "    var lastline = Jupyter.notebook.get_selected_cell().code_mirror.doc.\n",
       "        lineCount();\n",
       "    Jupyter.notebook.get_selected_cell().code_mirror.doc.setCursor(lastline,0);\n",
       "    Jupyter.notebook.get_selected_cell().code_mirror.doc.\n",
       "         replaceSelection(\"\\n\" + text);\n",
       "};\n",
       "\n",
       "JPSLUtils.insert_text_at_beginning_of_current_cell = function(text){\n",
       "    // append \\n to line insert as a separate line.\n",
       "    Jupyter.notebook.get_selected_cell().code_mirror.doc.\n",
       "           setCursor({line:0,ch:0});\n",
       "    Jupyter.notebook.get_selected_cell().code_mirror.doc.\n",
       "           replaceSelection(text);\n",
       "};\n",
       "\n",
       "JPSLUtils.hide_hide_on_print_cells = function(){\n",
       "    var celllist = Jupyter.notebook.get_cells();\n",
       "    for (var i = 0;i<celllist.length;i++){\n",
       "        if (celllist[i].metadata.JPSL){\n",
       "            if (celllist[i].metadata.JPSL.hide_on_print==true){\n",
       "                celllist[i].element[0].classList.add(\"hidden\");\n",
       "            }\n",
       "        }\n",
       "    }\n",
       "    JPSLUtils.hide_hide_code_on_print_code();\n",
       "};\n",
       "\n",
       "JPSLUtils.show_hide_on_print_cells = function(){\n",
       "    var celllist = Jupyter.notebook.get_cells();\n",
       "    for (var i = 0;i<celllist.length;i++){\n",
       "        if (celllist[i].metadata.JPSL){\n",
       "            if (celllist[i].metadata.JPSL.hide_on_print==true){\n",
       "                celllist[i].element[0].classList.remove(\"hidden\");\n",
       "            }\n",
       "        }\n",
       "    }\n",
       "        JPSLUtils.show_hide_code_on_print_code();\n",
       "};\n",
       "\n",
       "JPSLUtils.hide_input_table_code = function(){\n",
       "    var celllist = Jupyter.notebook.get_cells();\n",
       "    for (var i = 0;i<celllist.length;i++){\n",
       "        if (celllist[i].metadata.JPSL && celllist[i].cell_type=='code'){\n",
       "            if (celllist[i].metadata.JPSL.input_table_cell==true){\n",
       "                celllist[i].input[0].classList.add(\"hidden\");\n",
       "            }\n",
       "        }\n",
       "    }\n",
       "};\n",
       "\n",
       "JPSLUtils.show_input_table_code = function(){\n",
       "    var celllist = Jupyter.notebook.get_cells();\n",
       "    for (var i = 0;i<celllist.length;i++){\n",
       "        if (celllist[i].metadata.JPSL && celllist[i].cell_type=='code'){\n",
       "            if (celllist[i].metadata.JPSL.input_table_cell==true){\n",
       "                celllist[i].input[0].classList.remove(\"hidden\");\n",
       "            }\n",
       "        }\n",
       "    }\n",
       "};\n",
       "\n",
       "JPSLUtils.hide_hide_code_code = function(){\n",
       "    var celllist = Jupyter.notebook.get_cells();\n",
       "    for (var i = 0;i<celllist.length;i++){\n",
       "        if (celllist[i].metadata.JPSL && celllist[i].cell_type=='code'){\n",
       "            if (celllist[i].metadata.JPSL.hide_code==true){\n",
       "                celllist[i].input[0].classList.add(\"hidden\");\n",
       "            }\n",
       "        }\n",
       "    }\n",
       "};\n",
       "\n",
       "JPSLUtils.show_hide_code_code = function(){\n",
       "    var celllist = Jupyter.notebook.get_cells();\n",
       "    for (var i = 0;i<celllist.length;i++){\n",
       "        if (celllist[i].metadata.JPSL && celllist[i].cell_type=='code'){\n",
       "            if (celllist[i].metadata.JPSL.hide_code==true){\n",
       "                celllist[i].input[0].classList.remove(\"hidden\");\n",
       "            }\n",
       "        }\n",
       "    }\n",
       "};\n",
       "\n",
       "JPSLUtils.hide_hide_code_on_print_code = function(){\n",
       "    var celllist = Jupyter.notebook.get_cells();\n",
       "    for (var i = 0;i<celllist.length;i++){\n",
       "        if (celllist[i].metadata.JPSL && celllist[i].cell_type=='code'){\n",
       "            if (celllist[i].metadata.JPSL.hide_code_on_print==true){\n",
       "                celllist[i].input[0].classList.add(\"hidden\");\n",
       "            }\n",
       "        }\n",
       "    }\n",
       "};\n",
       "\n",
       "JPSLUtils.show_hide_code_on_print_code = function(){\n",
       "    var celllist = Jupyter.notebook.get_cells();\n",
       "    for (var i = 0;i<celllist.length;i++){\n",
       "        if (celllist[i].metadata.JPSL && celllist[i].cell_type=='code'){\n",
       "            if (celllist[i].metadata.JPSL.hide_code_on_print==true){\n",
       "                celllist[i].input[0].classList.remove(\"hidden\");\n",
       "            }\n",
       "        }\n",
       "    }\n",
       "};\n",
       "\n",
       "/*\n",
       "input/textarea utilities\n",
       "*/\n",
       "\n",
       "JPSLUtils.record_input = function (element){\n",
       "    var nodetype = element.nodeName.toLowerCase();\n",
       "    var tempval = ''+element.value;//force to string\n",
       "    var tempsize = ''+element.size;\n",
       "    if (tempsize==null){tempsize='7'};\n",
       "    var tempclass = element.className;\n",
       "    if (tempclass==null){tempclass=''};\n",
       "    var tempid = element.id;\n",
       "    if (tempid==null){tempid=''};\n",
       "    var tempelem = document.createElement(nodetype);\n",
       "    tempelem.className =tempclass;\n",
       "    tempelem.id=tempid;\n",
       "    tempelem.setAttribute('size',tempsize);\n",
       "    if (nodetype=='input'){\n",
       "        tempelem.setAttribute('value',tempval);\n",
       "    } else {\n",
       "        tempelem.innerHTML = element.value;\n",
       "    }\n",
       "    tempelem.setAttribute('onblur','JPSLUtils.record_input(this)');\n",
       "    element.replaceWith(tempelem);\n",
       "};\n",
       "\n",
       "/*\n",
       "Python Execution\n",
       "*/\n",
       "\n",
       "JPSLUtils.executePython = function(python) {\n",
       "    return new Promise((resolve, reject) => {\n",
       "        var callbacks = {\n",
       "            iopub: {\n",
       "                output: (data) => resolve(data.content.text.trim())\n",
       "            }\n",
       "        };\n",
       "        Jupyter.notebook.kernel.execute(`print(${python})`, callbacks);\n",
       "    });\n",
       "};\n",
       "\n",
       "JPSLUtils.executePython2 = function(python) {\n",
       "    return new Promise((resolve, reject) => {\n",
       "        var callbacks = {\n",
       "            iopub: {\n",
       "                output: (data) => resolve(JSON.stringify(data, null, 4))\n",
       "            }\n",
       "        };\n",
       "        Jupyter.notebook.kernel.execute(`print(${python})`, callbacks);\n",
       "    });\n",
       "};\n",
       "\n",
       "/*\n",
       "Dialogs\n",
       "*/\n",
       "\n",
       "JPSLUtils.record_names = function(){\n",
       "    var currentcell = Jupyter.notebook.get_selected_cell();\n",
       "    var dlg = document.createElement('div');\n",
       "    dlg.setAttribute('id','get_names_dlg');\n",
       "    var tmp = document.createElement('H4');\n",
       "    var inststr = \"In the box below type your name and your partners' names\";\n",
       "    inststr += \" (one per line):\";\n",
       "    tmp.innerHTML=inststr\n",
       "    dlg.append(tmp);\n",
       "    tmp = document.createElement('div');\n",
       "    tmp.innerHTML = '<textarea cols=\"30\" onblur=\"JPSLUtils.record_input(this)\"/>';\n",
       "    dlg.append(tmp);\n",
       "    $(dlg).dialog({modal:true,\n",
       "                  classes:{'ui-dialog-titlebar-close' : 'hidden'\n",
       "                  },\n",
       "                  buttons:[\n",
       "                  {text: 'OK/Do It',\n",
       "                  click: function(){var rcrd = document.getElementById(\n",
       "                                    'Last-User');\n",
       "                                    var parent = rcrd.parentNode;\n",
       "                                    var dlg = document.getElementById(\n",
       "                                    'get_names_dlg');\n",
       "                                    var textboxes = dlg.querySelectorAll(\n",
       "                                    \"textarea\");\n",
       "                                    var tmp = document.createElement('div');\n",
       "                                    tmp.setAttribute('id','Grp-names');\n",
       "                                    tmp.\n",
       "                                    setAttribute('style','font-weight:bold;');\n",
       "                                    var refeed = /\\r?\\n|\\n\\r?|\\n/g;\n",
       "                                    var tmpstr = 'Partners: '+ textboxes[0]\n",
       "                                    .innerHTML.replace(refeed,'; ');\n",
       "                                    //tmpstr.replace(refeed,'; ');\n",
       "                                    tmp.innerHTML = tmpstr;\n",
       "                                    tmpstr = '# '+rcrd.innerHTML +'\\n# '\n",
       "                                    +tmpstr;\n",
       "                                    //rcrd.append(tmp);\n",
       "                                    JPSLUtils.\n",
       "                                    insert_newline_at_end_of_current_cell(\n",
       "                                    tmpstr);\n",
       "                                   $(this).dialog('destroy');}}\n",
       "                  ]})\n",
       "    Jupyter.notebook.focus_cell();//Make sure keyboard manager doesn't grab inputs.\n",
       "    Jupyter.notebook.keyboard_manager.enabled=false;\n",
       "    dlg.focus();\n",
       "    Jupyter.notebook.keyboard_manager.enabled=false; //Make sure keyboard manager doesn't grab inputs.\n",
       "};\n",
       "\n",
       "/*\n",
       "JPSL Tools Menu\n",
       "*/\n",
       "JPSLUtils.createJPSLToolsMenu = function(){\n",
       "    if(!document.getElementById('JPSLToolsmnu')){\n",
       "        var newselect=document.createElement('select');\n",
       "        newselect.id = 'JPSLToolsmnu';\n",
       "        newselect.classList.add('form-control'); //class to match notebook formatting\n",
       "        newselect.classList.add('select-xs'); //class to match notebook formatting\n",
       "        newselect.setAttribute('style','color:green;')\n",
       "        newselect.onchange=function(){\n",
       "            var lastvalue = this.value;\n",
       "            this.value='JPSL Tools';\n",
       "            if (lastvalue=='Hide Cells'){\n",
       "                JPSLUtils.hide_hide_on_print_cells();\n",
       "            }\n",
       "            if (lastvalue=='Undo Hide Cells'){\n",
       "                JPSLUtils.show_hide_on_print_cells();\n",
       "            }\n",
       "            if (lastvalue=='Show Table Creation Code'){\n",
       "                JPSLUtils.show_input_table_code();\n",
       "            }\n",
       "            if (lastvalue=='Hide Table Creation Code'){\n",
       "                JPSLUtils.hide_input_table_code();\n",
       "            }\n",
       "            if (lastvalue=='Show Hidden Code'){\n",
       "                JPSLUtils.show_hide_code_code();\n",
       "            }\n",
       "            if (lastvalue=='Re-Hide Hidden Code'){\n",
       "                JPSLUtils.hide_hide_code_code();\n",
       "            }\n",
       "        }\n",
       "        var optiontxt = '<option title=\"Choose an option below\"> \\\n",
       "        JPSL Tools</option>';\n",
       "        optiontxt+='<option title=\"Hide cells set to hide-on-print\"> \\\n",
       "        Hide Cells</option>';\n",
       "        optiontxt+='<option title=\"Redisplay cells set to hide-on-print\"> \\\n",
       "        Undo Hide Cells</option>';\n",
       "        optiontxt+='<option title=\"Show input table creation code\"> \\\n",
       "        Show Table Creation Code</option>';\n",
       "        optiontxt+='<option title=\"Hide input table creation code\"> \\\n",
       "        Hide Table Creation Code</option>';\n",
       "        optiontxt+='<option title=\"Show hidden code cells\"> \\\n",
       "        Show Hidden Code</option>';\n",
       "        optiontxt+='<option title=\"Re-hide hidden code cells\"> \\\n",
       "        Re-Hide Hidden Code</option>';\n",
       "        newselect.innerHTML=optiontxt;\n",
       "        document.getElementById('maintoolbar-container').appendChild(newselect);\n",
       "    }\n",
       "}</script>"
      ],
      "text/plain": [
       "<IPython.core.display.HTML object>"
      ]
     },
     "metadata": {},
     "output_type": "display_data"
    }
   ],
   "source": [
    "import pandas as pd\n",
    "from pandas_GUI import *\n",
    "df = pd.DataFrame({'X':[i/10 for i in range(-128,128)]})"
   ]
  },
  {
   "cell_type": "markdown",
   "id": "faf8b9c4",
   "metadata": {},
   "source": [
    "### Example : Make a column containing sin(X)\n",
    "The steps below were done after running the command `new_pandas_column_GUI()` in an empty code cell. If you are running this notebook live you can try it yourself by running all the cells in the notebook. The last one runs the `new_pandas_column_GUI()` command, so will create a live GUI for you to try.\n",
    "\n",
    "#### 1. On the first tab\n",
    "Which dataframe to add the column to was chosen as shown in the image below:\n",
    "\n",
    "![new column tab 1](DataSets/New_column_tab1.png)"
   ]
  },
  {
   "cell_type": "markdown",
   "id": "bafa4999",
   "metadata": {},
   "source": [
    "#### 2. On the second tab\n",
    "A name is typed in the textbox for the new column and **the `insert` button is clicked**. This starts building the statement for creating the new column in the code cell immediately below the GUI as shown in the image below.\n",
    "\n",
    "![new column tab 2](DataSets/New_column_tab2.png)"
   ]
  },
  {
   "cell_type": "markdown",
   "id": "b784b2ea",
   "metadata": {},
   "source": [
    "#### On the third tab\n",
    "There are two popup menus for selecting expression fragments to insert into the expression at the current cursor position.\n",
    "1. The image below shows what you see after selecting to insert `sin()` from the `Operation` popup.\n",
    "\n",
    "![New column tab 3 an operation inserted](DataSets/New_column_tab3_sin_inserted.png)\n",
    "\n",
    "The following options are available in the `Operations` popup: +, -, $*$, /, $**$, exp(), $log_{10}$, ln, sqrt(), sin, cos, tan, cot, asin, acos, atan, and acot.\n",
    "    \n",
    "2. Then the `Column` popup was used to select the `X` column to insert into the sine function as the values it operates on. See the image below.\n",
    "\n",
    "![New column tab 3 a column inserted](DataSets/New_column_tab3_column_inserted.png)"
   ]
  },
  {
   "cell_type": "markdown",
   "id": "eadb58cf",
   "metadata": {},
   "source": [
    "#### On tab 4\n",
    "The list of suggestions of things to check should be followed before clicking the \"Do It!\" button. If you do not want a table of the dataframe displayed uncheck that option. When \"Do It!\" is clicked any imports necessary to do the calculations will be added to the cell, the GUI will destroy itself and the cell to add the new column will be run. The image below is a snapshot of the fourth tab.\n",
    "\n",
    "![New column tab 4](DataSets/New_column_tab4.png)\n",
    "\n",
    "The code created at the end is show below.\n",
    "\n",
    "![New column created code](DataSets/New_column_tab4_created_code.png)"
   ]
  },
  {
   "cell_type": "markdown",
   "id": "7b38ffaf",
   "metadata": {},
   "source": [
    "#### A plot of the new column versus the X column created using the `plot_pandas_GUI()` (see plotting examples on the [Pandas GUI website](https://jupyterphysscilab.github.io/jupyter_Pandas_GUI/)).\n",
    "\n",
    "![sine plot](DataSets/New_column_sine_plot.png)"
   ]
  },
  {
   "cell_type": "markdown",
   "id": "4199c56e",
   "metadata": {},
   "source": [
    "## Learn More\n",
    "In addition to trying it below if this is a live notebook, you can look at the other examples listed in the [Pandas GUI website](https://jupyterphysscilab.github.io/jupyter_Pandas_GUI/)."
   ]
  },
  {
   "cell_type": "markdown",
   "id": "204e9f5f",
   "metadata": {},
   "source": [
    "## Try It\n",
    "If you are running this notebook live in binder you can try it here by running the first cell to import the tools and make the initial data column. Then run the cell below to create the GUI."
   ]
  },
  {
   "cell_type": "code",
   "execution_count": null,
   "id": "40acc31d",
   "metadata": {},
   "outputs": [],
   "source": [
    "new_pandas_column_GUI()"
   ]
  }
 ],
 "metadata": {
  "kernelspec": {
   "display_name": "Python 3",
   "language": "python",
   "name": "python3"
  },
  "language_info": {
   "codemirror_mode": {
    "name": "ipython",
    "version": 3
   },
   "file_extension": ".py",
   "mimetype": "text/x-python",
   "name": "python",
   "nbconvert_exporter": "python",
   "pygments_lexer": "ipython3",
   "version": "3.8.10"
  },
  "widgets": {
   "application/vnd.jupyter.widget-state+json": {
    "state": {
     "05dff7e27cee4f09bc559005bd442f3d": {
      "model_module": "@jupyter-widgets/controls",
      "model_module_version": "1.5.0",
      "model_name": "AccordionModel",
      "state": {
       "_titles": {
        "0": "Trace Formatting"
       },
       "children": [
        "IPY_MODEL_365bc3d23a7c4c2681798c0b83ddd475"
       ],
       "layout": "IPY_MODEL_b5da015a7cf54ac6aed0e0dfbd6c4ee1"
      }
     },
     "09fb3894c6304925a102ee9882d3587c": {
      "model_module": "@jupyter-widgets/controls",
      "model_module_version": "1.5.0",
      "model_name": "HBoxModel",
      "state": {
       "children": [
        "IPY_MODEL_764296b7db8a48e7a4a4860f69a51d3b",
        "IPY_MODEL_b9a766627f1544e49475ea62fa76c72e"
       ],
       "layout": "IPY_MODEL_ff78449d85604d92a9125d1fe393f6c5"
      }
     },
     "0bc96f15c70049d58477bff1fb54a6c2": {
      "model_module": "@jupyter-widgets/base",
      "model_module_version": "1.2.0",
      "model_name": "LayoutModel",
      "state": {}
     },
     "0c7ffbc57e8d4403b587477123344122": {
      "model_module": "@jupyter-widgets/base",
      "model_module_version": "1.2.0",
      "model_name": "LayoutModel",
      "state": {}
     },
     "0d331478ab174e7385dc12a58f17b1a2": {
      "model_module": "@jupyter-widgets/base",
      "model_module_version": "1.2.0",
      "model_name": "LayoutModel",
      "state": {}
     },
     "0d95698e2756422ea051021f583809f2": {
      "model_module": "@jupyter-widgets/controls",
      "model_module_version": "1.5.0",
      "model_name": "DescriptionStyleModel",
      "state": {
       "description_width": ""
      }
     },
     "0e069bfda1884a07a2e9ad04d615157a": {
      "model_module": "@jupyter-widgets/controls",
      "model_module_version": "1.5.0",
      "model_name": "DescriptionStyleModel",
      "state": {
       "description_width": ""
      }
     },
     "0eec9f9a84f04e8f9374819812255566": {
      "model_module": "@jupyter-widgets/controls",
      "model_module_version": "1.5.0",
      "model_name": "HBoxModel",
      "state": {
       "children": [
        "IPY_MODEL_7fa01a58b49243f296b2fb20c14396fe",
        "IPY_MODEL_35b2304510d441dab8805b39b564d823",
        "IPY_MODEL_c37df2dbe29341ee9a7433d8d3bdf647",
        "IPY_MODEL_216b6c3fa45a461fa0565350bbf8c4e7",
        "IPY_MODEL_bc1578fbc088477793b838fca51eba72",
        "IPY_MODEL_5317303b474f44a8aa395f7909b65144",
        "IPY_MODEL_f15e5b40098b449ab967b2200c6d382b",
        "IPY_MODEL_514b76716d74406da20188f5eddd50aa",
        "IPY_MODEL_3fde676ba74647e5ada9221b586e6b68"
       ],
       "layout": "IPY_MODEL_154fd9d17bfb4913a5ae70d0229434a3"
      }
     },
     "101e6eda4d7a4d0297af4c036969190e": {
      "model_module": "@jupyter-widgets/controls",
      "model_module_version": "1.5.0",
      "model_name": "DropdownModel",
      "state": {
       "_options_labels": [
        "Choose column for coordinate.",
        "X",
        "sine"
       ],
       "description": "X: ",
       "index": 1,
       "layout": "IPY_MODEL_abf6c89c874c44e5a06b24ff476e2b07",
       "style": "IPY_MODEL_3304a0f08d89475abab93d876666679a"
      }
     },
     "1072e479e5084b9a9a7ec9e0f0806764": {
      "model_module": "@jupyter-widgets/controls",
      "model_module_version": "1.5.0",
      "model_name": "DescriptionStyleModel",
      "state": {
       "description_width": ""
      }
     },
     "10973b61d62c40f98d6a57efafc8a85d": {
      "model_module": "@jupyter-widgets/controls",
      "model_module_version": "1.5.0",
      "model_name": "HTMLModel",
      "state": {
       "layout": "IPY_MODEL_9c666bc25e6b4505856aeee8e4ef2a9b",
       "style": "IPY_MODEL_ec1b5cb0897340cba07f8afe56b1a0e6",
       "value": "Pick a name for the new column. The expression will be built in the cell below. Click the \"Insert\" button when you are satisfied with the name."
      }
     },
     "12a9795e232c44babce8da9b1de8cab6": {
      "model_module": "@jupyter-widgets/controls",
      "model_module_version": "1.5.0",
      "model_name": "ButtonStyleModel",
      "state": {
       "button_color": "white"
      }
     },
     "13d4b193c30c4934b82eee99d8f6cf89": {
      "model_module": "@jupyter-widgets/base",
      "model_module_version": "1.2.0",
      "model_name": "LayoutModel",
      "state": {}
     },
     "14bbdd1a796a4030899cfcada5f386e7": {
      "model_module": "@jupyter-widgets/base",
      "model_module_version": "1.2.0",
      "model_name": "LayoutModel",
      "state": {}
     },
     "154fd9d17bfb4913a5ae70d0229434a3": {
      "model_module": "@jupyter-widgets/base",
      "model_module_version": "1.2.0",
      "model_name": "LayoutModel",
      "state": {}
     },
     "156e2a492fdb487482110e20a4843d74": {
      "model_module": "@jupyter-widgets/controls",
      "model_module_version": "1.5.0",
      "model_name": "DescriptionStyleModel",
      "state": {
       "description_width": ""
      }
     },
     "1718592ab11d406fbe7dcf8cf2cf0283": {
      "model_module": "@jupyter-widgets/base",
      "model_module_version": "1.2.0",
      "model_name": "LayoutModel",
      "state": {}
     },
     "17966a12a1354e578ba37772651716ec": {
      "model_module": "@jupyter-widgets/base",
      "model_module_version": "1.2.0",
      "model_name": "LayoutModel",
      "state": {}
     },
     "193f753b03314e9196de5cc91cbd4763": {
      "model_module": "@jupyter-widgets/controls",
      "model_module_version": "1.5.0",
      "model_name": "DescriptionStyleModel",
      "state": {
       "description_width": ""
      }
     },
     "194498848b3d45eebdbe7320fa713f52": {
      "model_module": "@jupyter-widgets/controls",
      "model_module_version": "1.5.0",
      "model_name": "AccordionModel",
      "state": {
       "_titles": {
        "0": "Instructions"
       },
       "children": [
        "IPY_MODEL_7d687cca668948bc952115ea5c4f6dd1"
       ],
       "layout": "IPY_MODEL_f4b8e6b1b52a41e48304d57e1e4f745c",
       "selected_index": null
      }
     },
     "1a68da2338014a629182b11f25eed090": {
      "model_module": "@jupyter-widgets/controls",
      "model_module_version": "1.5.0",
      "model_name": "HBoxModel",
      "state": {
       "children": [
        "IPY_MODEL_b0dd9640193647fdbd915f01123f2c20",
        "IPY_MODEL_8a11a6feaaf94faa8dd8fcb9e8925436"
       ],
       "layout": "IPY_MODEL_f7f3ac40a8c34aadab05f9d50dc04e57"
      }
     },
     "1aadca13d0b343bf9ec29c8d785d48f4": {
      "model_module": "@jupyter-widgets/base",
      "model_module_version": "1.2.0",
      "model_name": "LayoutModel",
      "state": {}
     },
     "1cf3b9c8496c460eba2d486b825c58be": {
      "model_module": "@jupyter-widgets/controls",
      "model_module_version": "1.5.0",
      "model_name": "DescriptionStyleModel",
      "state": {
       "description_width": ""
      }
     },
     "1d3d079feba744bd9bec3c486b471cdd": {
      "model_module": "@jupyter-widgets/controls",
      "model_module_version": "1.5.0",
      "model_name": "DescriptionStyleModel",
      "state": {
       "description_width": "initial"
      }
     },
     "1d84c7219ba941fbb14b7dfeaaff4385": {
      "model_module": "@jupyter-widgets/controls",
      "model_module_version": "1.5.0",
      "model_name": "DescriptionStyleModel",
      "state": {
       "description_width": ""
      }
     },
     "1dc354b573dd4b97b5af80ed1fc9aec3": {
      "model_module": "@jupyter-widgets/base",
      "model_module_version": "1.2.0",
      "model_name": "LayoutModel",
      "state": {}
     },
     "1ebc8b02d42845a7b2387cfd8e23b109": {
      "model_module": "jupyterlab-plotly",
      "model_module_version": "^5.5.0",
      "model_name": "FigureModel",
      "state": {
       "_config": {
        "plotlyServerURL": "https://plot.ly"
       },
       "_js2py_layoutDelta": {},
       "_js2py_pointsCallback": {},
       "_js2py_relayout": {},
       "_js2py_restyle": {},
       "_js2py_traceDeltas": {},
       "_js2py_update": {},
       "_layout": {
        "template": {
         "data": {
          "bar": [
           {
            "error_x": {
             "color": "rgb(36,36,36)"
            },
            "error_y": {
             "color": "rgb(36,36,36)"
            },
            "marker": {
             "line": {
              "color": "white",
              "width": 0.5
             },
             "pattern": {
              "fillmode": "overlay",
              "size": 10,
              "solidity": 0.2
             }
            },
            "type": "bar"
           }
          ],
          "barpolar": [
           {
            "marker": {
             "line": {
              "color": "white",
              "width": 0.5
             },
             "pattern": {
              "fillmode": "overlay",
              "size": 10,
              "solidity": 0.2
             }
            },
            "type": "barpolar"
           }
          ],
          "carpet": [
           {
            "aaxis": {
             "endlinecolor": "rgb(36,36,36)",
             "gridcolor": "white",
             "linecolor": "white",
             "minorgridcolor": "white",
             "startlinecolor": "rgb(36,36,36)"
            },
            "baxis": {
             "endlinecolor": "rgb(36,36,36)",
             "gridcolor": "white",
             "linecolor": "white",
             "minorgridcolor": "white",
             "startlinecolor": "rgb(36,36,36)"
            },
            "type": "carpet"
           }
          ],
          "choropleth": [
           {
            "colorbar": {
             "outlinewidth": 1,
             "tickcolor": "rgb(36,36,36)",
             "ticks": "outside"
            },
            "type": "choropleth"
           }
          ],
          "contour": [
           {
            "colorbar": {
             "outlinewidth": 1,
             "tickcolor": "rgb(36,36,36)",
             "ticks": "outside"
            },
            "colorscale": [
             [
              0,
              "#440154"
             ],
             [
              0.1111111111111111,
              "#482878"
             ],
             [
              0.2222222222222222,
              "#3e4989"
             ],
             [
              0.3333333333333333,
              "#31688e"
             ],
             [
              0.4444444444444444,
              "#26828e"
             ],
             [
              0.5555555555555556,
              "#1f9e89"
             ],
             [
              0.6666666666666666,
              "#35b779"
             ],
             [
              0.7777777777777778,
              "#6ece58"
             ],
             [
              0.8888888888888888,
              "#b5de2b"
             ],
             [
              1,
              "#fde725"
             ]
            ],
            "type": "contour"
           }
          ],
          "contourcarpet": [
           {
            "colorbar": {
             "outlinewidth": 1,
             "tickcolor": "rgb(36,36,36)",
             "ticks": "outside"
            },
            "type": "contourcarpet"
           }
          ],
          "heatmap": [
           {
            "colorbar": {
             "outlinewidth": 1,
             "tickcolor": "rgb(36,36,36)",
             "ticks": "outside"
            },
            "colorscale": [
             [
              0,
              "#440154"
             ],
             [
              0.1111111111111111,
              "#482878"
             ],
             [
              0.2222222222222222,
              "#3e4989"
             ],
             [
              0.3333333333333333,
              "#31688e"
             ],
             [
              0.4444444444444444,
              "#26828e"
             ],
             [
              0.5555555555555556,
              "#1f9e89"
             ],
             [
              0.6666666666666666,
              "#35b779"
             ],
             [
              0.7777777777777778,
              "#6ece58"
             ],
             [
              0.8888888888888888,
              "#b5de2b"
             ],
             [
              1,
              "#fde725"
             ]
            ],
            "type": "heatmap"
           }
          ],
          "heatmapgl": [
           {
            "colorbar": {
             "outlinewidth": 1,
             "tickcolor": "rgb(36,36,36)",
             "ticks": "outside"
            },
            "colorscale": [
             [
              0,
              "#440154"
             ],
             [
              0.1111111111111111,
              "#482878"
             ],
             [
              0.2222222222222222,
              "#3e4989"
             ],
             [
              0.3333333333333333,
              "#31688e"
             ],
             [
              0.4444444444444444,
              "#26828e"
             ],
             [
              0.5555555555555556,
              "#1f9e89"
             ],
             [
              0.6666666666666666,
              "#35b779"
             ],
             [
              0.7777777777777778,
              "#6ece58"
             ],
             [
              0.8888888888888888,
              "#b5de2b"
             ],
             [
              1,
              "#fde725"
             ]
            ],
            "type": "heatmapgl"
           }
          ],
          "histogram": [
           {
            "marker": {
             "line": {
              "color": "white",
              "width": 0.6
             }
            },
            "type": "histogram"
           }
          ],
          "histogram2d": [
           {
            "colorbar": {
             "outlinewidth": 1,
             "tickcolor": "rgb(36,36,36)",
             "ticks": "outside"
            },
            "colorscale": [
             [
              0,
              "#440154"
             ],
             [
              0.1111111111111111,
              "#482878"
             ],
             [
              0.2222222222222222,
              "#3e4989"
             ],
             [
              0.3333333333333333,
              "#31688e"
             ],
             [
              0.4444444444444444,
              "#26828e"
             ],
             [
              0.5555555555555556,
              "#1f9e89"
             ],
             [
              0.6666666666666666,
              "#35b779"
             ],
             [
              0.7777777777777778,
              "#6ece58"
             ],
             [
              0.8888888888888888,
              "#b5de2b"
             ],
             [
              1,
              "#fde725"
             ]
            ],
            "type": "histogram2d"
           }
          ],
          "histogram2dcontour": [
           {
            "colorbar": {
             "outlinewidth": 1,
             "tickcolor": "rgb(36,36,36)",
             "ticks": "outside"
            },
            "colorscale": [
             [
              0,
              "#440154"
             ],
             [
              0.1111111111111111,
              "#482878"
             ],
             [
              0.2222222222222222,
              "#3e4989"
             ],
             [
              0.3333333333333333,
              "#31688e"
             ],
             [
              0.4444444444444444,
              "#26828e"
             ],
             [
              0.5555555555555556,
              "#1f9e89"
             ],
             [
              0.6666666666666666,
              "#35b779"
             ],
             [
              0.7777777777777778,
              "#6ece58"
             ],
             [
              0.8888888888888888,
              "#b5de2b"
             ],
             [
              1,
              "#fde725"
             ]
            ],
            "type": "histogram2dcontour"
           }
          ],
          "mesh3d": [
           {
            "colorbar": {
             "outlinewidth": 1,
             "tickcolor": "rgb(36,36,36)",
             "ticks": "outside"
            },
            "type": "mesh3d"
           }
          ],
          "parcoords": [
           {
            "line": {
             "colorbar": {
              "outlinewidth": 1,
              "tickcolor": "rgb(36,36,36)",
              "ticks": "outside"
             }
            },
            "type": "parcoords"
           }
          ],
          "pie": [
           {
            "automargin": true,
            "type": "pie"
           }
          ],
          "scatter": [
           {
            "marker": {
             "colorbar": {
              "outlinewidth": 1,
              "tickcolor": "rgb(36,36,36)",
              "ticks": "outside"
             }
            },
            "type": "scatter"
           }
          ],
          "scatter3d": [
           {
            "line": {
             "colorbar": {
              "outlinewidth": 1,
              "tickcolor": "rgb(36,36,36)",
              "ticks": "outside"
             }
            },
            "marker": {
             "colorbar": {
              "outlinewidth": 1,
              "tickcolor": "rgb(36,36,36)",
              "ticks": "outside"
             }
            },
            "type": "scatter3d"
           }
          ],
          "scattercarpet": [
           {
            "marker": {
             "colorbar": {
              "outlinewidth": 1,
              "tickcolor": "rgb(36,36,36)",
              "ticks": "outside"
             }
            },
            "type": "scattercarpet"
           }
          ],
          "scattergeo": [
           {
            "marker": {
             "colorbar": {
              "outlinewidth": 1,
              "tickcolor": "rgb(36,36,36)",
              "ticks": "outside"
             }
            },
            "type": "scattergeo"
           }
          ],
          "scattergl": [
           {
            "marker": {
             "colorbar": {
              "outlinewidth": 1,
              "tickcolor": "rgb(36,36,36)",
              "ticks": "outside"
             }
            },
            "type": "scattergl"
           }
          ],
          "scattermapbox": [
           {
            "marker": {
             "colorbar": {
              "outlinewidth": 1,
              "tickcolor": "rgb(36,36,36)",
              "ticks": "outside"
             }
            },
            "type": "scattermapbox"
           }
          ],
          "scatterpolar": [
           {
            "marker": {
             "colorbar": {
              "outlinewidth": 1,
              "tickcolor": "rgb(36,36,36)",
              "ticks": "outside"
             }
            },
            "type": "scatterpolar"
           }
          ],
          "scatterpolargl": [
           {
            "marker": {
             "colorbar": {
              "outlinewidth": 1,
              "tickcolor": "rgb(36,36,36)",
              "ticks": "outside"
             }
            },
            "type": "scatterpolargl"
           }
          ],
          "scatterternary": [
           {
            "marker": {
             "colorbar": {
              "outlinewidth": 1,
              "tickcolor": "rgb(36,36,36)",
              "ticks": "outside"
             }
            },
            "type": "scatterternary"
           }
          ],
          "surface": [
           {
            "colorbar": {
             "outlinewidth": 1,
             "tickcolor": "rgb(36,36,36)",
             "ticks": "outside"
            },
            "colorscale": [
             [
              0,
              "#440154"
             ],
             [
              0.1111111111111111,
              "#482878"
             ],
             [
              0.2222222222222222,
              "#3e4989"
             ],
             [
              0.3333333333333333,
              "#31688e"
             ],
             [
              0.4444444444444444,
              "#26828e"
             ],
             [
              0.5555555555555556,
              "#1f9e89"
             ],
             [
              0.6666666666666666,
              "#35b779"
             ],
             [
              0.7777777777777778,
              "#6ece58"
             ],
             [
              0.8888888888888888,
              "#b5de2b"
             ],
             [
              1,
              "#fde725"
             ]
            ],
            "type": "surface"
           }
          ],
          "table": [
           {
            "cells": {
             "fill": {
              "color": "rgb(237,237,237)"
             },
             "line": {
              "color": "white"
             }
            },
            "header": {
             "fill": {
              "color": "rgb(217,217,217)"
             },
             "line": {
              "color": "white"
             }
            },
            "type": "table"
           }
          ]
         },
         "layout": {
          "annotationdefaults": {
           "arrowhead": 0,
           "arrowwidth": 1
          },
          "autotypenumbers": "strict",
          "coloraxis": {
           "colorbar": {
            "outlinewidth": 1,
            "tickcolor": "rgb(36,36,36)",
            "ticks": "outside"
           }
          },
          "colorscale": {
           "diverging": [
            [
             0,
             "rgb(103,0,31)"
            ],
            [
             0.1,
             "rgb(178,24,43)"
            ],
            [
             0.2,
             "rgb(214,96,77)"
            ],
            [
             0.3,
             "rgb(244,165,130)"
            ],
            [
             0.4,
             "rgb(253,219,199)"
            ],
            [
             0.5,
             "rgb(247,247,247)"
            ],
            [
             0.6,
             "rgb(209,229,240)"
            ],
            [
             0.7,
             "rgb(146,197,222)"
            ],
            [
             0.8,
             "rgb(67,147,195)"
            ],
            [
             0.9,
             "rgb(33,102,172)"
            ],
            [
             1,
             "rgb(5,48,97)"
            ]
           ],
           "sequential": [
            [
             0,
             "#440154"
            ],
            [
             0.1111111111111111,
             "#482878"
            ],
            [
             0.2222222222222222,
             "#3e4989"
            ],
            [
             0.3333333333333333,
             "#31688e"
            ],
            [
             0.4444444444444444,
             "#26828e"
            ],
            [
             0.5555555555555556,
             "#1f9e89"
            ],
            [
             0.6666666666666666,
             "#35b779"
            ],
            [
             0.7777777777777778,
             "#6ece58"
            ],
            [
             0.8888888888888888,
             "#b5de2b"
            ],
            [
             1,
             "#fde725"
            ]
           ],
           "sequentialminus": [
            [
             0,
             "#440154"
            ],
            [
             0.1111111111111111,
             "#482878"
            ],
            [
             0.2222222222222222,
             "#3e4989"
            ],
            [
             0.3333333333333333,
             "#31688e"
            ],
            [
             0.4444444444444444,
             "#26828e"
            ],
            [
             0.5555555555555556,
             "#1f9e89"
            ],
            [
             0.6666666666666666,
             "#35b779"
            ],
            [
             0.7777777777777778,
             "#6ece58"
            ],
            [
             0.8888888888888888,
             "#b5de2b"
            ],
            [
             1,
             "#fde725"
            ]
           ]
          },
          "colorway": [
           "#1F77B4",
           "#FF7F0E",
           "#2CA02C",
           "#D62728",
           "#9467BD",
           "#8C564B",
           "#E377C2",
           "#7F7F7F",
           "#BCBD22",
           "#17BECF"
          ],
          "font": {
           "color": "rgb(36,36,36)"
          },
          "geo": {
           "bgcolor": "white",
           "lakecolor": "white",
           "landcolor": "white",
           "showlakes": true,
           "showland": true,
           "subunitcolor": "white"
          },
          "hoverlabel": {
           "align": "left"
          },
          "hovermode": "closest",
          "mapbox": {
           "style": "light"
          },
          "paper_bgcolor": "white",
          "plot_bgcolor": "white",
          "polar": {
           "angularaxis": {
            "gridcolor": "rgb(232,232,232)",
            "linecolor": "rgb(36,36,36)",
            "showgrid": false,
            "showline": true,
            "ticks": "outside"
           },
           "bgcolor": "white",
           "radialaxis": {
            "gridcolor": "rgb(232,232,232)",
            "linecolor": "rgb(36,36,36)",
            "showgrid": false,
            "showline": true,
            "ticks": "outside"
           }
          },
          "scene": {
           "xaxis": {
            "backgroundcolor": "white",
            "gridcolor": "rgb(232,232,232)",
            "gridwidth": 2,
            "linecolor": "rgb(36,36,36)",
            "showbackground": true,
            "showgrid": false,
            "showline": true,
            "ticks": "outside",
            "zeroline": false,
            "zerolinecolor": "rgb(36,36,36)"
           },
           "yaxis": {
            "backgroundcolor": "white",
            "gridcolor": "rgb(232,232,232)",
            "gridwidth": 2,
            "linecolor": "rgb(36,36,36)",
            "showbackground": true,
            "showgrid": false,
            "showline": true,
            "ticks": "outside",
            "zeroline": false,
            "zerolinecolor": "rgb(36,36,36)"
           },
           "zaxis": {
            "backgroundcolor": "white",
            "gridcolor": "rgb(232,232,232)",
            "gridwidth": 2,
            "linecolor": "rgb(36,36,36)",
            "showbackground": true,
            "showgrid": false,
            "showline": true,
            "ticks": "outside",
            "zeroline": false,
            "zerolinecolor": "rgb(36,36,36)"
           }
          },
          "shapedefaults": {
           "fillcolor": "black",
           "line": {
            "width": 0
           },
           "opacity": 0.3
          },
          "ternary": {
           "aaxis": {
            "gridcolor": "rgb(232,232,232)",
            "linecolor": "rgb(36,36,36)",
            "showgrid": false,
            "showline": true,
            "ticks": "outside"
           },
           "baxis": {
            "gridcolor": "rgb(232,232,232)",
            "linecolor": "rgb(36,36,36)",
            "showgrid": false,
            "showline": true,
            "ticks": "outside"
           },
           "bgcolor": "white",
           "caxis": {
            "gridcolor": "rgb(232,232,232)",
            "linecolor": "rgb(36,36,36)",
            "showgrid": false,
            "showline": true,
            "ticks": "outside"
           }
          },
          "title": {
           "x": 0.05
          },
          "xaxis": {
           "automargin": true,
           "gridcolor": "rgb(232,232,232)",
           "linecolor": "rgb(36,36,36)",
           "showgrid": false,
           "showline": true,
           "ticks": "outside",
           "title": {
            "standoff": 15
           },
           "zeroline": false,
           "zerolinecolor": "rgb(36,36,36)"
          },
          "yaxis": {
           "automargin": true,
           "gridcolor": "rgb(232,232,232)",
           "linecolor": "rgb(36,36,36)",
           "showgrid": false,
           "showline": true,
           "ticks": "outside",
           "title": {
            "standoff": 15
           },
           "zeroline": false,
           "zerolinecolor": "rgb(36,36,36)"
          }
         }
        }
       },
       "_py2js_addTraces": {},
       "_py2js_animate": {},
       "_py2js_deleteTraces": {},
       "_py2js_moveTraces": {},
       "_py2js_removeLayoutProps": {},
       "_py2js_removeTraceProps": {},
       "_py2js_restyle": {},
       "_py2js_update": {},
       "_view_count": 0
      }
     },
     "1ec6ac83c117498594f4ec2c1dd82fd3": {
      "model_module": "@jupyter-widgets/controls",
      "model_module_version": "1.5.0",
      "model_name": "DescriptionStyleModel",
      "state": {
       "description_width": ""
      }
     },
     "216b6c3fa45a461fa0565350bbf8c4e7": {
      "model_module": "@jupyter-widgets/controls",
      "model_module_version": "1.5.0",
      "model_name": "ButtonModel",
      "state": {
       "icon": "star",
       "layout": "IPY_MODEL_af0cb78cdef74345b8a206cd490a2399",
       "style": "IPY_MODEL_540b8c73a58748e7bc8930d07e1ff276"
      }
     },
     "21d4aadc5a28497a9758a1e1f23cee32": {
      "model_module": "@jupyter-widgets/controls",
      "model_module_version": "1.5.0",
      "model_name": "ButtonStyleModel",
      "state": {
       "button_color": "white"
      }
     },
     "24096ab521504505a0af01ea901ff5d7": {
      "model_module": "@jupyter-widgets/base",
      "model_module_version": "1.2.0",
      "model_name": "LayoutModel",
      "state": {}
     },
     "2475b7525246439dac6c0d68eb8c85f3": {
      "model_module": "@jupyter-widgets/controls",
      "model_module_version": "1.5.0",
      "model_name": "VBoxModel",
      "state": {
       "children": [
        "IPY_MODEL_5052f5a1fdca4b72955843b8100ea22f",
        "IPY_MODEL_8c078bd1188c4d27a5fbd9c693751141"
       ],
       "layout": "IPY_MODEL_4fdfaa89805a48da82286f431eac7431"
      }
     },
     "24f46c1a47a64647b7b1e2f9e505f270": {
      "model_module": "@jupyter-widgets/base",
      "model_module_version": "1.2.0",
      "model_name": "LayoutModel",
      "state": {}
     },
     "254b23ebcebb40ad9b8c6bc67cae0316": {
      "model_module": "@jupyter-widgets/controls",
      "model_module_version": "1.5.0",
      "model_name": "HTMLModel",
      "state": {
       "layout": "IPY_MODEL_0d331478ab174e7385dc12a58f17b1a2",
       "style": "IPY_MODEL_193f753b03314e9196de5cc91cbd4763",
       "value": "For each trace you wish to include: <ol><li>Select a DataFrame (Data set);</li><li>Select the column containing the X values;</li><li>Select the column containing the Y values;</li><li>Provide a name for the trace if you do not like the default. This text will be used for the legend;</li><li> OPTIONAL - set additional formatting and error display by expanding the sections at the bottom of this tab;</li><li>Once everything is set use the <b>\"Add Trace\"</b> button to include it in your plot.</li></ol>"
      }
     },
     "2575347fc47741bdb0f8328602ba5491": {
      "model_module": "@jupyter-widgets/controls",
      "model_module_version": "1.5.0",
      "model_name": "DescriptionStyleModel",
      "state": {
       "description_width": ""
      }
     },
     "26f656e58b79497bbc253fc4d042bbff": {
      "model_module": "@jupyter-widgets/base",
      "model_module_version": "1.2.0",
      "model_name": "LayoutModel",
      "state": {}
     },
     "27ae24f428f24ea7b1531025acdae23b": {
      "model_module": "@jupyter-widgets/base",
      "model_module_version": "1.2.0",
      "model_name": "LayoutModel",
      "state": {}
     },
     "27ea07b222574b24b56fa69d81ce6bfd": {
      "model_module": "@jupyter-widgets/controls",
      "model_module_version": "1.5.0",
      "model_name": "VBoxModel",
      "state": {
       "children": [
        "IPY_MODEL_194498848b3d45eebdbe7320fa713f52",
        "IPY_MODEL_c549effd17bd4186a77a64f4e3e7983d"
       ],
       "layout": "IPY_MODEL_cba66f6e58f343869cdba054ac59efd2"
      }
     },
     "28024262526245f8b535cafdcfe8aa93": {
      "model_module": "@jupyter-widgets/controls",
      "model_module_version": "1.5.0",
      "model_name": "DescriptionStyleModel",
      "state": {
       "description_width": ""
      }
     },
     "2865011570294f8bbad344e054a4c89c": {
      "model_module": "@jupyter-widgets/base",
      "model_module_version": "1.2.0",
      "model_name": "LayoutModel",
      "state": {}
     },
     "28a4d020aa4242b78ae37d0cf68cc6f0": {
      "model_module": "@jupyter-widgets/base",
      "model_module_version": "1.2.0",
      "model_name": "LayoutModel",
      "state": {}
     },
     "2917d91f0982437190e7af9a70b50cfa": {
      "model_module": "@jupyter-widgets/base",
      "model_module_version": "1.2.0",
      "model_name": "LayoutModel",
      "state": {}
     },
     "2a335402311740c1a3f884bd25365556": {
      "model_module": "@jupyter-widgets/controls",
      "model_module_version": "1.5.0",
      "model_name": "HBoxModel",
      "state": {
       "children": [
        "IPY_MODEL_4e2c876c3d604c838f77b42a1a82da7a",
        "IPY_MODEL_a6216f98a096425e9ab44950b5781453"
       ],
       "layout": "IPY_MODEL_7d56abf72cca418d8b8337dbe47d0ebb"
      }
     },
     "2c7e4fd7b5b044889b67f8c6f6fd1312": {
      "model_module": "@jupyter-widgets/controls",
      "model_module_version": "1.5.0",
      "model_name": "DescriptionStyleModel",
      "state": {
       "description_width": ""
      }
     },
     "2d3bd21ae2034543bacf0fd6c889ca3a": {
      "model_module": "@jupyter-widgets/base",
      "model_module_version": "1.2.0",
      "model_name": "LayoutModel",
      "state": {}
     },
     "2e88879d2b554f549868e37e2666bb49": {
      "model_module": "@jupyter-widgets/base",
      "model_module_version": "1.2.0",
      "model_name": "LayoutModel",
      "state": {}
     },
     "2ffb08ab8d5e49b19f4cb0394b58d1ed": {
      "model_module": "@jupyter-widgets/controls",
      "model_module_version": "1.5.0",
      "model_name": "CheckboxModel",
      "state": {
       "description": "Mirror Tick Marks",
       "disabled": false,
       "layout": "IPY_MODEL_775b25b20f4b4b73830fa867b3494b0d",
       "style": "IPY_MODEL_156e2a492fdb487482110e20a4843d74",
       "value": false
      }
     },
     "3155196da431431399750b106eb65179": {
      "model_module": "@jupyter-widgets/base",
      "model_module_version": "1.2.0",
      "model_name": "LayoutModel",
      "state": {}
     },
     "319434902ddb42fbbb620dab35225461": {
      "model_module": "@jupyter-widgets/controls",
      "model_module_version": "1.5.0",
      "model_name": "HBoxModel",
      "state": {
       "children": [
        "IPY_MODEL_577536aba64949eba66cd82287692c56",
        "IPY_MODEL_daeb9c5bfd5543c781c9259094d65b19"
       ],
       "layout": "IPY_MODEL_6c722d300ae940a0ad16396a37cf52f5"
      }
     },
     "31b4c765fcf04066ada43dc448185de8": {
      "model_module": "@jupyter-widgets/controls",
      "model_module_version": "1.5.0",
      "model_name": "VBoxModel",
      "state": {
       "children": [
        "IPY_MODEL_319434902ddb42fbbb620dab35225461",
        "IPY_MODEL_e3a1d190b4974e539a47b19e44664fdd"
       ],
       "layout": "IPY_MODEL_0c7ffbc57e8d4403b587477123344122"
      }
     },
     "32870d38ef9046c5bc032e0b8144929d": {
      "model_module": "@jupyter-widgets/base",
      "model_module_version": "1.2.0",
      "model_name": "LayoutModel",
      "state": {
       "width": "45%"
      }
     },
     "3304a0f08d89475abab93d876666679a": {
      "model_module": "@jupyter-widgets/controls",
      "model_module_version": "1.5.0",
      "model_name": "DescriptionStyleModel",
      "state": {
       "description_width": ""
      }
     },
     "33b1dbccaebc43f4aeb402d2e42cd207": {
      "model_module": "@jupyter-widgets/base",
      "model_module_version": "1.2.0",
      "model_name": "LayoutModel",
      "state": {}
     },
     "353507a16df2485681faa40aadb8bf9d": {
      "model_module": "@jupyter-widgets/controls",
      "model_module_version": "1.5.0",
      "model_name": "DropdownModel",
      "state": {
       "_options_labels": [
        "Choose",
        "df"
       ],
       "description": "DataFrame: ",
       "index": 1,
       "layout": "IPY_MODEL_ac93a89867db48e99cc8aa0bd8ed9bfe",
       "style": "IPY_MODEL_b95d1bad509f4fc5adfa0b7ae6f03411"
      }
     },
     "35b2304510d441dab8805b39b564d823": {
      "model_module": "@jupyter-widgets/controls",
      "model_module_version": "1.5.0",
      "model_name": "ButtonModel",
      "state": {
       "icon": "square",
       "layout": "IPY_MODEL_af0cb78cdef74345b8a206cd490a2399",
       "style": "IPY_MODEL_de9256616a0c4f34929481bea153901e"
      }
     },
     "365bc3d23a7c4c2681798c0b83ddd475": {
      "model_module": "@jupyter-widgets/controls",
      "model_module_version": "1.5.0",
      "model_name": "VBoxModel",
      "state": {
       "children": [
        "IPY_MODEL_745dfaa8268b4a69aab9576091118325",
        "IPY_MODEL_a867b1b3b4aa444099ed109af41d7e47",
        "IPY_MODEL_d996d7323be748d5b2c63fa7b09f1fc9"
       ],
       "layout": "IPY_MODEL_4ddcf3b432fd4596a6890d2227f02909"
      }
     },
     "36b2642c692144dc8bdf911a347f36f9": {
      "model_module": "@jupyter-widgets/base",
      "model_module_version": "1.2.0",
      "model_name": "LayoutModel",
      "state": {}
     },
     "36ce2142f02d4525a25567053e93234b": {
      "model_module": "@jupyter-widgets/base",
      "model_module_version": "1.2.0",
      "model_name": "LayoutModel",
      "state": {}
     },
     "3979a603060c49018b04e00186c0ff60": {
      "model_module": "@jupyter-widgets/base",
      "model_module_version": "1.2.0",
      "model_name": "LayoutModel",
      "state": {}
     },
     "3a14f299761e4ae4a67015c1fa21f782": {
      "model_module": "@jupyter-widgets/base",
      "model_module_version": "1.2.0",
      "model_name": "LayoutModel",
      "state": {}
     },
     "3af37bf56a2e49889478318418da8496": {
      "model_module": "@jupyter-widgets/controls",
      "model_module_version": "1.5.0",
      "model_name": "ButtonModel",
      "state": {
       "description": "Do it!",
       "layout": "IPY_MODEL_d780df7e0e5f4af2b04d31c4d594fc23",
       "style": "IPY_MODEL_77cd4f7ade784577b21c5840719d6db1"
      }
     },
     "3c1b664f7e81461eb4b5fd7bdb4719b6": {
      "model_module": "@jupyter-widgets/base",
      "model_module_version": "1.2.0",
      "model_name": "LayoutModel",
      "state": {}
     },
     "3c293cf6323e481587f1f7145f07acc6": {
      "model_module": "@jupyter-widgets/controls",
      "model_module_version": "1.5.0",
      "model_name": "ButtonStyleModel",
      "state": {
       "button_color": "white"
      }
     },
     "3c3fbb5043144e06bff562e276525fd1": {
      "model_module": "@jupyter-widgets/controls",
      "model_module_version": "1.5.0",
      "model_name": "HBoxModel",
      "state": {
       "children": [
        "IPY_MODEL_e50e83d2c2434a1dbc08ef6bcbff87f6",
        "IPY_MODEL_af5d97c891af4642a7fb8acea5b8f2a6"
       ],
       "layout": "IPY_MODEL_13d4b193c30c4934b82eee99d8f6cf89"
      }
     },
     "3c84655596864d77835691793d7be006": {
      "model_module": "@jupyter-widgets/controls",
      "model_module_version": "1.5.0",
      "model_name": "DropdownModel",
      "state": {
       "_options_labels": [
        "Choose data set.",
        "df"
       ],
       "description": "DataFrame: ",
       "index": 1,
       "layout": "IPY_MODEL_b0d71f47204c4fb2bb8bc6f7f29d3ed0",
       "style": "IPY_MODEL_6b7cf44399db40169cc96acab24dd49f"
      }
     },
     "3cbf58a3ea3148a786028c7a639ac583": {
      "model_module": "@jupyter-widgets/base",
      "model_module_version": "1.2.0",
      "model_name": "LayoutModel",
      "state": {}
     },
     "3cc6e54a3f1346039a4d46660704c2ad": {
      "model_module": "@jupyter-widgets/controls",
      "model_module_version": "1.5.0",
      "model_name": "ButtonStyleModel",
      "state": {}
     },
     "3dc4c107367f46f6abb05a86892c8f78": {
      "model_module": "@jupyter-widgets/controls",
      "model_module_version": "1.5.0",
      "model_name": "TabModel",
      "state": {
       "_titles": {
        "0": "1. Pick Trace(s)*",
        "1": "2. Label Axes*",
        "2": "3. Title, Format ...",
        "3": "4. Final Check*"
       },
       "children": [
        "IPY_MODEL_efab072428af4c3697cf2d99b27ab8e1",
        "IPY_MODEL_27ea07b222574b24b56fa69d81ce6bfd",
        "IPY_MODEL_d0711a3c6d3b448992da708266f373a6",
        "IPY_MODEL_40b51561a379428e822166512701cdef"
       ],
       "layout": "IPY_MODEL_986bfc1dc8384e3e8b2158db4613203e",
       "selected_index": 3
      }
     },
     "3fde676ba74647e5ada9221b586e6b68": {
      "model_module": "@jupyter-widgets/controls",
      "model_module_version": "1.5.0",
      "model_name": "ButtonModel",
      "state": {
       "icon": "caret-right",
       "layout": "IPY_MODEL_af0cb78cdef74345b8a206cd490a2399",
       "style": "IPY_MODEL_afa5fc4645a3482dade9d06ef21e0a33"
      }
     },
     "40b51561a379428e822166512701cdef": {
      "model_module": "@jupyter-widgets/controls",
      "model_module_version": "1.5.0",
      "model_name": "HBoxModel",
      "state": {
       "children": [
        "IPY_MODEL_f046de777d01472e827d7be31550d90d",
        "IPY_MODEL_5ad26643e45d4a658a6b1c3fc0fde73a"
       ],
       "layout": "IPY_MODEL_943cdec4d98449ba870a6691a19cc018"
      }
     },
     "4153e4d6ecc148889e812fe483e76b39": {
      "model_module": "@jupyter-widgets/controls",
      "model_module_version": "1.5.0",
      "model_name": "BoundedIntTextModel",
      "state": {
       "description": "Marker Size (px): ",
       "layout": "IPY_MODEL_867bee3f3a994f069206bf62ff0da58d",
       "max": 25,
       "min": 2,
       "style": "IPY_MODEL_b0c6a4eec6bd4cabbb432404808c5bd9",
       "value": 6
      }
     },
     "4163a568b5f94059b82234ae843556c9": {
      "model_module": "@jupyter-widgets/base",
      "model_module_version": "1.2.0",
      "model_name": "LayoutModel",
      "state": {}
     },
     "41d0184d593a4d64932fc63cb1244faf": {
      "model_module": "@jupyter-widgets/controls",
      "model_module_version": "1.5.0",
      "model_name": "HTMLModel",
      "state": {
       "layout": "IPY_MODEL_24f46c1a47a64647b7b1e2f9e505f270",
       "style": "IPY_MODEL_0e069bfda1884a07a2e9ad04d615157a",
       "value": "<h4 style=\"text-align:center;\">Notices: </h4><ul></ul>"
      }
     },
     "41e670ccf0364b3fbd63e6846ac88789": {
      "model_module": "@jupyter-widgets/base",
      "model_module_version": "1.2.0",
      "model_name": "LayoutModel",
      "state": {}
     },
     "4280f4af9361412c8953a2f976cbfef0": {
      "model_module": "@jupyter-widgets/base",
      "model_module_version": "1.2.0",
      "model_name": "LayoutModel",
      "state": {}
     },
     "440e77b1c22843c58ff7edbe554281a0": {
      "model_module": "@jupyter-widgets/controls",
      "model_module_version": "1.5.0",
      "model_name": "LabelModel",
      "state": {
       "layout": "IPY_MODEL_4f8184aa68d84a7c8f9f1cc2bb409b60",
       "style": "IPY_MODEL_1d84c7219ba941fbb14b7dfeaaff4385",
       "value": " * Check that all double and single quotes are also properly paired."
      }
     },
     "4532b110d598470d91283509322a9303": {
      "model_module": "@jupyter-widgets/controls",
      "model_module_version": "1.5.0",
      "model_name": "LabelModel",
      "state": {
       "layout": "IPY_MODEL_db687cf17f234fb5b0f4381519ea78f5",
       "style": "IPY_MODEL_7d37592fba4743e1ae157d29a9e8ec1b",
       "value": " * Check that all function calls are prefaced by an 'np.'."
      }
     },
     "46730a175c994ea4a09874320c2a0a55": {
      "model_module": "@jupyter-widgets/controls",
      "model_module_version": "1.5.0",
      "model_name": "HBoxModel",
      "state": {
       "children": [
        "IPY_MODEL_700ff2495c6b4a399d29094acab4f145",
        "IPY_MODEL_64830dfcf57e4faaa4d19280cd599532"
       ],
       "layout": "IPY_MODEL_3979a603060c49018b04e00186c0ff60"
      }
     },
     "46d64c70b7bb45098f75c85ed79d6e31": {
      "model_module": "@jupyter-widgets/controls",
      "model_module_version": "1.5.0",
      "model_name": "DropdownModel",
      "state": {
       "_options_labels": [
        "Choose column for coordinate.",
        "X",
        "sine"
       ],
       "description": "Y: ",
       "index": 2,
       "layout": "IPY_MODEL_c22ac8a5991748418b307809a047904a",
       "style": "IPY_MODEL_54e42653c961437190f794faa7ef5dc6"
      }
     },
     "48fa074149e34ce8b1598438f3f68f97": {
      "model_module": "@jupyter-widgets/base",
      "model_module_version": "1.2.0",
      "model_name": "LayoutModel",
      "state": {}
     },
     "4927a355feec4257ab1351c6d85da31f": {
      "model_module": "@jupyter-widgets/controls",
      "model_module_version": "1.5.0",
      "model_name": "DescriptionStyleModel",
      "state": {
       "description_width": "initial"
      }
     },
     "49de79a115da4d38a0d166acced61896": {
      "model_module": "@jupyter-widgets/controls",
      "model_module_version": "1.5.0",
      "model_name": "DescriptionStyleModel",
      "state": {
       "description_width": ""
      }
     },
     "4a4d3f66553d4190a8f64c005bb04e8b": {
      "model_module": "@jupyter-widgets/controls",
      "model_module_version": "1.5.0",
      "model_name": "TextModel",
      "state": {
       "description": "Plot title: ",
       "layout": "IPY_MODEL_8eed4bfc2a914d6e831a4e907b59a6d0",
       "style": "IPY_MODEL_2575347fc47741bdb0f8328602ba5491",
       "value": "Figure_1"
      }
     },
     "4a62f18924a946b5987db51564dd143d": {
      "model_module": "@jupyter-widgets/base",
      "model_module_version": "1.2.0",
      "model_name": "LayoutModel",
      "state": {
       "width": "45%"
      }
     },
     "4bb73be232224e8dbaf82753e1e8b0b0": {
      "model_module": "@jupyter-widgets/base",
      "model_module_version": "1.2.0",
      "model_name": "LayoutModel",
      "state": {}
     },
     "4cdcf23f4f3f4111a972a498d50d1f1b": {
      "model_module": "@jupyter-widgets/controls",
      "model_module_version": "1.5.0",
      "model_name": "TextModel",
      "state": {
       "description": "X-axis label: ",
       "layout": "IPY_MODEL_4a62f18924a946b5987db51564dd143d",
       "placeholder": "Provide an X-axis label (usually has units)",
       "style": "IPY_MODEL_c58cb68798254e5491f71f2cbb87c0ec",
       "value": "X"
      }
     },
     "4ddcf3b432fd4596a6890d2227f02909": {
      "model_module": "@jupyter-widgets/base",
      "model_module_version": "1.2.0",
      "model_name": "LayoutModel",
      "state": {}
     },
     "4de256c9a5434bf5a17f3dc40be2737e": {
      "model_module": "@jupyter-widgets/base",
      "model_module_version": "1.2.0",
      "model_name": "LayoutModel",
      "state": {}
     },
     "4e0eeb05f48e4afc81c8ac11ef64fbd4": {
      "model_module": "@jupyter-widgets/controls",
      "model_module_version": "1.5.0",
      "model_name": "HBoxModel",
      "state": {
       "children": [
        "IPY_MODEL_c71a7093df3d4d14aff5b6f08b4e38ce",
        "IPY_MODEL_5e6b62d7d6c144e698020685a3f922bc"
       ],
       "layout": "IPY_MODEL_c5249c6589fd43e5861231a30c6901db"
      }
     },
     "4e2c876c3d604c838f77b42a1a82da7a": {
      "model_module": "@jupyter-widgets/controls",
      "model_module_version": "1.5.0",
      "model_name": "DropdownModel",
      "state": {
       "_options_labels": [
        "Choose column to insert.",
        "X"
       ],
       "description": "Column: ",
       "index": 0,
       "layout": "IPY_MODEL_962692a13be740d289ac3ffe63f4aed9",
       "style": "IPY_MODEL_a57de3d7d8a44b68bcdbde3f56587727"
      }
     },
     "4e7075a0f4e643bcaa0dc8a5ba4d5158": {
      "model_module": "@jupyter-widgets/base",
      "model_module_version": "1.2.0",
      "model_name": "LayoutModel",
      "state": {}
     },
     "4f8184aa68d84a7c8f9f1cc2bb409b60": {
      "model_module": "@jupyter-widgets/base",
      "model_module_version": "1.2.0",
      "model_name": "LayoutModel",
      "state": {}
     },
     "4fdfaa89805a48da82286f431eac7431": {
      "model_module": "@jupyter-widgets/base",
      "model_module_version": "1.2.0",
      "model_name": "LayoutModel",
      "state": {}
     },
     "5014922024524b7d9d72345c562fec87": {
      "model_module": "@jupyter-widgets/controls",
      "model_module_version": "1.5.0",
      "model_name": "HBoxModel",
      "state": {
       "children": [
        "IPY_MODEL_814b73a7b2b84e5193859a8898b75669",
        "IPY_MODEL_2ffb08ab8d5e49b19f4cb0394b58d1ed",
        "IPY_MODEL_a45f2f4f94e4404e83f3950bcc1e0fee"
       ],
       "layout": "IPY_MODEL_6ee9d9e48c9d4708962ba4d9eb8616e6"
      }
     },
     "5052f5a1fdca4b72955843b8100ea22f": {
      "model_module": "@jupyter-widgets/controls",
      "model_module_version": "1.5.0",
      "model_name": "LabelModel",
      "state": {
       "layout": "IPY_MODEL_90934742e19f4df68735bc24eb4702b8",
       "style": "IPY_MODEL_7401a857fbee46de88c6fc9f8a125c60",
       "value": "Select the DataFrame to work with."
      }
     },
     "50d0d382721e4b9dab8206b0838ead41": {
      "model_module": "@jupyter-widgets/controls",
      "model_module_version": "1.5.0",
      "model_name": "TabModel",
      "state": {
       "_titles": {
        "0": "Step 1",
        "1": "Step 2",
        "2": "Step 3",
        "3": "Step 4"
       },
       "children": [
        "IPY_MODEL_5536d43e9d414f52a7265cc89cac8974",
        "IPY_MODEL_50d40358d0284dfea2007218bc8179ca",
        "IPY_MODEL_62addf15dca44ebfb930ade2937613c4",
        "IPY_MODEL_46730a175c994ea4a09874320c2a0a55"
       ],
       "layout": "IPY_MODEL_3c1b664f7e81461eb4b5fd7bdb4719b6",
       "selected_index": 3
      }
     },
     "50d40358d0284dfea2007218bc8179ca": {
      "model_module": "@jupyter-widgets/controls",
      "model_module_version": "1.5.0",
      "model_name": "VBoxModel",
      "state": {
       "children": [
        "IPY_MODEL_10973b61d62c40f98d6a57efafc8a85d",
        "IPY_MODEL_3c3fbb5043144e06bff562e276525fd1"
       ],
       "layout": "IPY_MODEL_1718592ab11d406fbe7dcf8cf2cf0283"
      }
     },
     "50fb67d4077b425fa6556da0e0c0cf19": {
      "model_module": "@jupyter-widgets/base",
      "model_module_version": "1.2.0",
      "model_name": "LayoutModel",
      "state": {}
     },
     "512f31eee3e24af3867c110d5e8b4245": {
      "model_module": "@jupyter-widgets/controls",
      "model_module_version": "1.5.0",
      "model_name": "DescriptionStyleModel",
      "state": {
       "description_width": ""
      }
     },
     "514b76716d74406da20188f5eddd50aa": {
      "model_module": "@jupyter-widgets/controls",
      "model_module_version": "1.5.0",
      "model_name": "ButtonModel",
      "state": {
       "icon": "caret-left",
       "layout": "IPY_MODEL_af0cb78cdef74345b8a206cd490a2399",
       "style": "IPY_MODEL_21d4aadc5a28497a9758a1e1f23cee32"
      }
     },
     "5317303b474f44a8aa395f7909b65144": {
      "model_module": "@jupyter-widgets/controls",
      "model_module_version": "1.5.0",
      "model_name": "ButtonModel",
      "state": {
       "icon": "times",
       "layout": "IPY_MODEL_af0cb78cdef74345b8a206cd490a2399",
       "style": "IPY_MODEL_bfc4b94db28d47f9b5edf878d1c7daea"
      }
     },
     "540b8c73a58748e7bc8930d07e1ff276": {
      "model_module": "@jupyter-widgets/controls",
      "model_module_version": "1.5.0",
      "model_name": "ButtonStyleModel",
      "state": {
       "button_color": "white"
      }
     },
     "54e42653c961437190f794faa7ef5dc6": {
      "model_module": "@jupyter-widgets/controls",
      "model_module_version": "1.5.0",
      "model_name": "DescriptionStyleModel",
      "state": {
       "description_width": ""
      }
     },
     "5536d43e9d414f52a7265cc89cac8974": {
      "model_module": "@jupyter-widgets/controls",
      "model_module_version": "1.5.0",
      "model_name": "VBoxModel",
      "state": {
       "children": [
        "IPY_MODEL_59303dc30b824ee1a979b599818f93e6",
        "IPY_MODEL_353507a16df2485681faa40aadb8bf9d"
       ],
       "layout": "IPY_MODEL_60d9f578b9ad41db816441545eaae269"
      }
     },
     "55a0e50842b64ec99dbb6c87b7cd1cfa": {
      "model_module": "@jupyter-widgets/base",
      "model_module_version": "1.2.0",
      "model_name": "LayoutModel",
      "state": {}
     },
     "5644f772833b4b6baa1c2fb453613fc4": {
      "model_module": "@jupyter-widgets/controls",
      "model_module_version": "1.5.0",
      "model_name": "ButtonStyleModel",
      "state": {}
     },
     "57042b0e22794ed3b045fe9645abbd8b": {
      "model_module": "@jupyter-widgets/controls",
      "model_module_version": "1.5.0",
      "model_name": "ButtonModel",
      "state": {
       "description": "Do it!",
       "layout": "IPY_MODEL_7faa323b6a834c39b894be86712bf286",
       "style": "IPY_MODEL_dc7ecaa111df41fba77ae610a0a51b60"
      }
     },
     "575f18a9d84c4322937700bf3cb7a432": {
      "model_module": "@jupyter-widgets/controls",
      "model_module_version": "1.5.0",
      "model_name": "HBoxModel",
      "state": {
       "children": [
        "IPY_MODEL_f052c5ca0f6b4894959041c13f90f96d",
        "IPY_MODEL_e29f0aec49f04a699f75713e60cbf927",
        "IPY_MODEL_4153e4d6ecc148889e812fe483e76b39"
       ],
       "layout": "IPY_MODEL_fb6f28718c35420c99dc7c88448907d0"
      }
     },
     "577536aba64949eba66cd82287692c56": {
      "model_module": "@jupyter-widgets/controls",
      "model_module_version": "1.5.0",
      "model_name": "DropdownModel",
      "state": {
       "_options_labels": [
        "none",
        "percent",
        "constant",
        "data"
       ],
       "description": "Error Type: ",
       "index": 0,
       "layout": "IPY_MODEL_7f428bdbdfa84d62909006c83dd61def",
       "style": "IPY_MODEL_58ea5f8770fc484fbbdcb6a0aaef6f0d"
      }
     },
     "58ea5f8770fc484fbbdcb6a0aaef6f0d": {
      "model_module": "@jupyter-widgets/controls",
      "model_module_version": "1.5.0",
      "model_name": "DescriptionStyleModel",
      "state": {
       "description_width": ""
      }
     },
     "59303dc30b824ee1a979b599818f93e6": {
      "model_module": "@jupyter-widgets/controls",
      "model_module_version": "1.5.0",
      "model_name": "LabelModel",
      "state": {
       "layout": "IPY_MODEL_cac2990a4625463a9df6c2e3bf690d35",
       "style": "IPY_MODEL_c02704b6830d475cb48afde7c25c4447",
       "value": "Select the DataFrame to work with."
      }
     },
     "5a57521b8a9e4b5a9c962629c40e294b": {
      "model_module": "@jupyter-widgets/base",
      "model_module_version": "1.2.0",
      "model_name": "LayoutModel",
      "state": {}
     },
     "5ad26643e45d4a658a6b1c3fc0fde73a": {
      "model_module": "@jupyter-widgets/controls",
      "model_module_version": "1.5.0",
      "model_name": "VBoxModel",
      "state": {
       "children": [
        "IPY_MODEL_f02e778304624e4598835ab9c2cda6a3",
        "IPY_MODEL_41d0184d593a4d64932fc63cb1244faf"
       ],
       "layout": "IPY_MODEL_ba428efcad2e4fe4a791cb6686024d69"
      }
     },
     "5e0bebd7c27442d097da6dabed62dd64": {
      "model_module": "@jupyter-widgets/controls",
      "model_module_version": "1.5.0",
      "model_name": "ButtonModel",
      "state": {
       "description": "Insert",
       "layout": "IPY_MODEL_2e88879d2b554f549868e37e2666bb49",
       "style": "IPY_MODEL_5644f772833b4b6baa1c2fb453613fc4"
      }
     },
     "5e5a3858b0384dd5a396d3b69b6b8564": {
      "model_module": "@jupyter-widgets/controls",
      "model_module_version": "1.5.0",
      "model_name": "HBoxModel",
      "state": {
       "children": [
        "IPY_MODEL_ddd786110f1a4c7ab2f5ebee53538d7a",
        "IPY_MODEL_e2dea7c20cdc4568b48f8121257be2b6"
       ],
       "layout": "IPY_MODEL_28a4d020aa4242b78ae37d0cf68cc6f0"
      }
     },
     "5e6b62d7d6c144e698020685a3f922bc": {
      "model_module": "@jupyter-widgets/controls",
      "model_module_version": "1.5.0",
      "model_name": "DropdownModel",
      "state": {
       "_options_labels": [
        "Choose an operation to insert.",
        "+",
        "-",
        "*",
        "/",
        "**",
        "exp()",
        "log10()",
        "ln()",
        "sqrt()",
        "sin()",
        "cos()",
        "tan()",
        "cot()",
        "asin()",
        "acos()",
        "atan()",
        "acot()"
       ],
       "description": "Operation: ",
       "index": 0,
       "layout": "IPY_MODEL_7768cebb0c464b0e817a373f5d477094",
       "style": "IPY_MODEL_6409dd8b40874a64abdf2bb311dfb5ac"
      }
     },
     "5e8b6902de7d49adb32b363854828331": {
      "model_module": "@jupyter-widgets/base",
      "model_module_version": "1.2.0",
      "model_name": "LayoutModel",
      "state": {}
     },
     "5e8f5e4cba394f9b968b29874ed8477f": {
      "model_module": "@jupyter-widgets/base",
      "model_module_version": "1.2.0",
      "model_name": "LayoutModel",
      "state": {}
     },
     "5f0f76803727483ab884ef0c996aa7b0": {
      "model_module": "@jupyter-widgets/controls",
      "model_module_version": "1.5.0",
      "model_name": "LabelModel",
      "state": {
       "layout": "IPY_MODEL_d072f709ed014ca98045bc86f7a3160f",
       "style": "IPY_MODEL_fa64213c375647a39cf0b538eaaa8372",
       "value": " * Parentheses, brackets or braces highlighted in red are missing their partner."
      }
     },
     "601aca90d4064429a8792ed118f10fa9": {
      "model_module": "@jupyter-widgets/controls",
      "model_module_version": "1.5.0",
      "model_name": "DescriptionStyleModel",
      "state": {
       "description_width": ""
      }
     },
     "6052cc229a1744af9c0ab3efceb4facf": {
      "model_module": "@jupyter-widgets/controls",
      "model_module_version": "1.5.0",
      "model_name": "TabModel",
      "state": {
       "_titles": {
        "0": "Step 1",
        "1": "Step 2",
        "2": "Step 3",
        "3": "Step 4"
       },
       "children": [
        "IPY_MODEL_2475b7525246439dac6c0d68eb8c85f3",
        "IPY_MODEL_f70be71465c741df8d70d662cd6814a9",
        "IPY_MODEL_f11c65554e9e47bca9029833df713953",
        "IPY_MODEL_5e5a3858b0384dd5a396d3b69b6b8564"
       ],
       "layout": "IPY_MODEL_8835e709259241aebcba4e63d0303258",
       "selected_index": 3
      }
     },
     "60d9f578b9ad41db816441545eaae269": {
      "model_module": "@jupyter-widgets/base",
      "model_module_version": "1.2.0",
      "model_name": "LayoutModel",
      "state": {}
     },
     "618c42629f0c49dbb1492725c5b7e8ca": {
      "model_module": "@jupyter-widgets/base",
      "model_module_version": "1.2.0",
      "model_name": "LayoutModel",
      "state": {}
     },
     "62addf15dca44ebfb930ade2937613c4": {
      "model_module": "@jupyter-widgets/controls",
      "model_module_version": "1.5.0",
      "model_name": "VBoxModel",
      "state": {
       "children": [
        "IPY_MODEL_d873a19eed9945f6af5f4d6f8485b03b",
        "IPY_MODEL_4e0eeb05f48e4afc81c8ac11ef64fbd4"
       ],
       "layout": "IPY_MODEL_36ce2142f02d4525a25567053e93234b"
      }
     },
     "6409dd8b40874a64abdf2bb311dfb5ac": {
      "model_module": "@jupyter-widgets/controls",
      "model_module_version": "1.5.0",
      "model_name": "DescriptionStyleModel",
      "state": {
       "description_width": ""
      }
     },
     "640c6876b5704ccc980cc40951036f0f": {
      "model_module": "@jupyter-widgets/controls",
      "model_module_version": "1.5.0",
      "model_name": "AccordionModel",
      "state": {
       "_titles": {
        "0": "Y error bars",
        "1": "X error bars"
       },
       "children": [
        "IPY_MODEL_31b4c765fcf04066ada43dc448185de8",
        "IPY_MODEL_68d888de9a284004ad19b2001ffc1f4b"
       ],
       "layout": "IPY_MODEL_4280f4af9361412c8953a2f976cbfef0",
       "selected_index": null
      }
     },
     "64830dfcf57e4faaa4d19280cd599532": {
      "model_module": "@jupyter-widgets/controls",
      "model_module_version": "1.5.0",
      "model_name": "VBoxModel",
      "state": {
       "children": [
        "IPY_MODEL_688ef1e34a14497ea174032b81f94a3b",
        "IPY_MODEL_57042b0e22794ed3b045fe9645abbd8b"
       ],
       "layout": "IPY_MODEL_27ae24f428f24ea7b1531025acdae23b"
      }
     },
     "6617e284c3584695842a8658581d9412": {
      "model_module": "@jupyter-widgets/controls",
      "model_module_version": "1.5.0",
      "model_name": "LabelModel",
      "state": {
       "layout": "IPY_MODEL_1aadca13d0b343bf9ec29c8d785d48f4",
       "style": "IPY_MODEL_da26b12e790648f8a0f16ab2ddba08a3",
       "value": "Carefully check the expression for typos before selecting \"Do it!\"."
      }
     },
     "679b65e77bb940558baaf35ac4e7a1aa": {
      "model_module": "@jupyter-widgets/controls",
      "model_module_version": "1.5.0",
      "model_name": "TextModel",
      "state": {
       "description": "Y-axis label: ",
       "layout": "IPY_MODEL_32870d38ef9046c5bc032e0b8144929d",
       "placeholder": "Provide a Y-axis label (usually has units)",
       "style": "IPY_MODEL_a1de1afc4bb04c1abe777b95f1450780",
       "value": "Amplitude"
      }
     },
     "688ef1e34a14497ea174032b81f94a3b": {
      "model_module": "@jupyter-widgets/controls",
      "model_module_version": "1.5.0",
      "model_name": "CheckboxModel",
      "state": {
       "description": "Display updated dataset.",
       "disabled": false,
       "layout": "IPY_MODEL_9fb3bec801d7449893ae70f80d7260d1",
       "style": "IPY_MODEL_28024262526245f8b535cafdcfe8aa93",
       "value": true
      }
     },
     "68d888de9a284004ad19b2001ffc1f4b": {
      "model_module": "@jupyter-widgets/controls",
      "model_module_version": "1.5.0",
      "model_name": "VBoxModel",
      "state": {
       "children": [
        "IPY_MODEL_1a68da2338014a629182b11f25eed090",
        "IPY_MODEL_d84e825d6584463f81e2ca022232cc68"
       ],
       "layout": "IPY_MODEL_b2f16a4373b740fcb971e5b642e7b59d"
      }
     },
     "6b7cf44399db40169cc96acab24dd49f": {
      "model_module": "@jupyter-widgets/controls",
      "model_module_version": "1.5.0",
      "model_name": "DescriptionStyleModel",
      "state": {
       "description_width": ""
      }
     },
     "6c54f952a3414b618748a0dc5d281935": {
      "buffers": [
       {
        "data": "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",
        "encoding": "base64",
        "path": [
         "_data",
         0,
         "x",
         "value"
        ]
       },
       {
        "data": "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",
        "encoding": "base64",
        "path": [
         "_data",
         0,
         "y",
         "value"
        ]
       }
      ],
      "model_module": "jupyterlab-plotly",
      "model_module_version": "^5.5.0",
      "model_name": "FigureModel",
      "state": {
       "_config": {
        "plotlyServerURL": "https://plot.ly"
       },
       "_data": [
        {
         "mode": "lines",
         "name": "sine",
         "type": "scatter",
         "uid": "41b7a122-4911-4c55-8e0c-0a1d01458c6c",
         "x": {
          "dtype": "float64",
          "shape": [
           256
          ]
         },
         "y": {
          "dtype": "float64",
          "shape": [
           256
          ]
         }
        }
       ],
       "_js2py_layoutDelta": {},
       "_js2py_pointsCallback": {},
       "_js2py_relayout": {},
       "_js2py_restyle": {},
       "_js2py_traceDeltas": {},
       "_js2py_update": {},
       "_last_layout_edit_id": 4,
       "_last_trace_edit_id": 4,
       "_layout": {
        "template": {
         "data": {
          "bar": [
           {
            "error_x": {
             "color": "rgb(36,36,36)"
            },
            "error_y": {
             "color": "rgb(36,36,36)"
            },
            "marker": {
             "line": {
              "color": "white",
              "width": 0.5
             },
             "pattern": {
              "fillmode": "overlay",
              "size": 10,
              "solidity": 0.2
             }
            },
            "type": "bar"
           }
          ],
          "barpolar": [
           {
            "marker": {
             "line": {
              "color": "white",
              "width": 0.5
             },
             "pattern": {
              "fillmode": "overlay",
              "size": 10,
              "solidity": 0.2
             }
            },
            "type": "barpolar"
           }
          ],
          "carpet": [
           {
            "aaxis": {
             "endlinecolor": "rgb(36,36,36)",
             "gridcolor": "white",
             "linecolor": "white",
             "minorgridcolor": "white",
             "startlinecolor": "rgb(36,36,36)"
            },
            "baxis": {
             "endlinecolor": "rgb(36,36,36)",
             "gridcolor": "white",
             "linecolor": "white",
             "minorgridcolor": "white",
             "startlinecolor": "rgb(36,36,36)"
            },
            "type": "carpet"
           }
          ],
          "choropleth": [
           {
            "colorbar": {
             "outlinewidth": 1,
             "tickcolor": "rgb(36,36,36)",
             "ticks": "outside"
            },
            "type": "choropleth"
           }
          ],
          "contour": [
           {
            "colorbar": {
             "outlinewidth": 1,
             "tickcolor": "rgb(36,36,36)",
             "ticks": "outside"
            },
            "colorscale": [
             [
              0,
              "#440154"
             ],
             [
              0.1111111111111111,
              "#482878"
             ],
             [
              0.2222222222222222,
              "#3e4989"
             ],
             [
              0.3333333333333333,
              "#31688e"
             ],
             [
              0.4444444444444444,
              "#26828e"
             ],
             [
              0.5555555555555556,
              "#1f9e89"
             ],
             [
              0.6666666666666666,
              "#35b779"
             ],
             [
              0.7777777777777778,
              "#6ece58"
             ],
             [
              0.8888888888888888,
              "#b5de2b"
             ],
             [
              1,
              "#fde725"
             ]
            ],
            "type": "contour"
           }
          ],
          "contourcarpet": [
           {
            "colorbar": {
             "outlinewidth": 1,
             "tickcolor": "rgb(36,36,36)",
             "ticks": "outside"
            },
            "type": "contourcarpet"
           }
          ],
          "heatmap": [
           {
            "colorbar": {
             "outlinewidth": 1,
             "tickcolor": "rgb(36,36,36)",
             "ticks": "outside"
            },
            "colorscale": [
             [
              0,
              "#440154"
             ],
             [
              0.1111111111111111,
              "#482878"
             ],
             [
              0.2222222222222222,
              "#3e4989"
             ],
             [
              0.3333333333333333,
              "#31688e"
             ],
             [
              0.4444444444444444,
              "#26828e"
             ],
             [
              0.5555555555555556,
              "#1f9e89"
             ],
             [
              0.6666666666666666,
              "#35b779"
             ],
             [
              0.7777777777777778,
              "#6ece58"
             ],
             [
              0.8888888888888888,
              "#b5de2b"
             ],
             [
              1,
              "#fde725"
             ]
            ],
            "type": "heatmap"
           }
          ],
          "heatmapgl": [
           {
            "colorbar": {
             "outlinewidth": 1,
             "tickcolor": "rgb(36,36,36)",
             "ticks": "outside"
            },
            "colorscale": [
             [
              0,
              "#440154"
             ],
             [
              0.1111111111111111,
              "#482878"
             ],
             [
              0.2222222222222222,
              "#3e4989"
             ],
             [
              0.3333333333333333,
              "#31688e"
             ],
             [
              0.4444444444444444,
              "#26828e"
             ],
             [
              0.5555555555555556,
              "#1f9e89"
             ],
             [
              0.6666666666666666,
              "#35b779"
             ],
             [
              0.7777777777777778,
              "#6ece58"
             ],
             [
              0.8888888888888888,
              "#b5de2b"
             ],
             [
              1,
              "#fde725"
             ]
            ],
            "type": "heatmapgl"
           }
          ],
          "histogram": [
           {
            "marker": {
             "line": {
              "color": "white",
              "width": 0.6
             }
            },
            "type": "histogram"
           }
          ],
          "histogram2d": [
           {
            "colorbar": {
             "outlinewidth": 1,
             "tickcolor": "rgb(36,36,36)",
             "ticks": "outside"
            },
            "colorscale": [
             [
              0,
              "#440154"
             ],
             [
              0.1111111111111111,
              "#482878"
             ],
             [
              0.2222222222222222,
              "#3e4989"
             ],
             [
              0.3333333333333333,
              "#31688e"
             ],
             [
              0.4444444444444444,
              "#26828e"
             ],
             [
              0.5555555555555556,
              "#1f9e89"
             ],
             [
              0.6666666666666666,
              "#35b779"
             ],
             [
              0.7777777777777778,
              "#6ece58"
             ],
             [
              0.8888888888888888,
              "#b5de2b"
             ],
             [
              1,
              "#fde725"
             ]
            ],
            "type": "histogram2d"
           }
          ],
          "histogram2dcontour": [
           {
            "colorbar": {
             "outlinewidth": 1,
             "tickcolor": "rgb(36,36,36)",
             "ticks": "outside"
            },
            "colorscale": [
             [
              0,
              "#440154"
             ],
             [
              0.1111111111111111,
              "#482878"
             ],
             [
              0.2222222222222222,
              "#3e4989"
             ],
             [
              0.3333333333333333,
              "#31688e"
             ],
             [
              0.4444444444444444,
              "#26828e"
             ],
             [
              0.5555555555555556,
              "#1f9e89"
             ],
             [
              0.6666666666666666,
              "#35b779"
             ],
             [
              0.7777777777777778,
              "#6ece58"
             ],
             [
              0.8888888888888888,
              "#b5de2b"
             ],
             [
              1,
              "#fde725"
             ]
            ],
            "type": "histogram2dcontour"
           }
          ],
          "mesh3d": [
           {
            "colorbar": {
             "outlinewidth": 1,
             "tickcolor": "rgb(36,36,36)",
             "ticks": "outside"
            },
            "type": "mesh3d"
           }
          ],
          "parcoords": [
           {
            "line": {
             "colorbar": {
              "outlinewidth": 1,
              "tickcolor": "rgb(36,36,36)",
              "ticks": "outside"
             }
            },
            "type": "parcoords"
           }
          ],
          "pie": [
           {
            "automargin": true,
            "type": "pie"
           }
          ],
          "scatter": [
           {
            "marker": {
             "colorbar": {
              "outlinewidth": 1,
              "tickcolor": "rgb(36,36,36)",
              "ticks": "outside"
             }
            },
            "type": "scatter"
           }
          ],
          "scatter3d": [
           {
            "line": {
             "colorbar": {
              "outlinewidth": 1,
              "tickcolor": "rgb(36,36,36)",
              "ticks": "outside"
             }
            },
            "marker": {
             "colorbar": {
              "outlinewidth": 1,
              "tickcolor": "rgb(36,36,36)",
              "ticks": "outside"
             }
            },
            "type": "scatter3d"
           }
          ],
          "scattercarpet": [
           {
            "marker": {
             "colorbar": {
              "outlinewidth": 1,
              "tickcolor": "rgb(36,36,36)",
              "ticks": "outside"
             }
            },
            "type": "scattercarpet"
           }
          ],
          "scattergeo": [
           {
            "marker": {
             "colorbar": {
              "outlinewidth": 1,
              "tickcolor": "rgb(36,36,36)",
              "ticks": "outside"
             }
            },
            "type": "scattergeo"
           }
          ],
          "scattergl": [
           {
            "marker": {
             "colorbar": {
              "outlinewidth": 1,
              "tickcolor": "rgb(36,36,36)",
              "ticks": "outside"
             }
            },
            "type": "scattergl"
           }
          ],
          "scattermapbox": [
           {
            "marker": {
             "colorbar": {
              "outlinewidth": 1,
              "tickcolor": "rgb(36,36,36)",
              "ticks": "outside"
             }
            },
            "type": "scattermapbox"
           }
          ],
          "scatterpolar": [
           {
            "marker": {
             "colorbar": {
              "outlinewidth": 1,
              "tickcolor": "rgb(36,36,36)",
              "ticks": "outside"
             }
            },
            "type": "scatterpolar"
           }
          ],
          "scatterpolargl": [
           {
            "marker": {
             "colorbar": {
              "outlinewidth": 1,
              "tickcolor": "rgb(36,36,36)",
              "ticks": "outside"
             }
            },
            "type": "scatterpolargl"
           }
          ],
          "scatterternary": [
           {
            "marker": {
             "colorbar": {
              "outlinewidth": 1,
              "tickcolor": "rgb(36,36,36)",
              "ticks": "outside"
             }
            },
            "type": "scatterternary"
           }
          ],
          "surface": [
           {
            "colorbar": {
             "outlinewidth": 1,
             "tickcolor": "rgb(36,36,36)",
             "ticks": "outside"
            },
            "colorscale": [
             [
              0,
              "#440154"
             ],
             [
              0.1111111111111111,
              "#482878"
             ],
             [
              0.2222222222222222,
              "#3e4989"
             ],
             [
              0.3333333333333333,
              "#31688e"
             ],
             [
              0.4444444444444444,
              "#26828e"
             ],
             [
              0.5555555555555556,
              "#1f9e89"
             ],
             [
              0.6666666666666666,
              "#35b779"
             ],
             [
              0.7777777777777778,
              "#6ece58"
             ],
             [
              0.8888888888888888,
              "#b5de2b"
             ],
             [
              1,
              "#fde725"
             ]
            ],
            "type": "surface"
           }
          ],
          "table": [
           {
            "cells": {
             "fill": {
              "color": "rgb(237,237,237)"
             },
             "line": {
              "color": "white"
             }
            },
            "header": {
             "fill": {
              "color": "rgb(217,217,217)"
             },
             "line": {
              "color": "white"
             }
            },
            "type": "table"
           }
          ]
         },
         "layout": {
          "annotationdefaults": {
           "arrowhead": 0,
           "arrowwidth": 1
          },
          "autotypenumbers": "strict",
          "coloraxis": {
           "colorbar": {
            "outlinewidth": 1,
            "tickcolor": "rgb(36,36,36)",
            "ticks": "outside"
           }
          },
          "colorscale": {
           "diverging": [
            [
             0,
             "rgb(103,0,31)"
            ],
            [
             0.1,
             "rgb(178,24,43)"
            ],
            [
             0.2,
             "rgb(214,96,77)"
            ],
            [
             0.3,
             "rgb(244,165,130)"
            ],
            [
             0.4,
             "rgb(253,219,199)"
            ],
            [
             0.5,
             "rgb(247,247,247)"
            ],
            [
             0.6,
             "rgb(209,229,240)"
            ],
            [
             0.7,
             "rgb(146,197,222)"
            ],
            [
             0.8,
             "rgb(67,147,195)"
            ],
            [
             0.9,
             "rgb(33,102,172)"
            ],
            [
             1,
             "rgb(5,48,97)"
            ]
           ],
           "sequential": [
            [
             0,
             "#440154"
            ],
            [
             0.1111111111111111,
             "#482878"
            ],
            [
             0.2222222222222222,
             "#3e4989"
            ],
            [
             0.3333333333333333,
             "#31688e"
            ],
            [
             0.4444444444444444,
             "#26828e"
            ],
            [
             0.5555555555555556,
             "#1f9e89"
            ],
            [
             0.6666666666666666,
             "#35b779"
            ],
            [
             0.7777777777777778,
             "#6ece58"
            ],
            [
             0.8888888888888888,
             "#b5de2b"
            ],
            [
             1,
             "#fde725"
            ]
           ],
           "sequentialminus": [
            [
             0,
             "#440154"
            ],
            [
             0.1111111111111111,
             "#482878"
            ],
            [
             0.2222222222222222,
             "#3e4989"
            ],
            [
             0.3333333333333333,
             "#31688e"
            ],
            [
             0.4444444444444444,
             "#26828e"
            ],
            [
             0.5555555555555556,
             "#1f9e89"
            ],
            [
             0.6666666666666666,
             "#35b779"
            ],
            [
             0.7777777777777778,
             "#6ece58"
            ],
            [
             0.8888888888888888,
             "#b5de2b"
            ],
            [
             1,
             "#fde725"
            ]
           ]
          },
          "colorway": [
           "#1F77B4",
           "#FF7F0E",
           "#2CA02C",
           "#D62728",
           "#9467BD",
           "#8C564B",
           "#E377C2",
           "#7F7F7F",
           "#BCBD22",
           "#17BECF"
          ],
          "font": {
           "color": "rgb(36,36,36)"
          },
          "geo": {
           "bgcolor": "white",
           "lakecolor": "white",
           "landcolor": "white",
           "showlakes": true,
           "showland": true,
           "subunitcolor": "white"
          },
          "hoverlabel": {
           "align": "left"
          },
          "hovermode": "closest",
          "mapbox": {
           "style": "light"
          },
          "paper_bgcolor": "white",
          "plot_bgcolor": "white",
          "polar": {
           "angularaxis": {
            "gridcolor": "rgb(232,232,232)",
            "linecolor": "rgb(36,36,36)",
            "showgrid": false,
            "showline": true,
            "ticks": "outside"
           },
           "bgcolor": "white",
           "radialaxis": {
            "gridcolor": "rgb(232,232,232)",
            "linecolor": "rgb(36,36,36)",
            "showgrid": false,
            "showline": true,
            "ticks": "outside"
           }
          },
          "scene": {
           "xaxis": {
            "backgroundcolor": "white",
            "gridcolor": "rgb(232,232,232)",
            "gridwidth": 2,
            "linecolor": "rgb(36,36,36)",
            "showbackground": true,
            "showgrid": false,
            "showline": true,
            "ticks": "outside",
            "zeroline": false,
            "zerolinecolor": "rgb(36,36,36)"
           },
           "yaxis": {
            "backgroundcolor": "white",
            "gridcolor": "rgb(232,232,232)",
            "gridwidth": 2,
            "linecolor": "rgb(36,36,36)",
            "showbackground": true,
            "showgrid": false,
            "showline": true,
            "ticks": "outside",
            "zeroline": false,
            "zerolinecolor": "rgb(36,36,36)"
           },
           "zaxis": {
            "backgroundcolor": "white",
            "gridcolor": "rgb(232,232,232)",
            "gridwidth": 2,
            "linecolor": "rgb(36,36,36)",
            "showbackground": true,
            "showgrid": false,
            "showline": true,
            "ticks": "outside",
            "zeroline": false,
            "zerolinecolor": "rgb(36,36,36)"
           }
          },
          "shapedefaults": {
           "fillcolor": "black",
           "line": {
            "width": 0
           },
           "opacity": 0.3
          },
          "ternary": {
           "aaxis": {
            "gridcolor": "rgb(232,232,232)",
            "linecolor": "rgb(36,36,36)",
            "showgrid": false,
            "showline": true,
            "ticks": "outside"
           },
           "baxis": {
            "gridcolor": "rgb(232,232,232)",
            "linecolor": "rgb(36,36,36)",
            "showgrid": false,
            "showline": true,
            "ticks": "outside"
           },
           "bgcolor": "white",
           "caxis": {
            "gridcolor": "rgb(232,232,232)",
            "linecolor": "rgb(36,36,36)",
            "showgrid": false,
            "showline": true,
            "ticks": "outside"
           }
          },
          "title": {
           "x": 0.05
          },
          "xaxis": {
           "automargin": true,
           "gridcolor": "rgb(232,232,232)",
           "linecolor": "rgb(36,36,36)",
           "showgrid": false,
           "showline": true,
           "ticks": "outside",
           "title": {
            "standoff": 15
           },
           "zeroline": false,
           "zerolinecolor": "rgb(36,36,36)"
          },
          "yaxis": {
           "automargin": true,
           "gridcolor": "rgb(232,232,232)",
           "linecolor": "rgb(36,36,36)",
           "showgrid": false,
           "showline": true,
           "ticks": "outside",
           "title": {
            "standoff": 15
           },
           "zeroline": false,
           "zerolinecolor": "rgb(36,36,36)"
          }
         }
        },
        "title": {
         "text": "Figure_1"
        },
        "xaxis": {
         "mirror": true,
         "title": {
          "text": "X"
         }
        },
        "yaxis": {
         "mirror": true,
         "title": {
          "text": "Amplitude"
         }
        }
       },
       "_py2js_animate": {},
       "_py2js_deleteTraces": {},
       "_py2js_moveTraces": {},
       "_py2js_removeLayoutProps": {},
       "_py2js_removeTraceProps": {},
       "_py2js_restyle": {},
       "_view_count": 0
      }
     },
     "6c722d300ae940a0ad16396a37cf52f5": {
      "model_module": "@jupyter-widgets/base",
      "model_module_version": "1.2.0",
      "model_name": "LayoutModel",
      "state": {}
     },
     "6cde11bd454046f98eac660850f4f06e": {
      "model_module": "@jupyter-widgets/base",
      "model_module_version": "1.2.0",
      "model_name": "LayoutModel",
      "state": {}
     },
     "6d3348dcf97b46f99b72a97895bc1518": {
      "model_module": "@jupyter-widgets/controls",
      "model_module_version": "1.5.0",
      "model_name": "DescriptionStyleModel",
      "state": {
       "description_width": ""
      }
     },
     "6ee9d9e48c9d4708962ba4d9eb8616e6": {
      "model_module": "@jupyter-widgets/base",
      "model_module_version": "1.2.0",
      "model_name": "LayoutModel",
      "state": {}
     },
     "700ff2495c6b4a399d29094acab4f145": {
      "model_module": "@jupyter-widgets/controls",
      "model_module_version": "1.5.0",
      "model_name": "VBoxModel",
      "state": {
       "children": [
        "IPY_MODEL_6617e284c3584695842a8658581d9412",
        "IPY_MODEL_5f0f76803727483ab884ef0c996aa7b0",
        "IPY_MODEL_9258963a5e0f4ba69bd191e248335a8e",
        "IPY_MODEL_cb4115aa61d0463e8b950889482f7b8f"
       ],
       "layout": "IPY_MODEL_50fb67d4077b425fa6556da0e0c0cf19"
      }
     },
     "719098d57acf4bdf9140e5d8b59a70bf": {
      "model_module": "@jupyter-widgets/base",
      "model_module_version": "1.2.0",
      "model_name": "LayoutModel",
      "state": {}
     },
     "7401a857fbee46de88c6fc9f8a125c60": {
      "model_module": "@jupyter-widgets/controls",
      "model_module_version": "1.5.0",
      "model_name": "DescriptionStyleModel",
      "state": {
       "description_width": ""
      }
     },
     "745dfaa8268b4a69aab9576091118325": {
      "model_module": "@jupyter-widgets/controls",
      "model_module_version": "1.5.0",
      "model_name": "HBoxModel",
      "state": {
       "children": [
        "IPY_MODEL_f9aab16342ab4f0eb55deb7e98247d0c",
        "IPY_MODEL_cfc920dfbe744ae392bc89f9d1b2cf84"
       ],
       "layout": "IPY_MODEL_d774ed33542f411baec52bdc714fdd94"
      }
     },
     "764296b7db8a48e7a4a4860f69a51d3b": {
      "model_module": "@jupyter-widgets/controls",
      "model_module_version": "1.5.0",
      "model_name": "VBoxModel",
      "state": {
       "children": [
        "IPY_MODEL_3c84655596864d77835691793d7be006",
        "IPY_MODEL_101e6eda4d7a4d0297af4c036969190e",
        "IPY_MODEL_46d64c70b7bb45098f75c85ed79d6e31",
        "IPY_MODEL_addc8ff76d974d3ebf169761450d34f3"
       ],
       "layout": "IPY_MODEL_e69bb2f3ff09469e8974fe7ab8371a1e"
      }
     },
     "775b25b20f4b4b73830fa867b3494b0d": {
      "model_module": "@jupyter-widgets/base",
      "model_module_version": "1.2.0",
      "model_name": "LayoutModel",
      "state": {}
     },
     "7768cebb0c464b0e817a373f5d477094": {
      "model_module": "@jupyter-widgets/base",
      "model_module_version": "1.2.0",
      "model_name": "LayoutModel",
      "state": {}
     },
     "77cd4f7ade784577b21c5840719d6db1": {
      "model_module": "@jupyter-widgets/controls",
      "model_module_version": "1.5.0",
      "model_name": "ButtonStyleModel",
      "state": {}
     },
     "7c68081479c4451f9aa4cf159e994956": {
      "model_module": "@jupyter-widgets/controls",
      "model_module_version": "1.5.0",
      "model_name": "DescriptionStyleModel",
      "state": {
       "description_width": ""
      }
     },
     "7d37592fba4743e1ae157d29a9e8ec1b": {
      "model_module": "@jupyter-widgets/controls",
      "model_module_version": "1.5.0",
      "model_name": "DescriptionStyleModel",
      "state": {
       "description_width": ""
      }
     },
     "7d56abf72cca418d8b8337dbe47d0ebb": {
      "model_module": "@jupyter-widgets/base",
      "model_module_version": "1.2.0",
      "model_name": "LayoutModel",
      "state": {}
     },
     "7d687cca668948bc952115ea5c4f6dd1": {
      "model_module": "@jupyter-widgets/controls",
      "model_module_version": "1.5.0",
      "model_name": "HTMLModel",
      "state": {
       "layout": "IPY_MODEL_5e8b6902de7d49adb32b363854828331",
       "style": "IPY_MODEL_b8192f60bc49498188f43345e804aea8",
       "value": "You must set the axes labels to something appropriate. For example if the X - values represent time in seconds \"Time (s)\" is a good choice. If the Y - values for the traces all have the same units using the units as the label is a good choice. If the Y - values have different unit quantites the best option is probably \"values\" and making sure that the trace names used for the legend contain the units for each trace."
      }
     },
     "7df8a9439ab64bb1bf176f22f929d968": {
      "model_module": "@jupyter-widgets/base",
      "model_module_version": "1.2.0",
      "model_name": "LayoutModel",
      "state": {}
     },
     "7f428bdbdfa84d62909006c83dd61def": {
      "model_module": "@jupyter-widgets/base",
      "model_module_version": "1.2.0",
      "model_name": "LayoutModel",
      "state": {}
     },
     "7fa01a58b49243f296b2fb20c14396fe": {
      "model_module": "@jupyter-widgets/controls",
      "model_module_version": "1.5.0",
      "model_name": "ButtonModel",
      "state": {
       "icon": "circle",
       "layout": "IPY_MODEL_af0cb78cdef74345b8a206cd490a2399",
       "style": "IPY_MODEL_eaae58714fdd4308aac9aed58919f729"
      }
     },
     "7faa323b6a834c39b894be86712bf286": {
      "model_module": "@jupyter-widgets/base",
      "model_module_version": "1.2.0",
      "model_name": "LayoutModel",
      "state": {}
     },
     "7fc21f4617fb42ab8fcc7d1d889df95d": {
      "model_module": "@jupyter-widgets/base",
      "model_module_version": "1.2.0",
      "model_name": "LayoutModel",
      "state": {}
     },
     "814b73a7b2b84e5193859a8898b75669": {
      "model_module": "@jupyter-widgets/controls",
      "model_module_version": "1.5.0",
      "model_name": "CheckboxModel",
      "state": {
       "description": "Display Mirror Axes",
       "disabled": false,
       "layout": "IPY_MODEL_2d3bd21ae2034543bacf0fd6c889ca3a",
       "style": "IPY_MODEL_1d3d079feba744bd9bec3c486b471cdd",
       "value": true
      }
     },
     "8430eef24b2747d1bbe7a2be07dfbdd0": {
      "model_module": "@jupyter-widgets/controls",
      "model_module_version": "1.5.0",
      "model_name": "DescriptionStyleModel",
      "state": {
       "description_width": ""
      }
     },
     "8635c1433960472c8ca6f685c26315cc": {
      "model_module": "@jupyter-widgets/controls",
      "model_module_version": "1.5.0",
      "model_name": "HBoxModel",
      "state": {
       "children": [
        "IPY_MODEL_d638dea253284035bbe8445933378fb4",
        "IPY_MODEL_5e0bebd7c27442d097da6dabed62dd64"
       ],
       "layout": "IPY_MODEL_24096ab521504505a0af01ea901ff5d7"
      }
     },
     "867bee3f3a994f069206bf62ff0da58d": {
      "model_module": "@jupyter-widgets/base",
      "model_module_version": "1.2.0",
      "model_name": "LayoutModel",
      "state": {}
     },
     "8703ab182f3b4ff2a6f3ae505eef09ff": {
      "model_module": "@jupyter-widgets/base",
      "model_module_version": "1.2.0",
      "model_name": "LayoutModel",
      "state": {}
     },
     "872b209fb2e84742a37f17ca12b475e0": {
      "model_module": "@jupyter-widgets/base",
      "model_module_version": "1.2.0",
      "model_name": "LayoutModel",
      "state": {}
     },
     "88235ef3d8fc422fb4feb4f82bbf948b": {
      "model_module": "@jupyter-widgets/base",
      "model_module_version": "1.2.0",
      "model_name": "LayoutModel",
      "state": {}
     },
     "8835e709259241aebcba4e63d0303258": {
      "model_module": "@jupyter-widgets/base",
      "model_module_version": "1.2.0",
      "model_name": "LayoutModel",
      "state": {}
     },
     "8998270b10b942279de56407ba5660c1": {
      "model_module": "@jupyter-widgets/controls",
      "model_module_version": "1.5.0",
      "model_name": "DescriptionStyleModel",
      "state": {
       "description_width": "initial"
      }
     },
     "8a11a6feaaf94faa8dd8fcb9e8925436": {
      "model_module": "@jupyter-widgets/controls",
      "model_module_version": "1.5.0",
      "model_name": "FloatTextModel",
      "state": {
       "description": "% or constant: ",
       "disabled": true,
       "layout": "IPY_MODEL_5a57521b8a9e4b5a9c962629c40e294b",
       "step": null,
       "style": "IPY_MODEL_c7fd95d709b04b34a5e062f0ffb68035"
      }
     },
     "8a42fd2ad50a4be8be179a95a384aadf": {
      "model_module": "@jupyter-widgets/controls",
      "model_module_version": "1.5.0",
      "model_name": "DescriptionStyleModel",
      "state": {
       "description_width": ""
      }
     },
     "8c078bd1188c4d27a5fbd9c693751141": {
      "model_module": "@jupyter-widgets/controls",
      "model_module_version": "1.5.0",
      "model_name": "DropdownModel",
      "state": {
       "_options_labels": [
        "Choose",
        "df"
       ],
       "description": "DataFrame: ",
       "index": 1,
       "layout": "IPY_MODEL_26f656e58b79497bbc253fc4d042bbff",
       "style": "IPY_MODEL_9e9b93f9e6294f1bb41829e6f98b9756"
      }
     },
     "8eed4bfc2a914d6e831a4e907b59a6d0": {
      "model_module": "@jupyter-widgets/base",
      "model_module_version": "1.2.0",
      "model_name": "LayoutModel",
      "state": {
       "width": "80%"
      }
     },
     "90934742e19f4df68735bc24eb4702b8": {
      "model_module": "@jupyter-widgets/base",
      "model_module_version": "1.2.0",
      "model_name": "LayoutModel",
      "state": {}
     },
     "9258963a5e0f4ba69bd191e248335a8e": {
      "model_module": "@jupyter-widgets/controls",
      "model_module_version": "1.5.0",
      "model_name": "LabelModel",
      "state": {
       "layout": "IPY_MODEL_eb06f6eabc4e4228a2e599e87179fb43",
       "style": "IPY_MODEL_1072e479e5084b9a9a7ec9e0f0806764",
       "value": " * Check that all double and single quotes are also properly paired."
      }
     },
     "943cdec4d98449ba870a6691a19cc018": {
      "model_module": "@jupyter-widgets/base",
      "model_module_version": "1.2.0",
      "model_name": "LayoutModel",
      "state": {}
     },
     "944f3ea18cb5435aadcb66be7ec682bf": {
      "model_module": "@jupyter-widgets/controls",
      "model_module_version": "1.5.0",
      "model_name": "HTMLModel",
      "state": {
       "layout": "IPY_MODEL_55a0e50842b64ec99dbb6c87b7cd1cfa",
       "style": "IPY_MODEL_601aca90d4064429a8792ed118f10fa9",
       "value": "Pick a name for the new column. The expression will be built in the cell below. Click the \"Insert\" button when you are satisfied with the name."
      }
     },
     "962692a13be740d289ac3ffe63f4aed9": {
      "model_module": "@jupyter-widgets/base",
      "model_module_version": "1.2.0",
      "model_name": "LayoutModel",
      "state": {}
     },
     "977ee744a0f640b38076df7fd39b80d2": {
      "model_module": "@jupyter-widgets/controls",
      "model_module_version": "1.5.0",
      "model_name": "DescriptionStyleModel",
      "state": {
       "description_width": ""
      }
     },
     "986bfc1dc8384e3e8b2158db4613203e": {
      "model_module": "@jupyter-widgets/base",
      "model_module_version": "1.2.0",
      "model_name": "LayoutModel",
      "state": {}
     },
     "9c666bc25e6b4505856aeee8e4ef2a9b": {
      "model_module": "@jupyter-widgets/base",
      "model_module_version": "1.2.0",
      "model_name": "LayoutModel",
      "state": {}
     },
     "9d00d20560724b0c847e2593a4940a48": {
      "model_module": "@jupyter-widgets/controls",
      "model_module_version": "1.5.0",
      "model_name": "DescriptionStyleModel",
      "state": {
       "description_width": ""
      }
     },
     "9de3aade789242debfca2d93b97d3ef9": {
      "model_module": "@jupyter-widgets/controls",
      "model_module_version": "1.5.0",
      "model_name": "AccordionModel",
      "state": {
       "_titles": {
        "0": "Instructions"
       },
       "children": [
        "IPY_MODEL_254b23ebcebb40ad9b8c6bc67cae0316"
       ],
       "layout": "IPY_MODEL_2917d91f0982437190e7af9a70b50cfa",
       "selected_index": null
      }
     },
     "9df26dc901594b3293276523ffbcc190": {
      "model_module": "@jupyter-widgets/base",
      "model_module_version": "1.2.0",
      "model_name": "LayoutModel",
      "state": {}
     },
     "9e9b93f9e6294f1bb41829e6f98b9756": {
      "model_module": "@jupyter-widgets/controls",
      "model_module_version": "1.5.0",
      "model_name": "DescriptionStyleModel",
      "state": {
       "description_width": ""
      }
     },
     "9f1387acc7194f13b35c66ddd0a60e8c": {
      "model_module": "@jupyter-widgets/controls",
      "model_module_version": "1.5.0",
      "model_name": "DescriptionStyleModel",
      "state": {
       "description_width": ""
      }
     },
     "9fb3bec801d7449893ae70f80d7260d1": {
      "model_module": "@jupyter-widgets/base",
      "model_module_version": "1.2.0",
      "model_name": "LayoutModel",
      "state": {}
     },
     "9ff5a99170f74d1497171bf970f98713": {
      "model_module": "@jupyter-widgets/base",
      "model_module_version": "1.2.0",
      "model_name": "LayoutModel",
      "state": {}
     },
     "a0a9dd14f148450cbf30d89110b7cf48": {
      "model_module": "@jupyter-widgets/controls",
      "model_module_version": "1.5.0",
      "model_name": "VBoxModel",
      "state": {
       "children": [
        "IPY_MODEL_05dff7e27cee4f09bc559005bd442f3d",
        "IPY_MODEL_640c6876b5704ccc980cc40951036f0f"
       ],
       "layout": "IPY_MODEL_48fa074149e34ce8b1598438f3f68f97"
      }
     },
     "a1de1afc4bb04c1abe777b95f1450780": {
      "model_module": "@jupyter-widgets/controls",
      "model_module_version": "1.5.0",
      "model_name": "DescriptionStyleModel",
      "state": {
       "description_width": "initial"
      }
     },
     "a45f2f4f94e4404e83f3950bcc1e0fee": {
      "model_module": "@jupyter-widgets/controls",
      "model_module_version": "1.5.0",
      "model_name": "DropdownModel",
      "state": {
       "_options_labels": [
        "none",
        "simple_white",
        "ggplot2",
        "seaborn",
        "plotly",
        "plotly_white",
        "plotly_dark",
        "presentation",
        "xgridoff",
        "ygridoff",
        "gridon",
        "simple_white+presentation",
        "simple_white+gridon",
        "simple_white+presentation+gridon"
       ],
       "description": "Plot Styling: ",
       "index": 1,
       "layout": "IPY_MODEL_17966a12a1354e578ba37772651716ec",
       "style": "IPY_MODEL_f27c9cb5c22c4152b37de8ffb6db0857"
      }
     },
     "a57de3d7d8a44b68bcdbde3f56587727": {
      "model_module": "@jupyter-widgets/controls",
      "model_module_version": "1.5.0",
      "model_name": "DescriptionStyleModel",
      "state": {
       "description_width": ""
      }
     },
     "a6216f98a096425e9ab44950b5781453": {
      "model_module": "@jupyter-widgets/controls",
      "model_module_version": "1.5.0",
      "model_name": "DropdownModel",
      "state": {
       "_options_labels": [
        "Choose an operation to insert.",
        "+",
        "-",
        "*",
        "/",
        "**",
        "exp()",
        "log10()",
        "ln()",
        "sqrt()",
        "sin()",
        "cos()",
        "tan()",
        "cot()",
        "asin()",
        "acos()",
        "atan()",
        "acot()"
       ],
       "description": "Operation: ",
       "index": 0,
       "layout": "IPY_MODEL_4de256c9a5434bf5a17f3dc40be2737e",
       "style": "IPY_MODEL_7c68081479c4451f9aa4cf159e994956"
      }
     },
     "a6958c42b08f41d0bb38fff1094dd83b": {
      "model_module": "@jupyter-widgets/controls",
      "model_module_version": "1.5.0",
      "model_name": "HTMLModel",
      "state": {
       "layout": "IPY_MODEL_f401afd5df5c43c6afa32229cd6c7b22",
       "style": "IPY_MODEL_977ee744a0f640b38076df7fd39b80d2",
       "value": "<h4 style=\"text-align:center;\">Notices: </h4><ul></ul>"
      }
     },
     "a867b1b3b4aa444099ed109af41d7e47": {
      "model_module": "@jupyter-widgets/controls",
      "model_module_version": "1.5.0",
      "model_name": "HBoxModel",
      "state": {
       "children": [
        "IPY_MODEL_d8050531a76043bfb0e4c0cce33b8521",
        "IPY_MODEL_ef05757ef0e945ee882f38e9f374d571"
       ],
       "layout": "IPY_MODEL_4e7075a0f4e643bcaa0dc8a5ba4d5158"
      }
     },
     "abf6c89c874c44e5a06b24ff476e2b07": {
      "model_module": "@jupyter-widgets/base",
      "model_module_version": "1.2.0",
      "model_name": "LayoutModel",
      "state": {}
     },
     "ac93a89867db48e99cc8aa0bd8ed9bfe": {
      "model_module": "@jupyter-widgets/base",
      "model_module_version": "1.2.0",
      "model_name": "LayoutModel",
      "state": {}
     },
     "addc8ff76d974d3ebf169761450d34f3": {
      "model_module": "@jupyter-widgets/controls",
      "model_module_version": "1.5.0",
      "model_name": "TextModel",
      "state": {
       "description": "Trace name: ",
       "layout": "IPY_MODEL_618c42629f0c49dbb1492725c5b7e8ca",
       "placeholder": "Trace name for legend",
       "style": "IPY_MODEL_2c7e4fd7b5b044889b67f8c6f6fd1312",
       "value": "sine"
      }
     },
     "adf1be13184b4b5aa3aaa656e5236424": {
      "model_module": "@jupyter-widgets/base",
      "model_module_version": "1.2.0",
      "model_name": "LayoutModel",
      "state": {}
     },
     "af0cb78cdef74345b8a206cd490a2399": {
      "model_module": "@jupyter-widgets/base",
      "model_module_version": "1.2.0",
      "model_name": "LayoutModel",
      "state": {
       "width": "30px"
      }
     },
     "af5d97c891af4642a7fb8acea5b8f2a6": {
      "model_module": "@jupyter-widgets/controls",
      "model_module_version": "1.5.0",
      "model_name": "ButtonModel",
      "state": {
       "description": "Insert",
       "layout": "IPY_MODEL_5e8f5e4cba394f9b968b29874ed8477f",
       "style": "IPY_MODEL_b6117026c99646709d3a425a07885c94"
      }
     },
     "afa5fc4645a3482dade9d06ef21e0a33": {
      "model_module": "@jupyter-widgets/controls",
      "model_module_version": "1.5.0",
      "model_name": "ButtonStyleModel",
      "state": {
       "button_color": "white"
      }
     },
     "b02f488b195e44a989e9f1889dfd3ea0": {
      "model_module": "@jupyter-widgets/base",
      "model_module_version": "1.2.0",
      "model_name": "LayoutModel",
      "state": {}
     },
     "b0c6a4eec6bd4cabbb432404808c5bd9": {
      "model_module": "@jupyter-widgets/controls",
      "model_module_version": "1.5.0",
      "model_name": "DescriptionStyleModel",
      "state": {
       "description_width": "initial"
      }
     },
     "b0d71f47204c4fb2bb8bc6f7f29d3ed0": {
      "model_module": "@jupyter-widgets/base",
      "model_module_version": "1.2.0",
      "model_name": "LayoutModel",
      "state": {}
     },
     "b0dd9640193647fdbd915f01123f2c20": {
      "model_module": "@jupyter-widgets/controls",
      "model_module_version": "1.5.0",
      "model_name": "DropdownModel",
      "state": {
       "_options_labels": [
        "none",
        "percent",
        "constant",
        "data"
       ],
       "description": "Error Type: ",
       "index": 0,
       "layout": "IPY_MODEL_4bb73be232224e8dbaf82753e1e8b0b0",
       "style": "IPY_MODEL_0d95698e2756422ea051021f583809f2"
      }
     },
     "b2f16a4373b740fcb971e5b642e7b59d": {
      "model_module": "@jupyter-widgets/base",
      "model_module_version": "1.2.0",
      "model_name": "LayoutModel",
      "state": {}
     },
     "b594f9f3b6e344ebbe6030c588774db6": {
      "model_module": "@jupyter-widgets/controls",
      "model_module_version": "1.5.0",
      "model_name": "DescriptionStyleModel",
      "state": {
       "description_width": ""
      }
     },
     "b5da015a7cf54ac6aed0e0dfbd6c4ee1": {
      "model_module": "@jupyter-widgets/base",
      "model_module_version": "1.2.0",
      "model_name": "LayoutModel",
      "state": {}
     },
     "b6117026c99646709d3a425a07885c94": {
      "model_module": "@jupyter-widgets/controls",
      "model_module_version": "1.5.0",
      "model_name": "ButtonStyleModel",
      "state": {}
     },
     "b8192f60bc49498188f43345e804aea8": {
      "model_module": "@jupyter-widgets/controls",
      "model_module_version": "1.5.0",
      "model_name": "DescriptionStyleModel",
      "state": {
       "description_width": ""
      }
     },
     "b95d1bad509f4fc5adfa0b7ae6f03411": {
      "model_module": "@jupyter-widgets/controls",
      "model_module_version": "1.5.0",
      "model_name": "DescriptionStyleModel",
      "state": {
       "description_width": ""
      }
     },
     "b9a766627f1544e49475ea62fa76c72e": {
      "model_module": "@jupyter-widgets/controls",
      "model_module_version": "1.5.0",
      "model_name": "VBoxModel",
      "state": {
       "children": [
        "IPY_MODEL_e6527b75af374b859444d43a690117d6",
        "IPY_MODEL_a6958c42b08f41d0bb38fff1094dd83b"
       ],
       "layout": "IPY_MODEL_872b209fb2e84742a37f17ca12b475e0"
      }
     },
     "b9b1fb6a61924a7c95ed1036c77ea830": {
      "model_module": "@jupyter-widgets/controls",
      "model_module_version": "1.5.0",
      "model_name": "ButtonStyleModel",
      "state": {
       "button_color": "white"
      }
     },
     "b9bbee3bf4d04fd089258091c56333f3": {
      "model_module": "@jupyter-widgets/controls",
      "model_module_version": "1.5.0",
      "model_name": "DescriptionStyleModel",
      "state": {
       "description_width": ""
      }
     },
     "ba428efcad2e4fe4a791cb6686024d69": {
      "model_module": "@jupyter-widgets/base",
      "model_module_version": "1.2.0",
      "model_name": "LayoutModel",
      "state": {}
     },
     "bbcfce33ceb24b52bf4742e7474cef96": {
      "model_module": "@jupyter-widgets/controls",
      "model_module_version": "1.5.0",
      "model_name": "HTMLModel",
      "state": {
       "layout": "IPY_MODEL_ef1df7756cc74a53976859867d34af1e",
       "style": "IPY_MODEL_9d00d20560724b0c847e2593a4940a48",
       "value": "Add the calculation to the right hand side using the menus to insert columns, math operations or functions. Your choices will replace selected text or insert at the current cursor position."
      }
     },
     "bc1578fbc088477793b838fca51eba72": {
      "model_module": "@jupyter-widgets/controls",
      "model_module_version": "1.5.0",
      "model_name": "ButtonModel",
      "state": {
       "icon": "plus",
       "layout": "IPY_MODEL_af0cb78cdef74345b8a206cd490a2399",
       "style": "IPY_MODEL_3c293cf6323e481587f1f7145f07acc6"
      }
     },
     "bc7bb8a2e7ce421ba85eb126a91a960e": {
      "model_module": "@jupyter-widgets/controls",
      "model_module_version": "1.5.0",
      "model_name": "DescriptionStyleModel",
      "state": {
       "description_width": ""
      }
     },
     "bfc4b94db28d47f9b5edf878d1c7daea": {
      "model_module": "@jupyter-widgets/controls",
      "model_module_version": "1.5.0",
      "model_name": "ButtonStyleModel",
      "state": {
       "button_color": "white"
      }
     },
     "c02704b6830d475cb48afde7c25c4447": {
      "model_module": "@jupyter-widgets/controls",
      "model_module_version": "1.5.0",
      "model_name": "DescriptionStyleModel",
      "state": {
       "description_width": ""
      }
     },
     "c22ac8a5991748418b307809a047904a": {
      "model_module": "@jupyter-widgets/base",
      "model_module_version": "1.2.0",
      "model_name": "LayoutModel",
      "state": {}
     },
     "c37df2dbe29341ee9a7433d8d3bdf647": {
      "model_module": "@jupyter-widgets/controls",
      "model_module_version": "1.5.0",
      "model_name": "ButtonModel",
      "state": {
       "icon": "caret-up",
       "layout": "IPY_MODEL_af0cb78cdef74345b8a206cd490a2399",
       "style": "IPY_MODEL_12a9795e232c44babce8da9b1de8cab6"
      }
     },
     "c46ab2e8b3784486861c0c5f0e1ccffa": {
      "model_module": "@jupyter-widgets/controls",
      "model_module_version": "1.5.0",
      "model_name": "AccordionModel",
      "state": {
       "_titles": {
        "0": "Optional (Trace formatting, error bars...)"
       },
       "children": [
        "IPY_MODEL_a0a9dd14f148450cbf30d89110b7cf48"
       ],
       "layout": "IPY_MODEL_9df26dc901594b3293276523ffbcc190",
       "selected_index": null
      }
     },
     "c5249c6589fd43e5861231a30c6901db": {
      "model_module": "@jupyter-widgets/base",
      "model_module_version": "1.2.0",
      "model_name": "LayoutModel",
      "state": {}
     },
     "c549effd17bd4186a77a64f4e3e7983d": {
      "model_module": "@jupyter-widgets/controls",
      "model_module_version": "1.5.0",
      "model_name": "HBoxModel",
      "state": {
       "children": [
        "IPY_MODEL_4cdcf23f4f3f4111a972a498d50d1f1b",
        "IPY_MODEL_679b65e77bb940558baaf35ac4e7a1aa"
       ],
       "layout": "IPY_MODEL_7fc21f4617fb42ab8fcc7d1d889df95d"
      }
     },
     "c58cb68798254e5491f71f2cbb87c0ec": {
      "model_module": "@jupyter-widgets/controls",
      "model_module_version": "1.5.0",
      "model_name": "DescriptionStyleModel",
      "state": {
       "description_width": "initial"
      }
     },
     "c71a7093df3d4d14aff5b6f08b4e38ce": {
      "model_module": "@jupyter-widgets/controls",
      "model_module_version": "1.5.0",
      "model_name": "DropdownModel",
      "state": {
       "_options_labels": [
        "Choose column to insert.",
        "X",
        "sine"
       ],
       "description": "Column: ",
       "index": 0,
       "layout": "IPY_MODEL_d5c71b042bf64c4eae2a1f00b6860f1e",
       "style": "IPY_MODEL_8a42fd2ad50a4be8be179a95a384aadf"
      }
     },
     "c73e9f467bb240a99bc6af18b9986974": {
      "model_module": "@jupyter-widgets/base",
      "model_module_version": "1.2.0",
      "model_name": "LayoutModel",
      "state": {}
     },
     "c7fd95d709b04b34a5e062f0ffb68035": {
      "model_module": "@jupyter-widgets/controls",
      "model_module_version": "1.5.0",
      "model_name": "DescriptionStyleModel",
      "state": {
       "description_width": "initial"
      }
     },
     "cac2990a4625463a9df6c2e3bf690d35": {
      "model_module": "@jupyter-widgets/base",
      "model_module_version": "1.2.0",
      "model_name": "LayoutModel",
      "state": {}
     },
     "cb4115aa61d0463e8b950889482f7b8f": {
      "model_module": "@jupyter-widgets/controls",
      "model_module_version": "1.5.0",
      "model_name": "LabelModel",
      "state": {
       "layout": "IPY_MODEL_c73e9f467bb240a99bc6af18b9986974",
       "style": "IPY_MODEL_512f31eee3e24af3867c110d5e8b4245",
       "value": " * Check that all function calls are prefaced by an 'np.'."
      }
     },
     "cba66f6e58f343869cdba054ac59efd2": {
      "model_module": "@jupyter-widgets/base",
      "model_module_version": "1.2.0",
      "model_name": "LayoutModel",
      "state": {}
     },
     "cfc920dfbe744ae392bc89f9d1b2cf84": {
      "model_module": "@jupyter-widgets/controls",
      "model_module_version": "1.5.0",
      "model_name": "DropdownModel",
      "state": {
       "_options_labels": [
        "default",
        "blue",
        "orange",
        "green",
        "purple",
        "red",
        "gold",
        "brown",
        "black"
       ],
       "description": "Color: ",
       "index": 0,
       "layout": "IPY_MODEL_0bc96f15c70049d58477bff1fb54a6c2",
       "style": "IPY_MODEL_b594f9f3b6e344ebbe6030c588774db6"
      }
     },
     "d0711a3c6d3b448992da708266f373a6": {
      "model_module": "@jupyter-widgets/controls",
      "model_module_version": "1.5.0",
      "model_name": "VBoxModel",
      "state": {
       "children": [
        "IPY_MODEL_4a4d3f66553d4190a8f64c005bb04e8b",
        "IPY_MODEL_5014922024524b7d9d72345c562fec87"
       ],
       "layout": "IPY_MODEL_41e670ccf0364b3fbd63e6846ac88789"
      }
     },
     "d072f709ed014ca98045bc86f7a3160f": {
      "model_module": "@jupyter-widgets/base",
      "model_module_version": "1.2.0",
      "model_name": "LayoutModel",
      "state": {}
     },
     "d59bcd5f2a2b4418866c51a44fe408c5": {
      "model_module": "@jupyter-widgets/base",
      "model_module_version": "1.2.0",
      "model_name": "LayoutModel",
      "state": {}
     },
     "d5c71b042bf64c4eae2a1f00b6860f1e": {
      "model_module": "@jupyter-widgets/base",
      "model_module_version": "1.2.0",
      "model_name": "LayoutModel",
      "state": {}
     },
     "d638dea253284035bbe8445933378fb4": {
      "model_module": "@jupyter-widgets/controls",
      "model_module_version": "1.5.0",
      "model_name": "TextModel",
      "state": {
       "layout": "IPY_MODEL_2865011570294f8bbad344e054a4c89c",
       "placeholder": "Type name for new column.",
       "style": "IPY_MODEL_ddb146bd4064421ba5bec76ab2848ce9",
       "value": "sine"
      }
     },
     "d76e1e8f9517414d88708567c5c5fcd9": {
      "model_module": "@jupyter-widgets/base",
      "model_module_version": "1.2.0",
      "model_name": "LayoutModel",
      "state": {}
     },
     "d774ed33542f411baec52bdc714fdd94": {
      "model_module": "@jupyter-widgets/base",
      "model_module_version": "1.2.0",
      "model_name": "LayoutModel",
      "state": {}
     },
     "d780df7e0e5f4af2b04d31c4d594fc23": {
      "model_module": "@jupyter-widgets/base",
      "model_module_version": "1.2.0",
      "model_name": "LayoutModel",
      "state": {}
     },
     "d8050531a76043bfb0e4c0cce33b8521": {
      "model_module": "@jupyter-widgets/controls",
      "model_module_version": "1.5.0",
      "model_name": "DropdownModel",
      "state": {
       "_options_labels": [
        "solid",
        "dot",
        "dash",
        "dashdot"
       ],
       "description": "Line style: ",
       "index": 0,
       "layout": "IPY_MODEL_e255c75f9119449c87b9daa7a244b7b4",
       "style": "IPY_MODEL_bc7bb8a2e7ce421ba85eb126a91a960e"
      }
     },
     "d84e825d6584463f81e2ca022232cc68": {
      "model_module": "@jupyter-widgets/controls",
      "model_module_version": "1.5.0",
      "model_name": "DropdownModel",
      "state": {
       "_options_labels": [
        "Choose error column."
       ],
       "description": "Error values: ",
       "disabled": true,
       "index": 0,
       "layout": "IPY_MODEL_d76e1e8f9517414d88708567c5c5fcd9",
       "style": "IPY_MODEL_49de79a115da4d38a0d166acced61896"
      }
     },
     "d873a19eed9945f6af5f4d6f8485b03b": {
      "model_module": "@jupyter-widgets/controls",
      "model_module_version": "1.5.0",
      "model_name": "HTMLModel",
      "state": {
       "layout": "IPY_MODEL_4163a568b5f94059b82234ae843556c9",
       "style": "IPY_MODEL_f4b3ba73b23f48e799a304874ac63f5f",
       "value": "Add the calculation to the right hand side using the menus to insert columns, math operations or functions. Your choices will replace selected text or insert at the current cursor position."
      }
     },
     "d996d7323be748d5b2c63fa7b09f1fc9": {
      "model_module": "@jupyter-widgets/controls",
      "model_module_version": "1.5.0",
      "model_name": "VBoxModel",
      "state": {
       "children": [
        "IPY_MODEL_575f18a9d84c4322937700bf3cb7a432",
        "IPY_MODEL_0eec9f9a84f04e8f9374819812255566"
       ],
       "layout": "IPY_MODEL_d59bcd5f2a2b4418866c51a44fe408c5"
      }
     },
     "da26b12e790648f8a0f16ab2ddba08a3": {
      "model_module": "@jupyter-widgets/controls",
      "model_module_version": "1.5.0",
      "model_name": "DescriptionStyleModel",
      "state": {
       "description_width": ""
      }
     },
     "daeb9c5bfd5543c781c9259094d65b19": {
      "model_module": "@jupyter-widgets/controls",
      "model_module_version": "1.5.0",
      "model_name": "FloatTextModel",
      "state": {
       "description": "% or constant: ",
       "disabled": true,
       "layout": "IPY_MODEL_9ff5a99170f74d1497171bf970f98713",
       "step": null,
       "style": "IPY_MODEL_8998270b10b942279de56407ba5660c1"
      }
     },
     "db687cf17f234fb5b0f4381519ea78f5": {
      "model_module": "@jupyter-widgets/base",
      "model_module_version": "1.2.0",
      "model_name": "LayoutModel",
      "state": {}
     },
     "dc61881446a14b68b5626240e48e23df": {
      "model_module": "@jupyter-widgets/controls",
      "model_module_version": "1.5.0",
      "model_name": "CheckboxModel",
      "state": {
       "description": "Display updated dataset.",
       "disabled": false,
       "layout": "IPY_MODEL_8703ab182f3b4ff2a6f3ae505eef09ff",
       "style": "IPY_MODEL_e4adb142bc7041558c371bbc887c86e6",
       "value": true
      }
     },
     "dc7ecaa111df41fba77ae610a0a51b60": {
      "model_module": "@jupyter-widgets/controls",
      "model_module_version": "1.5.0",
      "model_name": "ButtonStyleModel",
      "state": {}
     },
     "dd4b01b69a3c4cbcb98b495788955f1c": {
      "model_module": "@jupyter-widgets/controls",
      "model_module_version": "1.5.0",
      "model_name": "DescriptionStyleModel",
      "state": {
       "description_width": ""
      }
     },
     "ddb146bd4064421ba5bec76ab2848ce9": {
      "model_module": "@jupyter-widgets/controls",
      "model_module_version": "1.5.0",
      "model_name": "DescriptionStyleModel",
      "state": {
       "description_width": ""
      }
     },
     "ddd786110f1a4c7ab2f5ebee53538d7a": {
      "model_module": "@jupyter-widgets/controls",
      "model_module_version": "1.5.0",
      "model_name": "VBoxModel",
      "state": {
       "children": [
        "IPY_MODEL_e667e54271424c2a92b9fcea8fc7bb85",
        "IPY_MODEL_e8dd7a3dd7ed4786bf021378baecb89a",
        "IPY_MODEL_440e77b1c22843c58ff7edbe554281a0",
        "IPY_MODEL_4532b110d598470d91283509322a9303"
       ],
       "layout": "IPY_MODEL_adf1be13184b4b5aa3aaa656e5236424"
      }
     },
     "de9256616a0c4f34929481bea153901e": {
      "model_module": "@jupyter-widgets/controls",
      "model_module_version": "1.5.0",
      "model_name": "ButtonStyleModel",
      "state": {
       "button_color": "white"
      }
     },
     "e0a4284c03d74116a2f4dc256ef9bbe8": {
      "model_module": "@jupyter-widgets/base",
      "model_module_version": "1.2.0",
      "model_name": "LayoutModel",
      "state": {}
     },
     "e255c75f9119449c87b9daa7a244b7b4": {
      "model_module": "@jupyter-widgets/base",
      "model_module_version": "1.2.0",
      "model_name": "LayoutModel",
      "state": {}
     },
     "e29f0aec49f04a699f75713e60cbf927": {
      "model_module": "@jupyter-widgets/controls",
      "model_module_version": "1.5.0",
      "model_name": "CheckboxModel",
      "state": {
       "description": "Filled (uncheck for open)",
       "disabled": false,
       "layout": "IPY_MODEL_3155196da431431399750b106eb65179",
       "style": "IPY_MODEL_f0ff2a04068247f4900252d1d335ef9a",
       "value": true
      }
     },
     "e2dea7c20cdc4568b48f8121257be2b6": {
      "model_module": "@jupyter-widgets/controls",
      "model_module_version": "1.5.0",
      "model_name": "VBoxModel",
      "state": {
       "children": [
        "IPY_MODEL_dc61881446a14b68b5626240e48e23df",
        "IPY_MODEL_3af37bf56a2e49889478318418da8496"
       ],
       "layout": "IPY_MODEL_33b1dbccaebc43f4aeb402d2e42cd207"
      }
     },
     "e3a1d190b4974e539a47b19e44664fdd": {
      "model_module": "@jupyter-widgets/controls",
      "model_module_version": "1.5.0",
      "model_name": "DropdownModel",
      "state": {
       "_options_labels": [
        "Choose error column."
       ],
       "description": "Error values: ",
       "disabled": true,
       "index": 0,
       "layout": "IPY_MODEL_b02f488b195e44a989e9f1889dfd3ea0",
       "style": "IPY_MODEL_dd4b01b69a3c4cbcb98b495788955f1c"
      }
     },
     "e49084f2c4a143ab8897baf58a1ddf1b": {
      "buffers": [
       {
        "data": "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",
        "encoding": "base64",
        "path": [
         "_data",
         0,
         "x",
         "value"
        ]
       },
       {
        "data": "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",
        "encoding": "base64",
        "path": [
         "_data",
         0,
         "y",
         "value"
        ]
       }
      ],
      "model_module": "jupyterlab-plotly",
      "model_module_version": "^5.5.0",
      "model_name": "FigureModel",
      "state": {
       "_config": {
        "plotlyServerURL": "https://plot.ly"
       },
       "_data": [
        {
         "mode": "lines",
         "name": "sine",
         "type": "scatter",
         "uid": "9f784988-c9a4-47ea-b347-25c34ef41726",
         "x": {
          "dtype": "float64",
          "shape": [
           256
          ]
         },
         "y": {
          "dtype": "float64",
          "shape": [
           256
          ]
         }
        }
       ],
       "_js2py_layoutDelta": {},
       "_js2py_pointsCallback": {},
       "_js2py_relayout": {},
       "_js2py_restyle": {},
       "_js2py_traceDeltas": {},
       "_js2py_update": {},
       "_last_layout_edit_id": 4,
       "_last_trace_edit_id": 4,
       "_layout": {
        "template": {
         "data": {
          "bar": [
           {
            "error_x": {
             "color": "rgb(36,36,36)"
            },
            "error_y": {
             "color": "rgb(36,36,36)"
            },
            "marker": {
             "line": {
              "color": "white",
              "width": 0.5
             },
             "pattern": {
              "fillmode": "overlay",
              "size": 10,
              "solidity": 0.2
             }
            },
            "type": "bar"
           }
          ],
          "barpolar": [
           {
            "marker": {
             "line": {
              "color": "white",
              "width": 0.5
             },
             "pattern": {
              "fillmode": "overlay",
              "size": 10,
              "solidity": 0.2
             }
            },
            "type": "barpolar"
           }
          ],
          "carpet": [
           {
            "aaxis": {
             "endlinecolor": "rgb(36,36,36)",
             "gridcolor": "white",
             "linecolor": "white",
             "minorgridcolor": "white",
             "startlinecolor": "rgb(36,36,36)"
            },
            "baxis": {
             "endlinecolor": "rgb(36,36,36)",
             "gridcolor": "white",
             "linecolor": "white",
             "minorgridcolor": "white",
             "startlinecolor": "rgb(36,36,36)"
            },
            "type": "carpet"
           }
          ],
          "choropleth": [
           {
            "colorbar": {
             "outlinewidth": 1,
             "tickcolor": "rgb(36,36,36)",
             "ticks": "outside"
            },
            "type": "choropleth"
           }
          ],
          "contour": [
           {
            "colorbar": {
             "outlinewidth": 1,
             "tickcolor": "rgb(36,36,36)",
             "ticks": "outside"
            },
            "colorscale": [
             [
              0,
              "#440154"
             ],
             [
              0.1111111111111111,
              "#482878"
             ],
             [
              0.2222222222222222,
              "#3e4989"
             ],
             [
              0.3333333333333333,
              "#31688e"
             ],
             [
              0.4444444444444444,
              "#26828e"
             ],
             [
              0.5555555555555556,
              "#1f9e89"
             ],
             [
              0.6666666666666666,
              "#35b779"
             ],
             [
              0.7777777777777778,
              "#6ece58"
             ],
             [
              0.8888888888888888,
              "#b5de2b"
             ],
             [
              1,
              "#fde725"
             ]
            ],
            "type": "contour"
           }
          ],
          "contourcarpet": [
           {
            "colorbar": {
             "outlinewidth": 1,
             "tickcolor": "rgb(36,36,36)",
             "ticks": "outside"
            },
            "type": "contourcarpet"
           }
          ],
          "heatmap": [
           {
            "colorbar": {
             "outlinewidth": 1,
             "tickcolor": "rgb(36,36,36)",
             "ticks": "outside"
            },
            "colorscale": [
             [
              0,
              "#440154"
             ],
             [
              0.1111111111111111,
              "#482878"
             ],
             [
              0.2222222222222222,
              "#3e4989"
             ],
             [
              0.3333333333333333,
              "#31688e"
             ],
             [
              0.4444444444444444,
              "#26828e"
             ],
             [
              0.5555555555555556,
              "#1f9e89"
             ],
             [
              0.6666666666666666,
              "#35b779"
             ],
             [
              0.7777777777777778,
              "#6ece58"
             ],
             [
              0.8888888888888888,
              "#b5de2b"
             ],
             [
              1,
              "#fde725"
             ]
            ],
            "type": "heatmap"
           }
          ],
          "heatmapgl": [
           {
            "colorbar": {
             "outlinewidth": 1,
             "tickcolor": "rgb(36,36,36)",
             "ticks": "outside"
            },
            "colorscale": [
             [
              0,
              "#440154"
             ],
             [
              0.1111111111111111,
              "#482878"
             ],
             [
              0.2222222222222222,
              "#3e4989"
             ],
             [
              0.3333333333333333,
              "#31688e"
             ],
             [
              0.4444444444444444,
              "#26828e"
             ],
             [
              0.5555555555555556,
              "#1f9e89"
             ],
             [
              0.6666666666666666,
              "#35b779"
             ],
             [
              0.7777777777777778,
              "#6ece58"
             ],
             [
              0.8888888888888888,
              "#b5de2b"
             ],
             [
              1,
              "#fde725"
             ]
            ],
            "type": "heatmapgl"
           }
          ],
          "histogram": [
           {
            "marker": {
             "line": {
              "color": "white",
              "width": 0.6
             }
            },
            "type": "histogram"
           }
          ],
          "histogram2d": [
           {
            "colorbar": {
             "outlinewidth": 1,
             "tickcolor": "rgb(36,36,36)",
             "ticks": "outside"
            },
            "colorscale": [
             [
              0,
              "#440154"
             ],
             [
              0.1111111111111111,
              "#482878"
             ],
             [
              0.2222222222222222,
              "#3e4989"
             ],
             [
              0.3333333333333333,
              "#31688e"
             ],
             [
              0.4444444444444444,
              "#26828e"
             ],
             [
              0.5555555555555556,
              "#1f9e89"
             ],
             [
              0.6666666666666666,
              "#35b779"
             ],
             [
              0.7777777777777778,
              "#6ece58"
             ],
             [
              0.8888888888888888,
              "#b5de2b"
             ],
             [
              1,
              "#fde725"
             ]
            ],
            "type": "histogram2d"
           }
          ],
          "histogram2dcontour": [
           {
            "colorbar": {
             "outlinewidth": 1,
             "tickcolor": "rgb(36,36,36)",
             "ticks": "outside"
            },
            "colorscale": [
             [
              0,
              "#440154"
             ],
             [
              0.1111111111111111,
              "#482878"
             ],
             [
              0.2222222222222222,
              "#3e4989"
             ],
             [
              0.3333333333333333,
              "#31688e"
             ],
             [
              0.4444444444444444,
              "#26828e"
             ],
             [
              0.5555555555555556,
              "#1f9e89"
             ],
             [
              0.6666666666666666,
              "#35b779"
             ],
             [
              0.7777777777777778,
              "#6ece58"
             ],
             [
              0.8888888888888888,
              "#b5de2b"
             ],
             [
              1,
              "#fde725"
             ]
            ],
            "type": "histogram2dcontour"
           }
          ],
          "mesh3d": [
           {
            "colorbar": {
             "outlinewidth": 1,
             "tickcolor": "rgb(36,36,36)",
             "ticks": "outside"
            },
            "type": "mesh3d"
           }
          ],
          "parcoords": [
           {
            "line": {
             "colorbar": {
              "outlinewidth": 1,
              "tickcolor": "rgb(36,36,36)",
              "ticks": "outside"
             }
            },
            "type": "parcoords"
           }
          ],
          "pie": [
           {
            "automargin": true,
            "type": "pie"
           }
          ],
          "scatter": [
           {
            "marker": {
             "colorbar": {
              "outlinewidth": 1,
              "tickcolor": "rgb(36,36,36)",
              "ticks": "outside"
             }
            },
            "type": "scatter"
           }
          ],
          "scatter3d": [
           {
            "line": {
             "colorbar": {
              "outlinewidth": 1,
              "tickcolor": "rgb(36,36,36)",
              "ticks": "outside"
             }
            },
            "marker": {
             "colorbar": {
              "outlinewidth": 1,
              "tickcolor": "rgb(36,36,36)",
              "ticks": "outside"
             }
            },
            "type": "scatter3d"
           }
          ],
          "scattercarpet": [
           {
            "marker": {
             "colorbar": {
              "outlinewidth": 1,
              "tickcolor": "rgb(36,36,36)",
              "ticks": "outside"
             }
            },
            "type": "scattercarpet"
           }
          ],
          "scattergeo": [
           {
            "marker": {
             "colorbar": {
              "outlinewidth": 1,
              "tickcolor": "rgb(36,36,36)",
              "ticks": "outside"
             }
            },
            "type": "scattergeo"
           }
          ],
          "scattergl": [
           {
            "marker": {
             "colorbar": {
              "outlinewidth": 1,
              "tickcolor": "rgb(36,36,36)",
              "ticks": "outside"
             }
            },
            "type": "scattergl"
           }
          ],
          "scattermapbox": [
           {
            "marker": {
             "colorbar": {
              "outlinewidth": 1,
              "tickcolor": "rgb(36,36,36)",
              "ticks": "outside"
             }
            },
            "type": "scattermapbox"
           }
          ],
          "scatterpolar": [
           {
            "marker": {
             "colorbar": {
              "outlinewidth": 1,
              "tickcolor": "rgb(36,36,36)",
              "ticks": "outside"
             }
            },
            "type": "scatterpolar"
           }
          ],
          "scatterpolargl": [
           {
            "marker": {
             "colorbar": {
              "outlinewidth": 1,
              "tickcolor": "rgb(36,36,36)",
              "ticks": "outside"
             }
            },
            "type": "scatterpolargl"
           }
          ],
          "scatterternary": [
           {
            "marker": {
             "colorbar": {
              "outlinewidth": 1,
              "tickcolor": "rgb(36,36,36)",
              "ticks": "outside"
             }
            },
            "type": "scatterternary"
           }
          ],
          "surface": [
           {
            "colorbar": {
             "outlinewidth": 1,
             "tickcolor": "rgb(36,36,36)",
             "ticks": "outside"
            },
            "colorscale": [
             [
              0,
              "#440154"
             ],
             [
              0.1111111111111111,
              "#482878"
             ],
             [
              0.2222222222222222,
              "#3e4989"
             ],
             [
              0.3333333333333333,
              "#31688e"
             ],
             [
              0.4444444444444444,
              "#26828e"
             ],
             [
              0.5555555555555556,
              "#1f9e89"
             ],
             [
              0.6666666666666666,
              "#35b779"
             ],
             [
              0.7777777777777778,
              "#6ece58"
             ],
             [
              0.8888888888888888,
              "#b5de2b"
             ],
             [
              1,
              "#fde725"
             ]
            ],
            "type": "surface"
           }
          ],
          "table": [
           {
            "cells": {
             "fill": {
              "color": "rgb(237,237,237)"
             },
             "line": {
              "color": "white"
             }
            },
            "header": {
             "fill": {
              "color": "rgb(217,217,217)"
             },
             "line": {
              "color": "white"
             }
            },
            "type": "table"
           }
          ]
         },
         "layout": {
          "annotationdefaults": {
           "arrowhead": 0,
           "arrowwidth": 1
          },
          "autotypenumbers": "strict",
          "coloraxis": {
           "colorbar": {
            "outlinewidth": 1,
            "tickcolor": "rgb(36,36,36)",
            "ticks": "outside"
           }
          },
          "colorscale": {
           "diverging": [
            [
             0,
             "rgb(103,0,31)"
            ],
            [
             0.1,
             "rgb(178,24,43)"
            ],
            [
             0.2,
             "rgb(214,96,77)"
            ],
            [
             0.3,
             "rgb(244,165,130)"
            ],
            [
             0.4,
             "rgb(253,219,199)"
            ],
            [
             0.5,
             "rgb(247,247,247)"
            ],
            [
             0.6,
             "rgb(209,229,240)"
            ],
            [
             0.7,
             "rgb(146,197,222)"
            ],
            [
             0.8,
             "rgb(67,147,195)"
            ],
            [
             0.9,
             "rgb(33,102,172)"
            ],
            [
             1,
             "rgb(5,48,97)"
            ]
           ],
           "sequential": [
            [
             0,
             "#440154"
            ],
            [
             0.1111111111111111,
             "#482878"
            ],
            [
             0.2222222222222222,
             "#3e4989"
            ],
            [
             0.3333333333333333,
             "#31688e"
            ],
            [
             0.4444444444444444,
             "#26828e"
            ],
            [
             0.5555555555555556,
             "#1f9e89"
            ],
            [
             0.6666666666666666,
             "#35b779"
            ],
            [
             0.7777777777777778,
             "#6ece58"
            ],
            [
             0.8888888888888888,
             "#b5de2b"
            ],
            [
             1,
             "#fde725"
            ]
           ],
           "sequentialminus": [
            [
             0,
             "#440154"
            ],
            [
             0.1111111111111111,
             "#482878"
            ],
            [
             0.2222222222222222,
             "#3e4989"
            ],
            [
             0.3333333333333333,
             "#31688e"
            ],
            [
             0.4444444444444444,
             "#26828e"
            ],
            [
             0.5555555555555556,
             "#1f9e89"
            ],
            [
             0.6666666666666666,
             "#35b779"
            ],
            [
             0.7777777777777778,
             "#6ece58"
            ],
            [
             0.8888888888888888,
             "#b5de2b"
            ],
            [
             1,
             "#fde725"
            ]
           ]
          },
          "colorway": [
           "#1F77B4",
           "#FF7F0E",
           "#2CA02C",
           "#D62728",
           "#9467BD",
           "#8C564B",
           "#E377C2",
           "#7F7F7F",
           "#BCBD22",
           "#17BECF"
          ],
          "font": {
           "color": "rgb(36,36,36)"
          },
          "geo": {
           "bgcolor": "white",
           "lakecolor": "white",
           "landcolor": "white",
           "showlakes": true,
           "showland": true,
           "subunitcolor": "white"
          },
          "hoverlabel": {
           "align": "left"
          },
          "hovermode": "closest",
          "mapbox": {
           "style": "light"
          },
          "paper_bgcolor": "white",
          "plot_bgcolor": "white",
          "polar": {
           "angularaxis": {
            "gridcolor": "rgb(232,232,232)",
            "linecolor": "rgb(36,36,36)",
            "showgrid": false,
            "showline": true,
            "ticks": "outside"
           },
           "bgcolor": "white",
           "radialaxis": {
            "gridcolor": "rgb(232,232,232)",
            "linecolor": "rgb(36,36,36)",
            "showgrid": false,
            "showline": true,
            "ticks": "outside"
           }
          },
          "scene": {
           "xaxis": {
            "backgroundcolor": "white",
            "gridcolor": "rgb(232,232,232)",
            "gridwidth": 2,
            "linecolor": "rgb(36,36,36)",
            "showbackground": true,
            "showgrid": false,
            "showline": true,
            "ticks": "outside",
            "zeroline": false,
            "zerolinecolor": "rgb(36,36,36)"
           },
           "yaxis": {
            "backgroundcolor": "white",
            "gridcolor": "rgb(232,232,232)",
            "gridwidth": 2,
            "linecolor": "rgb(36,36,36)",
            "showbackground": true,
            "showgrid": false,
            "showline": true,
            "ticks": "outside",
            "zeroline": false,
            "zerolinecolor": "rgb(36,36,36)"
           },
           "zaxis": {
            "backgroundcolor": "white",
            "gridcolor": "rgb(232,232,232)",
            "gridwidth": 2,
            "linecolor": "rgb(36,36,36)",
            "showbackground": true,
            "showgrid": false,
            "showline": true,
            "ticks": "outside",
            "zeroline": false,
            "zerolinecolor": "rgb(36,36,36)"
           }
          },
          "shapedefaults": {
           "fillcolor": "black",
           "line": {
            "width": 0
           },
           "opacity": 0.3
          },
          "ternary": {
           "aaxis": {
            "gridcolor": "rgb(232,232,232)",
            "linecolor": "rgb(36,36,36)",
            "showgrid": false,
            "showline": true,
            "ticks": "outside"
           },
           "baxis": {
            "gridcolor": "rgb(232,232,232)",
            "linecolor": "rgb(36,36,36)",
            "showgrid": false,
            "showline": true,
            "ticks": "outside"
           },
           "bgcolor": "white",
           "caxis": {
            "gridcolor": "rgb(232,232,232)",
            "linecolor": "rgb(36,36,36)",
            "showgrid": false,
            "showline": true,
            "ticks": "outside"
           }
          },
          "title": {
           "x": 0.05
          },
          "xaxis": {
           "automargin": true,
           "gridcolor": "rgb(232,232,232)",
           "linecolor": "rgb(36,36,36)",
           "showgrid": false,
           "showline": true,
           "ticks": "outside",
           "title": {
            "standoff": 15
           },
           "zeroline": false,
           "zerolinecolor": "rgb(36,36,36)"
          },
          "yaxis": {
           "automargin": true,
           "gridcolor": "rgb(232,232,232)",
           "linecolor": "rgb(36,36,36)",
           "showgrid": false,
           "showline": true,
           "ticks": "outside",
           "title": {
            "standoff": 15
           },
           "zeroline": false,
           "zerolinecolor": "rgb(36,36,36)"
          }
         }
        },
        "title": {
         "text": "Figure_1"
        },
        "xaxis": {
         "mirror": true,
         "title": {
          "text": "X"
         }
        },
        "yaxis": {
         "mirror": true,
         "title": {
          "text": "Amplitude"
         }
        }
       },
       "_py2js_animate": {},
       "_py2js_deleteTraces": {},
       "_py2js_moveTraces": {},
       "_py2js_removeLayoutProps": {},
       "_py2js_removeTraceProps": {},
       "_py2js_restyle": {},
       "_view_count": 0
      }
     },
     "e4adb142bc7041558c371bbc887c86e6": {
      "model_module": "@jupyter-widgets/controls",
      "model_module_version": "1.5.0",
      "model_name": "DescriptionStyleModel",
      "state": {
       "description_width": ""
      }
     },
     "e50e83d2c2434a1dbc08ef6bcbff87f6": {
      "model_module": "@jupyter-widgets/controls",
      "model_module_version": "1.5.0",
      "model_name": "TextModel",
      "state": {
       "layout": "IPY_MODEL_6cde11bd454046f98eac660850f4f06e",
       "placeholder": "Type name for new column.",
       "style": "IPY_MODEL_b9bbee3bf4d04fd089258091c56333f3",
       "value": "sine"
      }
     },
     "e612aa2f753c495b9388d168f56636e2": {
      "model_module": "@jupyter-widgets/controls",
      "model_module_version": "1.5.0",
      "model_name": "ButtonStyleModel",
      "state": {}
     },
     "e6527b75af374b859444d43a690117d6": {
      "model_module": "@jupyter-widgets/controls",
      "model_module_version": "1.5.0",
      "model_name": "ButtonModel",
      "state": {
       "button_style": "success",
       "description": "Add Trace",
       "layout": "IPY_MODEL_3cbf58a3ea3148a786028c7a639ac583",
       "style": "IPY_MODEL_3cc6e54a3f1346039a4d46660704c2ad"
      }
     },
     "e667e54271424c2a92b9fcea8fc7bb85": {
      "model_module": "@jupyter-widgets/controls",
      "model_module_version": "1.5.0",
      "model_name": "LabelModel",
      "state": {
       "layout": "IPY_MODEL_14bbdd1a796a4030899cfcada5f386e7",
       "style": "IPY_MODEL_9f1387acc7194f13b35c66ddd0a60e8c",
       "value": "Carefully check the expression for typos before selecting \"Do it!\"."
      }
     },
     "e69bb2f3ff09469e8974fe7ab8371a1e": {
      "model_module": "@jupyter-widgets/base",
      "model_module_version": "1.2.0",
      "model_name": "LayoutModel",
      "state": {}
     },
     "e6b2bd7d4a074a6eaa910fff0b040cb2": {
      "model_module": "@jupyter-widgets/base",
      "model_module_version": "1.2.0",
      "model_name": "LayoutModel",
      "state": {}
     },
     "e74d5da64eae44a0b68223a466c9c673": {
      "model_module": "@jupyter-widgets/base",
      "model_module_version": "1.2.0",
      "model_name": "LayoutModel",
      "state": {}
     },
     "e8dd7a3dd7ed4786bf021378baecb89a": {
      "model_module": "@jupyter-widgets/controls",
      "model_module_version": "1.5.0",
      "model_name": "LabelModel",
      "state": {
       "layout": "IPY_MODEL_e6b2bd7d4a074a6eaa910fff0b040cb2",
       "style": "IPY_MODEL_6d3348dcf97b46f99b72a97895bc1518",
       "value": " * Parentheses, brackets or braces highlighted in red are missing their partner."
      }
     },
     "eaae58714fdd4308aac9aed58919f729": {
      "model_module": "@jupyter-widgets/controls",
      "model_module_version": "1.5.0",
      "model_name": "ButtonStyleModel",
      "state": {
       "button_color": "darkgray"
      }
     },
     "eb06f6eabc4e4228a2e599e87179fb43": {
      "model_module": "@jupyter-widgets/base",
      "model_module_version": "1.2.0",
      "model_name": "LayoutModel",
      "state": {}
     },
     "ec1b5cb0897340cba07f8afe56b1a0e6": {
      "model_module": "@jupyter-widgets/controls",
      "model_module_version": "1.5.0",
      "model_name": "DescriptionStyleModel",
      "state": {
       "description_width": ""
      }
     },
     "ef05757ef0e945ee882f38e9f374d571": {
      "model_module": "@jupyter-widgets/controls",
      "model_module_version": "1.5.0",
      "model_name": "BoundedIntTextModel",
      "state": {
       "description": "Linewidth (px): ",
       "layout": "IPY_MODEL_e74d5da64eae44a0b68223a466c9c673",
       "max": 25,
       "min": 1,
       "style": "IPY_MODEL_4927a355feec4257ab1351c6d85da31f",
       "value": 2
      }
     },
     "ef1df7756cc74a53976859867d34af1e": {
      "model_module": "@jupyter-widgets/base",
      "model_module_version": "1.2.0",
      "model_name": "LayoutModel",
      "state": {}
     },
     "efab072428af4c3697cf2d99b27ab8e1": {
      "model_module": "@jupyter-widgets/controls",
      "model_module_version": "1.5.0",
      "model_name": "VBoxModel",
      "state": {
       "children": [
        "IPY_MODEL_9de3aade789242debfca2d93b97d3ef9",
        "IPY_MODEL_09fb3894c6304925a102ee9882d3587c",
        "IPY_MODEL_c46ab2e8b3784486861c0c5f0e1ccffa"
       ],
       "layout": "IPY_MODEL_3a14f299761e4ae4a67015c1fa21f782"
      }
     },
     "f02e778304624e4598835ab9c2cda6a3": {
      "model_module": "@jupyter-widgets/controls",
      "model_module_version": "1.5.0",
      "model_name": "ButtonModel",
      "state": {
       "button_style": "success",
       "description": "Make Plot",
       "layout": "IPY_MODEL_36b2642c692144dc8bdf911a347f36f9",
       "style": "IPY_MODEL_e612aa2f753c495b9388d168f56636e2"
      }
     },
     "f046de777d01472e827d7be31550d90d": {
      "model_module": "@jupyter-widgets/controls",
      "model_module_version": "1.5.0",
      "model_name": "HTMLModel",
      "state": {
       "layout": "IPY_MODEL_7df8a9439ab64bb1bf176f22f929d968",
       "style": "IPY_MODEL_8430eef24b2747d1bbe7a2be07dfbdd0",
       "value": "Things to check before clicking \"Make Plot\": <ul><li>Fix any problems listed in \"Notices\".</li><li>Look at the code below to make sure you have included all the traces you intended to (look for \"name\").</li><li>Check for any unpaired parentheses, brackets or braces (usually highlighted in red).</li><li>Check that all single and double quotes are paired.</li><li>If you did any manual editing double-check for typos.</li>"
      }
     },
     "f052c5ca0f6b4894959041c13f90f96d": {
      "model_module": "@jupyter-widgets/controls",
      "model_module_version": "1.5.0",
      "model_name": "LabelModel",
      "state": {
       "layout": "IPY_MODEL_1dc354b573dd4b97b5af80ed1fc9aec3",
       "style": "IPY_MODEL_1cf3b9c8496c460eba2d486b825c58be",
       "value": "Marker Choices: "
      }
     },
     "f0ff2a04068247f4900252d1d335ef9a": {
      "model_module": "@jupyter-widgets/controls",
      "model_module_version": "1.5.0",
      "model_name": "DescriptionStyleModel",
      "state": {
       "description_width": "initial"
      }
     },
     "f11c65554e9e47bca9029833df713953": {
      "model_module": "@jupyter-widgets/controls",
      "model_module_version": "1.5.0",
      "model_name": "VBoxModel",
      "state": {
       "children": [
        "IPY_MODEL_bbcfce33ceb24b52bf4742e7474cef96",
        "IPY_MODEL_2a335402311740c1a3f884bd25365556"
       ],
       "layout": "IPY_MODEL_88235ef3d8fc422fb4feb4f82bbf948b"
      }
     },
     "f15e5b40098b449ab967b2200c6d382b": {
      "model_module": "@jupyter-widgets/controls",
      "model_module_version": "1.5.0",
      "model_name": "ButtonModel",
      "state": {
       "icon": "caret-down",
       "layout": "IPY_MODEL_af0cb78cdef74345b8a206cd490a2399",
       "style": "IPY_MODEL_b9b1fb6a61924a7c95ed1036c77ea830"
      }
     },
     "f27c9cb5c22c4152b37de8ffb6db0857": {
      "model_module": "@jupyter-widgets/controls",
      "model_module_version": "1.5.0",
      "model_name": "DescriptionStyleModel",
      "state": {
       "description_width": "initial"
      }
     },
     "f401afd5df5c43c6afa32229cd6c7b22": {
      "model_module": "@jupyter-widgets/base",
      "model_module_version": "1.2.0",
      "model_name": "LayoutModel",
      "state": {}
     },
     "f4b3ba73b23f48e799a304874ac63f5f": {
      "model_module": "@jupyter-widgets/controls",
      "model_module_version": "1.5.0",
      "model_name": "DescriptionStyleModel",
      "state": {
       "description_width": ""
      }
     },
     "f4b8e6b1b52a41e48304d57e1e4f745c": {
      "model_module": "@jupyter-widgets/base",
      "model_module_version": "1.2.0",
      "model_name": "LayoutModel",
      "state": {}
     },
     "f70be71465c741df8d70d662cd6814a9": {
      "model_module": "@jupyter-widgets/controls",
      "model_module_version": "1.5.0",
      "model_name": "VBoxModel",
      "state": {
       "children": [
        "IPY_MODEL_944f3ea18cb5435aadcb66be7ec682bf",
        "IPY_MODEL_8635c1433960472c8ca6f685c26315cc"
       ],
       "layout": "IPY_MODEL_e0a4284c03d74116a2f4dc256ef9bbe8"
      }
     },
     "f7f3ac40a8c34aadab05f9d50dc04e57": {
      "model_module": "@jupyter-widgets/base",
      "model_module_version": "1.2.0",
      "model_name": "LayoutModel",
      "state": {}
     },
     "f9aab16342ab4f0eb55deb7e98247d0c": {
      "model_module": "@jupyter-widgets/controls",
      "model_module_version": "1.5.0",
      "model_name": "DropdownModel",
      "state": {
       "_options_labels": [
        "lines",
        "markers",
        "lines+markers"
       ],
       "description": "Trace Style: ",
       "index": 0,
       "layout": "IPY_MODEL_719098d57acf4bdf9140e5d8b59a70bf",
       "style": "IPY_MODEL_1ec6ac83c117498594f4ec2c1dd82fd3"
      }
     },
     "fa64213c375647a39cf0b538eaaa8372": {
      "model_module": "@jupyter-widgets/controls",
      "model_module_version": "1.5.0",
      "model_name": "DescriptionStyleModel",
      "state": {
       "description_width": ""
      }
     },
     "fb6f28718c35420c99dc7c88448907d0": {
      "model_module": "@jupyter-widgets/base",
      "model_module_version": "1.2.0",
      "model_name": "LayoutModel",
      "state": {}
     },
     "ff78449d85604d92a9125d1fe393f6c5": {
      "model_module": "@jupyter-widgets/base",
      "model_module_version": "1.2.0",
      "model_name": "LayoutModel",
      "state": {}
     }
    },
    "version_major": 2,
    "version_minor": 0
   }
  }
 },
 "nbformat": 4,
 "nbformat_minor": 5
}
